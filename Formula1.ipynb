{
 "cells": [
  {
   "cell_type": "markdown",
   "metadata": {},
   "source": [
    "## COMP47670 Assignment 1"
   ]
  },
  {
   "cell_type": "code",
   "execution_count": 43,
   "metadata": {},
   "outputs": [],
   "source": [
    "import os\n",
    "import csv\n",
    "import pandas\n",
    "import json\n",
    "import requests\n",
    "import plotly.express as px\n",
    "from requests.adapters import HTTPAdapter\n",
    "from urllib3.util import Retry"
   ]
  },
  {
   "cell_type": "markdown",
   "metadata": {},
   "source": [
    "### Formula 1 API\n",
    "\n",
    "The API I have chosen to use for this project is: \n",
    "http://ergast.com/api/f1/\n",
    "The API documentation is located here - https://ergast.com/mrd/\n",
    "\n",
    "This API provides data about formula 1 since the 1950 season. \n",
    "The API does not require any form of authentication.\n",
    "\n",
    "I also decided to use a json data set from https://openweathermap.org/api.\n",
    "\n",
    "For historical data for 1 country from 1979 to now the price was $9 so I downloaded data for Monaco. \n",
    "\n",
    "For the graphs I am using the plotly library so the user of this notebook may need to pip install plotly in the anaconda python environment."
   ]
  },
  {
   "cell_type": "markdown",
   "metadata": {},
   "source": [
    "### Collecting the data\n",
    "\n",
    "The functions below are:\n",
    "* get_data_from_api\n",
    "* read_json_file\n",
    "* save_raw_data_to_file\n",
    "\n",
    "\n",
    "They are used later in the notebook to make calls to the formula1 api, read, and write data from that api to files\n",
    "There is more information about the individual funtions in their respective docstrings. \n"
   ]
  },
  {
   "cell_type": "code",
   "execution_count": 44,
   "metadata": {},
   "outputs": [],
   "source": [
    "def get_data_from_api(api_options='', api_limit='', offset=''):\n",
    "    \"\"\"\n",
    "    This function calls the formula 1 api with\n",
    "    options, a result limit and an offset passed as parameters.\n",
    "    It loads the data using json and\n",
    "    returns a dictionary. \n",
    "    \n",
    "    param: api_options -> string (the specific path on the api)\n",
    "    param: api_limit -> string (the limit of results returned in one call. Max=1000)\n",
    "    param: offset -> string (If overall results are more than 1000 this can be used to navigate the pages of results)\n",
    "    return: data -> dict\n",
    "    \"\"\"\n",
    "    response = None\n",
    "    data = None\n",
    "    api_base_url = \"http://ergast.com/api/f1/\"\n",
    "\n",
    "    session = requests.Session()\n",
    "    retries = Retry(total=3, backoff_factor=1)\n",
    "    api_url = api_base_url + api_options + api_limit + offset\n",
    "    session.mount(\n",
    "        prefix='http://', \n",
    "        adapter=HTTPAdapter(\n",
    "        max_retries=retries))\n",
    "    \n",
    "    try:\n",
    "        response = session.get(url=api_url, verify=False)\n",
    "    except requests.RequestException:\n",
    "        print(\"Could not connect to {}\".format(api_url))\n",
    "\n",
    "    if response:\n",
    "        try:\n",
    "            result = response.text\n",
    "            data = json.loads(result,encoding='UTF-8')\n",
    "        except (ValueError, KeyError) as error:\n",
    "            print(\"Could not load json due to: {}\".format(error))\n",
    "    return data"
   ]
  },
  {
   "cell_type": "code",
   "execution_count": 46,
   "metadata": {},
   "outputs": [],
   "source": [
    "def read_json_file(file_path):\n",
    "    \"\"\"\n",
    "    This function reads a json file and returns a dictionary\n",
    "    :param file_path -> String\n",
    "    :return data -> dict\n",
    "    \"\"\"\n",
    "    try:\n",
    "        with open(file_path) as file:\n",
    "            data = json.load(file, encoding='UTF-8')\n",
    "    except FileNotFoundError as error:\n",
    "        print(\"Can not open file due to: {}\".format(error))\n",
    "        return None\n",
    "    \n",
    "    return data"
   ]
  },
  {
   "cell_type": "code",
   "execution_count": 45,
   "metadata": {},
   "outputs": [],
   "source": [
    "def save_raw_data_to_file(data, destination_file):\n",
    "    \"\"\"\n",
    "    This function writes json data to a file. \n",
    "    :param data -> dict\n",
    "    :param destination_file -> string\n",
    "    \"\"\"\n",
    "    with open(file=destination_file, mode='w', encoding='UTF-8') as json_file:\n",
    "        json.dump(data, json_file)"
   ]
  },
  {
   "cell_type": "markdown",
   "metadata": {},
   "source": [
    "### Parsing and cleaning the data\n",
    "\n",
    "The functions below are:\n",
    "* get_finishers_data\n",
    "* scrape_all_finishers_data\n",
    "\n",
    "These functions are used to parse, clean and transform the data pulled from the api.\n",
    "\n",
    "In get_finishers_data most statements are wrapped in try except blocks.\n",
    "If a key or value does not exist then we want to append none to keep the order values added to the lists in race_data and for filtering purposes later to get rid of rows with null values.\n",
    "\n",
    "For scrape_all_finishers_data, the formula1 api allows a maximum of 1000 results to be returned from one call to the api. To pull data for all races since 1950 with data for race finishers only we will need to call the api 7 times as there is close to 7000 results. \n",
    "\n",
    "There is more information about the individual funtions in their respective docstrings."
   ]
  },
  {
   "cell_type": "code",
   "execution_count": 47,
   "metadata": {},
   "outputs": [],
   "source": [
    "def get_finishers_data(data):\n",
    "    \"\"\"\n",
    "    This function parses the raw data pulled from the api\n",
    "    into relevant race data that can be further analysed.\n",
    "\n",
    "    param: data -> dict\n",
    "    return: race_data -> dict\n",
    "    \"\"\"\n",
    "    # creates a dictonary compatible with a pandas dataframe\n",
    "    race_data = {\n",
    "        \"Date\": [],\n",
    "        \"Season\": [],\n",
    "        \"Race\": [],\n",
    "        \"Laps\": [],\n",
    "        \"Constructor\": [],\n",
    "        \"Constructor_Nationality\": [],\n",
    "        \"Driver\": [],\n",
    "        \"Driver_Nationality\": [],\n",
    "        \"Position\" : [],\n",
    "        \"Status\" : [],\n",
    "        \"Time\": [],\n",
    "        \"Time_mins\": []\n",
    "    }\n",
    "    \n",
    "    # Race data exists within a list in the json file\n",
    "    try:\n",
    "        races = data[\"MRData\"][\"RaceTable\"][\"Races\"]\n",
    "    except(KeyError, ValueError) as error:\n",
    "        print(\"Could not parse race data due to: {}\".format(error))\n",
    "        return None\n",
    "    \n",
    "    # Loop through all races in that list\n",
    "    # One race is a dictionary or data for an individual race\n",
    "    for race in races:\n",
    "        \n",
    "        # Race results for different drivers is in a list within \n",
    "        # the dictionary for an individual race\n",
    "        # loop through that list and append values for keys we are interested in to the \n",
    "        # corresponding key in the race_data dictionary created above.\n",
    "        for result in race[\"Results\"]:\n",
    "            try:\n",
    "                race_data[\"Laps\"].append(int(result[\"laps\"]))\n",
    "            except(KeyError, ValueError):\n",
    "                race_data[\"Laps\"].append(None)\n",
    "\n",
    "            try:\n",
    "                race_data[\"Constructor\"].append(result[\"Constructor\"][\"name\"])\n",
    "            except(KeyError, ValueError):\n",
    "                race_data[\"Constructor\"].append(None)\n",
    "\n",
    "            try:\n",
    "                race_data[\"Constructor_Nationality\"].append(result[\"Constructor\"][\"nationality\"])\n",
    "            except(KeyError, ValueError):\n",
    "                race_data[\"Constructor_Nationality\"].append(None)\n",
    "\n",
    "            try:\n",
    "                race_data[\"Driver\"].append(\"{0} {1}\".format(result[\"Driver\"][\"givenName\"],\n",
    "                                               result[\"Driver\"][\"familyName\"]))\n",
    "            except(KeyError, ValueError):\n",
    "                race_data[\"Driver\"].append(None)\n",
    "\n",
    "            try:\n",
    "                race_data[\"Driver_Nationality\"].append(result[\"Driver\"][\"nationality\"])\n",
    "            except(KeyError, ValueError):\n",
    "                race_data[\"Driver_Nationality\"].append(None)\n",
    "            \n",
    "            try:\n",
    "                race_data[\"Position\"].append(result[\"position\"])\n",
    "            except(KeyError, ValueError):\n",
    "                race_data[\"Driver_Nationality\"].append(None)\n",
    "            \n",
    "            try:\n",
    "                race_data[\"Status\"].append(result[\"status\"])\n",
    "            except(KeyError, ValueError):\n",
    "                race_data[\"Status\"].append(None)\n",
    "\n",
    "            try:\n",
    "                race_data[\"Time\"].append(result[\"Time\"][\"time\"])\n",
    "            except(KeyError, ValueError):\n",
    "                race_data[\"Time\"].append(None)\n",
    "\n",
    "            try:\n",
    "                race_data[\"Time_mins\"].append(int(result[\"Time\"][\"millis\"]) / 60000)\n",
    "            except(KeyError, ValueError):\n",
    "                race_data[\"Time_mins\"].append(None)\n",
    "            \n",
    "            # The next 3 statements append values from the outer loop as this data\n",
    "            # exists outside the result list and inside the race dictionary. \n",
    "            # we want this data to repeat per result so we execute it in the \n",
    "            # inner loop. \n",
    "            try:\n",
    "                race_data[\"Date\"].append(race[\"date\"])\n",
    "            except(KeyError, ValueError):\n",
    "                race_data[\"Date\"].append(None)\n",
    "\n",
    "            try:\n",
    "                race_data[\"Season\"].append(int(race[\"season\"]))\n",
    "            except(KeyError, ValueError):\n",
    "                race_data[\"Season\"].append(None)\n",
    "\n",
    "            try:\n",
    "                race_data[\"Race\"].append(race[\"raceName\"])\n",
    "            except(KeyError, ValueError):\n",
    "                race_data[\"Race\"].append(None)\n",
    "    \n",
    "    # return the race_data after all values have been appended. \n",
    "    return race_data"
   ]
  },
  {
   "cell_type": "code",
   "execution_count": 48,
   "metadata": {},
   "outputs": [
    {
     "data": {
      "text/html": [
       "<div>\n",
       "<style scoped>\n",
       "    .dataframe tbody tr th:only-of-type {\n",
       "        vertical-align: middle;\n",
       "    }\n",
       "\n",
       "    .dataframe tbody tr th {\n",
       "        vertical-align: top;\n",
       "    }\n",
       "\n",
       "    .dataframe thead th {\n",
       "        text-align: right;\n",
       "    }\n",
       "</style>\n",
       "<table border=\"1\" class=\"dataframe\">\n",
       "  <thead>\n",
       "    <tr style=\"text-align: right;\">\n",
       "      <th></th>\n",
       "      <th>Date</th>\n",
       "      <th>Season</th>\n",
       "      <th>Race</th>\n",
       "      <th>Laps</th>\n",
       "      <th>Constructor</th>\n",
       "      <th>Constructor_Nationality</th>\n",
       "      <th>Driver</th>\n",
       "      <th>Driver_Nationality</th>\n",
       "      <th>Position</th>\n",
       "      <th>Status</th>\n",
       "      <th>Time</th>\n",
       "      <th>Time_mins</th>\n",
       "    </tr>\n",
       "  </thead>\n",
       "  <tbody>\n",
       "    <tr>\n",
       "      <td>0</td>\n",
       "      <td>1950-05-13</td>\n",
       "      <td>1950</td>\n",
       "      <td>British Grand Prix</td>\n",
       "      <td>70</td>\n",
       "      <td>Alfa Romeo</td>\n",
       "      <td>Italian</td>\n",
       "      <td>Nino Farina</td>\n",
       "      <td>Italian</td>\n",
       "      <td>1</td>\n",
       "      <td>Finished</td>\n",
       "      <td>2:13:23.6</td>\n",
       "      <td>133.393333</td>\n",
       "    </tr>\n",
       "    <tr>\n",
       "      <td>1</td>\n",
       "      <td>1950-05-13</td>\n",
       "      <td>1950</td>\n",
       "      <td>British Grand Prix</td>\n",
       "      <td>70</td>\n",
       "      <td>Alfa Romeo</td>\n",
       "      <td>Italian</td>\n",
       "      <td>Luigi Fagioli</td>\n",
       "      <td>Italian</td>\n",
       "      <td>2</td>\n",
       "      <td>Finished</td>\n",
       "      <td>+2.6</td>\n",
       "      <td>133.436667</td>\n",
       "    </tr>\n",
       "    <tr>\n",
       "      <td>2</td>\n",
       "      <td>1950-05-13</td>\n",
       "      <td>1950</td>\n",
       "      <td>British Grand Prix</td>\n",
       "      <td>70</td>\n",
       "      <td>Alfa Romeo</td>\n",
       "      <td>Italian</td>\n",
       "      <td>Reg Parnell</td>\n",
       "      <td>British</td>\n",
       "      <td>3</td>\n",
       "      <td>Finished</td>\n",
       "      <td>+52.0</td>\n",
       "      <td>134.260000</td>\n",
       "    </tr>\n",
       "    <tr>\n",
       "      <td>3</td>\n",
       "      <td>1950-05-21</td>\n",
       "      <td>1950</td>\n",
       "      <td>Monaco Grand Prix</td>\n",
       "      <td>100</td>\n",
       "      <td>Alfa Romeo</td>\n",
       "      <td>Italian</td>\n",
       "      <td>Juan Fangio</td>\n",
       "      <td>Argentine</td>\n",
       "      <td>1</td>\n",
       "      <td>Finished</td>\n",
       "      <td>3:13:18.7</td>\n",
       "      <td>193.311667</td>\n",
       "    </tr>\n",
       "    <tr>\n",
       "      <td>4</td>\n",
       "      <td>1950-05-30</td>\n",
       "      <td>1950</td>\n",
       "      <td>Indianapolis 500</td>\n",
       "      <td>138</td>\n",
       "      <td>Kurtis Kraft</td>\n",
       "      <td>American</td>\n",
       "      <td>Johnnie Parsons</td>\n",
       "      <td>American</td>\n",
       "      <td>1</td>\n",
       "      <td>Finished</td>\n",
       "      <td>2:46:55.97</td>\n",
       "      <td>166.932833</td>\n",
       "    </tr>\n",
       "  </tbody>\n",
       "</table>\n",
       "</div>"
      ],
      "text/plain": [
       "         Date  Season                Race  Laps   Constructor  \\\n",
       "0  1950-05-13    1950  British Grand Prix    70    Alfa Romeo   \n",
       "1  1950-05-13    1950  British Grand Prix    70    Alfa Romeo   \n",
       "2  1950-05-13    1950  British Grand Prix    70    Alfa Romeo   \n",
       "3  1950-05-21    1950   Monaco Grand Prix   100    Alfa Romeo   \n",
       "4  1950-05-30    1950    Indianapolis 500   138  Kurtis Kraft   \n",
       "\n",
       "  Constructor_Nationality           Driver Driver_Nationality Position  \\\n",
       "0                 Italian      Nino Farina            Italian        1   \n",
       "1                 Italian    Luigi Fagioli            Italian        2   \n",
       "2                 Italian      Reg Parnell            British        3   \n",
       "3                 Italian      Juan Fangio          Argentine        1   \n",
       "4                American  Johnnie Parsons           American        1   \n",
       "\n",
       "     Status        Time   Time_mins  \n",
       "0  Finished   2:13:23.6  133.393333  \n",
       "1  Finished        +2.6  133.436667  \n",
       "2  Finished       +52.0  134.260000  \n",
       "3  Finished   3:13:18.7  193.311667  \n",
       "4  Finished  2:46:55.97  166.932833  "
      ]
     },
     "execution_count": 48,
     "metadata": {},
     "output_type": "execute_result"
    }
   ],
   "source": [
    "def scrape_all_finishers_data(offset_max, offset_min=0, limit=1000):\n",
    "    \"\"\"\n",
    "    This method will make calls to the api\n",
    "    multiple times to get data on each page\n",
    "    about races. \n",
    "    The max results returned by the api in one\n",
    "    call is 1000.\n",
    "    This particular call will only show data for\n",
    "    drivers that finished the races.\n",
    "\n",
    "    param: offset_min -> int (The page to start on, default 0 for first page)\n",
    "    param: offset_max -> int (Max number of pages to get data from, 1000 is the 2nd page, 2000 is the 3rd and so on)\n",
    "    param: limit -> int (default 1000 as this is the max results the api will return in one call)\n",
    "    return: finishers_race_df -> Dataframe\n",
    "    \"\"\"\n",
    "    # Create empty data frame\n",
    "    finishers_race_df = pandas.DataFrame()\n",
    "    \n",
    "    # loop to make a call to the api per page up to max specified offset. \n",
    "    offset = offset_min\n",
    "    while offset <= offset_max:\n",
    "        f1_finishers = get_data_from_api(\n",
    "            api_options='status/1/results.json',\n",
    "            api_limit='?limit={0}'.format(limit),\n",
    "            offset='&offset={0}'.format(offset))\n",
    "        \n",
    "        # parse the data using the get_finishers_data function\n",
    "        finishers_race_data = get_finishers_data(f1_finishers)\n",
    "        \n",
    "        # Create a temporary Dataframe to hold data for the\n",
    "        # the specific page we are on in the loop\n",
    "        temp_df = pandas.DataFrame(finishers_race_data)\n",
    "        \n",
    "        # append the temporary Dataframe to the end of the finishers_race_df created above\n",
    "        finishers_race_df = finishers_race_df.append(temp_df)\n",
    "        \n",
    "        # Increment offset by 1000 to move to the next page of data\n",
    "        offset=offset+1000\n",
    "    \n",
    "    # Return the dataframe with all appended data\n",
    "    return finishers_race_df\n",
    "\n"
   ]
  },
  {
   "cell_type": "markdown",
   "metadata": {},
   "source": [
    "## Using the functions and analysing the data\n",
    "\n",
    "In the cells below we use most of the functions defined above to call the api, create DataFrames and create graphs from those DataFrames to show some interesting information about the data. "
   ]
  },
  {
   "cell_type": "code",
   "execution_count": null,
   "metadata": {},
   "outputs": [],
   "source": [
    "# Calling the api here to get a sample of the 1st 1000 results of all races.\n",
    "# This api call will show data for drivers that finished races only. \n",
    "sample_data = get_data_from_api(\n",
    "              api_options='status/1/results.json',\n",
    "              api_limit='?limit=1000')\n",
    "\n",
    "# Save the sample data to a file. \n",
    "save_raw_data_to_file(sample_data, \"/Users/nick.duggan/workspace/Notebooks/formula1_sample_finishers_race_data.json\")\n",
    "\n",
    "# Call scrape_all_finishers_data\n",
    "finishers_race_df = scrape_all_finishers_data(offset_max=6000)\n",
    "\n",
    "# Write the data to a csv file\n",
    "finishers_race_df.to_csv(\"/Users/nick.duggan/workspace/Notebooks/formula1_finishers_race_data.csv\")\n",
    "\n",
    "# Show an example of the dataframe\n",
    "finishers_race_df[0:5]"
   ]
  },
  {
   "cell_type": "markdown",
   "metadata": {},
   "source": [
    "I wanted to see if race times were getting faster over time so I decided compare race finishers times for\n",
    "single races through the seasons. \n",
    "\n",
    "Using the query function of pandas DataFrame we can create another DataFrame from our main finishers_race_df\n",
    "to show a subset of columns and query for a specific race only. \n",
    "\n",
    "Below I have created new DataFrames for the Monaco Grand Prix and the British Grand Prix.\n",
    "I use plotly express scatter graphs to show the data over time. "
   ]
  },
  {
   "cell_type": "code",
   "execution_count": 49,
   "metadata": {},
   "outputs": [
    {
     "data": {
      "text/html": [
       "<div>\n",
       "<style scoped>\n",
       "    .dataframe tbody tr th:only-of-type {\n",
       "        vertical-align: middle;\n",
       "    }\n",
       "\n",
       "    .dataframe tbody tr th {\n",
       "        vertical-align: top;\n",
       "    }\n",
       "\n",
       "    .dataframe thead th {\n",
       "        text-align: right;\n",
       "    }\n",
       "</style>\n",
       "<table border=\"1\" class=\"dataframe\">\n",
       "  <thead>\n",
       "    <tr style=\"text-align: right;\">\n",
       "      <th></th>\n",
       "      <th>Date</th>\n",
       "      <th>Season</th>\n",
       "      <th>Race</th>\n",
       "      <th>Driver</th>\n",
       "      <th>Laps</th>\n",
       "      <th>Position</th>\n",
       "      <th>Time_mins</th>\n",
       "    </tr>\n",
       "  </thead>\n",
       "  <tbody>\n",
       "    <tr>\n",
       "      <td>3</td>\n",
       "      <td>1950-05-21</td>\n",
       "      <td>1950</td>\n",
       "      <td>Monaco Grand Prix</td>\n",
       "      <td>Juan Fangio</td>\n",
       "      <td>100</td>\n",
       "      <td>1</td>\n",
       "      <td>193.311667</td>\n",
       "    </tr>\n",
       "    <tr>\n",
       "      <td>212</td>\n",
       "      <td>1957-05-19</td>\n",
       "      <td>1957</td>\n",
       "      <td>Monaco Grand Prix</td>\n",
       "      <td>Tony Brooks</td>\n",
       "      <td>105</td>\n",
       "      <td>2</td>\n",
       "      <td>190.633333</td>\n",
       "    </tr>\n",
       "    <tr>\n",
       "      <td>211</td>\n",
       "      <td>1957-05-19</td>\n",
       "      <td>1957</td>\n",
       "      <td>Monaco Grand Prix</td>\n",
       "      <td>Juan Fangio</td>\n",
       "      <td>105</td>\n",
       "      <td>1</td>\n",
       "      <td>190.213333</td>\n",
       "    </tr>\n",
       "    <tr>\n",
       "      <td>183</td>\n",
       "      <td>1956-05-13</td>\n",
       "      <td>1956</td>\n",
       "      <td>Monaco Grand Prix</td>\n",
       "      <td>Peter Collins</td>\n",
       "      <td>100</td>\n",
       "      <td>2</td>\n",
       "      <td>180.650000</td>\n",
       "    </tr>\n",
       "    <tr>\n",
       "      <td>184</td>\n",
       "      <td>1956-05-13</td>\n",
       "      <td>1956</td>\n",
       "      <td>Monaco Grand Prix</td>\n",
       "      <td>Juan Fangio</td>\n",
       "      <td>100</td>\n",
       "      <td>2</td>\n",
       "      <td>180.650000</td>\n",
       "    </tr>\n",
       "  </tbody>\n",
       "</table>\n",
       "</div>"
      ],
      "text/plain": [
       "           Date  Season               Race         Driver  Laps Position  \\\n",
       "3    1950-05-21    1950  Monaco Grand Prix    Juan Fangio   100        1   \n",
       "212  1957-05-19    1957  Monaco Grand Prix    Tony Brooks   105        2   \n",
       "211  1957-05-19    1957  Monaco Grand Prix    Juan Fangio   105        1   \n",
       "183  1956-05-13    1956  Monaco Grand Prix  Peter Collins   100        2   \n",
       "184  1956-05-13    1956  Monaco Grand Prix    Juan Fangio   100        2   \n",
       "\n",
       "      Time_mins  \n",
       "3    193.311667  \n",
       "212  190.633333  \n",
       "211  190.213333  \n",
       "183  180.650000  \n",
       "184  180.650000  "
      ]
     },
     "execution_count": 49,
     "metadata": {},
     "output_type": "execute_result"
    }
   ],
   "source": [
    "# Create a new DataFrame from finishers_race_df with a subset of columns and query for the Monaco Grand Prix only\n",
    "monaco_finishers = finishers_race_df[[\"Date\",\n",
    "                  \"Season\",\n",
    "                  \"Race\",\n",
    "                  \"Driver\",\n",
    "                  \"Laps\",\n",
    "                  \"Position\",\n",
    "                  \"Time_mins\"]].query(\n",
    "                  \"Race == 'Monaco Grand Prix'\").sort_values(\n",
    "                  by=\"Time_mins\",\n",
    "                  ascending=False)\n",
    "\n",
    "# Show an example of the new DataFrame\n",
    "monaco_finishers[0:5]"
   ]
  },
  {
   "cell_type": "code",
   "execution_count": 61,
   "metadata": {},
   "outputs": [
    {
     "data": {
      "text/html": [
       "<div>\n",
       "<style scoped>\n",
       "    .dataframe tbody tr th:only-of-type {\n",
       "        vertical-align: middle;\n",
       "    }\n",
       "\n",
       "    .dataframe tbody tr th {\n",
       "        vertical-align: top;\n",
       "    }\n",
       "\n",
       "    .dataframe thead th {\n",
       "        text-align: right;\n",
       "    }\n",
       "</style>\n",
       "<table border=\"1\" class=\"dataframe\">\n",
       "  <thead>\n",
       "    <tr style=\"text-align: right;\">\n",
       "      <th></th>\n",
       "      <th>Date</th>\n",
       "      <th>Season</th>\n",
       "      <th>Race</th>\n",
       "      <th>Driver</th>\n",
       "      <th>Laps</th>\n",
       "      <th>Position</th>\n",
       "      <th>Time_mins</th>\n",
       "    </tr>\n",
       "  </thead>\n",
       "  <tbody>\n",
       "    <tr>\n",
       "      <td>174</td>\n",
       "      <td>1955-07-16</td>\n",
       "      <td>1955</td>\n",
       "      <td>British Grand Prix</td>\n",
       "      <td>Karl Kling</td>\n",
       "      <td>90</td>\n",
       "      <td>3</td>\n",
       "      <td>188.550000</td>\n",
       "    </tr>\n",
       "    <tr>\n",
       "      <td>173</td>\n",
       "      <td>1955-07-16</td>\n",
       "      <td>1955</td>\n",
       "      <td>British Grand Prix</td>\n",
       "      <td>Juan Fangio</td>\n",
       "      <td>90</td>\n",
       "      <td>2</td>\n",
       "      <td>187.356667</td>\n",
       "    </tr>\n",
       "    <tr>\n",
       "      <td>172</td>\n",
       "      <td>1955-07-16</td>\n",
       "      <td>1955</td>\n",
       "      <td>British Grand Prix</td>\n",
       "      <td>Stirling Moss</td>\n",
       "      <td>90</td>\n",
       "      <td>1</td>\n",
       "      <td>187.353333</td>\n",
       "    </tr>\n",
       "    <tr>\n",
       "      <td>230</td>\n",
       "      <td>1957-07-20</td>\n",
       "      <td>1957</td>\n",
       "      <td>British Grand Prix</td>\n",
       "      <td>Mike Hawthorn</td>\n",
       "      <td>90</td>\n",
       "      <td>3</td>\n",
       "      <td>187.343333</td>\n",
       "    </tr>\n",
       "    <tr>\n",
       "      <td>229</td>\n",
       "      <td>1957-07-20</td>\n",
       "      <td>1957</td>\n",
       "      <td>British Grand Prix</td>\n",
       "      <td>Luigi Musso</td>\n",
       "      <td>90</td>\n",
       "      <td>2</td>\n",
       "      <td>187.056667</td>\n",
       "    </tr>\n",
       "  </tbody>\n",
       "</table>\n",
       "</div>"
      ],
      "text/plain": [
       "           Date  Season                Race         Driver  Laps Position  \\\n",
       "174  1955-07-16    1955  British Grand Prix     Karl Kling    90        3   \n",
       "173  1955-07-16    1955  British Grand Prix    Juan Fangio    90        2   \n",
       "172  1955-07-16    1955  British Grand Prix  Stirling Moss    90        1   \n",
       "230  1957-07-20    1957  British Grand Prix  Mike Hawthorn    90        3   \n",
       "229  1957-07-20    1957  British Grand Prix    Luigi Musso    90        2   \n",
       "\n",
       "      Time_mins  \n",
       "174  188.550000  \n",
       "173  187.356667  \n",
       "172  187.353333  \n",
       "230  187.343333  \n",
       "229  187.056667  "
      ]
     },
     "execution_count": 61,
     "metadata": {},
     "output_type": "execute_result"
    }
   ],
   "source": [
    "# Create a new DataFrame from finishers_race_df with a subset of columns and query for the British Grand Prix only\n",
    "uk_finishers = finishers_race_df[[\"Date\",\n",
    "                  \"Season\",\n",
    "                  \"Race\",\n",
    "                  \"Driver\",\n",
    "                  \"Laps\",\n",
    "                  \"Position\",\n",
    "                  \"Time_mins\"]].query(\n",
    "                  \"Race == 'British Grand Prix'\").sort_values(\n",
    "                  by=\"Time_mins\",\n",
    "                  ascending=False)\n",
    "\n",
    "# Show an example of the new DataFrame\n",
    "uk_finishers[0:5]"
   ]
  },
  {
   "cell_type": "markdown",
   "metadata": {},
   "source": [
    "These plots show Formula1 finishers times at the Monaco Grand Prix and at the British Grand Prix from 1950 to 2020\n",
    "\n",
    "With plotly we can add hover data so we see the specified colums and values when we hover over\n",
    "one of the points.\n",
    "We can also specify a color map based on an interesting column for example below I chose Laps.\n",
    "\n",
    "We can see that the earlier races had higher finish times but because of the yellow color in Monaco's graph we can see that they also had more laps which explains some the time difference with later races.\n",
    "\n",
    "The take away from these graphs is that based on the trendline there is a slight down trend in race finish times in modern races since about 1990, these races have a similar amount of laps so are comparable. \n",
    "The faster finish times could be due to advances in car technology and aerodynamic science."
   ]
  },
  {
   "cell_type": "code",
   "execution_count": 51,
   "metadata": {},
   "outputs": [
    {
     "data": {
      "application/vnd.plotly.v1+json": {
       "config": {
        "plotlyServerURL": "https://plot.ly"
       },
       "data": [
        {
         "customdata": [
          [
           "1"
          ],
          [
           "2"
          ],
          [
           "1"
          ],
          [
           "2"
          ],
          [
           "2"
          ],
          [
           "1"
          ],
          [
           "2"
          ],
          [
           "1"
          ],
          [
           "2"
          ],
          [
           "1"
          ],
          [
           "3"
          ],
          [
           "2"
          ],
          [
           "1"
          ],
          [
           "3"
          ],
          [
           "2"
          ],
          [
           "1"
          ],
          [
           "3"
          ],
          [
           "3"
          ],
          [
           "2"
          ],
          [
           "1"
          ],
          [
           "2"
          ],
          [
           "1"
          ],
          [
           "4"
          ],
          [
           "3"
          ],
          [
           "2"
          ],
          [
           "1"
          ],
          [
           "1"
          ],
          [
           "3"
          ],
          [
           "2"
          ],
          [
           "1"
          ],
          [
           "1"
          ],
          [
           "2"
          ],
          [
           "1"
          ],
          [
           "2"
          ],
          [
           "1"
          ],
          [
           "15"
          ],
          [
           "14"
          ],
          [
           "13"
          ],
          [
           "12"
          ],
          [
           "11"
          ],
          [
           "10"
          ],
          [
           "9"
          ],
          [
           "8"
          ],
          [
           "7"
          ],
          [
           "6"
          ],
          [
           "5"
          ],
          [
           "4"
          ],
          [
           "3"
          ],
          [
           "2"
          ],
          [
           "1"
          ],
          [
           "6"
          ],
          [
           "5"
          ],
          [
           "4"
          ],
          [
           "3"
          ],
          [
           "2"
          ],
          [
           "1"
          ],
          [
           "6"
          ],
          [
           "5"
          ],
          [
           "4"
          ],
          [
           "4"
          ],
          [
           "3"
          ],
          [
           "3"
          ],
          [
           "2"
          ],
          [
           "3"
          ],
          [
           "1"
          ],
          [
           "9"
          ],
          [
           "8"
          ],
          [
           "7"
          ],
          [
           "6"
          ],
          [
           "5"
          ],
          [
           "7"
          ],
          [
           "6"
          ],
          [
           "4"
          ],
          [
           "2"
          ],
          [
           "3"
          ],
          [
           "5"
          ],
          [
           "2"
          ],
          [
           "3"
          ],
          [
           "2"
          ],
          [
           "1"
          ],
          [
           "1"
          ],
          [
           "2"
          ],
          [
           "1"
          ],
          [
           "1"
          ],
          [
           "2"
          ],
          [
           "1"
          ],
          [
           "4"
          ],
          [
           "3"
          ],
          [
           "2"
          ],
          [
           "1"
          ],
          [
           "3"
          ],
          [
           "4"
          ],
          [
           "8"
          ],
          [
           "7"
          ],
          [
           "3"
          ],
          [
           "2"
          ],
          [
           "6"
          ],
          [
           "5"
          ],
          [
           "4"
          ],
          [
           "2"
          ],
          [
           "3"
          ],
          [
           "1"
          ],
          [
           "3"
          ],
          [
           "1"
          ],
          [
           "2"
          ],
          [
           "1"
          ],
          [
           "4"
          ],
          [
           "2"
          ],
          [
           "1"
          ],
          [
           "4"
          ],
          [
           "2"
          ],
          [
           "3"
          ],
          [
           "1"
          ],
          [
           "2"
          ],
          [
           "3"
          ],
          [
           "1"
          ],
          [
           "2"
          ],
          [
           "4"
          ],
          [
           "3"
          ],
          [
           "2"
          ],
          [
           "1"
          ],
          [
           "3"
          ],
          [
           "6"
          ],
          [
           "5"
          ],
          [
           "2"
          ],
          [
           "4"
          ],
          [
           "4"
          ],
          [
           "3"
          ],
          [
           "4"
          ],
          [
           "3"
          ],
          [
           "1"
          ],
          [
           "2"
          ],
          [
           "1"
          ],
          [
           "3"
          ],
          [
           "3"
          ],
          [
           "2"
          ],
          [
           "1"
          ],
          [
           "1"
          ],
          [
           "2"
          ],
          [
           "2"
          ],
          [
           "1"
          ],
          [
           "2"
          ],
          [
           "1"
          ],
          [
           "3"
          ],
          [
           "1"
          ],
          [
           "3"
          ],
          [
           "2"
          ],
          [
           "1"
          ],
          [
           "4"
          ],
          [
           "3"
          ],
          [
           "2"
          ],
          [
           "3"
          ],
          [
           "3"
          ],
          [
           "1"
          ],
          [
           "2"
          ],
          [
           "1"
          ],
          [
           "3"
          ],
          [
           "2"
          ],
          [
           "1"
          ],
          [
           "2"
          ],
          [
           "4"
          ],
          [
           "1"
          ],
          [
           "5"
          ],
          [
           "1"
          ],
          [
           "3"
          ],
          [
           "2"
          ],
          [
           "1"
          ],
          [
           "4"
          ],
          [
           "2"
          ],
          [
           "3"
          ],
          [
           "1"
          ],
          [
           "3"
          ],
          [
           "2"
          ],
          [
           "1"
          ],
          [
           "5"
          ],
          [
           "4"
          ],
          [
           "2"
          ],
          [
           "4"
          ],
          [
           "11"
          ],
          [
           "10"
          ],
          [
           "9"
          ],
          [
           "8"
          ],
          [
           "7"
          ],
          [
           "6"
          ],
          [
           "12"
          ],
          [
           "5"
          ],
          [
           "4"
          ],
          [
           "3"
          ],
          [
           "2"
          ],
          [
           "1"
          ],
          [
           "3"
          ],
          [
           "14"
          ],
          [
           "2"
          ],
          [
           "4"
          ],
          [
           "1"
          ],
          [
           "13"
          ],
          [
           "12"
          ],
          [
           "3"
          ],
          [
           "11"
          ],
          [
           "2"
          ],
          [
           "10"
          ],
          [
           "9"
          ],
          [
           "3"
          ],
          [
           "2"
          ],
          [
           "8"
          ],
          [
           "7"
          ],
          [
           "6"
          ],
          [
           "5"
          ],
          [
           "1"
          ],
          [
           "4"
          ],
          [
           "1"
          ],
          [
           "1"
          ],
          [
           "3"
          ],
          [
           "2"
          ],
          [
           "1"
          ],
          [
           "4"
          ],
          [
           "3"
          ],
          [
           "2"
          ],
          [
           "1"
          ],
          [
           "3"
          ],
          [
           "10"
          ],
          [
           "9"
          ],
          [
           "8"
          ],
          [
           "7"
          ],
          [
           "3"
          ],
          [
           "6"
          ],
          [
           "5"
          ],
          [
           "4"
          ],
          [
           "3"
          ],
          [
           "2"
          ],
          [
           "1"
          ],
          [
           "8"
          ],
          [
           "7"
          ],
          [
           "6"
          ],
          [
           "5"
          ],
          [
           "4"
          ],
          [
           "2"
          ],
          [
           "1"
          ],
          [
           "2"
          ],
          [
           "1"
          ],
          [
           "3"
          ],
          [
           "2"
          ],
          [
           "13"
          ],
          [
           "1"
          ],
          [
           "12"
          ],
          [
           "11"
          ],
          [
           "10"
          ],
          [
           "9"
          ],
          [
           "8"
          ],
          [
           "7"
          ],
          [
           "6"
          ],
          [
           "5"
          ],
          [
           "4"
          ],
          [
           "3"
          ],
          [
           "2"
          ],
          [
           "6"
          ],
          [
           "1"
          ],
          [
           "5"
          ],
          [
           "4"
          ],
          [
           "3"
          ],
          [
           "11"
          ],
          [
           "10"
          ],
          [
           "9"
          ],
          [
           "8"
          ],
          [
           "7"
          ],
          [
           "6"
          ],
          [
           "13"
          ],
          [
           "12"
          ],
          [
           "11"
          ],
          [
           "10"
          ],
          [
           "2"
          ],
          [
           "1"
          ],
          [
           "5"
          ],
          [
           "4"
          ],
          [
           "3"
          ],
          [
           "2"
          ],
          [
           "1"
          ],
          [
           "9"
          ],
          [
           "8"
          ],
          [
           "7"
          ],
          [
           "6"
          ],
          [
           "5"
          ],
          [
           "4"
          ],
          [
           "8"
          ],
          [
           "3"
          ],
          [
           "2"
          ],
          [
           "7"
          ],
          [
           "6"
          ],
          [
           "5"
          ],
          [
           "1"
          ],
          [
           "4"
          ],
          [
           "3"
          ],
          [
           "2"
          ],
          [
           "1"
          ],
          [
           "9"
          ],
          [
           "8"
          ],
          [
           "3"
          ],
          [
           "7"
          ],
          [
           "6"
          ],
          [
           "5"
          ],
          [
           "4"
          ],
          [
           "3"
          ],
          [
           "2"
          ],
          [
           "1"
          ],
          [
           "2"
          ],
          [
           "1"
          ],
          [
           "5"
          ],
          [
           "4"
          ],
          [
           "3"
          ],
          [
           "2"
          ],
          [
           "1"
          ]
         ],
         "hoverlabel": {
          "namelength": 0
         },
         "hovertemplate": "<b>%{hovertext}</b><br><br>Season=%{x}<br>Time_mins=%{y}<br>Position=%{customdata[0]}<br>Laps=%{marker.color}",
         "hovertext": [
          "Juan Fangio",
          "Tony Brooks",
          "Juan Fangio",
          "Peter Collins",
          "Juan Fangio",
          "Stirling Moss",
          "Eugenio Castellotti",
          "Maurice Trintignant",
          "Tony Brooks",
          "Jack Brabham",
          "Phil Hill",
          "Bruce McLaren",
          "Stirling Moss",
          "Peter Collins",
          "Luigi Musso",
          "Maurice Trintignant",
          "Lorenzo Bandini",
          "Phil Hill",
          "Phil Hill",
          "Bruce McLaren",
          "Richie Ginther",
          "Stirling Moss",
          "John Surtees",
          "Bruce McLaren",
          "Richie Ginther",
          "Graham Hill",
          "Graham Hill",
          "Jackie Stewart",
          "Lorenzo Bandini",
          "Graham Hill",
          "Denny Hulme",
          "Lorenzo Bandini",
          "Jackie Stewart",
          "Jacky Ickx",
          "Jean-Pierre Beltoise",
          "Giedo van der Garde",
          "Max Chilton",
          "Esteban Gutiérrez",
          "Valtteri Bottas",
          "Nico Hülkenberg",
          "Kimi Räikkönen",
          "Paul di Resta",
          "Jean-Éric Vergne",
          "Fernando Alonso",
          "Jenson Button",
          "Adrian Sutil",
          "Lewis Hamilton",
          "Mark Webber",
          "Sebastian Vettel",
          "Nico Rosberg",
          "Lewis Hamilton",
          "Kamui Kobayashi",
          "Mark Webber",
          "Jenson Button",
          "Fernando Alonso",
          "Sebastian Vettel",
          "Jochen Mass",
          "Patrick Depailler",
          "Ronnie Peterson",
          "Olivier Panis",
          "Carlos Pace",
          "Eddie Irvine",
          "Emerson Fittipaldi",
          "Johnny Herbert",
          "Niki Lauda",
          "Kimi Räikkönen",
          "Heikki Kovalainen",
          "Kazuki Nakajima",
          "Rubens Barrichello",
          "Sebastian Vettel",
          "Nico Rosberg",
          "Nico Hülkenberg",
          "Mark Webber",
          "Rubens Barrichello",
          "Patrick Depailler",
          "Fernando Alonso",
          "David Coulthard",
          "Felipe Massa",
          "Robert Kubica",
          "Olivier Panis",
          "Lewis Hamilton",
          "Richard Attwood",
          "Graham Hill",
          "Michael Schumacher",
          "Jody Scheckter",
          "Niki Lauda",
          "Sebastian Vettel",
          "Sergio Pérez",
          "Daniel Ricciardo",
          "Lewis Hamilton",
          "Michele Alboreto",
          "Clay Regazzoni",
          "Vittorio Brambilla",
          "Jacques Laffite",
          "Jean-Pierre Jarier",
          "Jody Scheckter",
          "Alan Jones",
          "Mario Andretti",
          "Jochen Mass",
          "Nelson Piquet",
          "Carlos Reutemann",
          "Ronnie Peterson",
          "Michele Alboreto",
          "Ayrton Senna",
          "Niki Lauda",
          "Jody Scheckter",
          "Richard Attwood",
          "Emerson Fittipaldi",
          "Jackie Stewart",
          "Patrick Tambay",
          "Gerhard Berger",
          "Jo Siffert",
          "Alain Prost",
          "Piers Courage",
          "Alain Prost",
          "Graham Hill",
          "Nelson Piquet",
          "Nigel Mansell",
          "Nelson Piquet",
          "Jacques Laffite",
          "Keke Rosberg",
          "Ayrton Senna",
          "Riccardo Patrese",
          "Didier Pironi",
          "Keke Rosberg",
          "Denny Hulme",
          "John Watson",
          "Jacques Laffite",
          "John Watson",
          "Jody Scheckter",
          "Alain Prost",
          "Niki Lauda",
          "Carlos Reutemann",
          "Carlos Reutemann",
          "Henri Pescarolo",
          "Clay Regazzoni",
          "Jody Scheckter",
          "Patrick Depailler",
          "Alan Jones",
          "Jack Brabham",
          "Jochen Rindt",
          "Alain Prost",
          "Gilles Villeneuve",
          "Gerhard Berger",
          "Riccardo Patrese",
          "Jean Alesi",
          "Damon Hill",
          "Ayrton Senna",
          "Denny Hulme",
          "Elio de Angelis",
          "Nigel Mansell",
          "Jacky Ickx",
          "Jean Alesi",
          "Michael Schumacher",
          "Damon Hill",
          "Ayrton Senna",
          "Gerhard Berger",
          "Jean Alesi",
          "Ayrton Senna",
          "Ronnie Peterson",
          "Mika Salo",
          "Jackie Stewart",
          "Martin Brundle",
          "Ayrton Senna",
          "Eddie Irvine",
          "Michele Alboreto",
          "Alain Prost",
          "Michael Schumacher",
          "Giancarlo Fisichella",
          "Riccardo Patrese",
          "Mika Häkkinen",
          "Gerhard Berger",
          "Nigel Mansell",
          "Ayrton Senna",
          "Mika Salo",
          "Eddie Irvine",
          "Martin Brundle",
          "Heinz-Harald Frentzen",
          "Jaime Alguersuari",
          "Sébastien Buemi",
          "Vitantonio Liuzzi",
          "Adrian Sutil",
          "Nico Rosberg",
          "Fernando Alonso",
          "Michael Schumacher",
          "Lewis Hamilton",
          "Felipe Massa",
          "Robert Kubica",
          "Sebastian Vettel",
          "Mark Webber",
          "Mika Häkkinen",
          "Valtteri Bottas",
          "Eddie Irvine",
          "Fernando Alonso",
          "Michael Schumacher",
          "Marcus Ericsson",
          "Romain Grosjean",
          "Giancarlo Fisichella",
          "Nico Hülkenberg",
          "Rubens Barrichello",
          "Carlos Sainz",
          "Felipe Nasr",
          "Daniel Ricciardo",
          "Lewis Hamilton",
          "Jenson Button",
          "Sergio Pérez",
          "Kimi Räikkönen",
          "Daniel Ricciardo",
          "Michael Schumacher",
          "Daniil Kvyat",
          "David Coulthard",
          "Nico Rosberg",
          "Lewis Hamilton",
          "Sebastian Vettel",
          "Nico Rosberg",
          "Jacques Villeneuve",
          "Eddie Irvine",
          "Rubens Barrichello",
          "Michael Schumacher",
          "Rubens Barrichello",
          "Bruno Senna",
          "Kimi Räikkönen",
          "Nico Hülkenberg",
          "Paul di Resta",
          "Ralf Schumacher",
          "Felipe Massa",
          "Lewis Hamilton",
          "Sebastian Vettel",
          "Fernando Alonso",
          "Nico Rosberg",
          "Mark Webber",
          "Rubens Barrichello",
          "Michael Schumacher",
          "Ralf Schumacher",
          "Juan Pablo Montoya",
          "Fernando Alonso",
          "Jenson Button",
          "Jarno Trulli",
          "Michael Schumacher",
          "David Coulthard",
          "Mark Webber",
          "Nick Heidfeld",
          "Sergio Pérez",
          "Kimi Räikkönen",
          "Esteban Ocon",
          "Jolyon Palmer",
          "Kevin Magnussen",
          "Felipe Massa",
          "Romain Grosjean",
          "Lewis Hamilton",
          "Carlos Sainz",
          "Max Verstappen",
          "Valtteri Bottas",
          "Daniel Ricciardo",
          "Kimi Räikkönen",
          "Giancarlo Fisichella",
          "Sebastian Vettel",
          "Michael Schumacher",
          "Rubens Barrichello",
          "David Coulthard",
          "Lando Norris",
          "Romain Grosjean",
          "Daniel Ricciardo",
          "Alexander Albon",
          "Daniil Kvyat",
          "Carlos Sainz",
          "Kevin Magnussen",
          "Sergio Pérez",
          "Marcus Ericsson",
          "Carlos Sainz",
          "Juan Pablo Montoya",
          "Fernando Alonso",
          "Pierre Gasly",
          "Max Verstappen",
          "Valtteri Bottas",
          "Sebastian Vettel",
          "Lewis Hamilton",
          "Max Verstappen",
          "Nico Hülkenberg",
          "Pierre Gasly",
          "Esteban Ocon",
          "Valtteri Bottas",
          "Kimi Räikkönen",
          "Rubens Barrichello",
          "Lewis Hamilton",
          "Sebastian Vettel",
          "David Coulthard",
          "Jarno Trulli",
          "Fernando Alonso",
          "Daniel Ricciardo",
          "Ralf Schumacher",
          "Michael Schumacher",
          "Kimi Räikkönen",
          "Juan Pablo Montoya",
          "Giancarlo Fisichella",
          "Sébastien Bourdais",
          "Felipe Massa",
          "Fernando Alonso",
          "Nico Rosberg",
          "Mark Webber",
          "Felipe Massa",
          "Kimi Räikkönen",
          "Rubens Barrichello",
          "Jenson Button",
          "Lewis Hamilton",
          "Fernando Alonso",
          "Elio de Angelis",
          "Keke Rosberg",
          "René Arnoux",
          "Ayrton Senna",
          "Alain Prost"
         ],
         "legendgroup": "",
         "marker": {
          "color": [
           100,
           105,
           105,
           100,
           100,
           100,
           100,
           100,
           100,
           100,
           100,
           100,
           100,
           100,
           100,
           100,
           100,
           100,
           100,
           100,
           100,
           100,
           100,
           100,
           100,
           100,
           100,
           100,
           100,
           100,
           100,
           100,
           100,
           80,
           80,
           78,
           78,
           78,
           78,
           78,
           78,
           78,
           78,
           78,
           78,
           78,
           78,
           78,
           78,
           78,
           78,
           78,
           78,
           78,
           78,
           78,
           75,
           75,
           75,
           62,
           75,
           62,
           75,
           75,
           75,
           76,
           76,
           76,
           76,
           76,
           78,
           78,
           76,
           62,
           78,
           78,
           75,
           76,
           76,
           75,
           76,
           80,
           80,
           62,
           78,
           78,
           78,
           78,
           78,
           78,
           78,
           78,
           76,
           76,
           78,
           78,
           76,
           76,
           76,
           78,
           76,
           78,
           78,
           78,
           76,
           76,
           80,
           78,
           78,
           76,
           78,
           80,
           78,
           80,
           76,
           80,
           76,
           78,
           76,
           76,
           76,
           78,
           75,
           75,
           78,
           80,
           76,
           76,
           75,
           75,
           78,
           75,
           76,
           76,
           80,
           76,
           76,
           75,
           76,
           80,
           80,
           77,
           76,
           78,
           76,
           78,
           78,
           77,
           80,
           78,
           78,
           80,
           78,
           78,
           78,
           78,
           78,
           78,
           78,
           80,
           78,
           80,
           78,
           78,
           78,
           78,
           78,
           78,
           78,
           78,
           78,
           78,
           78,
           78,
           78,
           78,
           78,
           78,
           78,
           78,
           78,
           78,
           78,
           78,
           78,
           78,
           78,
           78,
           78,
           78,
           78,
           78,
           78,
           78,
           78,
           78,
           78,
           78,
           78,
           78,
           78,
           78,
           78,
           78,
           78,
           78,
           78,
           78,
           78,
           78,
           78,
           78,
           78,
           78,
           78,
           78,
           78,
           78,
           78,
           77,
           78,
           78,
           78,
           78,
           78,
           78,
           78,
           78,
           78,
           78,
           78,
           78,
           78,
           78,
           78,
           78,
           77,
           77,
           78,
           78,
           78,
           78,
           78,
           78,
           78,
           78,
           78,
           78,
           78,
           78,
           78,
           78,
           78,
           78,
           78,
           78,
           78,
           78,
           78,
           78,
           78,
           78,
           78,
           78,
           78,
           78,
           78,
           78,
           78,
           78,
           78,
           78,
           78,
           78,
           78,
           78,
           78,
           78,
           78,
           78,
           78,
           78,
           78,
           78,
           78,
           78,
           78,
           78,
           78,
           78,
           78,
           78,
           78,
           78,
           78,
           78,
           78,
           78,
           78,
           78,
           78,
           78,
           78,
           78,
           78,
           78,
           31,
           31,
           31,
           31,
           31
          ],
          "coloraxis": "coloraxis",
          "symbol": "circle"
         },
         "mode": "markers",
         "name": "",
         "showlegend": false,
         "type": "scatter",
         "x": [
          1950,
          1957,
          1957,
          1956,
          1956,
          1956,
          1955,
          1955,
          1959,
          1959,
          1960,
          1960,
          1960,
          1958,
          1958,
          1958,
          1962,
          1961,
          1962,
          1962,
          1961,
          1961,
          1963,
          1963,
          1963,
          1963,
          1964,
          1965,
          1965,
          1965,
          1967,
          1966,
          1966,
          1972,
          1972,
          2013,
          2013,
          2013,
          2013,
          2013,
          2013,
          2013,
          2013,
          2013,
          2013,
          2013,
          2013,
          2013,
          2013,
          2013,
          2011,
          2011,
          2011,
          2011,
          2011,
          2011,
          1975,
          1975,
          1975,
          1997,
          1975,
          1997,
          1975,
          1996,
          1975,
          2008,
          2008,
          2008,
          2008,
          2008,
          2016,
          2016,
          2008,
          1997,
          1976,
          2016,
          1996,
          2008,
          2008,
          1996,
          2008,
          1968,
          1968,
          1997,
          1976,
          1976,
          2016,
          2016,
          2016,
          2016,
          1987,
          1974,
          1977,
          1977,
          1974,
          1974,
          1977,
          1977,
          1977,
          1987,
          1977,
          1974,
          1988,
          1987,
          1977,
          1977,
          1969,
          1973,
          1973,
          1983,
          1988,
          1969,
          1988,
          1969,
          1983,
          1969,
          1983,
          1986,
          1980,
          1980,
          1983,
          1986,
          1978,
          1978,
          1986,
          1970,
          1979,
          1981,
          1978,
          1978,
          1986,
          1978,
          1980,
          1979,
          1970,
          1979,
          1979,
          1978,
          1981,
          1970,
          1970,
          1989,
          1981,
          1995,
          1982,
          1991,
          1995,
          1989,
          1971,
          1985,
          1991,
          1971,
          1993,
          1995,
          1993,
          1991,
          1990,
          1990,
          1990,
          1971,
          1998,
          1971,
          1992,
          1993,
          1998,
          1985,
          1985,
          1992,
          1998,
          1992,
          1998,
          1994,
          1992,
          1992,
          2000,
          2000,
          1994,
          1999,
          2010,
          2010,
          2010,
          2010,
          2010,
          2010,
          2010,
          2010,
          2010,
          2010,
          2010,
          2010,
          1999,
          2015,
          1999,
          2014,
          1994,
          2015,
          2015,
          2000,
          2015,
          2000,
          2015,
          2015,
          2014,
          2014,
          2015,
          2015,
          2015,
          2015,
          1999,
          2015,
          2000,
          2014,
          2015,
          2015,
          2015,
          2001,
          2001,
          2001,
          2001,
          2004,
          2012,
          2012,
          2012,
          2012,
          2002,
          2012,
          2012,
          2012,
          2012,
          2012,
          2012,
          2005,
          2005,
          2005,
          2005,
          2005,
          2004,
          2004,
          2002,
          2002,
          2005,
          2005,
          2017,
          2005,
          2017,
          2017,
          2017,
          2017,
          2017,
          2017,
          2017,
          2017,
          2017,
          2017,
          2017,
          2006,
          2017,
          2006,
          2006,
          2006,
          2019,
          2019,
          2019,
          2019,
          2019,
          2019,
          2018,
          2018,
          2018,
          2018,
          2006,
          2006,
          2019,
          2019,
          2019,
          2019,
          2019,
          2018,
          2018,
          2018,
          2018,
          2018,
          2018,
          2003,
          2018,
          2018,
          2003,
          2003,
          2003,
          2018,
          2003,
          2003,
          2003,
          2003,
          2009,
          2009,
          2007,
          2009,
          2009,
          2009,
          2009,
          2009,
          2009,
          2009,
          2007,
          2007,
          1984,
          1984,
          1984,
          1984,
          1984
         ],
         "xaxis": "x",
         "y": [
          193.31166666666667,
          190.63333333333333,
          190.21333333333334,
          180.65,
          180.65,
          180.54833333333335,
          178.5,
          178.16333333333333,
          176.195,
          175.855,
          174.79,
          174.62666666666667,
          173.75833333333333,
          173.11166666666668,
          172.80166666666668,
          172.465,
          167.89666666666668,
          166.52333333333334,
          166.51666666666668,
          166.495,
          165.895,
          165.835,
          162.06333333333333,
          162.04166666666666,
          161.905,
          161.82833333333335,
          161.325,
          159.35833333333332,
          158.72666666666666,
          157.66,
          154.57166666666666,
          153.845,
          153.175,
          147.55833333333334,
          146.92166666666665,
          138.91076666666666,
          138.69901666666667,
          138.5878,
          138.57911666666666,
          138.57713333333334,
          138.4773,
          138.32773333333333,
          138.32131666666666,
          138.31316666666666,
          138.25265,
          138.22555,
          138.09916666666666,
          137.97283333333334,
          137.9324,
          137.8676,
          130.09305,
          130.08815,
          130.02456666666666,
          129.67918333333333,
          129.65851666666666,
          129.63955,
          122.05633333333333,
          122.03616666666667,
          121.996,
          121.83426666666666,
          121.652,
          121.4627,
          121.4015,
          121.38553333333333,
          121.35516666666666,
          121.27556666666666,
          121.26555,
          121.21536666666667,
          121.18583333333333,
          121.12331666666667,
          121.04038333333334,
          121.03553333333333,
          121.03395,
          120.98266666666666,
          120.9385,
          120.90348333333333,
          120.84095,
          120.79255,
          120.76343333333334,
          120.76048333333334,
          120.71236666666667,
          120.575,
          120.53833333333333,
          120.09423333333334,
          120.04333333333334,
          119.85783333333333,
          119.74965,
          119.71596666666667,
          119.60641666666666,
          119.48555,
          119.1154,
          119.11333333333333,
          119.0235,
          118.9535,
          118.87666666666667,
          118.54166666666667,
          118.48966666666666,
          118.472,
          118.45616666666666,
          118.45495,
          118.42616666666666,
          118.06166666666667,
          117.97176666666667,
          117.90141666666666,
          117.89431666666667,
          117.8795,
          117.87166666666667,
          117.76,
          117.73833333333333,
          117.70696666666667,
          117.6255,
          117.56666666666666,
          117.28461666666666,
          117.27833333333334,
          117.15811666666667,
          116.99,
          116.94326666666667,
          116.87436666666666,
          116.86818333333333,
          116.7999,
          116.63535,
          116.57843333333334,
          116.3905,
          116.37866666666666,
          116.10136666666666,
          116.095,
          116.06316666666666,
          115.877,
          115.80316666666667,
          115.7825,
          115.68433333333333,
          115.6185,
          115.57275,
          115.5175,
          115.48,
          115.382,
          115.37466666666667,
          115.24433333333333,
          115.05483333333333,
          115.00833333333334,
          114.62333333333333,
          114.42966666666666,
          114.38966666666667,
          114.37841666666667,
          114.18765,
          113.82981666666667,
          113.76791666666666,
          113.55418333333333,
          113.46666666666667,
          113.42008333333334,
          113.3447,
          113.24333333333334,
          113.23848333333333,
          113.18763333333334,
          113.05108333333334,
          113.0389,
          112.81758333333333,
          112.80115,
          112.78303333333334,
          112.78166666666667,
          112.41271666666667,
          112.355,
          112.34531666666666,
          112.18245,
          112.0963,
          112.09291666666667,
          111.96723333333334,
          111.64443333333334,
          111.59791666666666,
          111.52025,
          111.40666666666667,
          111.20206666666667,
          110.99311666666667,
          110.98953333333333,
          110.81646666666667,
          110.56895,
          110.54296666666667,
          110.43035,
          110.37483333333333,
          110.35923333333334,
          110.34433333333334,
          110.33875,
          110.33343333333333,
          110.32826666666666,
          110.31778333333334,
          110.2953,
          110.26701666666666,
          110.2505,
          110.23005,
          110.22258333333333,
          110.15491666666667,
          110.07015,
          110.03813333333333,
          110.00188333333334,
          109.92166666666667,
          109.82631666666667,
          109.78058333333334,
          109.77891666666666,
          109.7442,
          109.73503333333333,
          109.7246,
          109.70076666666667,
          109.62125,
          109.61451666666666,
          109.57471666666666,
          109.55721666666666,
          109.54608333333333,
          109.5338,
          109.5302,
          109.50641666666667,
          109.47021666666667,
          109.46101666666667,
          109.40788333333333,
          109.38176666666666,
          109.307,
          107.91691666666667,
          107.88765,
          107.3832,
          107.37601666666667,
          107.03945,
          106.85121666666667,
          106.84321666666666,
          106.81865,
          106.80156666666667,
          106.77508333333333,
          106.21253333333334,
          106.17763333333333,
          106.13166666666666,
          106.12506666666667,
          106.12,
          106.10928333333334,
          105.88543333333334,
          105.87965,
          105.87788333333333,
          105.87005,
          105.86738333333334,
          105.78496666666666,
          105.77668333333334,
          105.66841666666667,
          105.65091666666666,
          105.56733333333334,
          105.49055,
          105.39048333333334,
          105.25926666666666,
          105.13441666666667,
          105.11795,
          105.09638333333334,
          105.06308333333334,
          105.0415,
          105.00235,
          104.93963333333333,
          104.84231666666666,
          104.83095,
          104.80141666666667,
          104.79141666666666,
          104.75313333333334,
          104.739,
          104.61576666666667,
          104.60755,
          104.59023333333333,
          104.5873,
          104.49118333333334,
          104.48885,
          104.39395,
          104.38351666666667,
          104.36485,
          104.1605,
          104.0878,
          104.07785,
          104.06366666666666,
          103.96138333333333,
          103.7186,
          103.63971666666667,
          103.56623333333333,
          103.52665,
          103.51731666666667,
          103.47395,
          103.3354,
          103.32743333333333,
          103.31896666666667,
          103.3079,
          103.22715,
          103.21556666666666,
          103.2046,
          103.197,
          103.03571666666667,
          103.00395,
          102.9997,
          102.92101666666667,
          102.91345,
          102.79213333333334,
          102.3455,
          102.32686666666666,
          102.31683333333334,
          101.82203333333334,
          101.7904,
          101.64071666666666,
          101.36868333333334,
          101.2978,
          101.0002,
          100.98986666666667,
          100.96206666666667,
          100.8658,
          100.73803333333333,
          100.55706666666667,
          100.48881666666666,
          61.86965,
          61.716433333333335,
          61.613616666666665,
          61.2531,
          61.129
         ],
         "yaxis": "y"
        },
        {
         "hoverlabel": {
          "namelength": 0
         },
         "hovertemplate": "<b>LOWESS trendline</b><br><br>Season=%{x}<br>Time_mins=%{y} <b>(trend)</b>",
         "legendgroup": "",
         "line": {
          "color": "turquoise"
         },
         "marker": {
          "symbol": "circle"
         },
         "mode": "lines",
         "name": "",
         "showlegend": false,
         "type": "scatter",
         "x": [
          1950,
          1955,
          1955,
          1956,
          1956,
          1956,
          1957,
          1957,
          1958,
          1958,
          1958,
          1959,
          1959,
          1960,
          1960,
          1960,
          1961,
          1961,
          1961,
          1962,
          1962,
          1962,
          1963,
          1963,
          1963,
          1963,
          1964,
          1965,
          1965,
          1965,
          1966,
          1966,
          1967,
          1968,
          1968,
          1969,
          1969,
          1969,
          1969,
          1970,
          1970,
          1970,
          1970,
          1971,
          1971,
          1971,
          1971,
          1972,
          1972,
          1973,
          1973,
          1974,
          1974,
          1974,
          1974,
          1975,
          1975,
          1975,
          1975,
          1975,
          1975,
          1976,
          1976,
          1976,
          1977,
          1977,
          1977,
          1977,
          1977,
          1977,
          1977,
          1977,
          1978,
          1978,
          1978,
          1978,
          1978,
          1978,
          1979,
          1979,
          1979,
          1979,
          1980,
          1980,
          1980,
          1981,
          1981,
          1981,
          1982,
          1983,
          1983,
          1983,
          1983,
          1984,
          1984,
          1984,
          1984,
          1984,
          1985,
          1985,
          1985,
          1986,
          1986,
          1986,
          1986,
          1987,
          1987,
          1987,
          1988,
          1988,
          1988,
          1989,
          1989,
          1990,
          1990,
          1990,
          1991,
          1991,
          1991,
          1992,
          1992,
          1992,
          1992,
          1992,
          1993,
          1993,
          1993,
          1994,
          1994,
          1994,
          1995,
          1995,
          1995,
          1996,
          1996,
          1996,
          1997,
          1997,
          1997,
          1997,
          1998,
          1998,
          1998,
          1998,
          1999,
          1999,
          1999,
          1999,
          2000,
          2000,
          2000,
          2000,
          2000,
          2001,
          2001,
          2001,
          2001,
          2002,
          2002,
          2002,
          2003,
          2003,
          2003,
          2003,
          2003,
          2003,
          2003,
          2003,
          2004,
          2004,
          2004,
          2005,
          2005,
          2005,
          2005,
          2005,
          2005,
          2005,
          2005,
          2006,
          2006,
          2006,
          2006,
          2006,
          2006,
          2007,
          2007,
          2007,
          2008,
          2008,
          2008,
          2008,
          2008,
          2008,
          2008,
          2008,
          2008,
          2009,
          2009,
          2009,
          2009,
          2009,
          2009,
          2009,
          2009,
          2009,
          2010,
          2010,
          2010,
          2010,
          2010,
          2010,
          2010,
          2010,
          2010,
          2010,
          2010,
          2010,
          2011,
          2011,
          2011,
          2011,
          2011,
          2011,
          2012,
          2012,
          2012,
          2012,
          2012,
          2012,
          2012,
          2012,
          2012,
          2012,
          2013,
          2013,
          2013,
          2013,
          2013,
          2013,
          2013,
          2013,
          2013,
          2013,
          2013,
          2013,
          2013,
          2013,
          2013,
          2014,
          2014,
          2014,
          2014,
          2015,
          2015,
          2015,
          2015,
          2015,
          2015,
          2015,
          2015,
          2015,
          2015,
          2015,
          2015,
          2015,
          2015,
          2016,
          2016,
          2016,
          2016,
          2016,
          2016,
          2016,
          2017,
          2017,
          2017,
          2017,
          2017,
          2017,
          2017,
          2017,
          2017,
          2017,
          2017,
          2017,
          2017,
          2018,
          2018,
          2018,
          2018,
          2018,
          2018,
          2018,
          2018,
          2018,
          2018,
          2018,
          2018,
          2018,
          2019,
          2019,
          2019,
          2019,
          2019,
          2019,
          2019,
          2019,
          2019,
          2019,
          2019
         ],
         "xaxis": "x",
         "y": [
          181.50142404420035,
          171.01946879914806,
          171.01946879914806,
          168.97237738223083,
          168.97237738223083,
          168.97237738223083,
          166.94399566135024,
          166.94399566135024,
          164.93512247077462,
          164.93512247077462,
          164.93512247077462,
          162.9464190154057,
          162.9464190154057,
          160.97838289325688,
          160.97838289325688,
          160.97838289325688,
          159.0313174591141,
          159.0313174591141,
          159.0313174591141,
          157.10527140902065,
          157.10527140902065,
          157.10527140902065,
          155.20004947946381,
          155.20004947946381,
          155.20004947946381,
          155.20004947946381,
          153.31516842112694,
          151.44983885331746,
          151.44983885331746,
          151.44983885331746,
          149.60301000067733,
          149.60301000067733,
          147.77330631274262,
          145.95902375087064,
          145.95902375087064,
          144.15812190624968,
          144.15812190624968,
          144.15812190624968,
          144.15812190624968,
          142.36829426516206,
          142.36829426516206,
          142.36829426516206,
          142.36829426516206,
          140.58699999095356,
          140.58699999095356,
          140.58699999095356,
          140.58699999095356,
          138.8114096759722,
          138.8114096759722,
          137.03826672323106,
          137.03826672323106,
          135.26360416787085,
          135.26360416787085,
          135.26360416787085,
          135.26360416787085,
          133.48282854547284,
          133.48282854547284,
          133.48282854547284,
          133.48282854547284,
          133.48282854547284,
          133.48282854547284,
          131.69099943638804,
          131.69099943638804,
          131.69099943638804,
          129.88331922993078,
          129.88331922993078,
          129.88331922993078,
          129.88331922993078,
          129.88331922993078,
          129.88331922993078,
          129.88331922993078,
          129.88331922993078,
          128.05609170927642,
          128.05609170927642,
          128.05609170927642,
          128.05609170927642,
          128.05609170927642,
          128.05609170927642,
          126.20919523823052,
          126.20919523823052,
          126.20919523823052,
          126.20919523823052,
          124.34944724002939,
          124.34944724002939,
          124.34944724002939,
          122.49726097891191,
          122.49726097891191,
          122.49726097891191,
          120.7125548043908,
          119.08443392674816,
          119.08443392674816,
          119.08443392674816,
          119.08443392674816,
          117.68824977995502,
          117.68824977995502,
          117.68824977995502,
          117.68824977995502,
          117.68824977995502,
          116.82981121365893,
          116.82981121365893,
          116.82981121365893,
          115.91606633000296,
          115.91606633000296,
          115.91606633000296,
          115.91606633000296,
          115.33423476109347,
          115.33423476109347,
          115.33423476109347,
          114.77780962340177,
          114.77780962340177,
          114.77780962340177,
          114.33916677236506,
          114.33916677236506,
          113.91350024818829,
          113.91350024818829,
          113.91350024818829,
          113.50688884143364,
          113.50688884143364,
          113.50688884143364,
          113.13412864782906,
          113.13412864782906,
          113.13412864782906,
          113.13412864782906,
          113.13412864782906,
          112.79327572323915,
          112.79327572323915,
          112.79327572323915,
          112.46819665689051,
          112.46819665689051,
          112.46819665689051,
          112.15795995961841,
          112.15795995961841,
          112.15795995961841,
          111.85348106502505,
          111.85348106502505,
          111.85348106502505,
          111.56500502282117,
          111.56500502282117,
          111.56500502282117,
          111.56500502282117,
          111.22471150557293,
          111.22471150557293,
          111.22471150557293,
          111.22471150557293,
          110.96605050179025,
          110.96605050179025,
          110.96605050179025,
          110.96605050179025,
          110.62739231295527,
          110.62739231295527,
          110.62739231295527,
          110.62739231295527,
          110.62739231295527,
          110.29017733450385,
          110.29017733450385,
          110.29017733450385,
          110.29017733450385,
          110.10219580146294,
          110.10219580146294,
          110.10219580146294,
          109.9371911270393,
          109.9371911270393,
          109.9371911270393,
          109.9371911270393,
          109.9371911270393,
          109.9371911270393,
          109.9371911270393,
          109.9371911270393,
          109.8622517296797,
          109.8622517296797,
          109.8622517296797,
          109.73801449913307,
          109.73801449913307,
          109.73801449913307,
          109.73801449913307,
          109.73801449913307,
          109.73801449913307,
          109.73801449913307,
          109.73801449913307,
          109.58217551679277,
          109.58217551679277,
          109.58217551679277,
          109.58217551679277,
          109.58217551679277,
          109.58217551679277,
          109.40930896011014,
          109.40930896011014,
          109.40930896011014,
          109.22987074894127,
          109.22987074894127,
          109.22987074894127,
          109.22987074894127,
          109.22987074894127,
          109.22987074894127,
          109.22987074894127,
          109.22987074894127,
          109.22987074894127,
          109.05072486263586,
          109.05072486263586,
          109.05072486263586,
          109.05072486263586,
          109.05072486263586,
          109.05072486263586,
          109.05072486263586,
          109.05072486263586,
          109.05072486263586,
          108.87530244911075,
          108.87530244911075,
          108.87530244911075,
          108.87530244911075,
          108.87530244911075,
          108.87530244911075,
          108.87530244911075,
          108.87530244911075,
          108.87530244911075,
          108.87530244911075,
          108.87530244911075,
          108.87530244911075,
          108.705979768724,
          108.705979768724,
          108.705979768724,
          108.705979768724,
          108.705979768724,
          108.705979768724,
          108.54371891512447,
          108.54371891512447,
          108.54371891512447,
          108.54371891512447,
          108.54371891512447,
          108.54371891512447,
          108.54371891512447,
          108.54371891512447,
          108.54371891512447,
          108.54371891512447,
          108.38814105392436,
          108.38814105392436,
          108.38814105392436,
          108.38814105392436,
          108.38814105392436,
          108.38814105392436,
          108.38814105392436,
          108.38814105392436,
          108.38814105392436,
          108.38814105392436,
          108.38814105392436,
          108.38814105392436,
          108.38814105392436,
          108.38814105392436,
          108.38814105392436,
          108.23840516497766,
          108.23840516497766,
          108.23840516497766,
          108.23840516497766,
          108.09294095731448,
          108.09294095731448,
          108.09294095731448,
          108.09294095731448,
          108.09294095731448,
          108.09294095731448,
          108.09294095731448,
          108.09294095731448,
          108.09294095731448,
          108.09294095731448,
          108.09294095731448,
          108.09294095731448,
          108.09294095731448,
          108.09294095731448,
          107.94992515055146,
          107.94992515055146,
          107.94992515055146,
          107.94992515055146,
          107.94992515055146,
          107.94992515055146,
          107.94992515055146,
          107.80721306180989,
          107.80721306180989,
          107.80721306180989,
          107.80721306180989,
          107.80721306180989,
          107.80721306180989,
          107.80721306180989,
          107.80721306180989,
          107.80721306180989,
          107.80721306180989,
          107.80721306180989,
          107.80721306180989,
          107.80721306180989,
          107.66216338292851,
          107.66216338292851,
          107.66216338292851,
          107.66216338292851,
          107.66216338292851,
          107.66216338292851,
          107.66216338292851,
          107.66216338292851,
          107.66216338292851,
          107.66216338292851,
          107.66216338292851,
          107.66216338292851,
          107.66216338292851,
          107.5127324984888,
          107.5127324984888,
          107.5127324984888,
          107.5127324984888,
          107.5127324984888,
          107.5127324984888,
          107.5127324984888,
          107.5127324984888,
          107.5127324984888,
          107.5127324984888,
          107.5127324984888
         ],
         "yaxis": "y"
        }
       ],
       "layout": {
        "coloraxis": {
         "colorbar": {
          "title": {
           "text": "Laps"
          }
         },
         "colorscale": [
          [
           0,
           "#0d0887"
          ],
          [
           0.1111111111111111,
           "#46039f"
          ],
          [
           0.2222222222222222,
           "#7201a8"
          ],
          [
           0.3333333333333333,
           "#9c179e"
          ],
          [
           0.4444444444444444,
           "#bd3786"
          ],
          [
           0.5555555555555556,
           "#d8576b"
          ],
          [
           0.6666666666666666,
           "#ed7953"
          ],
          [
           0.7777777777777778,
           "#fb9f3a"
          ],
          [
           0.8888888888888888,
           "#fdca26"
          ],
          [
           1,
           "#f0f921"
          ]
         ]
        },
        "legend": {
         "tracegroupgap": 0
        },
        "template": {
         "data": {
          "bar": [
           {
            "error_x": {
             "color": "#2a3f5f"
            },
            "error_y": {
             "color": "#2a3f5f"
            },
            "marker": {
             "line": {
              "color": "#E5ECF6",
              "width": 0.5
             }
            },
            "type": "bar"
           }
          ],
          "barpolar": [
           {
            "marker": {
             "line": {
              "color": "#E5ECF6",
              "width": 0.5
             }
            },
            "type": "barpolar"
           }
          ],
          "carpet": [
           {
            "aaxis": {
             "endlinecolor": "#2a3f5f",
             "gridcolor": "white",
             "linecolor": "white",
             "minorgridcolor": "white",
             "startlinecolor": "#2a3f5f"
            },
            "baxis": {
             "endlinecolor": "#2a3f5f",
             "gridcolor": "white",
             "linecolor": "white",
             "minorgridcolor": "white",
             "startlinecolor": "#2a3f5f"
            },
            "type": "carpet"
           }
          ],
          "choropleth": [
           {
            "colorbar": {
             "outlinewidth": 0,
             "ticks": ""
            },
            "type": "choropleth"
           }
          ],
          "contour": [
           {
            "colorbar": {
             "outlinewidth": 0,
             "ticks": ""
            },
            "colorscale": [
             [
              0,
              "#0d0887"
             ],
             [
              0.1111111111111111,
              "#46039f"
             ],
             [
              0.2222222222222222,
              "#7201a8"
             ],
             [
              0.3333333333333333,
              "#9c179e"
             ],
             [
              0.4444444444444444,
              "#bd3786"
             ],
             [
              0.5555555555555556,
              "#d8576b"
             ],
             [
              0.6666666666666666,
              "#ed7953"
             ],
             [
              0.7777777777777778,
              "#fb9f3a"
             ],
             [
              0.8888888888888888,
              "#fdca26"
             ],
             [
              1,
              "#f0f921"
             ]
            ],
            "type": "contour"
           }
          ],
          "contourcarpet": [
           {
            "colorbar": {
             "outlinewidth": 0,
             "ticks": ""
            },
            "type": "contourcarpet"
           }
          ],
          "heatmap": [
           {
            "colorbar": {
             "outlinewidth": 0,
             "ticks": ""
            },
            "colorscale": [
             [
              0,
              "#0d0887"
             ],
             [
              0.1111111111111111,
              "#46039f"
             ],
             [
              0.2222222222222222,
              "#7201a8"
             ],
             [
              0.3333333333333333,
              "#9c179e"
             ],
             [
              0.4444444444444444,
              "#bd3786"
             ],
             [
              0.5555555555555556,
              "#d8576b"
             ],
             [
              0.6666666666666666,
              "#ed7953"
             ],
             [
              0.7777777777777778,
              "#fb9f3a"
             ],
             [
              0.8888888888888888,
              "#fdca26"
             ],
             [
              1,
              "#f0f921"
             ]
            ],
            "type": "heatmap"
           }
          ],
          "heatmapgl": [
           {
            "colorbar": {
             "outlinewidth": 0,
             "ticks": ""
            },
            "colorscale": [
             [
              0,
              "#0d0887"
             ],
             [
              0.1111111111111111,
              "#46039f"
             ],
             [
              0.2222222222222222,
              "#7201a8"
             ],
             [
              0.3333333333333333,
              "#9c179e"
             ],
             [
              0.4444444444444444,
              "#bd3786"
             ],
             [
              0.5555555555555556,
              "#d8576b"
             ],
             [
              0.6666666666666666,
              "#ed7953"
             ],
             [
              0.7777777777777778,
              "#fb9f3a"
             ],
             [
              0.8888888888888888,
              "#fdca26"
             ],
             [
              1,
              "#f0f921"
             ]
            ],
            "type": "heatmapgl"
           }
          ],
          "histogram": [
           {
            "marker": {
             "colorbar": {
              "outlinewidth": 0,
              "ticks": ""
             }
            },
            "type": "histogram"
           }
          ],
          "histogram2d": [
           {
            "colorbar": {
             "outlinewidth": 0,
             "ticks": ""
            },
            "colorscale": [
             [
              0,
              "#0d0887"
             ],
             [
              0.1111111111111111,
              "#46039f"
             ],
             [
              0.2222222222222222,
              "#7201a8"
             ],
             [
              0.3333333333333333,
              "#9c179e"
             ],
             [
              0.4444444444444444,
              "#bd3786"
             ],
             [
              0.5555555555555556,
              "#d8576b"
             ],
             [
              0.6666666666666666,
              "#ed7953"
             ],
             [
              0.7777777777777778,
              "#fb9f3a"
             ],
             [
              0.8888888888888888,
              "#fdca26"
             ],
             [
              1,
              "#f0f921"
             ]
            ],
            "type": "histogram2d"
           }
          ],
          "histogram2dcontour": [
           {
            "colorbar": {
             "outlinewidth": 0,
             "ticks": ""
            },
            "colorscale": [
             [
              0,
              "#0d0887"
             ],
             [
              0.1111111111111111,
              "#46039f"
             ],
             [
              0.2222222222222222,
              "#7201a8"
             ],
             [
              0.3333333333333333,
              "#9c179e"
             ],
             [
              0.4444444444444444,
              "#bd3786"
             ],
             [
              0.5555555555555556,
              "#d8576b"
             ],
             [
              0.6666666666666666,
              "#ed7953"
             ],
             [
              0.7777777777777778,
              "#fb9f3a"
             ],
             [
              0.8888888888888888,
              "#fdca26"
             ],
             [
              1,
              "#f0f921"
             ]
            ],
            "type": "histogram2dcontour"
           }
          ],
          "mesh3d": [
           {
            "colorbar": {
             "outlinewidth": 0,
             "ticks": ""
            },
            "type": "mesh3d"
           }
          ],
          "parcoords": [
           {
            "line": {
             "colorbar": {
              "outlinewidth": 0,
              "ticks": ""
             }
            },
            "type": "parcoords"
           }
          ],
          "pie": [
           {
            "automargin": true,
            "type": "pie"
           }
          ],
          "scatter": [
           {
            "marker": {
             "colorbar": {
              "outlinewidth": 0,
              "ticks": ""
             }
            },
            "type": "scatter"
           }
          ],
          "scatter3d": [
           {
            "line": {
             "colorbar": {
              "outlinewidth": 0,
              "ticks": ""
             }
            },
            "marker": {
             "colorbar": {
              "outlinewidth": 0,
              "ticks": ""
             }
            },
            "type": "scatter3d"
           }
          ],
          "scattercarpet": [
           {
            "marker": {
             "colorbar": {
              "outlinewidth": 0,
              "ticks": ""
             }
            },
            "type": "scattercarpet"
           }
          ],
          "scattergeo": [
           {
            "marker": {
             "colorbar": {
              "outlinewidth": 0,
              "ticks": ""
             }
            },
            "type": "scattergeo"
           }
          ],
          "scattergl": [
           {
            "marker": {
             "colorbar": {
              "outlinewidth": 0,
              "ticks": ""
             }
            },
            "type": "scattergl"
           }
          ],
          "scattermapbox": [
           {
            "marker": {
             "colorbar": {
              "outlinewidth": 0,
              "ticks": ""
             }
            },
            "type": "scattermapbox"
           }
          ],
          "scatterpolar": [
           {
            "marker": {
             "colorbar": {
              "outlinewidth": 0,
              "ticks": ""
             }
            },
            "type": "scatterpolar"
           }
          ],
          "scatterpolargl": [
           {
            "marker": {
             "colorbar": {
              "outlinewidth": 0,
              "ticks": ""
             }
            },
            "type": "scatterpolargl"
           }
          ],
          "scatterternary": [
           {
            "marker": {
             "colorbar": {
              "outlinewidth": 0,
              "ticks": ""
             }
            },
            "type": "scatterternary"
           }
          ],
          "surface": [
           {
            "colorbar": {
             "outlinewidth": 0,
             "ticks": ""
            },
            "colorscale": [
             [
              0,
              "#0d0887"
             ],
             [
              0.1111111111111111,
              "#46039f"
             ],
             [
              0.2222222222222222,
              "#7201a8"
             ],
             [
              0.3333333333333333,
              "#9c179e"
             ],
             [
              0.4444444444444444,
              "#bd3786"
             ],
             [
              0.5555555555555556,
              "#d8576b"
             ],
             [
              0.6666666666666666,
              "#ed7953"
             ],
             [
              0.7777777777777778,
              "#fb9f3a"
             ],
             [
              0.8888888888888888,
              "#fdca26"
             ],
             [
              1,
              "#f0f921"
             ]
            ],
            "type": "surface"
           }
          ],
          "table": [
           {
            "cells": {
             "fill": {
              "color": "#EBF0F8"
             },
             "line": {
              "color": "white"
             }
            },
            "header": {
             "fill": {
              "color": "#C8D4E3"
             },
             "line": {
              "color": "white"
             }
            },
            "type": "table"
           }
          ]
         },
         "layout": {
          "annotationdefaults": {
           "arrowcolor": "#2a3f5f",
           "arrowhead": 0,
           "arrowwidth": 1
          },
          "coloraxis": {
           "colorbar": {
            "outlinewidth": 0,
            "ticks": ""
           }
          },
          "colorscale": {
           "diverging": [
            [
             0,
             "#8e0152"
            ],
            [
             0.1,
             "#c51b7d"
            ],
            [
             0.2,
             "#de77ae"
            ],
            [
             0.3,
             "#f1b6da"
            ],
            [
             0.4,
             "#fde0ef"
            ],
            [
             0.5,
             "#f7f7f7"
            ],
            [
             0.6,
             "#e6f5d0"
            ],
            [
             0.7,
             "#b8e186"
            ],
            [
             0.8,
             "#7fbc41"
            ],
            [
             0.9,
             "#4d9221"
            ],
            [
             1,
             "#276419"
            ]
           ],
           "sequential": [
            [
             0,
             "#0d0887"
            ],
            [
             0.1111111111111111,
             "#46039f"
            ],
            [
             0.2222222222222222,
             "#7201a8"
            ],
            [
             0.3333333333333333,
             "#9c179e"
            ],
            [
             0.4444444444444444,
             "#bd3786"
            ],
            [
             0.5555555555555556,
             "#d8576b"
            ],
            [
             0.6666666666666666,
             "#ed7953"
            ],
            [
             0.7777777777777778,
             "#fb9f3a"
            ],
            [
             0.8888888888888888,
             "#fdca26"
            ],
            [
             1,
             "#f0f921"
            ]
           ],
           "sequentialminus": [
            [
             0,
             "#0d0887"
            ],
            [
             0.1111111111111111,
             "#46039f"
            ],
            [
             0.2222222222222222,
             "#7201a8"
            ],
            [
             0.3333333333333333,
             "#9c179e"
            ],
            [
             0.4444444444444444,
             "#bd3786"
            ],
            [
             0.5555555555555556,
             "#d8576b"
            ],
            [
             0.6666666666666666,
             "#ed7953"
            ],
            [
             0.7777777777777778,
             "#fb9f3a"
            ],
            [
             0.8888888888888888,
             "#fdca26"
            ],
            [
             1,
             "#f0f921"
            ]
           ]
          },
          "colorway": [
           "#636efa",
           "#EF553B",
           "#00cc96",
           "#ab63fa",
           "#FFA15A",
           "#19d3f3",
           "#FF6692",
           "#B6E880",
           "#FF97FF",
           "#FECB52"
          ],
          "font": {
           "color": "#2a3f5f"
          },
          "geo": {
           "bgcolor": "white",
           "lakecolor": "white",
           "landcolor": "#E5ECF6",
           "showlakes": true,
           "showland": true,
           "subunitcolor": "white"
          },
          "hoverlabel": {
           "align": "left"
          },
          "hovermode": "closest",
          "mapbox": {
           "style": "light"
          },
          "paper_bgcolor": "white",
          "plot_bgcolor": "#E5ECF6",
          "polar": {
           "angularaxis": {
            "gridcolor": "white",
            "linecolor": "white",
            "ticks": ""
           },
           "bgcolor": "#E5ECF6",
           "radialaxis": {
            "gridcolor": "white",
            "linecolor": "white",
            "ticks": ""
           }
          },
          "scene": {
           "xaxis": {
            "backgroundcolor": "#E5ECF6",
            "gridcolor": "white",
            "gridwidth": 2,
            "linecolor": "white",
            "showbackground": true,
            "ticks": "",
            "zerolinecolor": "white"
           },
           "yaxis": {
            "backgroundcolor": "#E5ECF6",
            "gridcolor": "white",
            "gridwidth": 2,
            "linecolor": "white",
            "showbackground": true,
            "ticks": "",
            "zerolinecolor": "white"
           },
           "zaxis": {
            "backgroundcolor": "#E5ECF6",
            "gridcolor": "white",
            "gridwidth": 2,
            "linecolor": "white",
            "showbackground": true,
            "ticks": "",
            "zerolinecolor": "white"
           }
          },
          "shapedefaults": {
           "line": {
            "color": "#2a3f5f"
           }
          },
          "ternary": {
           "aaxis": {
            "gridcolor": "white",
            "linecolor": "white",
            "ticks": ""
           },
           "baxis": {
            "gridcolor": "white",
            "linecolor": "white",
            "ticks": ""
           },
           "bgcolor": "#E5ECF6",
           "caxis": {
            "gridcolor": "white",
            "linecolor": "white",
            "ticks": ""
           }
          },
          "title": {
           "x": 0.05
          },
          "xaxis": {
           "automargin": true,
           "gridcolor": "white",
           "linecolor": "white",
           "ticks": "",
           "title": {
            "standoff": 15
           },
           "zerolinecolor": "white",
           "zerolinewidth": 2
          },
          "yaxis": {
           "automargin": true,
           "gridcolor": "white",
           "linecolor": "white",
           "ticks": "",
           "title": {
            "standoff": 15
           },
           "zerolinecolor": "white",
           "zerolinewidth": 2
          }
         }
        },
        "title": {
         "text": "Formula1 finisher's times at the Monaco Grand Prix"
        },
        "xaxis": {
         "anchor": "y",
         "domain": [
          0,
          1
         ],
         "title": {
          "text": "Season"
         }
        },
        "yaxis": {
         "anchor": "x",
         "domain": [
          0,
          1
         ],
         "title": {
          "text": "Time_mins"
         }
        }
       }
      },
      "text/html": [
       "<div>\n",
       "        \n",
       "        \n",
       "            <div id=\"48bb9240-bebc-4fd3-a59d-322c72e436d7\" class=\"plotly-graph-div\" style=\"height:525px; width:100%;\"></div>\n",
       "            <script type=\"text/javascript\">\n",
       "                require([\"plotly\"], function(Plotly) {\n",
       "                    window.PLOTLYENV=window.PLOTLYENV || {};\n",
       "                    \n",
       "                if (document.getElementById(\"48bb9240-bebc-4fd3-a59d-322c72e436d7\")) {\n",
       "                    Plotly.newPlot(\n",
       "                        '48bb9240-bebc-4fd3-a59d-322c72e436d7',\n",
       "                        [{\"customdata\": [[\"1\"], [\"2\"], [\"1\"], [\"2\"], [\"2\"], [\"1\"], [\"2\"], [\"1\"], [\"2\"], [\"1\"], [\"3\"], [\"2\"], [\"1\"], [\"3\"], [\"2\"], [\"1\"], [\"3\"], [\"3\"], [\"2\"], [\"1\"], [\"2\"], [\"1\"], [\"4\"], [\"3\"], [\"2\"], [\"1\"], [\"1\"], [\"3\"], [\"2\"], [\"1\"], [\"1\"], [\"2\"], [\"1\"], [\"2\"], [\"1\"], [\"15\"], [\"14\"], [\"13\"], [\"12\"], [\"11\"], [\"10\"], [\"9\"], [\"8\"], [\"7\"], [\"6\"], [\"5\"], [\"4\"], [\"3\"], [\"2\"], [\"1\"], [\"6\"], [\"5\"], [\"4\"], [\"3\"], [\"2\"], [\"1\"], [\"6\"], [\"5\"], [\"4\"], [\"4\"], [\"3\"], [\"3\"], [\"2\"], [\"3\"], [\"1\"], [\"9\"], [\"8\"], [\"7\"], [\"6\"], [\"5\"], [\"7\"], [\"6\"], [\"4\"], [\"2\"], [\"3\"], [\"5\"], [\"2\"], [\"3\"], [\"2\"], [\"1\"], [\"1\"], [\"2\"], [\"1\"], [\"1\"], [\"2\"], [\"1\"], [\"4\"], [\"3\"], [\"2\"], [\"1\"], [\"3\"], [\"4\"], [\"8\"], [\"7\"], [\"3\"], [\"2\"], [\"6\"], [\"5\"], [\"4\"], [\"2\"], [\"3\"], [\"1\"], [\"3\"], [\"1\"], [\"2\"], [\"1\"], [\"4\"], [\"2\"], [\"1\"], [\"4\"], [\"2\"], [\"3\"], [\"1\"], [\"2\"], [\"3\"], [\"1\"], [\"2\"], [\"4\"], [\"3\"], [\"2\"], [\"1\"], [\"3\"], [\"6\"], [\"5\"], [\"2\"], [\"4\"], [\"4\"], [\"3\"], [\"4\"], [\"3\"], [\"1\"], [\"2\"], [\"1\"], [\"3\"], [\"3\"], [\"2\"], [\"1\"], [\"1\"], [\"2\"], [\"2\"], [\"1\"], [\"2\"], [\"1\"], [\"3\"], [\"1\"], [\"3\"], [\"2\"], [\"1\"], [\"4\"], [\"3\"], [\"2\"], [\"3\"], [\"3\"], [\"1\"], [\"2\"], [\"1\"], [\"3\"], [\"2\"], [\"1\"], [\"2\"], [\"4\"], [\"1\"], [\"5\"], [\"1\"], [\"3\"], [\"2\"], [\"1\"], [\"4\"], [\"2\"], [\"3\"], [\"1\"], [\"3\"], [\"2\"], [\"1\"], [\"5\"], [\"4\"], [\"2\"], [\"4\"], [\"11\"], [\"10\"], [\"9\"], [\"8\"], [\"7\"], [\"6\"], [\"12\"], [\"5\"], [\"4\"], [\"3\"], [\"2\"], [\"1\"], [\"3\"], [\"14\"], [\"2\"], [\"4\"], [\"1\"], [\"13\"], [\"12\"], [\"3\"], [\"11\"], [\"2\"], [\"10\"], [\"9\"], [\"3\"], [\"2\"], [\"8\"], [\"7\"], [\"6\"], [\"5\"], [\"1\"], [\"4\"], [\"1\"], [\"1\"], [\"3\"], [\"2\"], [\"1\"], [\"4\"], [\"3\"], [\"2\"], [\"1\"], [\"3\"], [\"10\"], [\"9\"], [\"8\"], [\"7\"], [\"3\"], [\"6\"], [\"5\"], [\"4\"], [\"3\"], [\"2\"], [\"1\"], [\"8\"], [\"7\"], [\"6\"], [\"5\"], [\"4\"], [\"2\"], [\"1\"], [\"2\"], [\"1\"], [\"3\"], [\"2\"], [\"13\"], [\"1\"], [\"12\"], [\"11\"], [\"10\"], [\"9\"], [\"8\"], [\"7\"], [\"6\"], [\"5\"], [\"4\"], [\"3\"], [\"2\"], [\"6\"], [\"1\"], [\"5\"], [\"4\"], [\"3\"], [\"11\"], [\"10\"], [\"9\"], [\"8\"], [\"7\"], [\"6\"], [\"13\"], [\"12\"], [\"11\"], [\"10\"], [\"2\"], [\"1\"], [\"5\"], [\"4\"], [\"3\"], [\"2\"], [\"1\"], [\"9\"], [\"8\"], [\"7\"], [\"6\"], [\"5\"], [\"4\"], [\"8\"], [\"3\"], [\"2\"], [\"7\"], [\"6\"], [\"5\"], [\"1\"], [\"4\"], [\"3\"], [\"2\"], [\"1\"], [\"9\"], [\"8\"], [\"3\"], [\"7\"], [\"6\"], [\"5\"], [\"4\"], [\"3\"], [\"2\"], [\"1\"], [\"2\"], [\"1\"], [\"5\"], [\"4\"], [\"3\"], [\"2\"], [\"1\"]], \"hoverlabel\": {\"namelength\": 0}, \"hovertemplate\": \"<b>%{hovertext}</b><br><br>Season=%{x}<br>Time_mins=%{y}<br>Position=%{customdata[0]}<br>Laps=%{marker.color}\", \"hovertext\": [\"Juan Fangio\", \"Tony Brooks\", \"Juan Fangio\", \"Peter Collins\", \"Juan Fangio\", \"Stirling Moss\", \"Eugenio Castellotti\", \"Maurice Trintignant\", \"Tony Brooks\", \"Jack Brabham\", \"Phil Hill\", \"Bruce McLaren\", \"Stirling Moss\", \"Peter Collins\", \"Luigi Musso\", \"Maurice Trintignant\", \"Lorenzo Bandini\", \"Phil Hill\", \"Phil Hill\", \"Bruce McLaren\", \"Richie Ginther\", \"Stirling Moss\", \"John Surtees\", \"Bruce McLaren\", \"Richie Ginther\", \"Graham Hill\", \"Graham Hill\", \"Jackie Stewart\", \"Lorenzo Bandini\", \"Graham Hill\", \"Denny Hulme\", \"Lorenzo Bandini\", \"Jackie Stewart\", \"Jacky Ickx\", \"Jean-Pierre Beltoise\", \"Giedo van der Garde\", \"Max Chilton\", \"Esteban Guti\\u00e9rrez\", \"Valtteri Bottas\", \"Nico H\\u00fclkenberg\", \"Kimi R\\u00e4ikk\\u00f6nen\", \"Paul di Resta\", \"Jean-\\u00c9ric Vergne\", \"Fernando Alonso\", \"Jenson Button\", \"Adrian Sutil\", \"Lewis Hamilton\", \"Mark Webber\", \"Sebastian Vettel\", \"Nico Rosberg\", \"Lewis Hamilton\", \"Kamui Kobayashi\", \"Mark Webber\", \"Jenson Button\", \"Fernando Alonso\", \"Sebastian Vettel\", \"Jochen Mass\", \"Patrick Depailler\", \"Ronnie Peterson\", \"Olivier Panis\", \"Carlos Pace\", \"Eddie Irvine\", \"Emerson Fittipaldi\", \"Johnny Herbert\", \"Niki Lauda\", \"Kimi R\\u00e4ikk\\u00f6nen\", \"Heikki Kovalainen\", \"Kazuki Nakajima\", \"Rubens Barrichello\", \"Sebastian Vettel\", \"Nico Rosberg\", \"Nico H\\u00fclkenberg\", \"Mark Webber\", \"Rubens Barrichello\", \"Patrick Depailler\", \"Fernando Alonso\", \"David Coulthard\", \"Felipe Massa\", \"Robert Kubica\", \"Olivier Panis\", \"Lewis Hamilton\", \"Richard Attwood\", \"Graham Hill\", \"Michael Schumacher\", \"Jody Scheckter\", \"Niki Lauda\", \"Sebastian Vettel\", \"Sergio P\\u00e9rez\", \"Daniel Ricciardo\", \"Lewis Hamilton\", \"Michele Alboreto\", \"Clay Regazzoni\", \"Vittorio Brambilla\", \"Jacques Laffite\", \"Jean-Pierre Jarier\", \"Jody Scheckter\", \"Alan Jones\", \"Mario Andretti\", \"Jochen Mass\", \"Nelson Piquet\", \"Carlos Reutemann\", \"Ronnie Peterson\", \"Michele Alboreto\", \"Ayrton Senna\", \"Niki Lauda\", \"Jody Scheckter\", \"Richard Attwood\", \"Emerson Fittipaldi\", \"Jackie Stewart\", \"Patrick Tambay\", \"Gerhard Berger\", \"Jo Siffert\", \"Alain Prost\", \"Piers Courage\", \"Alain Prost\", \"Graham Hill\", \"Nelson Piquet\", \"Nigel Mansell\", \"Nelson Piquet\", \"Jacques Laffite\", \"Keke Rosberg\", \"Ayrton Senna\", \"Riccardo Patrese\", \"Didier Pironi\", \"Keke Rosberg\", \"Denny Hulme\", \"John Watson\", \"Jacques Laffite\", \"John Watson\", \"Jody Scheckter\", \"Alain Prost\", \"Niki Lauda\", \"Carlos Reutemann\", \"Carlos Reutemann\", \"Henri Pescarolo\", \"Clay Regazzoni\", \"Jody Scheckter\", \"Patrick Depailler\", \"Alan Jones\", \"Jack Brabham\", \"Jochen Rindt\", \"Alain Prost\", \"Gilles Villeneuve\", \"Gerhard Berger\", \"Riccardo Patrese\", \"Jean Alesi\", \"Damon Hill\", \"Ayrton Senna\", \"Denny Hulme\", \"Elio de Angelis\", \"Nigel Mansell\", \"Jacky Ickx\", \"Jean Alesi\", \"Michael Schumacher\", \"Damon Hill\", \"Ayrton Senna\", \"Gerhard Berger\", \"Jean Alesi\", \"Ayrton Senna\", \"Ronnie Peterson\", \"Mika Salo\", \"Jackie Stewart\", \"Martin Brundle\", \"Ayrton Senna\", \"Eddie Irvine\", \"Michele Alboreto\", \"Alain Prost\", \"Michael Schumacher\", \"Giancarlo Fisichella\", \"Riccardo Patrese\", \"Mika H\\u00e4kkinen\", \"Gerhard Berger\", \"Nigel Mansell\", \"Ayrton Senna\", \"Mika Salo\", \"Eddie Irvine\", \"Martin Brundle\", \"Heinz-Harald Frentzen\", \"Jaime Alguersuari\", \"S\\u00e9bastien Buemi\", \"Vitantonio Liuzzi\", \"Adrian Sutil\", \"Nico Rosberg\", \"Fernando Alonso\", \"Michael Schumacher\", \"Lewis Hamilton\", \"Felipe Massa\", \"Robert Kubica\", \"Sebastian Vettel\", \"Mark Webber\", \"Mika H\\u00e4kkinen\", \"Valtteri Bottas\", \"Eddie Irvine\", \"Fernando Alonso\", \"Michael Schumacher\", \"Marcus Ericsson\", \"Romain Grosjean\", \"Giancarlo Fisichella\", \"Nico H\\u00fclkenberg\", \"Rubens Barrichello\", \"Carlos Sainz\", \"Felipe Nasr\", \"Daniel Ricciardo\", \"Lewis Hamilton\", \"Jenson Button\", \"Sergio P\\u00e9rez\", \"Kimi R\\u00e4ikk\\u00f6nen\", \"Daniel Ricciardo\", \"Michael Schumacher\", \"Daniil Kvyat\", \"David Coulthard\", \"Nico Rosberg\", \"Lewis Hamilton\", \"Sebastian Vettel\", \"Nico Rosberg\", \"Jacques Villeneuve\", \"Eddie Irvine\", \"Rubens Barrichello\", \"Michael Schumacher\", \"Rubens Barrichello\", \"Bruno Senna\", \"Kimi R\\u00e4ikk\\u00f6nen\", \"Nico H\\u00fclkenberg\", \"Paul di Resta\", \"Ralf Schumacher\", \"Felipe Massa\", \"Lewis Hamilton\", \"Sebastian Vettel\", \"Fernando Alonso\", \"Nico Rosberg\", \"Mark Webber\", \"Rubens Barrichello\", \"Michael Schumacher\", \"Ralf Schumacher\", \"Juan Pablo Montoya\", \"Fernando Alonso\", \"Jenson Button\", \"Jarno Trulli\", \"Michael Schumacher\", \"David Coulthard\", \"Mark Webber\", \"Nick Heidfeld\", \"Sergio P\\u00e9rez\", \"Kimi R\\u00e4ikk\\u00f6nen\", \"Esteban Ocon\", \"Jolyon Palmer\", \"Kevin Magnussen\", \"Felipe Massa\", \"Romain Grosjean\", \"Lewis Hamilton\", \"Carlos Sainz\", \"Max Verstappen\", \"Valtteri Bottas\", \"Daniel Ricciardo\", \"Kimi R\\u00e4ikk\\u00f6nen\", \"Giancarlo Fisichella\", \"Sebastian Vettel\", \"Michael Schumacher\", \"Rubens Barrichello\", \"David Coulthard\", \"Lando Norris\", \"Romain Grosjean\", \"Daniel Ricciardo\", \"Alexander Albon\", \"Daniil Kvyat\", \"Carlos Sainz\", \"Kevin Magnussen\", \"Sergio P\\u00e9rez\", \"Marcus Ericsson\", \"Carlos Sainz\", \"Juan Pablo Montoya\", \"Fernando Alonso\", \"Pierre Gasly\", \"Max Verstappen\", \"Valtteri Bottas\", \"Sebastian Vettel\", \"Lewis Hamilton\", \"Max Verstappen\", \"Nico H\\u00fclkenberg\", \"Pierre Gasly\", \"Esteban Ocon\", \"Valtteri Bottas\", \"Kimi R\\u00e4ikk\\u00f6nen\", \"Rubens Barrichello\", \"Lewis Hamilton\", \"Sebastian Vettel\", \"David Coulthard\", \"Jarno Trulli\", \"Fernando Alonso\", \"Daniel Ricciardo\", \"Ralf Schumacher\", \"Michael Schumacher\", \"Kimi R\\u00e4ikk\\u00f6nen\", \"Juan Pablo Montoya\", \"Giancarlo Fisichella\", \"S\\u00e9bastien Bourdais\", \"Felipe Massa\", \"Fernando Alonso\", \"Nico Rosberg\", \"Mark Webber\", \"Felipe Massa\", \"Kimi R\\u00e4ikk\\u00f6nen\", \"Rubens Barrichello\", \"Jenson Button\", \"Lewis Hamilton\", \"Fernando Alonso\", \"Elio de Angelis\", \"Keke Rosberg\", \"Ren\\u00e9 Arnoux\", \"Ayrton Senna\", \"Alain Prost\"], \"legendgroup\": \"\", \"marker\": {\"color\": [100, 105, 105, 100, 100, 100, 100, 100, 100, 100, 100, 100, 100, 100, 100, 100, 100, 100, 100, 100, 100, 100, 100, 100, 100, 100, 100, 100, 100, 100, 100, 100, 100, 80, 80, 78, 78, 78, 78, 78, 78, 78, 78, 78, 78, 78, 78, 78, 78, 78, 78, 78, 78, 78, 78, 78, 75, 75, 75, 62, 75, 62, 75, 75, 75, 76, 76, 76, 76, 76, 78, 78, 76, 62, 78, 78, 75, 76, 76, 75, 76, 80, 80, 62, 78, 78, 78, 78, 78, 78, 78, 78, 76, 76, 78, 78, 76, 76, 76, 78, 76, 78, 78, 78, 76, 76, 80, 78, 78, 76, 78, 80, 78, 80, 76, 80, 76, 78, 76, 76, 76, 78, 75, 75, 78, 80, 76, 76, 75, 75, 78, 75, 76, 76, 80, 76, 76, 75, 76, 80, 80, 77, 76, 78, 76, 78, 78, 77, 80, 78, 78, 80, 78, 78, 78, 78, 78, 78, 78, 80, 78, 80, 78, 78, 78, 78, 78, 78, 78, 78, 78, 78, 78, 78, 78, 78, 78, 78, 78, 78, 78, 78, 78, 78, 78, 78, 78, 78, 78, 78, 78, 78, 78, 78, 78, 78, 78, 78, 78, 78, 78, 78, 78, 78, 78, 78, 78, 78, 78, 78, 78, 78, 78, 78, 78, 78, 78, 78, 78, 77, 78, 78, 78, 78, 78, 78, 78, 78, 78, 78, 78, 78, 78, 78, 78, 78, 77, 77, 78, 78, 78, 78, 78, 78, 78, 78, 78, 78, 78, 78, 78, 78, 78, 78, 78, 78, 78, 78, 78, 78, 78, 78, 78, 78, 78, 78, 78, 78, 78, 78, 78, 78, 78, 78, 78, 78, 78, 78, 78, 78, 78, 78, 78, 78, 78, 78, 78, 78, 78, 78, 78, 78, 78, 78, 78, 78, 78, 78, 78, 78, 78, 78, 78, 78, 78, 78, 31, 31, 31, 31, 31], \"coloraxis\": \"coloraxis\", \"symbol\": \"circle\"}, \"mode\": \"markers\", \"name\": \"\", \"showlegend\": false, \"type\": \"scatter\", \"x\": [1950, 1957, 1957, 1956, 1956, 1956, 1955, 1955, 1959, 1959, 1960, 1960, 1960, 1958, 1958, 1958, 1962, 1961, 1962, 1962, 1961, 1961, 1963, 1963, 1963, 1963, 1964, 1965, 1965, 1965, 1967, 1966, 1966, 1972, 1972, 2013, 2013, 2013, 2013, 2013, 2013, 2013, 2013, 2013, 2013, 2013, 2013, 2013, 2013, 2013, 2011, 2011, 2011, 2011, 2011, 2011, 1975, 1975, 1975, 1997, 1975, 1997, 1975, 1996, 1975, 2008, 2008, 2008, 2008, 2008, 2016, 2016, 2008, 1997, 1976, 2016, 1996, 2008, 2008, 1996, 2008, 1968, 1968, 1997, 1976, 1976, 2016, 2016, 2016, 2016, 1987, 1974, 1977, 1977, 1974, 1974, 1977, 1977, 1977, 1987, 1977, 1974, 1988, 1987, 1977, 1977, 1969, 1973, 1973, 1983, 1988, 1969, 1988, 1969, 1983, 1969, 1983, 1986, 1980, 1980, 1983, 1986, 1978, 1978, 1986, 1970, 1979, 1981, 1978, 1978, 1986, 1978, 1980, 1979, 1970, 1979, 1979, 1978, 1981, 1970, 1970, 1989, 1981, 1995, 1982, 1991, 1995, 1989, 1971, 1985, 1991, 1971, 1993, 1995, 1993, 1991, 1990, 1990, 1990, 1971, 1998, 1971, 1992, 1993, 1998, 1985, 1985, 1992, 1998, 1992, 1998, 1994, 1992, 1992, 2000, 2000, 1994, 1999, 2010, 2010, 2010, 2010, 2010, 2010, 2010, 2010, 2010, 2010, 2010, 2010, 1999, 2015, 1999, 2014, 1994, 2015, 2015, 2000, 2015, 2000, 2015, 2015, 2014, 2014, 2015, 2015, 2015, 2015, 1999, 2015, 2000, 2014, 2015, 2015, 2015, 2001, 2001, 2001, 2001, 2004, 2012, 2012, 2012, 2012, 2002, 2012, 2012, 2012, 2012, 2012, 2012, 2005, 2005, 2005, 2005, 2005, 2004, 2004, 2002, 2002, 2005, 2005, 2017, 2005, 2017, 2017, 2017, 2017, 2017, 2017, 2017, 2017, 2017, 2017, 2017, 2006, 2017, 2006, 2006, 2006, 2019, 2019, 2019, 2019, 2019, 2019, 2018, 2018, 2018, 2018, 2006, 2006, 2019, 2019, 2019, 2019, 2019, 2018, 2018, 2018, 2018, 2018, 2018, 2003, 2018, 2018, 2003, 2003, 2003, 2018, 2003, 2003, 2003, 2003, 2009, 2009, 2007, 2009, 2009, 2009, 2009, 2009, 2009, 2009, 2007, 2007, 1984, 1984, 1984, 1984, 1984], \"xaxis\": \"x\", \"y\": [193.31166666666667, 190.63333333333333, 190.21333333333334, 180.65, 180.65, 180.54833333333335, 178.5, 178.16333333333333, 176.195, 175.855, 174.79, 174.62666666666667, 173.75833333333333, 173.11166666666668, 172.80166666666668, 172.465, 167.89666666666668, 166.52333333333334, 166.51666666666668, 166.495, 165.895, 165.835, 162.06333333333333, 162.04166666666666, 161.905, 161.82833333333335, 161.325, 159.35833333333332, 158.72666666666666, 157.66, 154.57166666666666, 153.845, 153.175, 147.55833333333334, 146.92166666666665, 138.91076666666666, 138.69901666666667, 138.5878, 138.57911666666666, 138.57713333333334, 138.4773, 138.32773333333333, 138.32131666666666, 138.31316666666666, 138.25265, 138.22555, 138.09916666666666, 137.97283333333334, 137.9324, 137.8676, 130.09305, 130.08815, 130.02456666666666, 129.67918333333333, 129.65851666666666, 129.63955, 122.05633333333333, 122.03616666666667, 121.996, 121.83426666666666, 121.652, 121.4627, 121.4015, 121.38553333333333, 121.35516666666666, 121.27556666666666, 121.26555, 121.21536666666667, 121.18583333333333, 121.12331666666667, 121.04038333333334, 121.03553333333333, 121.03395, 120.98266666666666, 120.9385, 120.90348333333333, 120.84095, 120.79255, 120.76343333333334, 120.76048333333334, 120.71236666666667, 120.575, 120.53833333333333, 120.09423333333334, 120.04333333333334, 119.85783333333333, 119.74965, 119.71596666666667, 119.60641666666666, 119.48555, 119.1154, 119.11333333333333, 119.0235, 118.9535, 118.87666666666667, 118.54166666666667, 118.48966666666666, 118.472, 118.45616666666666, 118.45495, 118.42616666666666, 118.06166666666667, 117.97176666666667, 117.90141666666666, 117.89431666666667, 117.8795, 117.87166666666667, 117.76, 117.73833333333333, 117.70696666666667, 117.6255, 117.56666666666666, 117.28461666666666, 117.27833333333334, 117.15811666666667, 116.99, 116.94326666666667, 116.87436666666666, 116.86818333333333, 116.7999, 116.63535, 116.57843333333334, 116.3905, 116.37866666666666, 116.10136666666666, 116.095, 116.06316666666666, 115.877, 115.80316666666667, 115.7825, 115.68433333333333, 115.6185, 115.57275, 115.5175, 115.48, 115.382, 115.37466666666667, 115.24433333333333, 115.05483333333333, 115.00833333333334, 114.62333333333333, 114.42966666666666, 114.38966666666667, 114.37841666666667, 114.18765, 113.82981666666667, 113.76791666666666, 113.55418333333333, 113.46666666666667, 113.42008333333334, 113.3447, 113.24333333333334, 113.23848333333333, 113.18763333333334, 113.05108333333334, 113.0389, 112.81758333333333, 112.80115, 112.78303333333334, 112.78166666666667, 112.41271666666667, 112.355, 112.34531666666666, 112.18245, 112.0963, 112.09291666666667, 111.96723333333334, 111.64443333333334, 111.59791666666666, 111.52025, 111.40666666666667, 111.20206666666667, 110.99311666666667, 110.98953333333333, 110.81646666666667, 110.56895, 110.54296666666667, 110.43035, 110.37483333333333, 110.35923333333334, 110.34433333333334, 110.33875, 110.33343333333333, 110.32826666666666, 110.31778333333334, 110.2953, 110.26701666666666, 110.2505, 110.23005, 110.22258333333333, 110.15491666666667, 110.07015, 110.03813333333333, 110.00188333333334, 109.92166666666667, 109.82631666666667, 109.78058333333334, 109.77891666666666, 109.7442, 109.73503333333333, 109.7246, 109.70076666666667, 109.62125, 109.61451666666666, 109.57471666666666, 109.55721666666666, 109.54608333333333, 109.5338, 109.5302, 109.50641666666667, 109.47021666666667, 109.46101666666667, 109.40788333333333, 109.38176666666666, 109.307, 107.91691666666667, 107.88765, 107.3832, 107.37601666666667, 107.03945, 106.85121666666667, 106.84321666666666, 106.81865, 106.80156666666667, 106.77508333333333, 106.21253333333334, 106.17763333333333, 106.13166666666666, 106.12506666666667, 106.12, 106.10928333333334, 105.88543333333334, 105.87965, 105.87788333333333, 105.87005, 105.86738333333334, 105.78496666666666, 105.77668333333334, 105.66841666666667, 105.65091666666666, 105.56733333333334, 105.49055, 105.39048333333334, 105.25926666666666, 105.13441666666667, 105.11795, 105.09638333333334, 105.06308333333334, 105.0415, 105.00235, 104.93963333333333, 104.84231666666666, 104.83095, 104.80141666666667, 104.79141666666666, 104.75313333333334, 104.739, 104.61576666666667, 104.60755, 104.59023333333333, 104.5873, 104.49118333333334, 104.48885, 104.39395, 104.38351666666667, 104.36485, 104.1605, 104.0878, 104.07785, 104.06366666666666, 103.96138333333333, 103.7186, 103.63971666666667, 103.56623333333333, 103.52665, 103.51731666666667, 103.47395, 103.3354, 103.32743333333333, 103.31896666666667, 103.3079, 103.22715, 103.21556666666666, 103.2046, 103.197, 103.03571666666667, 103.00395, 102.9997, 102.92101666666667, 102.91345, 102.79213333333334, 102.3455, 102.32686666666666, 102.31683333333334, 101.82203333333334, 101.7904, 101.64071666666666, 101.36868333333334, 101.2978, 101.0002, 100.98986666666667, 100.96206666666667, 100.8658, 100.73803333333333, 100.55706666666667, 100.48881666666666, 61.86965, 61.716433333333335, 61.613616666666665, 61.2531, 61.129], \"yaxis\": \"y\"}, {\"hoverlabel\": {\"namelength\": 0}, \"hovertemplate\": \"<b>LOWESS trendline</b><br><br>Season=%{x}<br>Time_mins=%{y} <b>(trend)</b>\", \"legendgroup\": \"\", \"line\": {\"color\": \"turquoise\"}, \"marker\": {\"symbol\": \"circle\"}, \"mode\": \"lines\", \"name\": \"\", \"showlegend\": false, \"type\": \"scatter\", \"x\": [1950, 1955, 1955, 1956, 1956, 1956, 1957, 1957, 1958, 1958, 1958, 1959, 1959, 1960, 1960, 1960, 1961, 1961, 1961, 1962, 1962, 1962, 1963, 1963, 1963, 1963, 1964, 1965, 1965, 1965, 1966, 1966, 1967, 1968, 1968, 1969, 1969, 1969, 1969, 1970, 1970, 1970, 1970, 1971, 1971, 1971, 1971, 1972, 1972, 1973, 1973, 1974, 1974, 1974, 1974, 1975, 1975, 1975, 1975, 1975, 1975, 1976, 1976, 1976, 1977, 1977, 1977, 1977, 1977, 1977, 1977, 1977, 1978, 1978, 1978, 1978, 1978, 1978, 1979, 1979, 1979, 1979, 1980, 1980, 1980, 1981, 1981, 1981, 1982, 1983, 1983, 1983, 1983, 1984, 1984, 1984, 1984, 1984, 1985, 1985, 1985, 1986, 1986, 1986, 1986, 1987, 1987, 1987, 1988, 1988, 1988, 1989, 1989, 1990, 1990, 1990, 1991, 1991, 1991, 1992, 1992, 1992, 1992, 1992, 1993, 1993, 1993, 1994, 1994, 1994, 1995, 1995, 1995, 1996, 1996, 1996, 1997, 1997, 1997, 1997, 1998, 1998, 1998, 1998, 1999, 1999, 1999, 1999, 2000, 2000, 2000, 2000, 2000, 2001, 2001, 2001, 2001, 2002, 2002, 2002, 2003, 2003, 2003, 2003, 2003, 2003, 2003, 2003, 2004, 2004, 2004, 2005, 2005, 2005, 2005, 2005, 2005, 2005, 2005, 2006, 2006, 2006, 2006, 2006, 2006, 2007, 2007, 2007, 2008, 2008, 2008, 2008, 2008, 2008, 2008, 2008, 2008, 2009, 2009, 2009, 2009, 2009, 2009, 2009, 2009, 2009, 2010, 2010, 2010, 2010, 2010, 2010, 2010, 2010, 2010, 2010, 2010, 2010, 2011, 2011, 2011, 2011, 2011, 2011, 2012, 2012, 2012, 2012, 2012, 2012, 2012, 2012, 2012, 2012, 2013, 2013, 2013, 2013, 2013, 2013, 2013, 2013, 2013, 2013, 2013, 2013, 2013, 2013, 2013, 2014, 2014, 2014, 2014, 2015, 2015, 2015, 2015, 2015, 2015, 2015, 2015, 2015, 2015, 2015, 2015, 2015, 2015, 2016, 2016, 2016, 2016, 2016, 2016, 2016, 2017, 2017, 2017, 2017, 2017, 2017, 2017, 2017, 2017, 2017, 2017, 2017, 2017, 2018, 2018, 2018, 2018, 2018, 2018, 2018, 2018, 2018, 2018, 2018, 2018, 2018, 2019, 2019, 2019, 2019, 2019, 2019, 2019, 2019, 2019, 2019, 2019], \"xaxis\": \"x\", \"y\": [181.50142404420035, 171.01946879914806, 171.01946879914806, 168.97237738223083, 168.97237738223083, 168.97237738223083, 166.94399566135024, 166.94399566135024, 164.93512247077462, 164.93512247077462, 164.93512247077462, 162.9464190154057, 162.9464190154057, 160.97838289325688, 160.97838289325688, 160.97838289325688, 159.0313174591141, 159.0313174591141, 159.0313174591141, 157.10527140902065, 157.10527140902065, 157.10527140902065, 155.20004947946381, 155.20004947946381, 155.20004947946381, 155.20004947946381, 153.31516842112694, 151.44983885331746, 151.44983885331746, 151.44983885331746, 149.60301000067733, 149.60301000067733, 147.77330631274262, 145.95902375087064, 145.95902375087064, 144.15812190624968, 144.15812190624968, 144.15812190624968, 144.15812190624968, 142.36829426516206, 142.36829426516206, 142.36829426516206, 142.36829426516206, 140.58699999095356, 140.58699999095356, 140.58699999095356, 140.58699999095356, 138.8114096759722, 138.8114096759722, 137.03826672323106, 137.03826672323106, 135.26360416787085, 135.26360416787085, 135.26360416787085, 135.26360416787085, 133.48282854547284, 133.48282854547284, 133.48282854547284, 133.48282854547284, 133.48282854547284, 133.48282854547284, 131.69099943638804, 131.69099943638804, 131.69099943638804, 129.88331922993078, 129.88331922993078, 129.88331922993078, 129.88331922993078, 129.88331922993078, 129.88331922993078, 129.88331922993078, 129.88331922993078, 128.05609170927642, 128.05609170927642, 128.05609170927642, 128.05609170927642, 128.05609170927642, 128.05609170927642, 126.20919523823052, 126.20919523823052, 126.20919523823052, 126.20919523823052, 124.34944724002939, 124.34944724002939, 124.34944724002939, 122.49726097891191, 122.49726097891191, 122.49726097891191, 120.7125548043908, 119.08443392674816, 119.08443392674816, 119.08443392674816, 119.08443392674816, 117.68824977995502, 117.68824977995502, 117.68824977995502, 117.68824977995502, 117.68824977995502, 116.82981121365893, 116.82981121365893, 116.82981121365893, 115.91606633000296, 115.91606633000296, 115.91606633000296, 115.91606633000296, 115.33423476109347, 115.33423476109347, 115.33423476109347, 114.77780962340177, 114.77780962340177, 114.77780962340177, 114.33916677236506, 114.33916677236506, 113.91350024818829, 113.91350024818829, 113.91350024818829, 113.50688884143364, 113.50688884143364, 113.50688884143364, 113.13412864782906, 113.13412864782906, 113.13412864782906, 113.13412864782906, 113.13412864782906, 112.79327572323915, 112.79327572323915, 112.79327572323915, 112.46819665689051, 112.46819665689051, 112.46819665689051, 112.15795995961841, 112.15795995961841, 112.15795995961841, 111.85348106502505, 111.85348106502505, 111.85348106502505, 111.56500502282117, 111.56500502282117, 111.56500502282117, 111.56500502282117, 111.22471150557293, 111.22471150557293, 111.22471150557293, 111.22471150557293, 110.96605050179025, 110.96605050179025, 110.96605050179025, 110.96605050179025, 110.62739231295527, 110.62739231295527, 110.62739231295527, 110.62739231295527, 110.62739231295527, 110.29017733450385, 110.29017733450385, 110.29017733450385, 110.29017733450385, 110.10219580146294, 110.10219580146294, 110.10219580146294, 109.9371911270393, 109.9371911270393, 109.9371911270393, 109.9371911270393, 109.9371911270393, 109.9371911270393, 109.9371911270393, 109.9371911270393, 109.8622517296797, 109.8622517296797, 109.8622517296797, 109.73801449913307, 109.73801449913307, 109.73801449913307, 109.73801449913307, 109.73801449913307, 109.73801449913307, 109.73801449913307, 109.73801449913307, 109.58217551679277, 109.58217551679277, 109.58217551679277, 109.58217551679277, 109.58217551679277, 109.58217551679277, 109.40930896011014, 109.40930896011014, 109.40930896011014, 109.22987074894127, 109.22987074894127, 109.22987074894127, 109.22987074894127, 109.22987074894127, 109.22987074894127, 109.22987074894127, 109.22987074894127, 109.22987074894127, 109.05072486263586, 109.05072486263586, 109.05072486263586, 109.05072486263586, 109.05072486263586, 109.05072486263586, 109.05072486263586, 109.05072486263586, 109.05072486263586, 108.87530244911075, 108.87530244911075, 108.87530244911075, 108.87530244911075, 108.87530244911075, 108.87530244911075, 108.87530244911075, 108.87530244911075, 108.87530244911075, 108.87530244911075, 108.87530244911075, 108.87530244911075, 108.705979768724, 108.705979768724, 108.705979768724, 108.705979768724, 108.705979768724, 108.705979768724, 108.54371891512447, 108.54371891512447, 108.54371891512447, 108.54371891512447, 108.54371891512447, 108.54371891512447, 108.54371891512447, 108.54371891512447, 108.54371891512447, 108.54371891512447, 108.38814105392436, 108.38814105392436, 108.38814105392436, 108.38814105392436, 108.38814105392436, 108.38814105392436, 108.38814105392436, 108.38814105392436, 108.38814105392436, 108.38814105392436, 108.38814105392436, 108.38814105392436, 108.38814105392436, 108.38814105392436, 108.38814105392436, 108.23840516497766, 108.23840516497766, 108.23840516497766, 108.23840516497766, 108.09294095731448, 108.09294095731448, 108.09294095731448, 108.09294095731448, 108.09294095731448, 108.09294095731448, 108.09294095731448, 108.09294095731448, 108.09294095731448, 108.09294095731448, 108.09294095731448, 108.09294095731448, 108.09294095731448, 108.09294095731448, 107.94992515055146, 107.94992515055146, 107.94992515055146, 107.94992515055146, 107.94992515055146, 107.94992515055146, 107.94992515055146, 107.80721306180989, 107.80721306180989, 107.80721306180989, 107.80721306180989, 107.80721306180989, 107.80721306180989, 107.80721306180989, 107.80721306180989, 107.80721306180989, 107.80721306180989, 107.80721306180989, 107.80721306180989, 107.80721306180989, 107.66216338292851, 107.66216338292851, 107.66216338292851, 107.66216338292851, 107.66216338292851, 107.66216338292851, 107.66216338292851, 107.66216338292851, 107.66216338292851, 107.66216338292851, 107.66216338292851, 107.66216338292851, 107.66216338292851, 107.5127324984888, 107.5127324984888, 107.5127324984888, 107.5127324984888, 107.5127324984888, 107.5127324984888, 107.5127324984888, 107.5127324984888, 107.5127324984888, 107.5127324984888, 107.5127324984888], \"yaxis\": \"y\"}],\n",
       "                        {\"coloraxis\": {\"colorbar\": {\"title\": {\"text\": \"Laps\"}}, \"colorscale\": [[0.0, \"#0d0887\"], [0.1111111111111111, \"#46039f\"], [0.2222222222222222, \"#7201a8\"], [0.3333333333333333, \"#9c179e\"], [0.4444444444444444, \"#bd3786\"], [0.5555555555555556, \"#d8576b\"], [0.6666666666666666, \"#ed7953\"], [0.7777777777777778, \"#fb9f3a\"], [0.8888888888888888, \"#fdca26\"], [1.0, \"#f0f921\"]]}, \"legend\": {\"tracegroupgap\": 0}, \"template\": {\"data\": {\"bar\": [{\"error_x\": {\"color\": \"#2a3f5f\"}, \"error_y\": {\"color\": \"#2a3f5f\"}, \"marker\": {\"line\": {\"color\": \"#E5ECF6\", \"width\": 0.5}}, \"type\": \"bar\"}], \"barpolar\": [{\"marker\": {\"line\": {\"color\": \"#E5ECF6\", \"width\": 0.5}}, \"type\": \"barpolar\"}], \"carpet\": [{\"aaxis\": {\"endlinecolor\": \"#2a3f5f\", \"gridcolor\": \"white\", \"linecolor\": \"white\", \"minorgridcolor\": \"white\", \"startlinecolor\": \"#2a3f5f\"}, \"baxis\": {\"endlinecolor\": \"#2a3f5f\", \"gridcolor\": \"white\", \"linecolor\": \"white\", \"minorgridcolor\": \"white\", \"startlinecolor\": \"#2a3f5f\"}, \"type\": \"carpet\"}], \"choropleth\": [{\"colorbar\": {\"outlinewidth\": 0, \"ticks\": \"\"}, \"type\": \"choropleth\"}], \"contour\": [{\"colorbar\": {\"outlinewidth\": 0, \"ticks\": \"\"}, \"colorscale\": [[0.0, \"#0d0887\"], [0.1111111111111111, \"#46039f\"], [0.2222222222222222, \"#7201a8\"], [0.3333333333333333, \"#9c179e\"], [0.4444444444444444, \"#bd3786\"], [0.5555555555555556, \"#d8576b\"], [0.6666666666666666, \"#ed7953\"], [0.7777777777777778, \"#fb9f3a\"], [0.8888888888888888, \"#fdca26\"], [1.0, \"#f0f921\"]], \"type\": \"contour\"}], \"contourcarpet\": [{\"colorbar\": {\"outlinewidth\": 0, \"ticks\": \"\"}, \"type\": \"contourcarpet\"}], \"heatmap\": [{\"colorbar\": {\"outlinewidth\": 0, \"ticks\": \"\"}, \"colorscale\": [[0.0, \"#0d0887\"], [0.1111111111111111, \"#46039f\"], [0.2222222222222222, \"#7201a8\"], [0.3333333333333333, \"#9c179e\"], [0.4444444444444444, \"#bd3786\"], [0.5555555555555556, \"#d8576b\"], [0.6666666666666666, \"#ed7953\"], [0.7777777777777778, \"#fb9f3a\"], [0.8888888888888888, \"#fdca26\"], [1.0, \"#f0f921\"]], \"type\": \"heatmap\"}], \"heatmapgl\": [{\"colorbar\": {\"outlinewidth\": 0, \"ticks\": \"\"}, \"colorscale\": [[0.0, \"#0d0887\"], [0.1111111111111111, \"#46039f\"], [0.2222222222222222, \"#7201a8\"], [0.3333333333333333, \"#9c179e\"], [0.4444444444444444, \"#bd3786\"], [0.5555555555555556, \"#d8576b\"], [0.6666666666666666, \"#ed7953\"], [0.7777777777777778, \"#fb9f3a\"], [0.8888888888888888, \"#fdca26\"], [1.0, \"#f0f921\"]], \"type\": \"heatmapgl\"}], \"histogram\": [{\"marker\": {\"colorbar\": {\"outlinewidth\": 0, \"ticks\": \"\"}}, \"type\": \"histogram\"}], \"histogram2d\": [{\"colorbar\": {\"outlinewidth\": 0, \"ticks\": \"\"}, \"colorscale\": [[0.0, \"#0d0887\"], [0.1111111111111111, \"#46039f\"], [0.2222222222222222, \"#7201a8\"], [0.3333333333333333, \"#9c179e\"], [0.4444444444444444, \"#bd3786\"], [0.5555555555555556, \"#d8576b\"], [0.6666666666666666, \"#ed7953\"], [0.7777777777777778, \"#fb9f3a\"], [0.8888888888888888, \"#fdca26\"], [1.0, \"#f0f921\"]], \"type\": \"histogram2d\"}], \"histogram2dcontour\": [{\"colorbar\": {\"outlinewidth\": 0, \"ticks\": \"\"}, \"colorscale\": [[0.0, \"#0d0887\"], [0.1111111111111111, \"#46039f\"], [0.2222222222222222, \"#7201a8\"], [0.3333333333333333, \"#9c179e\"], [0.4444444444444444, \"#bd3786\"], [0.5555555555555556, \"#d8576b\"], [0.6666666666666666, \"#ed7953\"], [0.7777777777777778, \"#fb9f3a\"], [0.8888888888888888, \"#fdca26\"], [1.0, \"#f0f921\"]], \"type\": \"histogram2dcontour\"}], \"mesh3d\": [{\"colorbar\": {\"outlinewidth\": 0, \"ticks\": \"\"}, \"type\": \"mesh3d\"}], \"parcoords\": [{\"line\": {\"colorbar\": {\"outlinewidth\": 0, \"ticks\": \"\"}}, \"type\": \"parcoords\"}], \"pie\": [{\"automargin\": true, \"type\": \"pie\"}], \"scatter\": [{\"marker\": {\"colorbar\": {\"outlinewidth\": 0, \"ticks\": \"\"}}, \"type\": \"scatter\"}], \"scatter3d\": [{\"line\": {\"colorbar\": {\"outlinewidth\": 0, \"ticks\": \"\"}}, \"marker\": {\"colorbar\": {\"outlinewidth\": 0, \"ticks\": \"\"}}, \"type\": \"scatter3d\"}], \"scattercarpet\": [{\"marker\": {\"colorbar\": {\"outlinewidth\": 0, \"ticks\": \"\"}}, \"type\": \"scattercarpet\"}], \"scattergeo\": [{\"marker\": {\"colorbar\": {\"outlinewidth\": 0, \"ticks\": \"\"}}, \"type\": \"scattergeo\"}], \"scattergl\": [{\"marker\": {\"colorbar\": {\"outlinewidth\": 0, \"ticks\": \"\"}}, \"type\": \"scattergl\"}], \"scattermapbox\": [{\"marker\": {\"colorbar\": {\"outlinewidth\": 0, \"ticks\": \"\"}}, \"type\": \"scattermapbox\"}], \"scatterpolar\": [{\"marker\": {\"colorbar\": {\"outlinewidth\": 0, \"ticks\": \"\"}}, \"type\": \"scatterpolar\"}], \"scatterpolargl\": [{\"marker\": {\"colorbar\": {\"outlinewidth\": 0, \"ticks\": \"\"}}, \"type\": \"scatterpolargl\"}], \"scatterternary\": [{\"marker\": {\"colorbar\": {\"outlinewidth\": 0, \"ticks\": \"\"}}, \"type\": \"scatterternary\"}], \"surface\": [{\"colorbar\": {\"outlinewidth\": 0, \"ticks\": \"\"}, \"colorscale\": [[0.0, \"#0d0887\"], [0.1111111111111111, \"#46039f\"], [0.2222222222222222, \"#7201a8\"], [0.3333333333333333, \"#9c179e\"], [0.4444444444444444, \"#bd3786\"], [0.5555555555555556, \"#d8576b\"], [0.6666666666666666, \"#ed7953\"], [0.7777777777777778, \"#fb9f3a\"], [0.8888888888888888, \"#fdca26\"], [1.0, \"#f0f921\"]], \"type\": \"surface\"}], \"table\": [{\"cells\": {\"fill\": {\"color\": \"#EBF0F8\"}, \"line\": {\"color\": \"white\"}}, \"header\": {\"fill\": {\"color\": \"#C8D4E3\"}, \"line\": {\"color\": \"white\"}}, \"type\": \"table\"}]}, \"layout\": {\"annotationdefaults\": {\"arrowcolor\": \"#2a3f5f\", \"arrowhead\": 0, \"arrowwidth\": 1}, \"coloraxis\": {\"colorbar\": {\"outlinewidth\": 0, \"ticks\": \"\"}}, \"colorscale\": {\"diverging\": [[0, \"#8e0152\"], [0.1, \"#c51b7d\"], [0.2, \"#de77ae\"], [0.3, \"#f1b6da\"], [0.4, \"#fde0ef\"], [0.5, \"#f7f7f7\"], [0.6, \"#e6f5d0\"], [0.7, \"#b8e186\"], [0.8, \"#7fbc41\"], [0.9, \"#4d9221\"], [1, \"#276419\"]], \"sequential\": [[0.0, \"#0d0887\"], [0.1111111111111111, \"#46039f\"], [0.2222222222222222, \"#7201a8\"], [0.3333333333333333, \"#9c179e\"], [0.4444444444444444, \"#bd3786\"], [0.5555555555555556, \"#d8576b\"], [0.6666666666666666, \"#ed7953\"], [0.7777777777777778, \"#fb9f3a\"], [0.8888888888888888, \"#fdca26\"], [1.0, \"#f0f921\"]], \"sequentialminus\": [[0.0, \"#0d0887\"], [0.1111111111111111, \"#46039f\"], [0.2222222222222222, \"#7201a8\"], [0.3333333333333333, \"#9c179e\"], [0.4444444444444444, \"#bd3786\"], [0.5555555555555556, \"#d8576b\"], [0.6666666666666666, \"#ed7953\"], [0.7777777777777778, \"#fb9f3a\"], [0.8888888888888888, \"#fdca26\"], [1.0, \"#f0f921\"]]}, \"colorway\": [\"#636efa\", \"#EF553B\", \"#00cc96\", \"#ab63fa\", \"#FFA15A\", \"#19d3f3\", \"#FF6692\", \"#B6E880\", \"#FF97FF\", \"#FECB52\"], \"font\": {\"color\": \"#2a3f5f\"}, \"geo\": {\"bgcolor\": \"white\", \"lakecolor\": \"white\", \"landcolor\": \"#E5ECF6\", \"showlakes\": true, \"showland\": true, \"subunitcolor\": \"white\"}, \"hoverlabel\": {\"align\": \"left\"}, \"hovermode\": \"closest\", \"mapbox\": {\"style\": \"light\"}, \"paper_bgcolor\": \"white\", \"plot_bgcolor\": \"#E5ECF6\", \"polar\": {\"angularaxis\": {\"gridcolor\": \"white\", \"linecolor\": \"white\", \"ticks\": \"\"}, \"bgcolor\": \"#E5ECF6\", \"radialaxis\": {\"gridcolor\": \"white\", \"linecolor\": \"white\", \"ticks\": \"\"}}, \"scene\": {\"xaxis\": {\"backgroundcolor\": \"#E5ECF6\", \"gridcolor\": \"white\", \"gridwidth\": 2, \"linecolor\": \"white\", \"showbackground\": true, \"ticks\": \"\", \"zerolinecolor\": \"white\"}, \"yaxis\": {\"backgroundcolor\": \"#E5ECF6\", \"gridcolor\": \"white\", \"gridwidth\": 2, \"linecolor\": \"white\", \"showbackground\": true, \"ticks\": \"\", \"zerolinecolor\": \"white\"}, \"zaxis\": {\"backgroundcolor\": \"#E5ECF6\", \"gridcolor\": \"white\", \"gridwidth\": 2, \"linecolor\": \"white\", \"showbackground\": true, \"ticks\": \"\", \"zerolinecolor\": \"white\"}}, \"shapedefaults\": {\"line\": {\"color\": \"#2a3f5f\"}}, \"ternary\": {\"aaxis\": {\"gridcolor\": \"white\", \"linecolor\": \"white\", \"ticks\": \"\"}, \"baxis\": {\"gridcolor\": \"white\", \"linecolor\": \"white\", \"ticks\": \"\"}, \"bgcolor\": \"#E5ECF6\", \"caxis\": {\"gridcolor\": \"white\", \"linecolor\": \"white\", \"ticks\": \"\"}}, \"title\": {\"x\": 0.05}, \"xaxis\": {\"automargin\": true, \"gridcolor\": \"white\", \"linecolor\": \"white\", \"ticks\": \"\", \"title\": {\"standoff\": 15}, \"zerolinecolor\": \"white\", \"zerolinewidth\": 2}, \"yaxis\": {\"automargin\": true, \"gridcolor\": \"white\", \"linecolor\": \"white\", \"ticks\": \"\", \"title\": {\"standoff\": 15}, \"zerolinecolor\": \"white\", \"zerolinewidth\": 2}}}, \"title\": {\"text\": \"Formula1 finisher's times at the Monaco Grand Prix\"}, \"xaxis\": {\"anchor\": \"y\", \"domain\": [0.0, 1.0], \"title\": {\"text\": \"Season\"}}, \"yaxis\": {\"anchor\": \"x\", \"domain\": [0.0, 1.0], \"title\": {\"text\": \"Time_mins\"}}},\n",
       "                        {\"responsive\": true}\n",
       "                    ).then(function(){\n",
       "                            \n",
       "var gd = document.getElementById('48bb9240-bebc-4fd3-a59d-322c72e436d7');\n",
       "var x = new MutationObserver(function (mutations, observer) {{\n",
       "        var display = window.getComputedStyle(gd).display;\n",
       "        if (!display || display === 'none') {{\n",
       "            console.log([gd, 'removed!']);\n",
       "            Plotly.purge(gd);\n",
       "            observer.disconnect();\n",
       "        }}\n",
       "}});\n",
       "\n",
       "// Listen for the removal of the full notebook cells\n",
       "var notebookContainer = gd.closest('#notebook-container');\n",
       "if (notebookContainer) {{\n",
       "    x.observe(notebookContainer, {childList: true});\n",
       "}}\n",
       "\n",
       "// Listen for the clearing of the current output cell\n",
       "var outputEl = gd.closest('.output');\n",
       "if (outputEl) {{\n",
       "    x.observe(outputEl, {childList: true});\n",
       "}}\n",
       "\n",
       "                        })\n",
       "                };\n",
       "                });\n",
       "            </script>\n",
       "        </div>"
      ]
     },
     "metadata": {},
     "output_type": "display_data"
    }
   ],
   "source": [
    "fig1 = px.scatter(monaco_finishers, x = 'Season', y = 'Time_mins',\n",
    "                 title=\"Formula1 finisher's times at the Monaco Grand Prix\",\n",
    "                 hover_name='Driver', color=\"Laps\",hover_data=[\"Position\"],\n",
    "                 trendline=\"lowess\", trendline_color_override=\"turquoise\")\n",
    "fig1.show()"
   ]
  },
  {
   "cell_type": "code",
   "execution_count": 62,
   "metadata": {},
   "outputs": [
    {
     "data": {
      "application/vnd.plotly.v1+json": {
       "config": {
        "plotlyServerURL": "https://plot.ly"
       },
       "data": [
        {
         "customdata": [
          [
           "3"
          ],
          [
           "2"
          ],
          [
           "1"
          ],
          [
           "3"
          ],
          [
           "2"
          ],
          [
           "1"
          ],
          [
           "1"
          ],
          [
           "1"
          ],
          [
           "1"
          ],
          [
           "2"
          ],
          [
           "1"
          ],
          [
           "1"
          ],
          [
           "2"
          ],
          [
           "6"
          ],
          [
           "1"
          ],
          [
           "5"
          ],
          [
           "4"
          ],
          [
           "3"
          ],
          [
           "2"
          ],
          [
           "1"
          ],
          [
           "3"
          ],
          [
           "2"
          ],
          [
           "1"
          ],
          [
           "9"
          ],
          [
           "8"
          ],
          [
           "4"
          ],
          [
           "3"
          ],
          [
           "7"
          ],
          [
           "6"
          ],
          [
           "5"
          ],
          [
           "4"
          ],
          [
           "3"
          ],
          [
           "2"
          ],
          [
           "2"
          ],
          [
           "1"
          ],
          [
           "1"
          ],
          [
           "3"
          ],
          [
           "2"
          ],
          [
           "1"
          ],
          [
           "3"
          ],
          [
           "2"
          ],
          [
           "3"
          ],
          [
           "1"
          ],
          [
           "2"
          ],
          [
           "1"
          ],
          [
           "2"
          ],
          [
           "1"
          ],
          [
           "6"
          ],
          [
           "5"
          ],
          [
           "4"
          ],
          [
           "3"
          ],
          [
           "2"
          ],
          [
           "1"
          ],
          [
           "5"
          ],
          [
           "4"
          ],
          [
           "3"
          ],
          [
           "3"
          ],
          [
           "2"
          ],
          [
           "1"
          ],
          [
           "2"
          ],
          [
           "1"
          ],
          [
           "2"
          ],
          [
           "1"
          ],
          [
           "4"
          ],
          [
           "3"
          ],
          [
           "2"
          ],
          [
           "1"
          ],
          [
           "4"
          ],
          [
           "3"
          ],
          [
           "2"
          ],
          [
           "1"
          ],
          [
           "1"
          ],
          [
           "3"
          ],
          [
           "2"
          ],
          [
           "1"
          ],
          [
           "3"
          ],
          [
           "2"
          ],
          [
           "1"
          ],
          [
           "2"
          ],
          [
           "1"
          ],
          [
           "4"
          ],
          [
           "3"
          ],
          [
           "4"
          ],
          [
           "2"
          ],
          [
           "1"
          ],
          [
           "3"
          ],
          [
           "2"
          ],
          [
           "1"
          ],
          [
           "3"
          ],
          [
           "2"
          ],
          [
           "1"
          ],
          [
           "10"
          ],
          [
           "9"
          ],
          [
           "5"
          ],
          [
           "8"
          ],
          [
           "6"
          ],
          [
           "5"
          ],
          [
           "4"
          ],
          [
           "7"
          ],
          [
           "6"
          ],
          [
           "3"
          ],
          [
           "4"
          ],
          [
           "5"
          ],
          [
           "2"
          ],
          [
           "1"
          ],
          [
           "4"
          ],
          [
           "3"
          ],
          [
           "2"
          ],
          [
           "3"
          ],
          [
           "2"
          ],
          [
           "3"
          ],
          [
           "1"
          ],
          [
           "2"
          ],
          [
           "1"
          ],
          [
           "5"
          ],
          [
           "1"
          ],
          [
           "4"
          ],
          [
           "5"
          ],
          [
           "4"
          ],
          [
           "3"
          ],
          [
           "18"
          ],
          [
           "17"
          ],
          [
           "3"
          ],
          [
           "13"
          ],
          [
           "12"
          ],
          [
           "11"
          ],
          [
           "10"
          ],
          [
           "9"
          ],
          [
           "2"
          ],
          [
           "8"
          ],
          [
           "16"
          ],
          [
           "15"
          ],
          [
           "14"
          ],
          [
           "13"
          ],
          [
           "7"
          ],
          [
           "12"
          ],
          [
           "6"
          ],
          [
           "11"
          ],
          [
           "2"
          ],
          [
           "10"
          ],
          [
           "9"
          ],
          [
           "1"
          ],
          [
           "8"
          ],
          [
           "7"
          ],
          [
           "6"
          ],
          [
           "5"
          ],
          [
           "5"
          ],
          [
           "4"
          ],
          [
           "3"
          ],
          [
           "1"
          ],
          [
           "2"
          ],
          [
           "1"
          ],
          [
           "4"
          ],
          [
           "5"
          ],
          [
           "3"
          ],
          [
           "7"
          ],
          [
           "4"
          ],
          [
           "2"
          ],
          [
           "6"
          ],
          [
           "5"
          ],
          [
           "1"
          ],
          [
           "3"
          ],
          [
           "3"
          ],
          [
           "2"
          ],
          [
           "3"
          ],
          [
           "4"
          ],
          [
           "2"
          ],
          [
           "2"
          ],
          [
           "3"
          ],
          [
           "1"
          ],
          [
           "4"
          ],
          [
           "1"
          ],
          [
           "3"
          ],
          [
           "2"
          ],
          [
           "1"
          ],
          [
           "1"
          ],
          [
           "2"
          ],
          [
           "2"
          ],
          [
           "1"
          ],
          [
           "8"
          ],
          [
           "3"
          ],
          [
           "7"
          ],
          [
           "2"
          ],
          [
           "6"
          ],
          [
           "1"
          ],
          [
           "6"
          ],
          [
           "12"
          ],
          [
           "11"
          ],
          [
           "10"
          ],
          [
           "9"
          ],
          [
           "8"
          ],
          [
           "5"
          ],
          [
           "5"
          ],
          [
           "7"
          ],
          [
           "12"
          ],
          [
           "11"
          ],
          [
           "6"
          ],
          [
           "10"
          ],
          [
           "9"
          ],
          [
           "4"
          ],
          [
           "1"
          ],
          [
           "8"
          ],
          [
           "7"
          ],
          [
           "4"
          ],
          [
           "3"
          ],
          [
           "2"
          ],
          [
           "6"
          ],
          [
           "1"
          ],
          [
           "6"
          ],
          [
           "5"
          ],
          [
           "5"
          ],
          [
           "4"
          ],
          [
           "3"
          ],
          [
           "4"
          ],
          [
           "3"
          ],
          [
           "2"
          ],
          [
           "2"
          ],
          [
           "1"
          ],
          [
           "3"
          ],
          [
           "2"
          ],
          [
           "1"
          ],
          [
           "1"
          ],
          [
           "3"
          ],
          [
           "5"
          ],
          [
           "4"
          ],
          [
           "14"
          ],
          [
           "2"
          ],
          [
           "3"
          ],
          [
           "2"
          ],
          [
           "13"
          ],
          [
           "12"
          ],
          [
           "11"
          ],
          [
           "10"
          ],
          [
           "9"
          ],
          [
           "1"
          ],
          [
           "8"
          ],
          [
           "7"
          ],
          [
           "6"
          ],
          [
           "5"
          ],
          [
           "4"
          ],
          [
           "1"
          ],
          [
           "2"
          ],
          [
           "3"
          ],
          [
           "2"
          ],
          [
           "1"
          ],
          [
           "9"
          ],
          [
           "8"
          ],
          [
           "7"
          ],
          [
           "6"
          ],
          [
           "6"
          ],
          [
           "4"
          ],
          [
           "3"
          ],
          [
           "1"
          ],
          [
           "4"
          ],
          [
           "5"
          ],
          [
           "4"
          ],
          [
           "2"
          ],
          [
           "3"
          ],
          [
           "3"
          ],
          [
           "5"
          ],
          [
           "2"
          ],
          [
           "4"
          ],
          [
           "1"
          ],
          [
           "3"
          ],
          [
           "15"
          ],
          [
           "2"
          ],
          [
           "2"
          ],
          [
           "14"
          ],
          [
           "13"
          ],
          [
           "12"
          ],
          [
           "11"
          ],
          [
           "10"
          ],
          [
           "9"
          ],
          [
           "1"
          ],
          [
           "9"
          ],
          [
           "8"
          ],
          [
           "8"
          ],
          [
           "7"
          ],
          [
           "2"
          ],
          [
           "15"
          ],
          [
           "6"
          ],
          [
           "1"
          ],
          [
           "14"
          ],
          [
           "7"
          ],
          [
           "5"
          ],
          [
           "1"
          ],
          [
           "13"
          ],
          [
           "1"
          ],
          [
           "6"
          ],
          [
           "12"
          ],
          [
           "5"
          ],
          [
           "4"
          ],
          [
           "11"
          ],
          [
           "10"
          ],
          [
           "9"
          ],
          [
           "8"
          ],
          [
           "4"
          ],
          [
           "12"
          ],
          [
           "11"
          ],
          [
           "3"
          ],
          [
           "7"
          ],
          [
           "2"
          ],
          [
           "1"
          ],
          [
           "6"
          ],
          [
           "5"
          ],
          [
           "5"
          ],
          [
           "10"
          ],
          [
           "9"
          ],
          [
           "8"
          ],
          [
           "3"
          ],
          [
           "7"
          ],
          [
           "4"
          ],
          [
           "3"
          ],
          [
           "2"
          ],
          [
           "6"
          ],
          [
           "5"
          ],
          [
           "4"
          ],
          [
           "4"
          ],
          [
           "3"
          ],
          [
           "2"
          ],
          [
           "3"
          ],
          [
           "1"
          ],
          [
           "1"
          ],
          [
           "2"
          ],
          [
           "1"
          ],
          [
           "2"
          ],
          [
           "1"
          ],
          [
           "11"
          ],
          [
           "10"
          ],
          [
           "9"
          ],
          [
           "8"
          ],
          [
           "7"
          ],
          [
           "6"
          ],
          [
           "5"
          ],
          [
           "4"
          ],
          [
           "3"
          ],
          [
           "2"
          ],
          [
           "7"
          ],
          [
           "1"
          ],
          [
           "6"
          ],
          [
           "5"
          ],
          [
           "4"
          ],
          [
           "6"
          ],
          [
           "5"
          ],
          [
           "13"
          ],
          [
           "12"
          ],
          [
           "11"
          ],
          [
           "3"
          ],
          [
           "10"
          ],
          [
           "4"
          ],
          [
           "9"
          ],
          [
           "8"
          ],
          [
           "1"
          ],
          [
           "3"
          ],
          [
           "7"
          ],
          [
           "6"
          ],
          [
           "5"
          ],
          [
           "2"
          ],
          [
           "4"
          ],
          [
           "1"
          ],
          [
           "2"
          ],
          [
           "3"
          ],
          [
           "2"
          ],
          [
           "1"
          ],
          [
           "1"
          ],
          [
           "4"
          ],
          [
           "3"
          ],
          [
           "5"
          ],
          [
           "4"
          ],
          [
           "2"
          ],
          [
           "1"
          ],
          [
           "3"
          ],
          [
           "2"
          ],
          [
           "1"
          ],
          [
           "2"
          ],
          [
           "1"
          ],
          [
           "1"
          ],
          [
           "2"
          ]
         ],
         "hoverlabel": {
          "namelength": 0
         },
         "hovertemplate": "<b>%{hovertext}</b><br><br>Season=%{x}<br>Time_mins=%{y}<br>Position=%{customdata[0]}<br>Laps=%{marker.color}",
         "hovertext": [
          "Karl Kling",
          "Juan Fangio",
          "Stirling Moss",
          "Mike Hawthorn",
          "Luigi Musso",
          "Tony Brooks",
          "Stirling Moss",
          "Juan Fangio",
          "José Froilán González",
          "Juan Fangio",
          "Alberto Ascari",
          "Alberto Ascari",
          "Juan Fangio",
          "Roy Salvadori",
          "José Froilán González",
          "Jo Bonnier",
          "Jack Brabham",
          "Richie Ginther",
          "Phil Hill",
          "Wolfgang von Trips",
          "Bruce McLaren",
          "Stirling Moss",
          "Jack Brabham",
          "Daniil Kvyat",
          "Nico Hülkenberg",
          "Graham Hill",
          "Bruce McLaren",
          "Kevin Magnussen",
          "Fernando Alonso",
          "Sebastian Vettel",
          "Jenson Button",
          "Daniel Ricciardo",
          "Valtteri Bottas",
          "John Surtees",
          "Lewis Hamilton",
          "Jim Clark",
          "John Surtees",
          "Graham Hill",
          "Jim Clark",
          "Graham Hill",
          "John Surtees",
          "Reg Parnell",
          "Jim Clark",
          "Luigi Fagioli",
          "Nino Farina",
          "Denny Hulme",
          "Jack Brabham",
          "Jack Brabham",
          "Harry Schell",
          "Stuart Lewis-Evans",
          "Roy Salvadori",
          "Mike Hawthorn",
          "Peter Collins",
          "Jackie Stewart",
          "Mike Spence",
          "Innes Ireland",
          "John Surtees",
          "Graham Hill",
          "Jim Clark",
          "John Surtees",
          "Jack Brabham",
          "Chris Amon",
          "Jo Siffert",
          "Jack Brabham",
          "Chris Amon",
          "Denny Hulme",
          "Jim Clark",
          "Clay Regazzoni",
          "Denny Hulme",
          "Jack Brabham",
          "Jochen Rindt",
          "Jackie Stewart",
          "Peter Revson",
          "Jackie Stewart",
          "Emerson Fittipaldi",
          "Eddie Irvine",
          "Mika Häkkinen",
          "Michael Schumacher",
          "Jody Scheckter",
          "Niki Lauda",
          "Clay Regazzoni",
          "Jacky Ickx",
          "Patrick Depailler",
          "Emerson Fittipaldi",
          "Jody Scheckter",
          "John Watson",
          "Niki Lauda",
          "Carlos Reutemann",
          "Rubens Barrichello",
          "Nick Heidfeld",
          "Lewis Hamilton",
          "Daniil Kvyat",
          "Sebastian Vettel",
          "Mark Blundell",
          "Carlos Sainz",
          "Alain Prost",
          "Derek Daly",
          "Elio de Angelis",
          "Nico Hülkenberg",
          "Sergio Pérez",
          "Patrick Tambay",
          "Olivier Panis",
          "Kimi Räikkönen",
          "Didier Pironi",
          "Niki Lauda",
          "Daniel Ricciardo",
          "Nico Rosberg",
          "Max Verstappen",
          "Carlos Reutemann",
          "Nelson Piquet",
          "David Coulthard",
          "Lewis Hamilton",
          "Jean Alesi",
          "Alan Jones",
          "Nelson Piquet",
          "Johnny Herbert",
          "Maurício Gugelmin",
          "David Coulthard",
          "Rubens Barrichello",
          "Alessandro Nannini",
          "Giedo van der Garde",
          "Max Chilton",
          "Mika Häkkinen",
          "Olivier Panis",
          "Johnny Herbert",
          "Alessandro Zanardi",
          "Alexander Wurz",
          "Jarno Trulli",
          "Nigel Mansell",
          "Rubens Barrichello",
          "Jules Bianchi",
          "Charles Pic",
          "Esteban Gutiérrez",
          "Jenson Button",
          "Giancarlo Fisichella",
          "Valtteri Bottas",
          "Pedro Diniz",
          "Pastor Maldonado",
          "Gerhard Berger",
          "Nico Hülkenberg",
          "Paul di Resta",
          "Ayrton Senna",
          "Daniel Ricciardo",
          "Adrian Sutil",
          "Felipe Massa",
          "Kimi Räikkönen",
          "Damon Hill",
          "Lewis Hamilton",
          "Fernando Alonso",
          "Jacques Villeneuve",
          "Mark Webber",
          "Nico Rosberg",
          "Heinz-Harald Frentzen",
          "Hans-Joachim Stuck",
          "Ralf Schumacher",
          "Nico Hülkenberg",
          "Jochen Mass",
          "Eddie Irvine",
          "Daniil Kvyat",
          "Valtteri Bottas",
          "David Coulthard",
          "Emerson Fittipaldi",
          "Juan Pablo Montoya",
          "Ronnie Peterson",
          "Gunnar Nilsson",
          "Felipe Massa",
          "Niki Lauda",
          "Rubens Barrichello",
          "Sebastian Vettel",
          "James Hunt",
          "Rubens Barrichello",
          "Michael Schumacher",
          "Mika Häkkinen",
          "Nico Rosberg",
          "Jackie Stewart",
          "Lewis Hamilton",
          "Jean Alesi",
          "Nelson Piquet",
          "Nigel Mansell",
          "Jacky Ickx",
          "Ayrton Senna",
          "Clay Regazzoni",
          "Derek Warwick",
          "Jarno Trulli",
          "Damon Hill",
          "Carlos Reutemann",
          "Vitaly Petrov",
          "Adrian Sutil",
          "Jaime Alguersuari",
          "Michael Schumacher",
          "Nick Heidfeld",
          "François Cevert",
          "Jenson Button",
          "Sergio Pérez",
          "Heinz-Harald Frentzen",
          "Olivier Panis",
          "Nico Rosberg",
          "Jacques Villeneuve",
          "Ralf Schumacher",
          "Ralf Schumacher",
          "Niki Lauda",
          "Jenson Button",
          "Cristiano da Matta",
          "James Hunt",
          "Denny Hulme",
          "Ronnie Peterson",
          "Jarno Trulli",
          "Peter Revson",
          "Damon Hill",
          "David Coulthard",
          "Felipe Massa",
          "Lewis Hamilton",
          "Michael Schumacher",
          "Michael Schumacher",
          "Mark Webber",
          "Sebastian Vettel",
          "Mika Häkkinen",
          "David Coulthard",
          "Kimi Räikkönen",
          "Juan Pablo Montoya",
          "Fernando Alonso",
          "Rubens Barrichello",
          "Alain Prost",
          "Ralf Schumacher",
          "David Coulthard",
          "Sergey Sirotkin",
          "Gerhard Berger",
          "Alexander Wurz",
          "Jean Alesi",
          "Pierre Gasly",
          "Lance Stroll",
          "Stoffel Vandoorne",
          "Sergio Pérez",
          "Kevin Magnussen",
          "Jacques Villeneuve",
          "Fernando Alonso",
          "Esteban Ocon",
          "Nico Hülkenberg",
          "Daniel Ricciardo",
          "Valtteri Bottas",
          "Nigel Mansell",
          "Carlos Reutemann",
          "Kimi Räikkönen",
          "Lewis Hamilton",
          "Sebastian Vettel",
          "Nico Rosberg",
          "Jacques Villeneuve",
          "Nick Heidfeld",
          "Mika Häkkinen",
          "Juan Pablo Montoya",
          "Johnny Herbert",
          "Riccardo Patrese",
          "John Watson",
          "Juan Pablo Montoya",
          "Gerhard Berger",
          "Michael Schumacher",
          "René Arnoux",
          "Rubens Barrichello",
          "Martin Brundle",
          "Felipe Massa",
          "Riccardo Patrese",
          "Giancarlo Fisichella",
          "Clay Regazzoni",
          "Kimi Räikkönen",
          "Nico Rosberg",
          "Michael Schumacher",
          "Michael Schumacher",
          "Jean-Éric Vergne",
          "Daniel Ricciardo",
          "Nico Hülkenberg",
          "Kamui Kobayashi",
          "Jenson Button",
          "Bruno Senna",
          "Fernando Alonso",
          "Jarno Trulli",
          "Ralf Schumacher",
          "Lewis Hamilton",
          "Rubens Barrichello",
          "Michael Schumacher",
          "Felipe Massa",
          "Michael Schumacher",
          "Nigel Mansell",
          "Fernando Alonso",
          "Michael Schumacher",
          "René Arnoux",
          "Alain Prost",
          "Vitaly Petrov",
          "Mika Häkkinen",
          "Romain Grosjean",
          "Sébastien Buemi",
          "Kimi Räikkönen",
          "Felipe Massa",
          "Vitantonio Liuzzi",
          "Nico Hülkenberg",
          "Michael Schumacher",
          "Adrian Sutil",
          "Nigel Mansell",
          "Marc Gené",
          "Takuma Sato",
          "Sebastian Vettel",
          "Sebastian Vettel",
          "Fernando Alonso",
          "Mark Webber",
          "Kamui Kobayashi",
          "Jenson Button",
          "Rubens Barrichello",
          "Fernando Alonso",
          "Felipe Massa",
          "Mark Webber",
          "Patrick Tambay",
          "David Coulthard",
          "Jenson Button",
          "Nico Rosberg",
          "Nelson Piquet",
          "Giancarlo Fisichella",
          "Juan Pablo Montoya",
          "Jenson Button",
          "Giancarlo Fisichella",
          "Rubens Barrichello",
          "Kimi Räikkönen",
          "Kimi Räikkönen",
          "Michael Schumacher",
          "Alain Prost",
          "Lewis Hamilton",
          "Mark Webber",
          "Fernando Alonso",
          "Juan Pablo Montoya",
          "Kazuki Nakajima",
          "Giancarlo Fisichella",
          "Timo Glock",
          "Kimi Räikkönen",
          "Jarno Trulli",
          "Jenson Button",
          "Nico Rosberg",
          "Felipe Massa",
          "Rubens Barrichello",
          "Mark Webber",
          "Sebastian Vettel",
          "Sebastian Vettel",
          "Nick Heidfeld",
          "Felipe Massa",
          "Robert Kubica",
          "Nico Hülkenberg",
          "Daniel Ricciardo",
          "Lance Stroll",
          "Alexander Albon",
          "Lando Norris",
          "Lewis Hamilton",
          "Nico Hülkenberg",
          "Max Verstappen",
          "Daniil Kvyat",
          "Kimi Räikkönen",
          "Emerson Fittipaldi",
          "Kimi Räikkönen",
          "Daniel Ricciardo",
          "Carlos Sainz",
          "Max Verstappen",
          "Fernando Alonso",
          "Pierre Gasly",
          "Kimi Räikkönen",
          "Valtteri Bottas",
          "Charles Leclerc",
          "Valtteri Bottas",
          "Lewis Hamilton",
          "Lewis Hamilton",
          "Nelson Piquet",
          "Alessandro Nannini",
          "Nelson Piquet",
          "Éric Bernard",
          "Nigel Mansell",
          "Alain Prost",
          "Ayrton Senna",
          "Nelson Piquet",
          "Nigel Mansell",
          "Thierry Boutsen",
          "Alain Prost",
          "Alain Prost",
          "Mike Hawthorn"
         ],
         "legendgroup": "",
         "marker": {
          "color": [
           90,
           90,
           90,
           90,
           90,
           90,
           90,
           101,
           90,
           90,
           90,
           85,
           90,
           75,
           90,
           75,
           75,
           75,
           75,
           75,
           75,
           75,
           75,
           52,
           52,
           75,
           75,
           52,
           52,
           52,
           52,
           52,
           52,
           75,
           52,
           75,
           80,
           80,
           80,
           82,
           82,
           70,
           82,
           70,
           70,
           80,
           80,
           75,
           75,
           75,
           75,
           75,
           75,
           80,
           80,
           77,
           80,
           80,
           80,
           77,
           77,
           80,
           80,
           80,
           80,
           80,
           80,
           80,
           80,
           80,
           80,
           84,
           76,
           76,
           76,
           60,
           60,
           60,
           76,
           76,
           75,
           75,
           76,
           75,
           75,
           76,
           76,
           76,
           60,
           60,
           60,
           52,
           52,
           61,
           52,
           76,
           76,
           76,
           52,
           52,
           76,
           61,
           52,
           76,
           76,
           52,
           52,
           52,
           76,
           76,
           61,
           52,
           61,
           76,
           65,
           61,
           65,
           61,
           61,
           65,
           52,
           52,
           61,
           60,
           60,
           60,
           60,
           60,
           65,
           60,
           52,
           52,
           52,
           52,
           60,
           52,
           60,
           52,
           61,
           52,
           52,
           65,
           52,
           52,
           52,
           52,
           60,
           52,
           52,
           61,
           52,
           52,
           60,
           68,
           60,
           52,
           68,
           60,
           52,
           52,
           60,
           68,
           60,
           68,
           68,
           52,
           68,
           60,
           52,
           68,
           60,
           60,
           60,
           52,
           68,
           52,
           60,
           75,
           75,
           67,
           71,
           67,
           71,
           60,
           60,
           67,
           52,
           52,
           52,
           52,
           52,
           67,
           60,
           52,
           60,
           60,
           52,
           60,
           60,
           60,
           71,
           60,
           60,
           67,
           67,
           67,
           60,
           67,
           59,
           60,
           52,
           52,
           60,
           60,
           52,
           52,
           60,
           60,
           60,
           60,
           52,
           60,
           59,
           59,
           59,
           52,
           59,
           59,
           59,
           52,
           52,
           52,
           52,
           52,
           59,
           52,
           52,
           52,
           52,
           52,
           59,
           68,
           52,
           52,
           52,
           60,
           60,
           60,
           59,
           60,
           59,
           59,
           68,
           60,
           59,
           59,
           68,
           60,
           59,
           60,
           59,
           60,
           68,
           60,
           52,
           60,
           60,
           52,
           52,
           52,
           52,
           52,
           52,
           60,
           60,
           60,
           52,
           60,
           59,
           52,
           60,
           59,
           52,
           52,
           67,
           59,
           52,
           60,
           52,
           52,
           52,
           52,
           52,
           52,
           52,
           52,
           67,
           60,
           60,
           52,
           52,
           52,
           52,
           52,
           60,
           52,
           60,
           60,
           60,
           67,
           60,
           52,
           52,
           67,
           60,
           60,
           60,
           60,
           60,
           60,
           60,
           60,
           67,
           52,
           52,
           60,
           60,
           60,
           60,
           60,
           60,
           60,
           60,
           60,
           60,
           60,
           60,
           51,
           60,
           59,
           59,
           59,
           51,
           51,
           52,
           52,
           52,
           59,
           52,
           51,
           52,
           52,
           56,
           51,
           52,
           52,
           52,
           59,
           52,
           59,
           51,
           52,
           52,
           51,
           52,
           64,
           64,
           64,
           64,
           64,
           64,
           64,
           65,
           65,
           64,
           64,
           65,
           90
          ],
          "coloraxis": "coloraxis",
          "symbol": "circle"
         },
         "mode": "markers",
         "name": "",
         "showlegend": false,
         "type": "scatter",
         "x": [
          1955,
          1955,
          1955,
          1957,
          1957,
          1957,
          1957,
          1956,
          1954,
          1953,
          1953,
          1952,
          1951,
          1961,
          1951,
          1961,
          1961,
          1961,
          1961,
          1961,
          1959,
          1959,
          1959,
          2014,
          2014,
          1962,
          1962,
          2014,
          2014,
          2014,
          2014,
          2014,
          2014,
          1962,
          2014,
          1962,
          1964,
          1964,
          1964,
          1963,
          1963,
          1950,
          1963,
          1950,
          1950,
          1966,
          1966,
          1958,
          1958,
          1958,
          1958,
          1958,
          1958,
          1965,
          1965,
          1960,
          1965,
          1965,
          1965,
          1960,
          1960,
          1968,
          1968,
          1967,
          1967,
          1967,
          1967,
          1970,
          1970,
          1970,
          1970,
          1969,
          1972,
          1972,
          1972,
          1998,
          1998,
          1998,
          1976,
          1976,
          1974,
          1974,
          1978,
          1974,
          1974,
          1978,
          1978,
          1978,
          2008,
          2008,
          2008,
          2016,
          2016,
          1995,
          2016,
          1982,
          1982,
          1982,
          2016,
          2016,
          1982,
          1995,
          2016,
          1982,
          1982,
          2016,
          2016,
          2016,
          1980,
          1980,
          1995,
          2016,
          1995,
          1980,
          1988,
          1995,
          1988,
          1996,
          1996,
          1988,
          2013,
          2013,
          1996,
          1999,
          1999,
          1999,
          1999,
          1999,
          1988,
          1999,
          2013,
          2013,
          2013,
          2013,
          1999,
          2013,
          1999,
          2013,
          1996,
          2013,
          2013,
          1988,
          2013,
          2013,
          2013,
          2013,
          1999,
          2013,
          2013,
          1996,
          2013,
          2013,
          1999,
          1977,
          1999,
          2015,
          1977,
          1999,
          2015,
          2015,
          1999,
          1971,
          2002,
          1971,
          1977,
          2015,
          1977,
          2002,
          2015,
          1977,
          1994,
          2002,
          1994,
          2015,
          1971,
          2015,
          1994,
          1986,
          1986,
          1973,
          1984,
          1973,
          1984,
          2000,
          1994,
          1973,
          2011,
          2011,
          2011,
          2011,
          2011,
          1973,
          2000,
          2011,
          2003,
          2003,
          2011,
          2003,
          2003,
          2000,
          1984,
          2003,
          2003,
          1973,
          1973,
          1973,
          2003,
          1973,
          1997,
          2003,
          2011,
          2011,
          2000,
          2003,
          2011,
          2011,
          2000,
          2000,
          2003,
          2003,
          2011,
          2003,
          1991,
          1997,
          1997,
          2018,
          1991,
          1997,
          1997,
          2018,
          2018,
          2018,
          2018,
          2018,
          1997,
          2018,
          2018,
          2018,
          2018,
          2018,
          1991,
          1981,
          2018,
          2018,
          2018,
          2006,
          2006,
          2006,
          1992,
          2006,
          1993,
          1993,
          1981,
          2001,
          1992,
          1992,
          1979,
          2001,
          1992,
          2006,
          1992,
          2006,
          1979,
          2006,
          2012,
          2001,
          2006,
          2012,
          2012,
          2012,
          2012,
          2012,
          2012,
          2006,
          2005,
          2005,
          2012,
          2005,
          1993,
          2010,
          2005,
          1992,
          2010,
          2012,
          1983,
          1993,
          2010,
          2001,
          2012,
          2010,
          2012,
          2012,
          2010,
          2010,
          2010,
          2010,
          1983,
          2004,
          2004,
          2012,
          2010,
          2012,
          2012,
          2010,
          2005,
          2010,
          2004,
          2004,
          2004,
          1983,
          2004,
          2010,
          2010,
          1983,
          2004,
          2004,
          2004,
          2005,
          2004,
          2004,
          2005,
          2004,
          1983,
          2010,
          2010,
          2005,
          2005,
          2009,
          2009,
          2009,
          2009,
          2009,
          2009,
          2009,
          2009,
          2009,
          2009,
          2017,
          2009,
          2007,
          2007,
          2007,
          2017,
          2017,
          2019,
          2019,
          2019,
          2007,
          2019,
          2017,
          2019,
          2019,
          1975,
          2017,
          2019,
          2019,
          2019,
          2007,
          2019,
          2007,
          2017,
          2019,
          2019,
          2017,
          2019,
          1989,
          1989,
          1990,
          1990,
          1989,
          1989,
          1990,
          1987,
          1987,
          1990,
          1990,
          1985,
          1954
         ],
         "xaxis": "x",
         "y": [
          188.55,
          187.35666666666665,
          187.35333333333332,
          187.34333333333333,
          187.05666666666667,
          186.63,
          186.63,
          179.78333333333333,
          176.23333333333332,
          171,
          170,
          166.18333333333334,
          163.15333333333334,
          162.33,
          162.30333333333334,
          162.16333333333333,
          162.03666666666666,
          161.67333333333335,
          161.66,
          160.89333333333335,
          150.56666666666666,
          150.56333333333333,
          150.19333333333333,
          148.35723333333334,
          148.34643333333332,
          148.29333333333332,
          148.09333333333333,
          147.91095,
          147.86733333333333,
          147.76596666666666,
          147.65806666666666,
          147.64315,
          147.37048333333334,
          147.16666666666666,
          146.86823333333334,
          146.34666666666666,
          136.46,
          135.16333333333333,
          135.11666666666667,
          134.78666666666666,
          134.59,
          134.26,
          134.16,
          133.43666666666667,
          133.39333333333335,
          133.38333333333333,
          133.22333333333333,
          130.45666666666668,
          130.31666666666666,
          129.91666666666666,
          129.91333333333333,
          129.47333333333333,
          129.07,
          126.66666666666667,
          126.08333333333333,
          125.89833333333333,
          125.88333333333334,
          125.47666666666667,
          125.42333333333333,
          125.23166666666667,
          124.405,
          121.41166666666666,
          121.33833333333334,
          119.79,
          119.70333333333333,
          119.64,
          119.42666666666666,
          117.94666666666667,
          117.94,
          117.58166666666666,
          117.03333333333333,
          115.92666666666666,
          109.045,
          107.905,
          107.83666666666667,
          107.52665,
          107.41441666666667,
          107.04,
          104.59733333333334,
          104.32766666666667,
          104.15666666666667,
          104.06166666666667,
          103.42766666666667,
          103.29166666666667,
          103.03666666666666,
          102.82733333333333,
          102.227,
          102.2065,
          100.52855,
          100.30028333333334,
          99.15733333333333,
          96.47385,
          96.45808333333333,
          96.38775,
          96.36148333333334,
          96.25746666666667,
          96.25403333333334,
          96.2509,
          96.22571666666667,
          96.21286666666667,
          96.20413333333333,
          96.13768333333333,
          96.0929,
          95.9923,
          95.56353333333334,
          95.36736666666667,
          95.21236666666667,
          95.06801666666667,
          95.04188333333333,
          95.00391666666667,
          94.98301666666667,
          94.93051666666666,
          94.85953333333333,
          94.82046666666666,
          94.62003333333334,
          94.58488333333334,
          94.46241666666667,
          94.38968333333334,
          94.1265,
          94.12635,
          94.12025,
          94.1186,
          93.86173333333333,
          93.84393333333334,
          93.79755,
          93.7878,
          93.70445,
          93.70315,
          93.66185,
          93.64556666666667,
          93.59255,
          93.51781666666666,
          93.42901666666667,
          93.42375,
          93.41263333333333,
          93.40916666666666,
          93.39645,
          93.34318333333333,
          93.33166666666666,
          93.31941666666667,
          93.28998333333334,
          93.27278333333334,
          93.26665,
          93.26318333333333,
          93.23381666666667,
          93.17855,
          93.14583333333333,
          93.1202,
          93.10966666666667,
          93.01456666666667,
          93.00368333333333,
          92.99093333333333,
          92.96555,
          92.96316666666667,
          92.95925,
          92.77455,
          92.56366666666666,
          92.53288333333333,
          92.52806666666666,
          92.51538333333333,
          92.5024,
          92.36666666666666,
          92.27793333333334,
          92.12666666666667,
          92.09383333333334,
          92.07613333333333,
          92.07283333333334,
          91.99321666666667,
          91.8862,
          91.76766666666667,
          91.75651666666667,
          91.75025,
          91.73831666666666,
          91.64475,
          91.525,
          91.46215,
          91.19613333333334,
          90.73408333333333,
          90.64118333333333,
          90.59833333333333,
          90.531,
          90.50333333333333,
          90.17758333333333,
          90.15635,
          90.06066666666666,
          90.05333333333333,
          90.03128333333333,
          90.01513333333334,
          90.00506666666666,
          89.98513333333334,
          89.94563333333333,
          89.91833333333334,
          89.79778333333333,
          89.77976666666666,
          89.71863333333333,
          89.71268333333333,
          89.69768333333333,
          89.68538333333333,
          89.5931,
          89.52366666666667,
          89.47553333333333,
          89.38386666666666,
          89.37731666666667,
          89.365,
          89.35833333333333,
          89.355,
          89.34368333333333,
          89.30833333333334,
          89.25361666666667,
          89.23968333333333,
          89.1701,
          89.1697,
          89.16708333333334,
          89.05336666666666,
          88.96905,
          88.96178333333333,
          88.85975,
          88.83513333333333,
          88.8035,
          88.71693333333333,
          88.6866,
          88.6259,
          88.59381666666667,
          88.55908333333333,
          88.54823333333333,
          88.29828333333333,
          88.2962,
          88.21601666666666,
          88.19783333333334,
          88.14855,
          88.1315,
          88.09263333333334,
          88.07486666666667,
          88.04953333333333,
          88.02775,
          88.01498333333333,
          87.99523333333333,
          87.96673333333334,
          87.65473333333334,
          87.64445,
          87.59131666666667,
          87.59083333333334,
          87.55726666666666,
          87.53413333333333,
          87.4964,
          87.18225,
          87.17043333333334,
          87.10868333333333,
          87.05215,
          86.94493333333334,
          86.94326666666667,
          86.92785,
          86.91333333333333,
          86.70903333333334,
          86.64643333333333,
          86.6043,
          86.59083333333334,
          86.55085,
          86.5231,
          86.39143333333334,
          86.36808333333333,
          86.19838333333334,
          86.18616666666667,
          86.17665,
          86.1447,
          86.1236,
          86.09796666666666,
          86.07668333333334,
          86.04215,
          85.98573333333333,
          85.9443,
          85.92886666666666,
          85.91058333333334,
          85.86545,
          85.84146666666666,
          85.81313333333334,
          85.79585,
          85.7698,
          85.76415,
          85.76148333333333,
          85.74813333333333,
          85.71651666666666,
          85.67641666666667,
          85.67401666666666,
          85.64423333333333,
          85.63648333333333,
          85.62623333333333,
          85.56283333333333,
          85.47315,
          85.43045,
          85.36003333333333,
          85.34678333333333,
          85.34431666666667,
          85.33686666666667,
          85.32998333333333,
          85.31886666666666,
          85.3122,
          85.28338333333333,
          85.27393333333333,
          85.26873333333333,
          85.2489,
          85.23913333333333,
          85.18813333333334,
          85.17285,
          85.1648,
          85.16093333333333,
          85.12558333333334,
          85.11205,
          85.10668333333334,
          85.10043333333333,
          85.03946666666667,
          85.0031,
          84.99178333333333,
          84.98235,
          84.92646666666667,
          84.91455,
          84.88971666666667,
          84.79146666666666,
          84.76356666666666,
          84.74716666666667,
          84.73313333333333,
          84.71166666666667,
          84.663,
          84.65933333333334,
          84.63666666666667,
          84.53813333333333,
          84.49313333333333,
          84.05585,
          84.01416666666667,
          83.98585,
          83.9825,
          83.96058333333333,
          83.59355,
          83.58738333333334,
          83.57285,
          83.50838333333333,
          83.07526666666666,
          83.02365,
          82.82213333333333,
          82.65683333333334,
          82.61895,
          82.60655,
          82.59231666666666,
          82.55641666666666,
          82.4923,
          82.40115,
          82.37888333333333,
          82.37411666666667,
          82.35308333333333,
          82.32591666666667,
          82.25286666666666,
          82.2332,
          82.08333333333333,
          82.06666666666666,
          82.04755,
          82.03485,
          81.7985,
          81.75888333333333,
          81.71906666666666,
          81.7179,
          81.69155,
          81.64281666666666,
          81.55633333333333,
          81.45716666666667,
          81.14086666666667,
          80.4811,
          80.16916666666667,
          79.9167,
          79.77168333333333,
          79.69166666666666,
          79.36885,
          79.23478333333334,
          79.2283,
          79.19633333333333,
          79.16818333333333,
          78.51665,
          78.17393333333334,
          null
         ],
         "yaxis": "y"
        },
        {
         "hoverlabel": {
          "namelength": 0
         },
         "hovertemplate": "<b>LOWESS trendline</b><br><br>Season=%{x}<br>Time_mins=%{y} <b>(trend)</b>",
         "legendgroup": "",
         "line": {
          "color": "turquoise"
         },
         "marker": {
          "symbol": "circle"
         },
         "mode": "lines",
         "name": "",
         "showlegend": false,
         "type": "scatter",
         "x": [
          1950,
          1950,
          1950,
          1951,
          1951,
          1952,
          1953,
          1953,
          1954,
          1954,
          1955,
          1955,
          1955,
          1956,
          1957,
          1957,
          1957,
          1957,
          1958,
          1958,
          1958,
          1958,
          1958,
          1958,
          1959,
          1959,
          1959,
          1960,
          1960,
          1960,
          1961,
          1961,
          1961,
          1961,
          1961,
          1961,
          1962,
          1962,
          1962,
          1962,
          1963,
          1963,
          1963,
          1964,
          1964,
          1964,
          1965,
          1965,
          1965,
          1965,
          1965,
          1966,
          1966,
          1967,
          1967,
          1967,
          1967,
          1968,
          1968,
          1969,
          1970,
          1970,
          1970,
          1970,
          1971,
          1971,
          1971,
          1972,
          1972,
          1972,
          1973,
          1973,
          1973,
          1973,
          1973,
          1973,
          1973,
          1973,
          1974,
          1974,
          1974,
          1974,
          1975,
          1976,
          1976,
          1977,
          1977,
          1977,
          1977,
          1977,
          1978,
          1978,
          1978,
          1978,
          1979,
          1979,
          1980,
          1980,
          1980,
          1981,
          1981,
          1982,
          1982,
          1982,
          1982,
          1982,
          1982,
          1983,
          1983,
          1983,
          1983,
          1983,
          1984,
          1984,
          1984,
          1985,
          1986,
          1986,
          1987,
          1987,
          1988,
          1988,
          1988,
          1988,
          1988,
          1989,
          1989,
          1989,
          1989,
          1990,
          1990,
          1990,
          1990,
          1990,
          1991,
          1991,
          1991,
          1992,
          1992,
          1992,
          1992,
          1992,
          1992,
          1993,
          1993,
          1993,
          1993,
          1994,
          1994,
          1994,
          1994,
          1995,
          1995,
          1995,
          1995,
          1995,
          1996,
          1996,
          1996,
          1996,
          1996,
          1997,
          1997,
          1997,
          1997,
          1997,
          1997,
          1998,
          1998,
          1998,
          1999,
          1999,
          1999,
          1999,
          1999,
          1999,
          1999,
          1999,
          1999,
          1999,
          1999,
          1999,
          1999,
          2000,
          2000,
          2000,
          2000,
          2000,
          2000,
          2001,
          2001,
          2001,
          2001,
          2002,
          2002,
          2002,
          2003,
          2003,
          2003,
          2003,
          2003,
          2003,
          2003,
          2003,
          2003,
          2003,
          2003,
          2003,
          2004,
          2004,
          2004,
          2004,
          2004,
          2004,
          2004,
          2004,
          2004,
          2004,
          2004,
          2004,
          2005,
          2005,
          2005,
          2005,
          2005,
          2005,
          2005,
          2005,
          2005,
          2006,
          2006,
          2006,
          2006,
          2006,
          2006,
          2006,
          2006,
          2006,
          2007,
          2007,
          2007,
          2007,
          2007,
          2007,
          2008,
          2008,
          2008,
          2009,
          2009,
          2009,
          2009,
          2009,
          2009,
          2009,
          2009,
          2009,
          2009,
          2009,
          2010,
          2010,
          2010,
          2010,
          2010,
          2010,
          2010,
          2010,
          2010,
          2010,
          2010,
          2010,
          2010,
          2010,
          2010,
          2011,
          2011,
          2011,
          2011,
          2011,
          2011,
          2011,
          2011,
          2011,
          2011,
          2011,
          2011,
          2012,
          2012,
          2012,
          2012,
          2012,
          2012,
          2012,
          2012,
          2012,
          2012,
          2012,
          2012,
          2012,
          2012,
          2012,
          2013,
          2013,
          2013,
          2013,
          2013,
          2013,
          2013,
          2013,
          2013,
          2013,
          2013,
          2013,
          2013,
          2013,
          2013,
          2013,
          2013,
          2013,
          2014,
          2014,
          2014,
          2014,
          2014,
          2014,
          2014,
          2014,
          2014,
          2015,
          2015,
          2015,
          2015,
          2015,
          2015,
          2015,
          2016,
          2016,
          2016,
          2016,
          2016,
          2016,
          2016,
          2016,
          2016,
          2016,
          2017,
          2017,
          2017,
          2017,
          2017,
          2017,
          2017,
          2018,
          2018,
          2018,
          2018,
          2018,
          2018,
          2018,
          2018,
          2018,
          2018,
          2018,
          2018,
          2018,
          2018,
          2019,
          2019,
          2019,
          2019,
          2019,
          2019,
          2019,
          2019,
          2019,
          2019,
          2019,
          2019,
          2019
         ],
         "xaxis": "x",
         "y": [
          144.78161236736707,
          144.78161236736707,
          144.78161236736707,
          143.2584047359044,
          143.2584047359044,
          141.73994526125045,
          140.22666118718487,
          140.22666118718487,
          138.7189412969037,
          137.2171939623262,
          137.2171939623262,
          137.2171939623262,
          135.72185963863728,
          134.23341461347826,
          134.23341461347826,
          134.23341461347826,
          134.23341461347826,
          132.7523747890284,
          132.7523747890284,
          132.7523747890284,
          132.7523747890284,
          132.7523747890284,
          132.7523747890284,
          131.27932456166286,
          131.27932456166286,
          131.27932456166286,
          129.81495361770214,
          129.81495361770214,
          129.81495361770214,
          128.35987904174695,
          128.35987904174695,
          128.35987904174695,
          128.35987904174695,
          128.35987904174695,
          128.35987904174695,
          126.91477862278201,
          126.91477862278201,
          126.91477862278201,
          126.91477862278201,
          125.48033597004095,
          125.48033597004095,
          125.48033597004095,
          124.05706304938259,
          124.05706304938259,
          124.05706304938259,
          122.64524739478078,
          122.64524739478078,
          122.64524739478078,
          122.64524739478078,
          122.64524739478078,
          121.24492168734,
          121.24492168734,
          119.85587914701604,
          119.85587914701604,
          119.85587914701604,
          119.85587914701604,
          118.47766126437145,
          118.47766126437145,
          117.10960830363474,
          115.75080900222564,
          115.75080900222564,
          115.75080900222564,
          115.75080900222564,
          114.40005848290565,
          114.40005848290565,
          114.40005848290565,
          113.05575503061824,
          113.05575503061824,
          113.05575503061824,
          111.71587475796461,
          111.71587475796461,
          111.71587475796461,
          111.71587475796461,
          111.71587475796461,
          111.71587475796461,
          111.71587475796461,
          111.71587475796461,
          110.37796000981616,
          110.37796000981616,
          110.37796000981616,
          110.37796000981616,
          109.03909769372643,
          107.69592237483201,
          107.69592237483201,
          106.34452423189254,
          106.34452423189254,
          106.34452423189254,
          106.34452423189254,
          106.34452423189254,
          104.98057461824183,
          104.98057461824183,
          104.98057461824183,
          104.98057461824183,
          103.5991734350041,
          103.5991734350041,
          102.19122840795968,
          102.19122840795968,
          102.19122840795968,
          100.73659139332995,
          100.73659139332995,
          99.61853227429398,
          99.61853227429398,
          99.61853227429398,
          99.61853227429398,
          99.61853227429398,
          99.61853227429398,
          98.11528058804261,
          98.11528058804261,
          98.11528058804261,
          98.11528058804261,
          98.11528058804261,
          96.61029731332707,
          96.61029731332707,
          96.61029731332707,
          95.5765346757687,
          94.18480674331414,
          94.18480674331414,
          93.32131094280604,
          93.32131094280604,
          92.25908385837202,
          92.25908385837202,
          92.25908385837202,
          92.25908385837202,
          92.25908385837202,
          91.65330789305277,
          91.65330789305277,
          91.65330789305277,
          91.65330789305277,
          90.94933594146354,
          90.94933594146354,
          90.94933594146354,
          90.94933594146354,
          90.94933594146354,
          90.39781222471004,
          90.39781222471004,
          90.39781222471004,
          89.95416060227252,
          89.95416060227252,
          89.95416060227252,
          89.95416060227252,
          89.95416060227252,
          89.95416060227252,
          89.66022418727518,
          89.66022418727518,
          89.66022418727518,
          89.66022418727518,
          89.39585075137352,
          89.39585075137352,
          89.39585075137352,
          89.39585075137352,
          89.12640367013682,
          89.12640367013682,
          89.12640367013682,
          89.12640367013682,
          89.12640367013682,
          88.95037113136885,
          88.95037113136885,
          88.95037113136885,
          88.95037113136885,
          88.95037113136885,
          88.8249409609896,
          88.8249409609896,
          88.8249409609896,
          88.8249409609896,
          88.8249409609896,
          88.8249409609896,
          88.72852319054859,
          88.72852319054859,
          88.72852319054859,
          88.70392477212336,
          88.70392477212336,
          88.70392477212336,
          88.70392477212336,
          88.70392477212336,
          88.70392477212336,
          88.70392477212336,
          88.70392477212336,
          88.70392477212336,
          88.70392477212336,
          88.70392477212336,
          88.70392477212336,
          88.70392477212336,
          88.65843268972834,
          88.65843268972834,
          88.65843268972834,
          88.65843268972834,
          88.65843268972834,
          88.65843268972834,
          88.67080034503908,
          88.67080034503908,
          88.67080034503908,
          88.67080034503908,
          88.63607824013287,
          88.63607824013287,
          88.63607824013287,
          88.6162827108083,
          88.6162827108083,
          88.6162827108083,
          88.6162827108083,
          88.6162827108083,
          88.6162827108083,
          88.6162827108083,
          88.6162827108083,
          88.6162827108083,
          88.6162827108083,
          88.6162827108083,
          88.6162827108083,
          88.4983877192918,
          88.4983877192918,
          88.4983877192918,
          88.4983877192918,
          88.4983877192918,
          88.4983877192918,
          88.4983877192918,
          88.4983877192918,
          88.4983877192918,
          88.4983877192918,
          88.4983877192918,
          88.4983877192918,
          88.43459134791578,
          88.43459134791578,
          88.43459134791578,
          88.43459134791578,
          88.43459134791578,
          88.43459134791578,
          88.43459134791578,
          88.43459134791578,
          88.43459134791578,
          88.36493555616984,
          88.36493555616984,
          88.36493555616984,
          88.36493555616984,
          88.36493555616984,
          88.36493555616984,
          88.36493555616984,
          88.36493555616984,
          88.36493555616984,
          88.27289711387006,
          88.27289711387006,
          88.27289711387006,
          88.27289711387006,
          88.27289711387006,
          88.27289711387006,
          88.16425997497406,
          88.16425997497406,
          88.16425997497406,
          88.04751461514617,
          88.04751461514617,
          88.04751461514617,
          88.04751461514617,
          88.04751461514617,
          88.04751461514617,
          88.04751461514617,
          88.04751461514617,
          88.04751461514617,
          88.04751461514617,
          88.04751461514617,
          87.92920403001322,
          87.92920403001322,
          87.92920403001322,
          87.92920403001322,
          87.92920403001322,
          87.92920403001322,
          87.92920403001322,
          87.92920403001322,
          87.92920403001322,
          87.92920403001322,
          87.92920403001322,
          87.92920403001322,
          87.92920403001322,
          87.92920403001322,
          87.92920403001322,
          87.81455973211634,
          87.81455973211634,
          87.81455973211634,
          87.81455973211634,
          87.81455973211634,
          87.81455973211634,
          87.81455973211634,
          87.81455973211634,
          87.81455973211634,
          87.81455973211634,
          87.81455973211634,
          87.81455973211634,
          87.70744872103872,
          87.70744872103872,
          87.70744872103872,
          87.70744872103872,
          87.70744872103872,
          87.70744872103872,
          87.70744872103872,
          87.70744872103872,
          87.70744872103872,
          87.70744872103872,
          87.70744872103872,
          87.70744872103872,
          87.70744872103872,
          87.70744872103872,
          87.70744872103872,
          87.61011335569916,
          87.61011335569916,
          87.61011335569916,
          87.61011335569916,
          87.61011335569916,
          87.61011335569916,
          87.61011335569916,
          87.61011335569916,
          87.61011335569916,
          87.61011335569916,
          87.61011335569916,
          87.61011335569916,
          87.61011335569916,
          87.61011335569916,
          87.61011335569916,
          87.61011335569916,
          87.61011335569916,
          87.61011335569916,
          87.52369655626005,
          87.52369655626005,
          87.52369655626005,
          87.52369655626005,
          87.52369655626005,
          87.52369655626005,
          87.52369655626005,
          87.52369655626005,
          87.52369655626005,
          87.44761061700007,
          87.44761061700007,
          87.44761061700007,
          87.44761061700007,
          87.44761061700007,
          87.44761061700007,
          87.44761061700007,
          87.38060893175363,
          87.38060893175363,
          87.38060893175363,
          87.38060893175363,
          87.38060893175363,
          87.38060893175363,
          87.38060893175363,
          87.38060893175363,
          87.38060893175363,
          87.38060893175363,
          87.32070498708546,
          87.32070498708546,
          87.32070498708546,
          87.32070498708546,
          87.32070498708546,
          87.32070498708546,
          87.32070498708546,
          87.26504985854307,
          87.26504985854307,
          87.26504985854307,
          87.26504985854307,
          87.26504985854307,
          87.26504985854307,
          87.26504985854307,
          87.26504985854307,
          87.26504985854307,
          87.26504985854307,
          87.26504985854307,
          87.26504985854307,
          87.26504985854307,
          87.26504985854307,
          87.21117245206618,
          87.21117245206618,
          87.21117245206618,
          87.21117245206618,
          87.21117245206618,
          87.21117245206618,
          87.21117245206618,
          87.21117245206618,
          87.21117245206618,
          87.21117245206618,
          87.21117245206618,
          87.21117245206618,
          87.21117245206618
         ],
         "yaxis": "y"
        }
       ],
       "layout": {
        "coloraxis": {
         "colorbar": {
          "title": {
           "text": "Laps"
          }
         },
         "colorscale": [
          [
           0,
           "#0d0887"
          ],
          [
           0.1111111111111111,
           "#46039f"
          ],
          [
           0.2222222222222222,
           "#7201a8"
          ],
          [
           0.3333333333333333,
           "#9c179e"
          ],
          [
           0.4444444444444444,
           "#bd3786"
          ],
          [
           0.5555555555555556,
           "#d8576b"
          ],
          [
           0.6666666666666666,
           "#ed7953"
          ],
          [
           0.7777777777777778,
           "#fb9f3a"
          ],
          [
           0.8888888888888888,
           "#fdca26"
          ],
          [
           1,
           "#f0f921"
          ]
         ]
        },
        "legend": {
         "tracegroupgap": 0
        },
        "template": {
         "data": {
          "bar": [
           {
            "error_x": {
             "color": "#2a3f5f"
            },
            "error_y": {
             "color": "#2a3f5f"
            },
            "marker": {
             "line": {
              "color": "#E5ECF6",
              "width": 0.5
             }
            },
            "type": "bar"
           }
          ],
          "barpolar": [
           {
            "marker": {
             "line": {
              "color": "#E5ECF6",
              "width": 0.5
             }
            },
            "type": "barpolar"
           }
          ],
          "carpet": [
           {
            "aaxis": {
             "endlinecolor": "#2a3f5f",
             "gridcolor": "white",
             "linecolor": "white",
             "minorgridcolor": "white",
             "startlinecolor": "#2a3f5f"
            },
            "baxis": {
             "endlinecolor": "#2a3f5f",
             "gridcolor": "white",
             "linecolor": "white",
             "minorgridcolor": "white",
             "startlinecolor": "#2a3f5f"
            },
            "type": "carpet"
           }
          ],
          "choropleth": [
           {
            "colorbar": {
             "outlinewidth": 0,
             "ticks": ""
            },
            "type": "choropleth"
           }
          ],
          "contour": [
           {
            "colorbar": {
             "outlinewidth": 0,
             "ticks": ""
            },
            "colorscale": [
             [
              0,
              "#0d0887"
             ],
             [
              0.1111111111111111,
              "#46039f"
             ],
             [
              0.2222222222222222,
              "#7201a8"
             ],
             [
              0.3333333333333333,
              "#9c179e"
             ],
             [
              0.4444444444444444,
              "#bd3786"
             ],
             [
              0.5555555555555556,
              "#d8576b"
             ],
             [
              0.6666666666666666,
              "#ed7953"
             ],
             [
              0.7777777777777778,
              "#fb9f3a"
             ],
             [
              0.8888888888888888,
              "#fdca26"
             ],
             [
              1,
              "#f0f921"
             ]
            ],
            "type": "contour"
           }
          ],
          "contourcarpet": [
           {
            "colorbar": {
             "outlinewidth": 0,
             "ticks": ""
            },
            "type": "contourcarpet"
           }
          ],
          "heatmap": [
           {
            "colorbar": {
             "outlinewidth": 0,
             "ticks": ""
            },
            "colorscale": [
             [
              0,
              "#0d0887"
             ],
             [
              0.1111111111111111,
              "#46039f"
             ],
             [
              0.2222222222222222,
              "#7201a8"
             ],
             [
              0.3333333333333333,
              "#9c179e"
             ],
             [
              0.4444444444444444,
              "#bd3786"
             ],
             [
              0.5555555555555556,
              "#d8576b"
             ],
             [
              0.6666666666666666,
              "#ed7953"
             ],
             [
              0.7777777777777778,
              "#fb9f3a"
             ],
             [
              0.8888888888888888,
              "#fdca26"
             ],
             [
              1,
              "#f0f921"
             ]
            ],
            "type": "heatmap"
           }
          ],
          "heatmapgl": [
           {
            "colorbar": {
             "outlinewidth": 0,
             "ticks": ""
            },
            "colorscale": [
             [
              0,
              "#0d0887"
             ],
             [
              0.1111111111111111,
              "#46039f"
             ],
             [
              0.2222222222222222,
              "#7201a8"
             ],
             [
              0.3333333333333333,
              "#9c179e"
             ],
             [
              0.4444444444444444,
              "#bd3786"
             ],
             [
              0.5555555555555556,
              "#d8576b"
             ],
             [
              0.6666666666666666,
              "#ed7953"
             ],
             [
              0.7777777777777778,
              "#fb9f3a"
             ],
             [
              0.8888888888888888,
              "#fdca26"
             ],
             [
              1,
              "#f0f921"
             ]
            ],
            "type": "heatmapgl"
           }
          ],
          "histogram": [
           {
            "marker": {
             "colorbar": {
              "outlinewidth": 0,
              "ticks": ""
             }
            },
            "type": "histogram"
           }
          ],
          "histogram2d": [
           {
            "colorbar": {
             "outlinewidth": 0,
             "ticks": ""
            },
            "colorscale": [
             [
              0,
              "#0d0887"
             ],
             [
              0.1111111111111111,
              "#46039f"
             ],
             [
              0.2222222222222222,
              "#7201a8"
             ],
             [
              0.3333333333333333,
              "#9c179e"
             ],
             [
              0.4444444444444444,
              "#bd3786"
             ],
             [
              0.5555555555555556,
              "#d8576b"
             ],
             [
              0.6666666666666666,
              "#ed7953"
             ],
             [
              0.7777777777777778,
              "#fb9f3a"
             ],
             [
              0.8888888888888888,
              "#fdca26"
             ],
             [
              1,
              "#f0f921"
             ]
            ],
            "type": "histogram2d"
           }
          ],
          "histogram2dcontour": [
           {
            "colorbar": {
             "outlinewidth": 0,
             "ticks": ""
            },
            "colorscale": [
             [
              0,
              "#0d0887"
             ],
             [
              0.1111111111111111,
              "#46039f"
             ],
             [
              0.2222222222222222,
              "#7201a8"
             ],
             [
              0.3333333333333333,
              "#9c179e"
             ],
             [
              0.4444444444444444,
              "#bd3786"
             ],
             [
              0.5555555555555556,
              "#d8576b"
             ],
             [
              0.6666666666666666,
              "#ed7953"
             ],
             [
              0.7777777777777778,
              "#fb9f3a"
             ],
             [
              0.8888888888888888,
              "#fdca26"
             ],
             [
              1,
              "#f0f921"
             ]
            ],
            "type": "histogram2dcontour"
           }
          ],
          "mesh3d": [
           {
            "colorbar": {
             "outlinewidth": 0,
             "ticks": ""
            },
            "type": "mesh3d"
           }
          ],
          "parcoords": [
           {
            "line": {
             "colorbar": {
              "outlinewidth": 0,
              "ticks": ""
             }
            },
            "type": "parcoords"
           }
          ],
          "pie": [
           {
            "automargin": true,
            "type": "pie"
           }
          ],
          "scatter": [
           {
            "marker": {
             "colorbar": {
              "outlinewidth": 0,
              "ticks": ""
             }
            },
            "type": "scatter"
           }
          ],
          "scatter3d": [
           {
            "line": {
             "colorbar": {
              "outlinewidth": 0,
              "ticks": ""
             }
            },
            "marker": {
             "colorbar": {
              "outlinewidth": 0,
              "ticks": ""
             }
            },
            "type": "scatter3d"
           }
          ],
          "scattercarpet": [
           {
            "marker": {
             "colorbar": {
              "outlinewidth": 0,
              "ticks": ""
             }
            },
            "type": "scattercarpet"
           }
          ],
          "scattergeo": [
           {
            "marker": {
             "colorbar": {
              "outlinewidth": 0,
              "ticks": ""
             }
            },
            "type": "scattergeo"
           }
          ],
          "scattergl": [
           {
            "marker": {
             "colorbar": {
              "outlinewidth": 0,
              "ticks": ""
             }
            },
            "type": "scattergl"
           }
          ],
          "scattermapbox": [
           {
            "marker": {
             "colorbar": {
              "outlinewidth": 0,
              "ticks": ""
             }
            },
            "type": "scattermapbox"
           }
          ],
          "scatterpolar": [
           {
            "marker": {
             "colorbar": {
              "outlinewidth": 0,
              "ticks": ""
             }
            },
            "type": "scatterpolar"
           }
          ],
          "scatterpolargl": [
           {
            "marker": {
             "colorbar": {
              "outlinewidth": 0,
              "ticks": ""
             }
            },
            "type": "scatterpolargl"
           }
          ],
          "scatterternary": [
           {
            "marker": {
             "colorbar": {
              "outlinewidth": 0,
              "ticks": ""
             }
            },
            "type": "scatterternary"
           }
          ],
          "surface": [
           {
            "colorbar": {
             "outlinewidth": 0,
             "ticks": ""
            },
            "colorscale": [
             [
              0,
              "#0d0887"
             ],
             [
              0.1111111111111111,
              "#46039f"
             ],
             [
              0.2222222222222222,
              "#7201a8"
             ],
             [
              0.3333333333333333,
              "#9c179e"
             ],
             [
              0.4444444444444444,
              "#bd3786"
             ],
             [
              0.5555555555555556,
              "#d8576b"
             ],
             [
              0.6666666666666666,
              "#ed7953"
             ],
             [
              0.7777777777777778,
              "#fb9f3a"
             ],
             [
              0.8888888888888888,
              "#fdca26"
             ],
             [
              1,
              "#f0f921"
             ]
            ],
            "type": "surface"
           }
          ],
          "table": [
           {
            "cells": {
             "fill": {
              "color": "#EBF0F8"
             },
             "line": {
              "color": "white"
             }
            },
            "header": {
             "fill": {
              "color": "#C8D4E3"
             },
             "line": {
              "color": "white"
             }
            },
            "type": "table"
           }
          ]
         },
         "layout": {
          "annotationdefaults": {
           "arrowcolor": "#2a3f5f",
           "arrowhead": 0,
           "arrowwidth": 1
          },
          "coloraxis": {
           "colorbar": {
            "outlinewidth": 0,
            "ticks": ""
           }
          },
          "colorscale": {
           "diverging": [
            [
             0,
             "#8e0152"
            ],
            [
             0.1,
             "#c51b7d"
            ],
            [
             0.2,
             "#de77ae"
            ],
            [
             0.3,
             "#f1b6da"
            ],
            [
             0.4,
             "#fde0ef"
            ],
            [
             0.5,
             "#f7f7f7"
            ],
            [
             0.6,
             "#e6f5d0"
            ],
            [
             0.7,
             "#b8e186"
            ],
            [
             0.8,
             "#7fbc41"
            ],
            [
             0.9,
             "#4d9221"
            ],
            [
             1,
             "#276419"
            ]
           ],
           "sequential": [
            [
             0,
             "#0d0887"
            ],
            [
             0.1111111111111111,
             "#46039f"
            ],
            [
             0.2222222222222222,
             "#7201a8"
            ],
            [
             0.3333333333333333,
             "#9c179e"
            ],
            [
             0.4444444444444444,
             "#bd3786"
            ],
            [
             0.5555555555555556,
             "#d8576b"
            ],
            [
             0.6666666666666666,
             "#ed7953"
            ],
            [
             0.7777777777777778,
             "#fb9f3a"
            ],
            [
             0.8888888888888888,
             "#fdca26"
            ],
            [
             1,
             "#f0f921"
            ]
           ],
           "sequentialminus": [
            [
             0,
             "#0d0887"
            ],
            [
             0.1111111111111111,
             "#46039f"
            ],
            [
             0.2222222222222222,
             "#7201a8"
            ],
            [
             0.3333333333333333,
             "#9c179e"
            ],
            [
             0.4444444444444444,
             "#bd3786"
            ],
            [
             0.5555555555555556,
             "#d8576b"
            ],
            [
             0.6666666666666666,
             "#ed7953"
            ],
            [
             0.7777777777777778,
             "#fb9f3a"
            ],
            [
             0.8888888888888888,
             "#fdca26"
            ],
            [
             1,
             "#f0f921"
            ]
           ]
          },
          "colorway": [
           "#636efa",
           "#EF553B",
           "#00cc96",
           "#ab63fa",
           "#FFA15A",
           "#19d3f3",
           "#FF6692",
           "#B6E880",
           "#FF97FF",
           "#FECB52"
          ],
          "font": {
           "color": "#2a3f5f"
          },
          "geo": {
           "bgcolor": "white",
           "lakecolor": "white",
           "landcolor": "#E5ECF6",
           "showlakes": true,
           "showland": true,
           "subunitcolor": "white"
          },
          "hoverlabel": {
           "align": "left"
          },
          "hovermode": "closest",
          "mapbox": {
           "style": "light"
          },
          "paper_bgcolor": "white",
          "plot_bgcolor": "#E5ECF6",
          "polar": {
           "angularaxis": {
            "gridcolor": "white",
            "linecolor": "white",
            "ticks": ""
           },
           "bgcolor": "#E5ECF6",
           "radialaxis": {
            "gridcolor": "white",
            "linecolor": "white",
            "ticks": ""
           }
          },
          "scene": {
           "xaxis": {
            "backgroundcolor": "#E5ECF6",
            "gridcolor": "white",
            "gridwidth": 2,
            "linecolor": "white",
            "showbackground": true,
            "ticks": "",
            "zerolinecolor": "white"
           },
           "yaxis": {
            "backgroundcolor": "#E5ECF6",
            "gridcolor": "white",
            "gridwidth": 2,
            "linecolor": "white",
            "showbackground": true,
            "ticks": "",
            "zerolinecolor": "white"
           },
           "zaxis": {
            "backgroundcolor": "#E5ECF6",
            "gridcolor": "white",
            "gridwidth": 2,
            "linecolor": "white",
            "showbackground": true,
            "ticks": "",
            "zerolinecolor": "white"
           }
          },
          "shapedefaults": {
           "line": {
            "color": "#2a3f5f"
           }
          },
          "ternary": {
           "aaxis": {
            "gridcolor": "white",
            "linecolor": "white",
            "ticks": ""
           },
           "baxis": {
            "gridcolor": "white",
            "linecolor": "white",
            "ticks": ""
           },
           "bgcolor": "#E5ECF6",
           "caxis": {
            "gridcolor": "white",
            "linecolor": "white",
            "ticks": ""
           }
          },
          "title": {
           "x": 0.05
          },
          "xaxis": {
           "automargin": true,
           "gridcolor": "white",
           "linecolor": "white",
           "ticks": "",
           "title": {
            "standoff": 15
           },
           "zerolinecolor": "white",
           "zerolinewidth": 2
          },
          "yaxis": {
           "automargin": true,
           "gridcolor": "white",
           "linecolor": "white",
           "ticks": "",
           "title": {
            "standoff": 15
           },
           "zerolinecolor": "white",
           "zerolinewidth": 2
          }
         }
        },
        "title": {
         "text": "Formula1 finisher's times at the British Grand Prix"
        },
        "xaxis": {
         "anchor": "y",
         "domain": [
          0,
          1
         ],
         "title": {
          "text": "Season"
         }
        },
        "yaxis": {
         "anchor": "x",
         "domain": [
          0,
          1
         ],
         "title": {
          "text": "Time_mins"
         }
        }
       }
      },
      "text/html": [
       "<div>\n",
       "        \n",
       "        \n",
       "            <div id=\"19dacc79-874b-49d9-a35f-907dec784053\" class=\"plotly-graph-div\" style=\"height:525px; width:100%;\"></div>\n",
       "            <script type=\"text/javascript\">\n",
       "                require([\"plotly\"], function(Plotly) {\n",
       "                    window.PLOTLYENV=window.PLOTLYENV || {};\n",
       "                    \n",
       "                if (document.getElementById(\"19dacc79-874b-49d9-a35f-907dec784053\")) {\n",
       "                    Plotly.newPlot(\n",
       "                        '19dacc79-874b-49d9-a35f-907dec784053',\n",
       "                        [{\"customdata\": [[\"3\"], [\"2\"], [\"1\"], [\"3\"], [\"2\"], [\"1\"], [\"1\"], [\"1\"], [\"1\"], [\"2\"], [\"1\"], [\"1\"], [\"2\"], [\"6\"], [\"1\"], [\"5\"], [\"4\"], [\"3\"], [\"2\"], [\"1\"], [\"3\"], [\"2\"], [\"1\"], [\"9\"], [\"8\"], [\"4\"], [\"3\"], [\"7\"], [\"6\"], [\"5\"], [\"4\"], [\"3\"], [\"2\"], [\"2\"], [\"1\"], [\"1\"], [\"3\"], [\"2\"], [\"1\"], [\"3\"], [\"2\"], [\"3\"], [\"1\"], [\"2\"], [\"1\"], [\"2\"], [\"1\"], [\"6\"], [\"5\"], [\"4\"], [\"3\"], [\"2\"], [\"1\"], [\"5\"], [\"4\"], [\"3\"], [\"3\"], [\"2\"], [\"1\"], [\"2\"], [\"1\"], [\"2\"], [\"1\"], [\"4\"], [\"3\"], [\"2\"], [\"1\"], [\"4\"], [\"3\"], [\"2\"], [\"1\"], [\"1\"], [\"3\"], [\"2\"], [\"1\"], [\"3\"], [\"2\"], [\"1\"], [\"2\"], [\"1\"], [\"4\"], [\"3\"], [\"4\"], [\"2\"], [\"1\"], [\"3\"], [\"2\"], [\"1\"], [\"3\"], [\"2\"], [\"1\"], [\"10\"], [\"9\"], [\"5\"], [\"8\"], [\"6\"], [\"5\"], [\"4\"], [\"7\"], [\"6\"], [\"3\"], [\"4\"], [\"5\"], [\"2\"], [\"1\"], [\"4\"], [\"3\"], [\"2\"], [\"3\"], [\"2\"], [\"3\"], [\"1\"], [\"2\"], [\"1\"], [\"5\"], [\"1\"], [\"4\"], [\"5\"], [\"4\"], [\"3\"], [\"18\"], [\"17\"], [\"3\"], [\"13\"], [\"12\"], [\"11\"], [\"10\"], [\"9\"], [\"2\"], [\"8\"], [\"16\"], [\"15\"], [\"14\"], [\"13\"], [\"7\"], [\"12\"], [\"6\"], [\"11\"], [\"2\"], [\"10\"], [\"9\"], [\"1\"], [\"8\"], [\"7\"], [\"6\"], [\"5\"], [\"5\"], [\"4\"], [\"3\"], [\"1\"], [\"2\"], [\"1\"], [\"4\"], [\"5\"], [\"3\"], [\"7\"], [\"4\"], [\"2\"], [\"6\"], [\"5\"], [\"1\"], [\"3\"], [\"3\"], [\"2\"], [\"3\"], [\"4\"], [\"2\"], [\"2\"], [\"3\"], [\"1\"], [\"4\"], [\"1\"], [\"3\"], [\"2\"], [\"1\"], [\"1\"], [\"2\"], [\"2\"], [\"1\"], [\"8\"], [\"3\"], [\"7\"], [\"2\"], [\"6\"], [\"1\"], [\"6\"], [\"12\"], [\"11\"], [\"10\"], [\"9\"], [\"8\"], [\"5\"], [\"5\"], [\"7\"], [\"12\"], [\"11\"], [\"6\"], [\"10\"], [\"9\"], [\"4\"], [\"1\"], [\"8\"], [\"7\"], [\"4\"], [\"3\"], [\"2\"], [\"6\"], [\"1\"], [\"6\"], [\"5\"], [\"5\"], [\"4\"], [\"3\"], [\"4\"], [\"3\"], [\"2\"], [\"2\"], [\"1\"], [\"3\"], [\"2\"], [\"1\"], [\"1\"], [\"3\"], [\"5\"], [\"4\"], [\"14\"], [\"2\"], [\"3\"], [\"2\"], [\"13\"], [\"12\"], [\"11\"], [\"10\"], [\"9\"], [\"1\"], [\"8\"], [\"7\"], [\"6\"], [\"5\"], [\"4\"], [\"1\"], [\"2\"], [\"3\"], [\"2\"], [\"1\"], [\"9\"], [\"8\"], [\"7\"], [\"6\"], [\"6\"], [\"4\"], [\"3\"], [\"1\"], [\"4\"], [\"5\"], [\"4\"], [\"2\"], [\"3\"], [\"3\"], [\"5\"], [\"2\"], [\"4\"], [\"1\"], [\"3\"], [\"15\"], [\"2\"], [\"2\"], [\"14\"], [\"13\"], [\"12\"], [\"11\"], [\"10\"], [\"9\"], [\"1\"], [\"9\"], [\"8\"], [\"8\"], [\"7\"], [\"2\"], [\"15\"], [\"6\"], [\"1\"], [\"14\"], [\"7\"], [\"5\"], [\"1\"], [\"13\"], [\"1\"], [\"6\"], [\"12\"], [\"5\"], [\"4\"], [\"11\"], [\"10\"], [\"9\"], [\"8\"], [\"4\"], [\"12\"], [\"11\"], [\"3\"], [\"7\"], [\"2\"], [\"1\"], [\"6\"], [\"5\"], [\"5\"], [\"10\"], [\"9\"], [\"8\"], [\"3\"], [\"7\"], [\"4\"], [\"3\"], [\"2\"], [\"6\"], [\"5\"], [\"4\"], [\"4\"], [\"3\"], [\"2\"], [\"3\"], [\"1\"], [\"1\"], [\"2\"], [\"1\"], [\"2\"], [\"1\"], [\"11\"], [\"10\"], [\"9\"], [\"8\"], [\"7\"], [\"6\"], [\"5\"], [\"4\"], [\"3\"], [\"2\"], [\"7\"], [\"1\"], [\"6\"], [\"5\"], [\"4\"], [\"6\"], [\"5\"], [\"13\"], [\"12\"], [\"11\"], [\"3\"], [\"10\"], [\"4\"], [\"9\"], [\"8\"], [\"1\"], [\"3\"], [\"7\"], [\"6\"], [\"5\"], [\"2\"], [\"4\"], [\"1\"], [\"2\"], [\"3\"], [\"2\"], [\"1\"], [\"1\"], [\"4\"], [\"3\"], [\"5\"], [\"4\"], [\"2\"], [\"1\"], [\"3\"], [\"2\"], [\"1\"], [\"2\"], [\"1\"], [\"1\"], [\"2\"]], \"hoverlabel\": {\"namelength\": 0}, \"hovertemplate\": \"<b>%{hovertext}</b><br><br>Season=%{x}<br>Time_mins=%{y}<br>Position=%{customdata[0]}<br>Laps=%{marker.color}\", \"hovertext\": [\"Karl Kling\", \"Juan Fangio\", \"Stirling Moss\", \"Mike Hawthorn\", \"Luigi Musso\", \"Tony Brooks\", \"Stirling Moss\", \"Juan Fangio\", \"Jos\\u00e9 Froil\\u00e1n Gonz\\u00e1lez\", \"Juan Fangio\", \"Alberto Ascari\", \"Alberto Ascari\", \"Juan Fangio\", \"Roy Salvadori\", \"Jos\\u00e9 Froil\\u00e1n Gonz\\u00e1lez\", \"Jo Bonnier\", \"Jack Brabham\", \"Richie Ginther\", \"Phil Hill\", \"Wolfgang von Trips\", \"Bruce McLaren\", \"Stirling Moss\", \"Jack Brabham\", \"Daniil Kvyat\", \"Nico H\\u00fclkenberg\", \"Graham Hill\", \"Bruce McLaren\", \"Kevin Magnussen\", \"Fernando Alonso\", \"Sebastian Vettel\", \"Jenson Button\", \"Daniel Ricciardo\", \"Valtteri Bottas\", \"John Surtees\", \"Lewis Hamilton\", \"Jim Clark\", \"John Surtees\", \"Graham Hill\", \"Jim Clark\", \"Graham Hill\", \"John Surtees\", \"Reg Parnell\", \"Jim Clark\", \"Luigi Fagioli\", \"Nino Farina\", \"Denny Hulme\", \"Jack Brabham\", \"Jack Brabham\", \"Harry Schell\", \"Stuart Lewis-Evans\", \"Roy Salvadori\", \"Mike Hawthorn\", \"Peter Collins\", \"Jackie Stewart\", \"Mike Spence\", \"Innes Ireland\", \"John Surtees\", \"Graham Hill\", \"Jim Clark\", \"John Surtees\", \"Jack Brabham\", \"Chris Amon\", \"Jo Siffert\", \"Jack Brabham\", \"Chris Amon\", \"Denny Hulme\", \"Jim Clark\", \"Clay Regazzoni\", \"Denny Hulme\", \"Jack Brabham\", \"Jochen Rindt\", \"Jackie Stewart\", \"Peter Revson\", \"Jackie Stewart\", \"Emerson Fittipaldi\", \"Eddie Irvine\", \"Mika H\\u00e4kkinen\", \"Michael Schumacher\", \"Jody Scheckter\", \"Niki Lauda\", \"Clay Regazzoni\", \"Jacky Ickx\", \"Patrick Depailler\", \"Emerson Fittipaldi\", \"Jody Scheckter\", \"John Watson\", \"Niki Lauda\", \"Carlos Reutemann\", \"Rubens Barrichello\", \"Nick Heidfeld\", \"Lewis Hamilton\", \"Daniil Kvyat\", \"Sebastian Vettel\", \"Mark Blundell\", \"Carlos Sainz\", \"Alain Prost\", \"Derek Daly\", \"Elio de Angelis\", \"Nico H\\u00fclkenberg\", \"Sergio P\\u00e9rez\", \"Patrick Tambay\", \"Olivier Panis\", \"Kimi R\\u00e4ikk\\u00f6nen\", \"Didier Pironi\", \"Niki Lauda\", \"Daniel Ricciardo\", \"Nico Rosberg\", \"Max Verstappen\", \"Carlos Reutemann\", \"Nelson Piquet\", \"David Coulthard\", \"Lewis Hamilton\", \"Jean Alesi\", \"Alan Jones\", \"Nelson Piquet\", \"Johnny Herbert\", \"Maur\\u00edcio Gugelmin\", \"David Coulthard\", \"Rubens Barrichello\", \"Alessandro Nannini\", \"Giedo van der Garde\", \"Max Chilton\", \"Mika H\\u00e4kkinen\", \"Olivier Panis\", \"Johnny Herbert\", \"Alessandro Zanardi\", \"Alexander Wurz\", \"Jarno Trulli\", \"Nigel Mansell\", \"Rubens Barrichello\", \"Jules Bianchi\", \"Charles Pic\", \"Esteban Guti\\u00e9rrez\", \"Jenson Button\", \"Giancarlo Fisichella\", \"Valtteri Bottas\", \"Pedro Diniz\", \"Pastor Maldonado\", \"Gerhard Berger\", \"Nico H\\u00fclkenberg\", \"Paul di Resta\", \"Ayrton Senna\", \"Daniel Ricciardo\", \"Adrian Sutil\", \"Felipe Massa\", \"Kimi R\\u00e4ikk\\u00f6nen\", \"Damon Hill\", \"Lewis Hamilton\", \"Fernando Alonso\", \"Jacques Villeneuve\", \"Mark Webber\", \"Nico Rosberg\", \"Heinz-Harald Frentzen\", \"Hans-Joachim Stuck\", \"Ralf Schumacher\", \"Nico H\\u00fclkenberg\", \"Jochen Mass\", \"Eddie Irvine\", \"Daniil Kvyat\", \"Valtteri Bottas\", \"David Coulthard\", \"Emerson Fittipaldi\", \"Juan Pablo Montoya\", \"Ronnie Peterson\", \"Gunnar Nilsson\", \"Felipe Massa\", \"Niki Lauda\", \"Rubens Barrichello\", \"Sebastian Vettel\", \"James Hunt\", \"Rubens Barrichello\", \"Michael Schumacher\", \"Mika H\\u00e4kkinen\", \"Nico Rosberg\", \"Jackie Stewart\", \"Lewis Hamilton\", \"Jean Alesi\", \"Nelson Piquet\", \"Nigel Mansell\", \"Jacky Ickx\", \"Ayrton Senna\", \"Clay Regazzoni\", \"Derek Warwick\", \"Jarno Trulli\", \"Damon Hill\", \"Carlos Reutemann\", \"Vitaly Petrov\", \"Adrian Sutil\", \"Jaime Alguersuari\", \"Michael Schumacher\", \"Nick Heidfeld\", \"Fran\\u00e7ois Cevert\", \"Jenson Button\", \"Sergio P\\u00e9rez\", \"Heinz-Harald Frentzen\", \"Olivier Panis\", \"Nico Rosberg\", \"Jacques Villeneuve\", \"Ralf Schumacher\", \"Ralf Schumacher\", \"Niki Lauda\", \"Jenson Button\", \"Cristiano da Matta\", \"James Hunt\", \"Denny Hulme\", \"Ronnie Peterson\", \"Jarno Trulli\", \"Peter Revson\", \"Damon Hill\", \"David Coulthard\", \"Felipe Massa\", \"Lewis Hamilton\", \"Michael Schumacher\", \"Michael Schumacher\", \"Mark Webber\", \"Sebastian Vettel\", \"Mika H\\u00e4kkinen\", \"David Coulthard\", \"Kimi R\\u00e4ikk\\u00f6nen\", \"Juan Pablo Montoya\", \"Fernando Alonso\", \"Rubens Barrichello\", \"Alain Prost\", \"Ralf Schumacher\", \"David Coulthard\", \"Sergey Sirotkin\", \"Gerhard Berger\", \"Alexander Wurz\", \"Jean Alesi\", \"Pierre Gasly\", \"Lance Stroll\", \"Stoffel Vandoorne\", \"Sergio P\\u00e9rez\", \"Kevin Magnussen\", \"Jacques Villeneuve\", \"Fernando Alonso\", \"Esteban Ocon\", \"Nico H\\u00fclkenberg\", \"Daniel Ricciardo\", \"Valtteri Bottas\", \"Nigel Mansell\", \"Carlos Reutemann\", \"Kimi R\\u00e4ikk\\u00f6nen\", \"Lewis Hamilton\", \"Sebastian Vettel\", \"Nico Rosberg\", \"Jacques Villeneuve\", \"Nick Heidfeld\", \"Mika H\\u00e4kkinen\", \"Juan Pablo Montoya\", \"Johnny Herbert\", \"Riccardo Patrese\", \"John Watson\", \"Juan Pablo Montoya\", \"Gerhard Berger\", \"Michael Schumacher\", \"Ren\\u00e9 Arnoux\", \"Rubens Barrichello\", \"Martin Brundle\", \"Felipe Massa\", \"Riccardo Patrese\", \"Giancarlo Fisichella\", \"Clay Regazzoni\", \"Kimi R\\u00e4ikk\\u00f6nen\", \"Nico Rosberg\", \"Michael Schumacher\", \"Michael Schumacher\", \"Jean-\\u00c9ric Vergne\", \"Daniel Ricciardo\", \"Nico H\\u00fclkenberg\", \"Kamui Kobayashi\", \"Jenson Button\", \"Bruno Senna\", \"Fernando Alonso\", \"Jarno Trulli\", \"Ralf Schumacher\", \"Lewis Hamilton\", \"Rubens Barrichello\", \"Michael Schumacher\", \"Felipe Massa\", \"Michael Schumacher\", \"Nigel Mansell\", \"Fernando Alonso\", \"Michael Schumacher\", \"Ren\\u00e9 Arnoux\", \"Alain Prost\", \"Vitaly Petrov\", \"Mika H\\u00e4kkinen\", \"Romain Grosjean\", \"S\\u00e9bastien Buemi\", \"Kimi R\\u00e4ikk\\u00f6nen\", \"Felipe Massa\", \"Vitantonio Liuzzi\", \"Nico H\\u00fclkenberg\", \"Michael Schumacher\", \"Adrian Sutil\", \"Nigel Mansell\", \"Marc Gen\\u00e9\", \"Takuma Sato\", \"Sebastian Vettel\", \"Sebastian Vettel\", \"Fernando Alonso\", \"Mark Webber\", \"Kamui Kobayashi\", \"Jenson Button\", \"Rubens Barrichello\", \"Fernando Alonso\", \"Felipe Massa\", \"Mark Webber\", \"Patrick Tambay\", \"David Coulthard\", \"Jenson Button\", \"Nico Rosberg\", \"Nelson Piquet\", \"Giancarlo Fisichella\", \"Juan Pablo Montoya\", \"Jenson Button\", \"Giancarlo Fisichella\", \"Rubens Barrichello\", \"Kimi R\\u00e4ikk\\u00f6nen\", \"Kimi R\\u00e4ikk\\u00f6nen\", \"Michael Schumacher\", \"Alain Prost\", \"Lewis Hamilton\", \"Mark Webber\", \"Fernando Alonso\", \"Juan Pablo Montoya\", \"Kazuki Nakajima\", \"Giancarlo Fisichella\", \"Timo Glock\", \"Kimi R\\u00e4ikk\\u00f6nen\", \"Jarno Trulli\", \"Jenson Button\", \"Nico Rosberg\", \"Felipe Massa\", \"Rubens Barrichello\", \"Mark Webber\", \"Sebastian Vettel\", \"Sebastian Vettel\", \"Nick Heidfeld\", \"Felipe Massa\", \"Robert Kubica\", \"Nico H\\u00fclkenberg\", \"Daniel Ricciardo\", \"Lance Stroll\", \"Alexander Albon\", \"Lando Norris\", \"Lewis Hamilton\", \"Nico H\\u00fclkenberg\", \"Max Verstappen\", \"Daniil Kvyat\", \"Kimi R\\u00e4ikk\\u00f6nen\", \"Emerson Fittipaldi\", \"Kimi R\\u00e4ikk\\u00f6nen\", \"Daniel Ricciardo\", \"Carlos Sainz\", \"Max Verstappen\", \"Fernando Alonso\", \"Pierre Gasly\", \"Kimi R\\u00e4ikk\\u00f6nen\", \"Valtteri Bottas\", \"Charles Leclerc\", \"Valtteri Bottas\", \"Lewis Hamilton\", \"Lewis Hamilton\", \"Nelson Piquet\", \"Alessandro Nannini\", \"Nelson Piquet\", \"\\u00c9ric Bernard\", \"Nigel Mansell\", \"Alain Prost\", \"Ayrton Senna\", \"Nelson Piquet\", \"Nigel Mansell\", \"Thierry Boutsen\", \"Alain Prost\", \"Alain Prost\", \"Mike Hawthorn\"], \"legendgroup\": \"\", \"marker\": {\"color\": [90, 90, 90, 90, 90, 90, 90, 101, 90, 90, 90, 85, 90, 75, 90, 75, 75, 75, 75, 75, 75, 75, 75, 52, 52, 75, 75, 52, 52, 52, 52, 52, 52, 75, 52, 75, 80, 80, 80, 82, 82, 70, 82, 70, 70, 80, 80, 75, 75, 75, 75, 75, 75, 80, 80, 77, 80, 80, 80, 77, 77, 80, 80, 80, 80, 80, 80, 80, 80, 80, 80, 84, 76, 76, 76, 60, 60, 60, 76, 76, 75, 75, 76, 75, 75, 76, 76, 76, 60, 60, 60, 52, 52, 61, 52, 76, 76, 76, 52, 52, 76, 61, 52, 76, 76, 52, 52, 52, 76, 76, 61, 52, 61, 76, 65, 61, 65, 61, 61, 65, 52, 52, 61, 60, 60, 60, 60, 60, 65, 60, 52, 52, 52, 52, 60, 52, 60, 52, 61, 52, 52, 65, 52, 52, 52, 52, 60, 52, 52, 61, 52, 52, 60, 68, 60, 52, 68, 60, 52, 52, 60, 68, 60, 68, 68, 52, 68, 60, 52, 68, 60, 60, 60, 52, 68, 52, 60, 75, 75, 67, 71, 67, 71, 60, 60, 67, 52, 52, 52, 52, 52, 67, 60, 52, 60, 60, 52, 60, 60, 60, 71, 60, 60, 67, 67, 67, 60, 67, 59, 60, 52, 52, 60, 60, 52, 52, 60, 60, 60, 60, 52, 60, 59, 59, 59, 52, 59, 59, 59, 52, 52, 52, 52, 52, 59, 52, 52, 52, 52, 52, 59, 68, 52, 52, 52, 60, 60, 60, 59, 60, 59, 59, 68, 60, 59, 59, 68, 60, 59, 60, 59, 60, 68, 60, 52, 60, 60, 52, 52, 52, 52, 52, 52, 60, 60, 60, 52, 60, 59, 52, 60, 59, 52, 52, 67, 59, 52, 60, 52, 52, 52, 52, 52, 52, 52, 52, 67, 60, 60, 52, 52, 52, 52, 52, 60, 52, 60, 60, 60, 67, 60, 52, 52, 67, 60, 60, 60, 60, 60, 60, 60, 60, 67, 52, 52, 60, 60, 60, 60, 60, 60, 60, 60, 60, 60, 60, 60, 51, 60, 59, 59, 59, 51, 51, 52, 52, 52, 59, 52, 51, 52, 52, 56, 51, 52, 52, 52, 59, 52, 59, 51, 52, 52, 51, 52, 64, 64, 64, 64, 64, 64, 64, 65, 65, 64, 64, 65, 90], \"coloraxis\": \"coloraxis\", \"symbol\": \"circle\"}, \"mode\": \"markers\", \"name\": \"\", \"showlegend\": false, \"type\": \"scatter\", \"x\": [1955, 1955, 1955, 1957, 1957, 1957, 1957, 1956, 1954, 1953, 1953, 1952, 1951, 1961, 1951, 1961, 1961, 1961, 1961, 1961, 1959, 1959, 1959, 2014, 2014, 1962, 1962, 2014, 2014, 2014, 2014, 2014, 2014, 1962, 2014, 1962, 1964, 1964, 1964, 1963, 1963, 1950, 1963, 1950, 1950, 1966, 1966, 1958, 1958, 1958, 1958, 1958, 1958, 1965, 1965, 1960, 1965, 1965, 1965, 1960, 1960, 1968, 1968, 1967, 1967, 1967, 1967, 1970, 1970, 1970, 1970, 1969, 1972, 1972, 1972, 1998, 1998, 1998, 1976, 1976, 1974, 1974, 1978, 1974, 1974, 1978, 1978, 1978, 2008, 2008, 2008, 2016, 2016, 1995, 2016, 1982, 1982, 1982, 2016, 2016, 1982, 1995, 2016, 1982, 1982, 2016, 2016, 2016, 1980, 1980, 1995, 2016, 1995, 1980, 1988, 1995, 1988, 1996, 1996, 1988, 2013, 2013, 1996, 1999, 1999, 1999, 1999, 1999, 1988, 1999, 2013, 2013, 2013, 2013, 1999, 2013, 1999, 2013, 1996, 2013, 2013, 1988, 2013, 2013, 2013, 2013, 1999, 2013, 2013, 1996, 2013, 2013, 1999, 1977, 1999, 2015, 1977, 1999, 2015, 2015, 1999, 1971, 2002, 1971, 1977, 2015, 1977, 2002, 2015, 1977, 1994, 2002, 1994, 2015, 1971, 2015, 1994, 1986, 1986, 1973, 1984, 1973, 1984, 2000, 1994, 1973, 2011, 2011, 2011, 2011, 2011, 1973, 2000, 2011, 2003, 2003, 2011, 2003, 2003, 2000, 1984, 2003, 2003, 1973, 1973, 1973, 2003, 1973, 1997, 2003, 2011, 2011, 2000, 2003, 2011, 2011, 2000, 2000, 2003, 2003, 2011, 2003, 1991, 1997, 1997, 2018, 1991, 1997, 1997, 2018, 2018, 2018, 2018, 2018, 1997, 2018, 2018, 2018, 2018, 2018, 1991, 1981, 2018, 2018, 2018, 2006, 2006, 2006, 1992, 2006, 1993, 1993, 1981, 2001, 1992, 1992, 1979, 2001, 1992, 2006, 1992, 2006, 1979, 2006, 2012, 2001, 2006, 2012, 2012, 2012, 2012, 2012, 2012, 2006, 2005, 2005, 2012, 2005, 1993, 2010, 2005, 1992, 2010, 2012, 1983, 1993, 2010, 2001, 2012, 2010, 2012, 2012, 2010, 2010, 2010, 2010, 1983, 2004, 2004, 2012, 2010, 2012, 2012, 2010, 2005, 2010, 2004, 2004, 2004, 1983, 2004, 2010, 2010, 1983, 2004, 2004, 2004, 2005, 2004, 2004, 2005, 2004, 1983, 2010, 2010, 2005, 2005, 2009, 2009, 2009, 2009, 2009, 2009, 2009, 2009, 2009, 2009, 2017, 2009, 2007, 2007, 2007, 2017, 2017, 2019, 2019, 2019, 2007, 2019, 2017, 2019, 2019, 1975, 2017, 2019, 2019, 2019, 2007, 2019, 2007, 2017, 2019, 2019, 2017, 2019, 1989, 1989, 1990, 1990, 1989, 1989, 1990, 1987, 1987, 1990, 1990, 1985, 1954], \"xaxis\": \"x\", \"y\": [188.55, 187.35666666666665, 187.35333333333332, 187.34333333333333, 187.05666666666667, 186.63, 186.63, 179.78333333333333, 176.23333333333332, 171.0, 170.0, 166.18333333333334, 163.15333333333334, 162.33, 162.30333333333334, 162.16333333333333, 162.03666666666666, 161.67333333333335, 161.66, 160.89333333333335, 150.56666666666666, 150.56333333333333, 150.19333333333333, 148.35723333333334, 148.34643333333332, 148.29333333333332, 148.09333333333333, 147.91095, 147.86733333333333, 147.76596666666666, 147.65806666666666, 147.64315, 147.37048333333334, 147.16666666666666, 146.86823333333334, 146.34666666666666, 136.46, 135.16333333333333, 135.11666666666667, 134.78666666666666, 134.59, 134.26, 134.16, 133.43666666666667, 133.39333333333335, 133.38333333333333, 133.22333333333333, 130.45666666666668, 130.31666666666666, 129.91666666666666, 129.91333333333333, 129.47333333333333, 129.07, 126.66666666666667, 126.08333333333333, 125.89833333333333, 125.88333333333334, 125.47666666666667, 125.42333333333333, 125.23166666666667, 124.405, 121.41166666666666, 121.33833333333334, 119.79, 119.70333333333333, 119.64, 119.42666666666666, 117.94666666666667, 117.94, 117.58166666666666, 117.03333333333333, 115.92666666666666, 109.045, 107.905, 107.83666666666667, 107.52665, 107.41441666666667, 107.04, 104.59733333333334, 104.32766666666667, 104.15666666666667, 104.06166666666667, 103.42766666666667, 103.29166666666667, 103.03666666666666, 102.82733333333333, 102.227, 102.2065, 100.52855, 100.30028333333334, 99.15733333333333, 96.47385, 96.45808333333333, 96.38775, 96.36148333333334, 96.25746666666667, 96.25403333333334, 96.2509, 96.22571666666667, 96.21286666666667, 96.20413333333333, 96.13768333333333, 96.0929, 95.9923, 95.56353333333334, 95.36736666666667, 95.21236666666667, 95.06801666666667, 95.04188333333333, 95.00391666666667, 94.98301666666667, 94.93051666666666, 94.85953333333333, 94.82046666666666, 94.62003333333334, 94.58488333333334, 94.46241666666667, 94.38968333333334, 94.1265, 94.12635, 94.12025, 94.1186, 93.86173333333333, 93.84393333333334, 93.79755, 93.7878, 93.70445, 93.70315, 93.66185, 93.64556666666667, 93.59255, 93.51781666666666, 93.42901666666667, 93.42375, 93.41263333333333, 93.40916666666666, 93.39645, 93.34318333333333, 93.33166666666666, 93.31941666666667, 93.28998333333334, 93.27278333333334, 93.26665, 93.26318333333333, 93.23381666666667, 93.17855, 93.14583333333333, 93.1202, 93.10966666666667, 93.01456666666667, 93.00368333333333, 92.99093333333333, 92.96555, 92.96316666666667, 92.95925, 92.77455, 92.56366666666666, 92.53288333333333, 92.52806666666666, 92.51538333333333, 92.5024, 92.36666666666666, 92.27793333333334, 92.12666666666667, 92.09383333333334, 92.07613333333333, 92.07283333333334, 91.99321666666667, 91.8862, 91.76766666666667, 91.75651666666667, 91.75025, 91.73831666666666, 91.64475, 91.525, 91.46215, 91.19613333333334, 90.73408333333333, 90.64118333333333, 90.59833333333333, 90.531, 90.50333333333333, 90.17758333333333, 90.15635, 90.06066666666666, 90.05333333333333, 90.03128333333333, 90.01513333333334, 90.00506666666666, 89.98513333333334, 89.94563333333333, 89.91833333333334, 89.79778333333333, 89.77976666666666, 89.71863333333333, 89.71268333333333, 89.69768333333333, 89.68538333333333, 89.5931, 89.52366666666667, 89.47553333333333, 89.38386666666666, 89.37731666666667, 89.365, 89.35833333333333, 89.355, 89.34368333333333, 89.30833333333334, 89.25361666666667, 89.23968333333333, 89.1701, 89.1697, 89.16708333333334, 89.05336666666666, 88.96905, 88.96178333333333, 88.85975, 88.83513333333333, 88.8035, 88.71693333333333, 88.6866, 88.6259, 88.59381666666667, 88.55908333333333, 88.54823333333333, 88.29828333333333, 88.2962, 88.21601666666666, 88.19783333333334, 88.14855, 88.1315, 88.09263333333334, 88.07486666666667, 88.04953333333333, 88.02775, 88.01498333333333, 87.99523333333333, 87.96673333333334, 87.65473333333334, 87.64445, 87.59131666666667, 87.59083333333334, 87.55726666666666, 87.53413333333333, 87.4964, 87.18225, 87.17043333333334, 87.10868333333333, 87.05215, 86.94493333333334, 86.94326666666667, 86.92785, 86.91333333333333, 86.70903333333334, 86.64643333333333, 86.6043, 86.59083333333334, 86.55085, 86.5231, 86.39143333333334, 86.36808333333333, 86.19838333333334, 86.18616666666667, 86.17665, 86.1447, 86.1236, 86.09796666666666, 86.07668333333334, 86.04215, 85.98573333333333, 85.9443, 85.92886666666666, 85.91058333333334, 85.86545, 85.84146666666666, 85.81313333333334, 85.79585, 85.7698, 85.76415, 85.76148333333333, 85.74813333333333, 85.71651666666666, 85.67641666666667, 85.67401666666666, 85.64423333333333, 85.63648333333333, 85.62623333333333, 85.56283333333333, 85.47315, 85.43045, 85.36003333333333, 85.34678333333333, 85.34431666666667, 85.33686666666667, 85.32998333333333, 85.31886666666666, 85.3122, 85.28338333333333, 85.27393333333333, 85.26873333333333, 85.2489, 85.23913333333333, 85.18813333333334, 85.17285, 85.1648, 85.16093333333333, 85.12558333333334, 85.11205, 85.10668333333334, 85.10043333333333, 85.03946666666667, 85.0031, 84.99178333333333, 84.98235, 84.92646666666667, 84.91455, 84.88971666666667, 84.79146666666666, 84.76356666666666, 84.74716666666667, 84.73313333333333, 84.71166666666667, 84.663, 84.65933333333334, 84.63666666666667, 84.53813333333333, 84.49313333333333, 84.05585, 84.01416666666667, 83.98585, 83.9825, 83.96058333333333, 83.59355, 83.58738333333334, 83.57285, 83.50838333333333, 83.07526666666666, 83.02365, 82.82213333333333, 82.65683333333334, 82.61895, 82.60655, 82.59231666666666, 82.55641666666666, 82.4923, 82.40115, 82.37888333333333, 82.37411666666667, 82.35308333333333, 82.32591666666667, 82.25286666666666, 82.2332, 82.08333333333333, 82.06666666666666, 82.04755, 82.03485, 81.7985, 81.75888333333333, 81.71906666666666, 81.7179, 81.69155, 81.64281666666666, 81.55633333333333, 81.45716666666667, 81.14086666666667, 80.4811, 80.16916666666667, 79.9167, 79.77168333333333, 79.69166666666666, 79.36885, 79.23478333333334, 79.2283, 79.19633333333333, 79.16818333333333, 78.51665, 78.17393333333334, null], \"yaxis\": \"y\"}, {\"hoverlabel\": {\"namelength\": 0}, \"hovertemplate\": \"<b>LOWESS trendline</b><br><br>Season=%{x}<br>Time_mins=%{y} <b>(trend)</b>\", \"legendgroup\": \"\", \"line\": {\"color\": \"turquoise\"}, \"marker\": {\"symbol\": \"circle\"}, \"mode\": \"lines\", \"name\": \"\", \"showlegend\": false, \"type\": \"scatter\", \"x\": [1950, 1950, 1950, 1951, 1951, 1952, 1953, 1953, 1954, 1954, 1955, 1955, 1955, 1956, 1957, 1957, 1957, 1957, 1958, 1958, 1958, 1958, 1958, 1958, 1959, 1959, 1959, 1960, 1960, 1960, 1961, 1961, 1961, 1961, 1961, 1961, 1962, 1962, 1962, 1962, 1963, 1963, 1963, 1964, 1964, 1964, 1965, 1965, 1965, 1965, 1965, 1966, 1966, 1967, 1967, 1967, 1967, 1968, 1968, 1969, 1970, 1970, 1970, 1970, 1971, 1971, 1971, 1972, 1972, 1972, 1973, 1973, 1973, 1973, 1973, 1973, 1973, 1973, 1974, 1974, 1974, 1974, 1975, 1976, 1976, 1977, 1977, 1977, 1977, 1977, 1978, 1978, 1978, 1978, 1979, 1979, 1980, 1980, 1980, 1981, 1981, 1982, 1982, 1982, 1982, 1982, 1982, 1983, 1983, 1983, 1983, 1983, 1984, 1984, 1984, 1985, 1986, 1986, 1987, 1987, 1988, 1988, 1988, 1988, 1988, 1989, 1989, 1989, 1989, 1990, 1990, 1990, 1990, 1990, 1991, 1991, 1991, 1992, 1992, 1992, 1992, 1992, 1992, 1993, 1993, 1993, 1993, 1994, 1994, 1994, 1994, 1995, 1995, 1995, 1995, 1995, 1996, 1996, 1996, 1996, 1996, 1997, 1997, 1997, 1997, 1997, 1997, 1998, 1998, 1998, 1999, 1999, 1999, 1999, 1999, 1999, 1999, 1999, 1999, 1999, 1999, 1999, 1999, 2000, 2000, 2000, 2000, 2000, 2000, 2001, 2001, 2001, 2001, 2002, 2002, 2002, 2003, 2003, 2003, 2003, 2003, 2003, 2003, 2003, 2003, 2003, 2003, 2003, 2004, 2004, 2004, 2004, 2004, 2004, 2004, 2004, 2004, 2004, 2004, 2004, 2005, 2005, 2005, 2005, 2005, 2005, 2005, 2005, 2005, 2006, 2006, 2006, 2006, 2006, 2006, 2006, 2006, 2006, 2007, 2007, 2007, 2007, 2007, 2007, 2008, 2008, 2008, 2009, 2009, 2009, 2009, 2009, 2009, 2009, 2009, 2009, 2009, 2009, 2010, 2010, 2010, 2010, 2010, 2010, 2010, 2010, 2010, 2010, 2010, 2010, 2010, 2010, 2010, 2011, 2011, 2011, 2011, 2011, 2011, 2011, 2011, 2011, 2011, 2011, 2011, 2012, 2012, 2012, 2012, 2012, 2012, 2012, 2012, 2012, 2012, 2012, 2012, 2012, 2012, 2012, 2013, 2013, 2013, 2013, 2013, 2013, 2013, 2013, 2013, 2013, 2013, 2013, 2013, 2013, 2013, 2013, 2013, 2013, 2014, 2014, 2014, 2014, 2014, 2014, 2014, 2014, 2014, 2015, 2015, 2015, 2015, 2015, 2015, 2015, 2016, 2016, 2016, 2016, 2016, 2016, 2016, 2016, 2016, 2016, 2017, 2017, 2017, 2017, 2017, 2017, 2017, 2018, 2018, 2018, 2018, 2018, 2018, 2018, 2018, 2018, 2018, 2018, 2018, 2018, 2018, 2019, 2019, 2019, 2019, 2019, 2019, 2019, 2019, 2019, 2019, 2019, 2019, 2019], \"xaxis\": \"x\", \"y\": [144.78161236736707, 144.78161236736707, 144.78161236736707, 143.2584047359044, 143.2584047359044, 141.73994526125045, 140.22666118718487, 140.22666118718487, 138.7189412969037, 137.2171939623262, 137.2171939623262, 137.2171939623262, 135.72185963863728, 134.23341461347826, 134.23341461347826, 134.23341461347826, 134.23341461347826, 132.7523747890284, 132.7523747890284, 132.7523747890284, 132.7523747890284, 132.7523747890284, 132.7523747890284, 131.27932456166286, 131.27932456166286, 131.27932456166286, 129.81495361770214, 129.81495361770214, 129.81495361770214, 128.35987904174695, 128.35987904174695, 128.35987904174695, 128.35987904174695, 128.35987904174695, 128.35987904174695, 126.91477862278201, 126.91477862278201, 126.91477862278201, 126.91477862278201, 125.48033597004095, 125.48033597004095, 125.48033597004095, 124.05706304938259, 124.05706304938259, 124.05706304938259, 122.64524739478078, 122.64524739478078, 122.64524739478078, 122.64524739478078, 122.64524739478078, 121.24492168734, 121.24492168734, 119.85587914701604, 119.85587914701604, 119.85587914701604, 119.85587914701604, 118.47766126437145, 118.47766126437145, 117.10960830363474, 115.75080900222564, 115.75080900222564, 115.75080900222564, 115.75080900222564, 114.40005848290565, 114.40005848290565, 114.40005848290565, 113.05575503061824, 113.05575503061824, 113.05575503061824, 111.71587475796461, 111.71587475796461, 111.71587475796461, 111.71587475796461, 111.71587475796461, 111.71587475796461, 111.71587475796461, 111.71587475796461, 110.37796000981616, 110.37796000981616, 110.37796000981616, 110.37796000981616, 109.03909769372643, 107.69592237483201, 107.69592237483201, 106.34452423189254, 106.34452423189254, 106.34452423189254, 106.34452423189254, 106.34452423189254, 104.98057461824183, 104.98057461824183, 104.98057461824183, 104.98057461824183, 103.5991734350041, 103.5991734350041, 102.19122840795968, 102.19122840795968, 102.19122840795968, 100.73659139332995, 100.73659139332995, 99.61853227429398, 99.61853227429398, 99.61853227429398, 99.61853227429398, 99.61853227429398, 99.61853227429398, 98.11528058804261, 98.11528058804261, 98.11528058804261, 98.11528058804261, 98.11528058804261, 96.61029731332707, 96.61029731332707, 96.61029731332707, 95.5765346757687, 94.18480674331414, 94.18480674331414, 93.32131094280604, 93.32131094280604, 92.25908385837202, 92.25908385837202, 92.25908385837202, 92.25908385837202, 92.25908385837202, 91.65330789305277, 91.65330789305277, 91.65330789305277, 91.65330789305277, 90.94933594146354, 90.94933594146354, 90.94933594146354, 90.94933594146354, 90.94933594146354, 90.39781222471004, 90.39781222471004, 90.39781222471004, 89.95416060227252, 89.95416060227252, 89.95416060227252, 89.95416060227252, 89.95416060227252, 89.95416060227252, 89.66022418727518, 89.66022418727518, 89.66022418727518, 89.66022418727518, 89.39585075137352, 89.39585075137352, 89.39585075137352, 89.39585075137352, 89.12640367013682, 89.12640367013682, 89.12640367013682, 89.12640367013682, 89.12640367013682, 88.95037113136885, 88.95037113136885, 88.95037113136885, 88.95037113136885, 88.95037113136885, 88.8249409609896, 88.8249409609896, 88.8249409609896, 88.8249409609896, 88.8249409609896, 88.8249409609896, 88.72852319054859, 88.72852319054859, 88.72852319054859, 88.70392477212336, 88.70392477212336, 88.70392477212336, 88.70392477212336, 88.70392477212336, 88.70392477212336, 88.70392477212336, 88.70392477212336, 88.70392477212336, 88.70392477212336, 88.70392477212336, 88.70392477212336, 88.70392477212336, 88.65843268972834, 88.65843268972834, 88.65843268972834, 88.65843268972834, 88.65843268972834, 88.65843268972834, 88.67080034503908, 88.67080034503908, 88.67080034503908, 88.67080034503908, 88.63607824013287, 88.63607824013287, 88.63607824013287, 88.6162827108083, 88.6162827108083, 88.6162827108083, 88.6162827108083, 88.6162827108083, 88.6162827108083, 88.6162827108083, 88.6162827108083, 88.6162827108083, 88.6162827108083, 88.6162827108083, 88.6162827108083, 88.4983877192918, 88.4983877192918, 88.4983877192918, 88.4983877192918, 88.4983877192918, 88.4983877192918, 88.4983877192918, 88.4983877192918, 88.4983877192918, 88.4983877192918, 88.4983877192918, 88.4983877192918, 88.43459134791578, 88.43459134791578, 88.43459134791578, 88.43459134791578, 88.43459134791578, 88.43459134791578, 88.43459134791578, 88.43459134791578, 88.43459134791578, 88.36493555616984, 88.36493555616984, 88.36493555616984, 88.36493555616984, 88.36493555616984, 88.36493555616984, 88.36493555616984, 88.36493555616984, 88.36493555616984, 88.27289711387006, 88.27289711387006, 88.27289711387006, 88.27289711387006, 88.27289711387006, 88.27289711387006, 88.16425997497406, 88.16425997497406, 88.16425997497406, 88.04751461514617, 88.04751461514617, 88.04751461514617, 88.04751461514617, 88.04751461514617, 88.04751461514617, 88.04751461514617, 88.04751461514617, 88.04751461514617, 88.04751461514617, 88.04751461514617, 87.92920403001322, 87.92920403001322, 87.92920403001322, 87.92920403001322, 87.92920403001322, 87.92920403001322, 87.92920403001322, 87.92920403001322, 87.92920403001322, 87.92920403001322, 87.92920403001322, 87.92920403001322, 87.92920403001322, 87.92920403001322, 87.92920403001322, 87.81455973211634, 87.81455973211634, 87.81455973211634, 87.81455973211634, 87.81455973211634, 87.81455973211634, 87.81455973211634, 87.81455973211634, 87.81455973211634, 87.81455973211634, 87.81455973211634, 87.81455973211634, 87.70744872103872, 87.70744872103872, 87.70744872103872, 87.70744872103872, 87.70744872103872, 87.70744872103872, 87.70744872103872, 87.70744872103872, 87.70744872103872, 87.70744872103872, 87.70744872103872, 87.70744872103872, 87.70744872103872, 87.70744872103872, 87.70744872103872, 87.61011335569916, 87.61011335569916, 87.61011335569916, 87.61011335569916, 87.61011335569916, 87.61011335569916, 87.61011335569916, 87.61011335569916, 87.61011335569916, 87.61011335569916, 87.61011335569916, 87.61011335569916, 87.61011335569916, 87.61011335569916, 87.61011335569916, 87.61011335569916, 87.61011335569916, 87.61011335569916, 87.52369655626005, 87.52369655626005, 87.52369655626005, 87.52369655626005, 87.52369655626005, 87.52369655626005, 87.52369655626005, 87.52369655626005, 87.52369655626005, 87.44761061700007, 87.44761061700007, 87.44761061700007, 87.44761061700007, 87.44761061700007, 87.44761061700007, 87.44761061700007, 87.38060893175363, 87.38060893175363, 87.38060893175363, 87.38060893175363, 87.38060893175363, 87.38060893175363, 87.38060893175363, 87.38060893175363, 87.38060893175363, 87.38060893175363, 87.32070498708546, 87.32070498708546, 87.32070498708546, 87.32070498708546, 87.32070498708546, 87.32070498708546, 87.32070498708546, 87.26504985854307, 87.26504985854307, 87.26504985854307, 87.26504985854307, 87.26504985854307, 87.26504985854307, 87.26504985854307, 87.26504985854307, 87.26504985854307, 87.26504985854307, 87.26504985854307, 87.26504985854307, 87.26504985854307, 87.26504985854307, 87.21117245206618, 87.21117245206618, 87.21117245206618, 87.21117245206618, 87.21117245206618, 87.21117245206618, 87.21117245206618, 87.21117245206618, 87.21117245206618, 87.21117245206618, 87.21117245206618, 87.21117245206618, 87.21117245206618], \"yaxis\": \"y\"}],\n",
       "                        {\"coloraxis\": {\"colorbar\": {\"title\": {\"text\": \"Laps\"}}, \"colorscale\": [[0.0, \"#0d0887\"], [0.1111111111111111, \"#46039f\"], [0.2222222222222222, \"#7201a8\"], [0.3333333333333333, \"#9c179e\"], [0.4444444444444444, \"#bd3786\"], [0.5555555555555556, \"#d8576b\"], [0.6666666666666666, \"#ed7953\"], [0.7777777777777778, \"#fb9f3a\"], [0.8888888888888888, \"#fdca26\"], [1.0, \"#f0f921\"]]}, \"legend\": {\"tracegroupgap\": 0}, \"template\": {\"data\": {\"bar\": [{\"error_x\": {\"color\": \"#2a3f5f\"}, \"error_y\": {\"color\": \"#2a3f5f\"}, \"marker\": {\"line\": {\"color\": \"#E5ECF6\", \"width\": 0.5}}, \"type\": \"bar\"}], \"barpolar\": [{\"marker\": {\"line\": {\"color\": \"#E5ECF6\", \"width\": 0.5}}, \"type\": \"barpolar\"}], \"carpet\": [{\"aaxis\": {\"endlinecolor\": \"#2a3f5f\", \"gridcolor\": \"white\", \"linecolor\": \"white\", \"minorgridcolor\": \"white\", \"startlinecolor\": \"#2a3f5f\"}, \"baxis\": {\"endlinecolor\": \"#2a3f5f\", \"gridcolor\": \"white\", \"linecolor\": \"white\", \"minorgridcolor\": \"white\", \"startlinecolor\": \"#2a3f5f\"}, \"type\": \"carpet\"}], \"choropleth\": [{\"colorbar\": {\"outlinewidth\": 0, \"ticks\": \"\"}, \"type\": \"choropleth\"}], \"contour\": [{\"colorbar\": {\"outlinewidth\": 0, \"ticks\": \"\"}, \"colorscale\": [[0.0, \"#0d0887\"], [0.1111111111111111, \"#46039f\"], [0.2222222222222222, \"#7201a8\"], [0.3333333333333333, \"#9c179e\"], [0.4444444444444444, \"#bd3786\"], [0.5555555555555556, \"#d8576b\"], [0.6666666666666666, \"#ed7953\"], [0.7777777777777778, \"#fb9f3a\"], [0.8888888888888888, \"#fdca26\"], [1.0, \"#f0f921\"]], \"type\": \"contour\"}], \"contourcarpet\": [{\"colorbar\": {\"outlinewidth\": 0, \"ticks\": \"\"}, \"type\": \"contourcarpet\"}], \"heatmap\": [{\"colorbar\": {\"outlinewidth\": 0, \"ticks\": \"\"}, \"colorscale\": [[0.0, \"#0d0887\"], [0.1111111111111111, \"#46039f\"], [0.2222222222222222, \"#7201a8\"], [0.3333333333333333, \"#9c179e\"], [0.4444444444444444, \"#bd3786\"], [0.5555555555555556, \"#d8576b\"], [0.6666666666666666, \"#ed7953\"], [0.7777777777777778, \"#fb9f3a\"], [0.8888888888888888, \"#fdca26\"], [1.0, \"#f0f921\"]], \"type\": \"heatmap\"}], \"heatmapgl\": [{\"colorbar\": {\"outlinewidth\": 0, \"ticks\": \"\"}, \"colorscale\": [[0.0, \"#0d0887\"], [0.1111111111111111, \"#46039f\"], [0.2222222222222222, \"#7201a8\"], [0.3333333333333333, \"#9c179e\"], [0.4444444444444444, \"#bd3786\"], [0.5555555555555556, \"#d8576b\"], [0.6666666666666666, \"#ed7953\"], [0.7777777777777778, \"#fb9f3a\"], [0.8888888888888888, \"#fdca26\"], [1.0, \"#f0f921\"]], \"type\": \"heatmapgl\"}], \"histogram\": [{\"marker\": {\"colorbar\": {\"outlinewidth\": 0, \"ticks\": \"\"}}, \"type\": \"histogram\"}], \"histogram2d\": [{\"colorbar\": {\"outlinewidth\": 0, \"ticks\": \"\"}, \"colorscale\": [[0.0, \"#0d0887\"], [0.1111111111111111, \"#46039f\"], [0.2222222222222222, \"#7201a8\"], [0.3333333333333333, \"#9c179e\"], [0.4444444444444444, \"#bd3786\"], [0.5555555555555556, \"#d8576b\"], [0.6666666666666666, \"#ed7953\"], [0.7777777777777778, \"#fb9f3a\"], [0.8888888888888888, \"#fdca26\"], [1.0, \"#f0f921\"]], \"type\": \"histogram2d\"}], \"histogram2dcontour\": [{\"colorbar\": {\"outlinewidth\": 0, \"ticks\": \"\"}, \"colorscale\": [[0.0, \"#0d0887\"], [0.1111111111111111, \"#46039f\"], [0.2222222222222222, \"#7201a8\"], [0.3333333333333333, \"#9c179e\"], [0.4444444444444444, \"#bd3786\"], [0.5555555555555556, \"#d8576b\"], [0.6666666666666666, \"#ed7953\"], [0.7777777777777778, \"#fb9f3a\"], [0.8888888888888888, \"#fdca26\"], [1.0, \"#f0f921\"]], \"type\": \"histogram2dcontour\"}], \"mesh3d\": [{\"colorbar\": {\"outlinewidth\": 0, \"ticks\": \"\"}, \"type\": \"mesh3d\"}], \"parcoords\": [{\"line\": {\"colorbar\": {\"outlinewidth\": 0, \"ticks\": \"\"}}, \"type\": \"parcoords\"}], \"pie\": [{\"automargin\": true, \"type\": \"pie\"}], \"scatter\": [{\"marker\": {\"colorbar\": {\"outlinewidth\": 0, \"ticks\": \"\"}}, \"type\": \"scatter\"}], \"scatter3d\": [{\"line\": {\"colorbar\": {\"outlinewidth\": 0, \"ticks\": \"\"}}, \"marker\": {\"colorbar\": {\"outlinewidth\": 0, \"ticks\": \"\"}}, \"type\": \"scatter3d\"}], \"scattercarpet\": [{\"marker\": {\"colorbar\": {\"outlinewidth\": 0, \"ticks\": \"\"}}, \"type\": \"scattercarpet\"}], \"scattergeo\": [{\"marker\": {\"colorbar\": {\"outlinewidth\": 0, \"ticks\": \"\"}}, \"type\": \"scattergeo\"}], \"scattergl\": [{\"marker\": {\"colorbar\": {\"outlinewidth\": 0, \"ticks\": \"\"}}, \"type\": \"scattergl\"}], \"scattermapbox\": [{\"marker\": {\"colorbar\": {\"outlinewidth\": 0, \"ticks\": \"\"}}, \"type\": \"scattermapbox\"}], \"scatterpolar\": [{\"marker\": {\"colorbar\": {\"outlinewidth\": 0, \"ticks\": \"\"}}, \"type\": \"scatterpolar\"}], \"scatterpolargl\": [{\"marker\": {\"colorbar\": {\"outlinewidth\": 0, \"ticks\": \"\"}}, \"type\": \"scatterpolargl\"}], \"scatterternary\": [{\"marker\": {\"colorbar\": {\"outlinewidth\": 0, \"ticks\": \"\"}}, \"type\": \"scatterternary\"}], \"surface\": [{\"colorbar\": {\"outlinewidth\": 0, \"ticks\": \"\"}, \"colorscale\": [[0.0, \"#0d0887\"], [0.1111111111111111, \"#46039f\"], [0.2222222222222222, \"#7201a8\"], [0.3333333333333333, \"#9c179e\"], [0.4444444444444444, \"#bd3786\"], [0.5555555555555556, \"#d8576b\"], [0.6666666666666666, \"#ed7953\"], [0.7777777777777778, \"#fb9f3a\"], [0.8888888888888888, \"#fdca26\"], [1.0, \"#f0f921\"]], \"type\": \"surface\"}], \"table\": [{\"cells\": {\"fill\": {\"color\": \"#EBF0F8\"}, \"line\": {\"color\": \"white\"}}, \"header\": {\"fill\": {\"color\": \"#C8D4E3\"}, \"line\": {\"color\": \"white\"}}, \"type\": \"table\"}]}, \"layout\": {\"annotationdefaults\": {\"arrowcolor\": \"#2a3f5f\", \"arrowhead\": 0, \"arrowwidth\": 1}, \"coloraxis\": {\"colorbar\": {\"outlinewidth\": 0, \"ticks\": \"\"}}, \"colorscale\": {\"diverging\": [[0, \"#8e0152\"], [0.1, \"#c51b7d\"], [0.2, \"#de77ae\"], [0.3, \"#f1b6da\"], [0.4, \"#fde0ef\"], [0.5, \"#f7f7f7\"], [0.6, \"#e6f5d0\"], [0.7, \"#b8e186\"], [0.8, \"#7fbc41\"], [0.9, \"#4d9221\"], [1, \"#276419\"]], \"sequential\": [[0.0, \"#0d0887\"], [0.1111111111111111, \"#46039f\"], [0.2222222222222222, \"#7201a8\"], [0.3333333333333333, \"#9c179e\"], [0.4444444444444444, \"#bd3786\"], [0.5555555555555556, \"#d8576b\"], [0.6666666666666666, \"#ed7953\"], [0.7777777777777778, \"#fb9f3a\"], [0.8888888888888888, \"#fdca26\"], [1.0, \"#f0f921\"]], \"sequentialminus\": [[0.0, \"#0d0887\"], [0.1111111111111111, \"#46039f\"], [0.2222222222222222, \"#7201a8\"], [0.3333333333333333, \"#9c179e\"], [0.4444444444444444, \"#bd3786\"], [0.5555555555555556, \"#d8576b\"], [0.6666666666666666, \"#ed7953\"], [0.7777777777777778, \"#fb9f3a\"], [0.8888888888888888, \"#fdca26\"], [1.0, \"#f0f921\"]]}, \"colorway\": [\"#636efa\", \"#EF553B\", \"#00cc96\", \"#ab63fa\", \"#FFA15A\", \"#19d3f3\", \"#FF6692\", \"#B6E880\", \"#FF97FF\", \"#FECB52\"], \"font\": {\"color\": \"#2a3f5f\"}, \"geo\": {\"bgcolor\": \"white\", \"lakecolor\": \"white\", \"landcolor\": \"#E5ECF6\", \"showlakes\": true, \"showland\": true, \"subunitcolor\": \"white\"}, \"hoverlabel\": {\"align\": \"left\"}, \"hovermode\": \"closest\", \"mapbox\": {\"style\": \"light\"}, \"paper_bgcolor\": \"white\", \"plot_bgcolor\": \"#E5ECF6\", \"polar\": {\"angularaxis\": {\"gridcolor\": \"white\", \"linecolor\": \"white\", \"ticks\": \"\"}, \"bgcolor\": \"#E5ECF6\", \"radialaxis\": {\"gridcolor\": \"white\", \"linecolor\": \"white\", \"ticks\": \"\"}}, \"scene\": {\"xaxis\": {\"backgroundcolor\": \"#E5ECF6\", \"gridcolor\": \"white\", \"gridwidth\": 2, \"linecolor\": \"white\", \"showbackground\": true, \"ticks\": \"\", \"zerolinecolor\": \"white\"}, \"yaxis\": {\"backgroundcolor\": \"#E5ECF6\", \"gridcolor\": \"white\", \"gridwidth\": 2, \"linecolor\": \"white\", \"showbackground\": true, \"ticks\": \"\", \"zerolinecolor\": \"white\"}, \"zaxis\": {\"backgroundcolor\": \"#E5ECF6\", \"gridcolor\": \"white\", \"gridwidth\": 2, \"linecolor\": \"white\", \"showbackground\": true, \"ticks\": \"\", \"zerolinecolor\": \"white\"}}, \"shapedefaults\": {\"line\": {\"color\": \"#2a3f5f\"}}, \"ternary\": {\"aaxis\": {\"gridcolor\": \"white\", \"linecolor\": \"white\", \"ticks\": \"\"}, \"baxis\": {\"gridcolor\": \"white\", \"linecolor\": \"white\", \"ticks\": \"\"}, \"bgcolor\": \"#E5ECF6\", \"caxis\": {\"gridcolor\": \"white\", \"linecolor\": \"white\", \"ticks\": \"\"}}, \"title\": {\"x\": 0.05}, \"xaxis\": {\"automargin\": true, \"gridcolor\": \"white\", \"linecolor\": \"white\", \"ticks\": \"\", \"title\": {\"standoff\": 15}, \"zerolinecolor\": \"white\", \"zerolinewidth\": 2}, \"yaxis\": {\"automargin\": true, \"gridcolor\": \"white\", \"linecolor\": \"white\", \"ticks\": \"\", \"title\": {\"standoff\": 15}, \"zerolinecolor\": \"white\", \"zerolinewidth\": 2}}}, \"title\": {\"text\": \"Formula1 finisher's times at the British Grand Prix\"}, \"xaxis\": {\"anchor\": \"y\", \"domain\": [0.0, 1.0], \"title\": {\"text\": \"Season\"}}, \"yaxis\": {\"anchor\": \"x\", \"domain\": [0.0, 1.0], \"title\": {\"text\": \"Time_mins\"}}},\n",
       "                        {\"responsive\": true}\n",
       "                    ).then(function(){\n",
       "                            \n",
       "var gd = document.getElementById('19dacc79-874b-49d9-a35f-907dec784053');\n",
       "var x = new MutationObserver(function (mutations, observer) {{\n",
       "        var display = window.getComputedStyle(gd).display;\n",
       "        if (!display || display === 'none') {{\n",
       "            console.log([gd, 'removed!']);\n",
       "            Plotly.purge(gd);\n",
       "            observer.disconnect();\n",
       "        }}\n",
       "}});\n",
       "\n",
       "// Listen for the removal of the full notebook cells\n",
       "var notebookContainer = gd.closest('#notebook-container');\n",
       "if (notebookContainer) {{\n",
       "    x.observe(notebookContainer, {childList: true});\n",
       "}}\n",
       "\n",
       "// Listen for the clearing of the current output cell\n",
       "var outputEl = gd.closest('.output');\n",
       "if (outputEl) {{\n",
       "    x.observe(outputEl, {childList: true});\n",
       "}}\n",
       "\n",
       "                        })\n",
       "                };\n",
       "                });\n",
       "            </script>\n",
       "        </div>"
      ]
     },
     "metadata": {},
     "output_type": "display_data"
    }
   ],
   "source": [
    "fig2 = px.scatter(uk_finishers, x = 'Season', y = 'Time_mins',\n",
    "                 title=\"Formula1 finisher's times at the British Grand Prix\",\n",
    "                 hover_name='Driver', color=\"Laps\",hover_data=[\"Position\"],\n",
    "                 trendline=\"lowess\", trendline_color_override=\"turquoise\")\n",
    "fig2.show()"
   ]
  },
  {
   "cell_type": "markdown",
   "metadata": {},
   "source": [
    "During the analysis of the above graphs I noticed some strange outliers for example the 1984 Monaco Grand Prix.\n",
    "\n",
    "After reading up on the race it seems the race was stopped on the 31st lap due to extremely heavy rain. \n",
    "\n",
    "This got me wondering how much weather actually affects formula1 races.\n",
    "\n",
    "As mentioned above, I downloaded json data for historical weather data for the city of Monaco from 1979 to 2018 \n",
    "from https://openweathermap.org/api\n",
    "\n",
    "I want to take a further look at the weather data and race data together in a graph for Monaco.\n",
    "\n",
    "The function below is get_weather_data\n",
    "We want to be able to merge this data with the race data for monaco using a common key in 2 DataFrames. \n",
    "This common key should be Date. \n",
    "The weather data holds a date time value at the key \"dt_iso\"\n",
    "\n",
    "I chose to check the weather at the start of the race which is 3PM UTC. \n",
    "So whatever the value for the key \"weather\" was at 3PM UTC, that is the value I use. "
   ]
  },
  {
   "cell_type": "code",
   "execution_count": 53,
   "metadata": {},
   "outputs": [
    {
     "data": {
      "text/html": [
       "<div>\n",
       "<style scoped>\n",
       "    .dataframe tbody tr th:only-of-type {\n",
       "        vertical-align: middle;\n",
       "    }\n",
       "\n",
       "    .dataframe tbody tr th {\n",
       "        vertical-align: top;\n",
       "    }\n",
       "\n",
       "    .dataframe thead th {\n",
       "        text-align: right;\n",
       "    }\n",
       "</style>\n",
       "<table border=\"1\" class=\"dataframe\">\n",
       "  <thead>\n",
       "    <tr style=\"text-align: right;\">\n",
       "      <th></th>\n",
       "      <th>Date</th>\n",
       "      <th>Weather</th>\n",
       "    </tr>\n",
       "  </thead>\n",
       "  <tbody>\n",
       "    <tr>\n",
       "      <td>0</td>\n",
       "      <td>1979-01-01</td>\n",
       "      <td>Clear</td>\n",
       "    </tr>\n",
       "    <tr>\n",
       "      <td>1</td>\n",
       "      <td>1979-01-02</td>\n",
       "      <td>Snow</td>\n",
       "    </tr>\n",
       "    <tr>\n",
       "      <td>2</td>\n",
       "      <td>1979-01-03</td>\n",
       "      <td>Clouds</td>\n",
       "    </tr>\n",
       "    <tr>\n",
       "      <td>3</td>\n",
       "      <td>1979-01-04</td>\n",
       "      <td>Clouds</td>\n",
       "    </tr>\n",
       "    <tr>\n",
       "      <td>4</td>\n",
       "      <td>1979-01-05</td>\n",
       "      <td>Clouds</td>\n",
       "    </tr>\n",
       "  </tbody>\n",
       "</table>\n",
       "</div>"
      ],
      "text/plain": [
       "         Date Weather\n",
       "0  1979-01-01   Clear\n",
       "1  1979-01-02    Snow\n",
       "2  1979-01-03  Clouds\n",
       "3  1979-01-04  Clouds\n",
       "4  1979-01-05  Clouds"
      ]
     },
     "execution_count": 53,
     "metadata": {},
     "output_type": "execute_result"
    }
   ],
   "source": [
    "def get_weather_data(data):\n",
    "    \"\"\"\n",
    "    \n",
    "    \"\"\"\n",
    "    # create a dictionary compatible with a pandas DataFrame\n",
    "    weather_data = {\n",
    "        \"Date\" : [],\n",
    "        \"Weather\" : []\n",
    "    }\n",
    "    for i in data:\n",
    "        if i[\"dt_iso\"].split().pop(1) == \"15:00:00\":\n",
    "            weather_data[\"Date\"].append(i[\"dt_iso\"].split().pop(0))\n",
    "            weather_data[\"Weather\"].append(i[\"weather\"][0][\"main\"])\n",
    "\n",
    "    return pandas.DataFrame(weather_data)\n",
    "\n",
    "weather_file=read_json_file(\"/Users/nick.duggan/workspace/Notebooks/weather_format.json\")\n",
    "\n",
    "weather_data = get_weather_data(weather_file)\n",
    "\n",
    "weather_data[0:5]"
   ]
  },
  {
   "cell_type": "code",
   "execution_count": 54,
   "metadata": {},
   "outputs": [
    {
     "data": {
      "text/html": [
       "<div>\n",
       "<style scoped>\n",
       "    .dataframe tbody tr th:only-of-type {\n",
       "        vertical-align: middle;\n",
       "    }\n",
       "\n",
       "    .dataframe tbody tr th {\n",
       "        vertical-align: top;\n",
       "    }\n",
       "\n",
       "    .dataframe thead th {\n",
       "        text-align: right;\n",
       "    }\n",
       "</style>\n",
       "<table border=\"1\" class=\"dataframe\">\n",
       "  <thead>\n",
       "    <tr style=\"text-align: right;\">\n",
       "      <th></th>\n",
       "      <th>Date</th>\n",
       "      <th>Season</th>\n",
       "      <th>Race</th>\n",
       "      <th>Driver</th>\n",
       "      <th>Laps</th>\n",
       "      <th>Position</th>\n",
       "      <th>Time_mins</th>\n",
       "      <th>Weather</th>\n",
       "    </tr>\n",
       "  </thead>\n",
       "  <tbody>\n",
       "    <tr>\n",
       "      <td>0</td>\n",
       "      <td>1979-05-27</td>\n",
       "      <td>1979</td>\n",
       "      <td>Monaco Grand Prix</td>\n",
       "      <td>Clay Regazzoni</td>\n",
       "      <td>76</td>\n",
       "      <td>2</td>\n",
       "      <td>115.382000</td>\n",
       "      <td>Clouds</td>\n",
       "    </tr>\n",
       "    <tr>\n",
       "      <td>1</td>\n",
       "      <td>1979-05-27</td>\n",
       "      <td>1979</td>\n",
       "      <td>Monaco Grand Prix</td>\n",
       "      <td>Jody Scheckter</td>\n",
       "      <td>76</td>\n",
       "      <td>1</td>\n",
       "      <td>115.374667</td>\n",
       "      <td>Clouds</td>\n",
       "    </tr>\n",
       "    <tr>\n",
       "      <td>2</td>\n",
       "      <td>1979-05-27</td>\n",
       "      <td>1979</td>\n",
       "      <td>Monaco Grand Prix</td>\n",
       "      <td>Carlos Reutemann</td>\n",
       "      <td>76</td>\n",
       "      <td>3</td>\n",
       "      <td>115.517500</td>\n",
       "      <td>Clouds</td>\n",
       "    </tr>\n",
       "    <tr>\n",
       "      <td>3</td>\n",
       "      <td>1979-05-27</td>\n",
       "      <td>1979</td>\n",
       "      <td>Monaco Grand Prix</td>\n",
       "      <td>John Watson</td>\n",
       "      <td>76</td>\n",
       "      <td>4</td>\n",
       "      <td>116.063167</td>\n",
       "      <td>Clouds</td>\n",
       "    </tr>\n",
       "    <tr>\n",
       "      <td>4</td>\n",
       "      <td>1980-05-18</td>\n",
       "      <td>1980</td>\n",
       "      <td>Monaco Grand Prix</td>\n",
       "      <td>Carlos Reutemann</td>\n",
       "      <td>76</td>\n",
       "      <td>1</td>\n",
       "      <td>115.572750</td>\n",
       "      <td>Clouds</td>\n",
       "    </tr>\n",
       "  </tbody>\n",
       "</table>\n",
       "</div>"
      ],
      "text/plain": [
       "         Date  Season               Race            Driver  Laps Position  \\\n",
       "0  1979-05-27    1979  Monaco Grand Prix    Clay Regazzoni    76        2   \n",
       "1  1979-05-27    1979  Monaco Grand Prix    Jody Scheckter    76        1   \n",
       "2  1979-05-27    1979  Monaco Grand Prix  Carlos Reutemann    76        3   \n",
       "3  1979-05-27    1979  Monaco Grand Prix       John Watson    76        4   \n",
       "4  1980-05-18    1980  Monaco Grand Prix  Carlos Reutemann    76        1   \n",
       "\n",
       "    Time_mins Weather  \n",
       "0  115.382000  Clouds  \n",
       "1  115.374667  Clouds  \n",
       "2  115.517500  Clouds  \n",
       "3  116.063167  Clouds  \n",
       "4  115.572750  Clouds  "
      ]
     },
     "execution_count": 54,
     "metadata": {},
     "output_type": "execute_result"
    }
   ],
   "source": [
    "result = pandas.merge(monaco_finishers,\n",
    "                      weather_data,\n",
    "                      how='inner',\n",
    "                      on=['Date']).sort_values(by=\"Season\",\n",
    "                      ascending=True).reset_index(drop=True)\n",
    "result.to_csv(\"/Users/nick.duggan/workspace/Notebooks/merged_data.csv\")\n",
    "result[0:5]"
   ]
  },
  {
   "cell_type": "code",
   "execution_count": 55,
   "metadata": {},
   "outputs": [
    {
     "data": {
      "application/vnd.plotly.v1+json": {
       "config": {
        "plotlyServerURL": "https://plot.ly"
       },
       "data": [
        {
         "hoverlabel": {
          "namelength": 0
         },
         "hovertemplate": "<b>%{hovertext}</b><br><br>Weather=Clouds<br>Season=%{x}<br>Time_mins=%{y}<br>Laps=%{marker.color}",
         "hovertext": [
          "Clay Regazzoni",
          "Jody Scheckter",
          "Carlos Reutemann",
          "John Watson",
          "Carlos Reutemann",
          "Jacques Laffite",
          "Nelson Piquet",
          "Gilles Villeneuve",
          "Alan Jones",
          "Jacques Laffite",
          "Riccardo Patrese",
          "Keke Rosberg",
          "Nelson Piquet",
          "Alain Prost",
          "Patrick Tambay",
          "Elio de Angelis",
          "Michele Alboreto",
          "Alain Prost",
          "Nigel Mansell",
          "Ayrton Senna",
          "Keke Rosberg",
          "Alain Prost",
          "Ayrton Senna",
          "Michele Alboreto",
          "Nelson Piquet",
          "Alain Prost",
          "Gerhard Berger",
          "Michele Alboreto",
          "Alain Prost",
          "Ayrton Senna",
          "Ayrton Senna",
          "Gerhard Berger",
          "Jean Alesi",
          "Jean Alesi",
          "Nigel Mansell",
          "Ayrton Senna",
          "Nigel Mansell",
          "Riccardo Patrese",
          "Michael Schumacher",
          "Martin Brundle",
          "Ayrton Senna",
          "Jean Alesi",
          "Damon Hill",
          "Ayrton Senna",
          "Gerhard Berger",
          "Martin Brundle",
          "Michael Schumacher",
          "Damon Hill",
          "Gerhard Berger",
          "Michael Schumacher",
          "David Coulthard",
          "Johnny Herbert",
          "Olivier Panis",
          "Mika Häkkinen",
          "Mika Salo",
          "Eddie Irvine",
          "Giancarlo Fisichella",
          "Michael Schumacher",
          "Eddie Irvine",
          "Mika Häkkinen",
          "Heinz-Harald Frentzen",
          "Giancarlo Fisichella",
          "Rubens Barrichello",
          "Eddie Irvine",
          "Mika Salo",
          "David Coulthard",
          "Michael Schumacher",
          "Rubens Barrichello",
          "Jacques Villeneuve",
          "Eddie Irvine",
          "David Coulthard",
          "Ralf Schumacher",
          "Michael Schumacher",
          "Kimi Räikkönen",
          "Jarno Trulli",
          "David Coulthard",
          "Rubens Barrichello",
          "Juan Pablo Montoya",
          "Fernando Alonso",
          "Ralf Schumacher",
          "Michael Schumacher",
          "Jenson Button",
          "Rubens Barrichello",
          "Jarno Trulli",
          "Rubens Barrichello",
          "Juan Pablo Montoya",
          "Michael Schumacher",
          "Kimi Räikkönen",
          "Nick Heidfeld",
          "Mark Webber",
          "Ralf Schumacher",
          "Fernando Alonso",
          "David Coulthard",
          "Juan Pablo Montoya",
          "Giancarlo Fisichella",
          "Rubens Barrichello",
          "Fernando Alonso",
          "Michael Schumacher",
          "Fernando Alonso",
          "Lewis Hamilton",
          "Felipe Massa",
          "Giancarlo Fisichella",
          "Sébastien Bourdais",
          "Nico Rosberg",
          "Mark Webber",
          "Felipe Massa",
          "Kimi Räikkönen",
          "Rubens Barrichello",
          "Jenson Button",
          "Fernando Alonso",
          "Lewis Hamilton",
          "Kamui Kobayashi",
          "Mark Webber",
          "Jenson Button",
          "Fernando Alonso",
          "Sebastian Vettel",
          "Max Chilton",
          "Esteban Gutiérrez",
          "Valtteri Bottas",
          "Nico Rosberg",
          "Sebastian Vettel",
          "Nico Hülkenberg",
          "Kimi Räikkönen",
          "Jean-Éric Vergne",
          "Fernando Alonso",
          "Jenson Button",
          "Adrian Sutil",
          "Mark Webber",
          "Lewis Hamilton",
          "Paul di Resta",
          "Giedo van der Garde",
          "Nico Rosberg",
          "Lewis Hamilton",
          "Daniel Ricciardo",
          "Fernando Alonso",
          "Daniel Ricciardo",
          "Daniil Kvyat",
          "Romain Grosjean",
          "Lewis Hamilton",
          "Sebastian Vettel",
          "Nico Rosberg",
          "Valtteri Bottas",
          "Marcus Ericsson",
          "Kimi Räikkönen",
          "Sergio Pérez",
          "Jenson Button",
          "Felipe Nasr",
          "Carlos Sainz",
          "Nico Hülkenberg",
          "Nico Rosberg",
          "Lewis Hamilton",
          "Sebastian Vettel",
          "Sergio Pérez",
          "Daniel Ricciardo",
          "Nico Hülkenberg",
          "Fernando Alonso",
          "Sergio Pérez",
          "Esteban Ocon",
          "Jolyon Palmer",
          "Kevin Magnussen",
          "Felipe Massa",
          "Romain Grosjean",
          "Lewis Hamilton",
          "Carlos Sainz",
          "Sebastian Vettel",
          "Daniel Ricciardo",
          "Valtteri Bottas",
          "Max Verstappen",
          "Kimi Räikkönen",
          "Lewis Hamilton",
          "Kevin Magnussen",
          "Sergio Pérez",
          "Marcus Ericsson",
          "Kimi Räikkönen",
          "Max Verstappen",
          "Nico Hülkenberg",
          "Pierre Gasly",
          "Sebastian Vettel",
          "Esteban Ocon",
          "Daniel Ricciardo",
          "Valtteri Bottas",
          "Carlos Sainz",
          "Lando Norris",
          "Romain Grosjean",
          "Daniel Ricciardo",
          "Daniil Kvyat",
          "Carlos Sainz",
          "Pierre Gasly",
          "Max Verstappen",
          "Valtteri Bottas",
          "Lewis Hamilton",
          "Alexander Albon",
          "Sebastian Vettel"
         ],
         "legendgroup": "",
         "marker": {
          "color": [
           76,
           76,
           76,
           76,
           76,
           76,
           76,
           76,
           76,
           76,
           76,
           76,
           76,
           76,
           76,
           78,
           78,
           78,
           78,
           78,
           78,
           78,
           78,
           78,
           78,
           78,
           78,
           78,
           77,
           77,
           78,
           78,
           78,
           78,
           78,
           78,
           78,
           78,
           78,
           78,
           78,
           78,
           78,
           78,
           78,
           78,
           78,
           78,
           78,
           78,
           75,
           75,
           75,
           78,
           78,
           78,
           78,
           78,
           78,
           78,
           78,
           78,
           78,
           78,
           78,
           78,
           78,
           78,
           78,
           78,
           78,
           78,
           78,
           78,
           78,
           78,
           78,
           78,
           78,
           78,
           78,
           77,
           77,
           77,
           78,
           78,
           78,
           78,
           78,
           78,
           78,
           78,
           78,
           78,
           78,
           78,
           78,
           78,
           78,
           78,
           78,
           78,
           78,
           78,
           78,
           78,
           78,
           78,
           78,
           78,
           78,
           78,
           78,
           78,
           78,
           78,
           78,
           78,
           78,
           78,
           78,
           78,
           78,
           78,
           78,
           78,
           78,
           78,
           78,
           78,
           78,
           78,
           78,
           78,
           78,
           78,
           78,
           78,
           78,
           78,
           78,
           78,
           78,
           78,
           78,
           78,
           78,
           78,
           78,
           78,
           78,
           78,
           78,
           78,
           78,
           78,
           78,
           78,
           78,
           78,
           78,
           78,
           78,
           78,
           78,
           78,
           78,
           78,
           78,
           78,
           78,
           78,
           78,
           78,
           78,
           78,
           78,
           78,
           78,
           78,
           78,
           78,
           78,
           78,
           78,
           78,
           78,
           78,
           78,
           78,
           78,
           78,
           78
          ],
          "coloraxis": "coloraxis",
          "symbol": "circle"
         },
         "mode": "markers",
         "name": "",
         "showlegend": false,
         "type": "scatter",
         "x": [
          1979,
          1979,
          1979,
          1979,
          1980,
          1980,
          1980,
          1981,
          1981,
          1981,
          1982,
          1983,
          1983,
          1983,
          1983,
          1985,
          1985,
          1985,
          1986,
          1986,
          1986,
          1986,
          1987,
          1987,
          1987,
          1988,
          1988,
          1988,
          1989,
          1989,
          1990,
          1990,
          1990,
          1991,
          1991,
          1991,
          1992,
          1992,
          1992,
          1992,
          1992,
          1993,
          1993,
          1993,
          1994,
          1994,
          1994,
          1995,
          1995,
          1995,
          1996,
          1996,
          1996,
          1998,
          1998,
          1998,
          1998,
          1999,
          1999,
          1999,
          1999,
          2000,
          2000,
          2000,
          2000,
          2000,
          2001,
          2001,
          2001,
          2001,
          2002,
          2002,
          2002,
          2003,
          2003,
          2003,
          2003,
          2003,
          2003,
          2003,
          2003,
          2004,
          2004,
          2004,
          2005,
          2005,
          2005,
          2005,
          2005,
          2005,
          2005,
          2005,
          2006,
          2006,
          2006,
          2006,
          2006,
          2006,
          2007,
          2007,
          2007,
          2009,
          2009,
          2009,
          2009,
          2009,
          2009,
          2009,
          2009,
          2009,
          2011,
          2011,
          2011,
          2011,
          2011,
          2011,
          2013,
          2013,
          2013,
          2013,
          2013,
          2013,
          2013,
          2013,
          2013,
          2013,
          2013,
          2013,
          2013,
          2013,
          2013,
          2014,
          2014,
          2014,
          2014,
          2015,
          2015,
          2015,
          2015,
          2015,
          2015,
          2015,
          2015,
          2015,
          2015,
          2015,
          2015,
          2015,
          2015,
          2016,
          2016,
          2016,
          2016,
          2016,
          2016,
          2016,
          2017,
          2017,
          2017,
          2017,
          2017,
          2017,
          2017,
          2017,
          2017,
          2017,
          2017,
          2017,
          2017,
          2018,
          2018,
          2018,
          2018,
          2018,
          2018,
          2018,
          2018,
          2018,
          2018,
          2018,
          2018,
          2018,
          2019,
          2019,
          2019,
          2019,
          2019,
          2019,
          2019,
          2019,
          2019,
          2019,
          2019
         ],
         "xaxis": "x",
         "y": [
          115.382,
          115.37466666666667,
          115.5175,
          116.06316666666666,
          115.57275,
          116.7999,
          116.86818333333333,
          114.38966666666667,
          115.05483333333333,
          115.877,
          114.18765,
          116.63535,
          116.94326666666667,
          117.15811666666667,
          117.70696666666667,
          113.42008333333334,
          112.09291666666667,
          111.96723333333334,
          116.87436666666666,
          116.57843333333334,
          116.10136666666666,
          115.68433333333333,
          117.90141666666666,
          119.1154,
          118.45495,
          117.28461666666666,
          117.6255,
          117.97176666666667,
          114.42966666666666,
          113.55418333333333,
          112.78303333333334,
          112.81758333333333,
          112.80115,
          113.82981666666667,
          113.3447,
          113.0389,
          110.99311666666667,
          111.52025,
          111.64443333333334,
          112.34531666666666,
          110.98953333333333,
          113.23848333333333,
          113.05108333333334,
          112.18245,
          111.20206666666667,
          110.54296666666667,
          109.92166666666667,
          113.76791666666666,
          114.37841666666667,
          113.18763333333334,
          120.84095,
          121.38553333333333,
          120.76048333333334,
          111.40666666666667,
          112.41271666666667,
          112.0963,
          111.59791666666666,
          109.5302,
          110.03813333333333,
          110.15491666666667,
          110.43035,
          109.77891666666666,
          109.73503333333333,
          110.56895,
          110.81646666666667,
          109.47021666666667,
          107.37601666666667,
          107.3832,
          107.91691666666667,
          107.88765,
          105.65091666666666,
          106.77508333333333,
          105.66841666666667,
          102.32686666666666,
          102.9997,
          103.00395,
          103.2046,
          102.31683333333334,
          102.92101666666667,
          102.79213333333334,
          102.3455,
          105.78496666666666,
          107.03945,
          105.77668333333334,
          105.88543333333334,
          105.87005,
          105.87965,
          105.25926666666666,
          105.49055,
          105.56733333333334,
          105.87788333333333,
          105.86738333333334,
          104.59023333333333,
          103.96138333333333,
          104.75313333333334,
          104.60755,
          103.7186,
          104.61576666666667,
          100.48881666666666,
          100.55706666666667,
          101.64071666666666,
          101.82203333333334,
          101.7904,
          101.2978,
          101.0002,
          100.98986666666667,
          100.96206666666667,
          100.8658,
          100.73803333333333,
          101.36868333333334,
          130.09305,
          130.08815,
          130.02456666666666,
          129.67918333333333,
          129.65851666666666,
          129.63955,
          138.69901666666667,
          138.5878,
          138.57911666666666,
          137.8676,
          137.9324,
          138.57713333333334,
          138.4773,
          138.32131666666666,
          138.31316666666666,
          138.25265,
          138.22555,
          137.97283333333334,
          138.09916666666666,
          138.32773333333333,
          138.91076666666666,
          109.46101666666667,
          109.61451666666666,
          109.62125,
          110.00188333333334,
          109.5338,
          109.50641666666667,
          109.78058333333334,
          109.40788333333333,
          109.38176666666666,
          109.307,
          110.07015,
          109.82631666666667,
          109.54608333333333,
          109.55721666666666,
          109.57471666666666,
          109.70076666666667,
          109.7246,
          109.7442,
          121.04038333333334,
          119.48555,
          119.74965,
          119.71596666666667,
          119.60641666666666,
          121.03553333333333,
          120.90348333333333,
          105.39048333333334,
          105.13441666666667,
          105.11795,
          105.09638333333334,
          105.06308333333334,
          105.0415,
          105.00235,
          104.93963333333333,
          104.739,
          104.80141666666667,
          104.83095,
          104.84231666666666,
          104.79141666666666,
          103.197,
          104.1605,
          104.0878,
          104.07785,
          103.21556666666666,
          103.3354,
          103.32743333333333,
          103.31896666666667,
          103.03571666666667,
          103.3079,
          102.91345,
          103.22715,
          104.06366666666666,
          104.5873,
          104.49118333333334,
          104.48885,
          104.38351666666667,
          104.36485,
          103.63971666666667,
          103.56623333333333,
          103.52665,
          103.47395,
          104.39395,
          103.51731666666667
         ],
         "yaxis": "y"
        },
        {
         "hoverlabel": {
          "namelength": 0
         },
         "hovertemplate": "<b>%{hovertext}</b><br><br>Weather=Rain<br>Season=%{x}<br>Time_mins=%{y}<br>Laps=%{marker.color}",
         "hovertext": [
          "Ayrton Senna",
          "Alain Prost",
          "Keke Rosberg",
          "René Arnoux",
          "Elio de Angelis",
          "Olivier Panis",
          "Eddie Irvine",
          "Rubens Barrichello",
          "Michael Schumacher",
          "Heikki Kovalainen",
          "Kimi Räikkönen",
          "Lewis Hamilton",
          "Sebastian Vettel",
          "Felipe Massa",
          "Mark Webber",
          "Rubens Barrichello",
          "Kazuki Nakajima",
          "Robert Kubica",
          "Robert Kubica",
          "Sébastien Buemi",
          "Jaime Alguersuari",
          "Mark Webber",
          "Sebastian Vettel",
          "Felipe Massa",
          "Lewis Hamilton",
          "Michael Schumacher",
          "Fernando Alonso",
          "Nico Rosberg",
          "Vitantonio Liuzzi",
          "Adrian Sutil"
         ],
         "legendgroup": "",
         "marker": {
          "color": [
           31,
           31,
           31,
           31,
           31,
           62,
           62,
           62,
           62,
           76,
           76,
           76,
           76,
           76,
           76,
           76,
           76,
           76,
           78,
           78,
           78,
           78,
           78,
           78,
           78,
           78,
           78,
           78,
           78,
           78
          ],
          "coloraxis": "coloraxis",
          "symbol": "circle"
         },
         "mode": "markers",
         "name": "",
         "showlegend": false,
         "type": "scatter",
         "x": [
          1984,
          1984,
          1984,
          1984,
          1984,
          1997,
          1997,
          1997,
          1997,
          2008,
          2008,
          2008,
          2008,
          2008,
          2008,
          2008,
          2008,
          2008,
          2010,
          2010,
          2010,
          2010,
          2010,
          2010,
          2010,
          2010,
          2010,
          2010,
          2010,
          2010
         ],
         "xaxis": "x2",
         "y": [
          61.2531,
          61.129,
          61.716433333333335,
          61.613616666666665,
          61.86965,
          121.83426666666666,
          121.4627,
          120.98266666666666,
          120.09423333333334,
          121.26555,
          121.27556666666666,
          120.71236666666667,
          121.12331666666667,
          120.79255,
          121.03395,
          121.18583333333333,
          121.21536666666667,
          120.76343333333334,
          110.2505,
          110.35923333333334,
          110.37483333333333,
          110.22258333333333,
          110.23005,
          110.26701666666666,
          110.2953,
          110.31778333333334,
          110.32826666666666,
          110.33343333333333,
          110.34433333333334,
          110.33875
         ],
         "yaxis": "y2"
        },
        {
         "hoverlabel": {
          "namelength": 0
         },
         "hovertemplate": "<b>%{hovertext}</b><br><br>Weather=Thunderstorm<br>Season=%{x}<br>Time_mins=%{y}<br>Laps=%{marker.color}",
         "hovertext": [
          "Fernando Alonso",
          "Mark Webber",
          "Sebastian Vettel",
          "Nico Rosberg",
          "Felipe Massa",
          "Paul di Resta",
          "Nico Hülkenberg",
          "Kimi Räikkönen",
          "Bruno Senna",
          "Lewis Hamilton"
         ],
         "legendgroup": "",
         "marker": {
          "color": [
           78,
           78,
           78,
           78,
           78,
           78,
           78,
           78,
           78,
           78
          ],
          "coloraxis": "coloraxis",
          "symbol": "circle"
         },
         "mode": "markers",
         "name": "",
         "showlegend": false,
         "type": "scatter",
         "x": [
          2012,
          2012,
          2012,
          2012,
          2012,
          2012,
          2012,
          2012,
          2012,
          2012
         ],
         "xaxis": "x3",
         "y": [
          106.12506666666667,
          106.10928333333334,
          106.13166666666666,
          106.12,
          106.21253333333334,
          106.80156666666667,
          106.81865,
          106.84321666666666,
          106.85121666666667,
          106.17763333333333
         ],
         "yaxis": "y3"
        }
       ],
       "layout": {
        "annotations": [
         {
          "font": {},
          "showarrow": false,
          "text": "Weather=Clouds",
          "x": 0.15999999999999998,
          "xanchor": "center",
          "xref": "paper",
          "y": 1,
          "yanchor": "bottom",
          "yref": "paper"
         },
         {
          "font": {},
          "showarrow": false,
          "text": "Weather=Rain",
          "x": 0.49999999999999994,
          "xanchor": "center",
          "xref": "paper",
          "y": 1,
          "yanchor": "bottom",
          "yref": "paper"
         },
         {
          "font": {},
          "showarrow": false,
          "text": "Weather=Thunderstorm",
          "x": 0.8399999999999999,
          "xanchor": "center",
          "xref": "paper",
          "y": 1,
          "yanchor": "bottom",
          "yref": "paper"
         }
        ],
        "coloraxis": {
         "colorbar": {
          "title": {
           "text": "Laps"
          }
         },
         "colorscale": [
          [
           0,
           "#0d0887"
          ],
          [
           0.1111111111111111,
           "#46039f"
          ],
          [
           0.2222222222222222,
           "#7201a8"
          ],
          [
           0.3333333333333333,
           "#9c179e"
          ],
          [
           0.4444444444444444,
           "#bd3786"
          ],
          [
           0.5555555555555556,
           "#d8576b"
          ],
          [
           0.6666666666666666,
           "#ed7953"
          ],
          [
           0.7777777777777778,
           "#fb9f3a"
          ],
          [
           0.8888888888888888,
           "#fdca26"
          ],
          [
           1,
           "#f0f921"
          ]
         ]
        },
        "legend": {
         "tracegroupgap": 0
        },
        "plot_bgcolor": "rgb(185,185,185)",
        "template": {
         "data": {
          "bar": [
           {
            "error_x": {
             "color": "#2a3f5f"
            },
            "error_y": {
             "color": "#2a3f5f"
            },
            "marker": {
             "line": {
              "color": "#E5ECF6",
              "width": 0.5
             }
            },
            "type": "bar"
           }
          ],
          "barpolar": [
           {
            "marker": {
             "line": {
              "color": "#E5ECF6",
              "width": 0.5
             }
            },
            "type": "barpolar"
           }
          ],
          "carpet": [
           {
            "aaxis": {
             "endlinecolor": "#2a3f5f",
             "gridcolor": "white",
             "linecolor": "white",
             "minorgridcolor": "white",
             "startlinecolor": "#2a3f5f"
            },
            "baxis": {
             "endlinecolor": "#2a3f5f",
             "gridcolor": "white",
             "linecolor": "white",
             "minorgridcolor": "white",
             "startlinecolor": "#2a3f5f"
            },
            "type": "carpet"
           }
          ],
          "choropleth": [
           {
            "colorbar": {
             "outlinewidth": 0,
             "ticks": ""
            },
            "type": "choropleth"
           }
          ],
          "contour": [
           {
            "colorbar": {
             "outlinewidth": 0,
             "ticks": ""
            },
            "colorscale": [
             [
              0,
              "#0d0887"
             ],
             [
              0.1111111111111111,
              "#46039f"
             ],
             [
              0.2222222222222222,
              "#7201a8"
             ],
             [
              0.3333333333333333,
              "#9c179e"
             ],
             [
              0.4444444444444444,
              "#bd3786"
             ],
             [
              0.5555555555555556,
              "#d8576b"
             ],
             [
              0.6666666666666666,
              "#ed7953"
             ],
             [
              0.7777777777777778,
              "#fb9f3a"
             ],
             [
              0.8888888888888888,
              "#fdca26"
             ],
             [
              1,
              "#f0f921"
             ]
            ],
            "type": "contour"
           }
          ],
          "contourcarpet": [
           {
            "colorbar": {
             "outlinewidth": 0,
             "ticks": ""
            },
            "type": "contourcarpet"
           }
          ],
          "heatmap": [
           {
            "colorbar": {
             "outlinewidth": 0,
             "ticks": ""
            },
            "colorscale": [
             [
              0,
              "#0d0887"
             ],
             [
              0.1111111111111111,
              "#46039f"
             ],
             [
              0.2222222222222222,
              "#7201a8"
             ],
             [
              0.3333333333333333,
              "#9c179e"
             ],
             [
              0.4444444444444444,
              "#bd3786"
             ],
             [
              0.5555555555555556,
              "#d8576b"
             ],
             [
              0.6666666666666666,
              "#ed7953"
             ],
             [
              0.7777777777777778,
              "#fb9f3a"
             ],
             [
              0.8888888888888888,
              "#fdca26"
             ],
             [
              1,
              "#f0f921"
             ]
            ],
            "type": "heatmap"
           }
          ],
          "heatmapgl": [
           {
            "colorbar": {
             "outlinewidth": 0,
             "ticks": ""
            },
            "colorscale": [
             [
              0,
              "#0d0887"
             ],
             [
              0.1111111111111111,
              "#46039f"
             ],
             [
              0.2222222222222222,
              "#7201a8"
             ],
             [
              0.3333333333333333,
              "#9c179e"
             ],
             [
              0.4444444444444444,
              "#bd3786"
             ],
             [
              0.5555555555555556,
              "#d8576b"
             ],
             [
              0.6666666666666666,
              "#ed7953"
             ],
             [
              0.7777777777777778,
              "#fb9f3a"
             ],
             [
              0.8888888888888888,
              "#fdca26"
             ],
             [
              1,
              "#f0f921"
             ]
            ],
            "type": "heatmapgl"
           }
          ],
          "histogram": [
           {
            "marker": {
             "colorbar": {
              "outlinewidth": 0,
              "ticks": ""
             }
            },
            "type": "histogram"
           }
          ],
          "histogram2d": [
           {
            "colorbar": {
             "outlinewidth": 0,
             "ticks": ""
            },
            "colorscale": [
             [
              0,
              "#0d0887"
             ],
             [
              0.1111111111111111,
              "#46039f"
             ],
             [
              0.2222222222222222,
              "#7201a8"
             ],
             [
              0.3333333333333333,
              "#9c179e"
             ],
             [
              0.4444444444444444,
              "#bd3786"
             ],
             [
              0.5555555555555556,
              "#d8576b"
             ],
             [
              0.6666666666666666,
              "#ed7953"
             ],
             [
              0.7777777777777778,
              "#fb9f3a"
             ],
             [
              0.8888888888888888,
              "#fdca26"
             ],
             [
              1,
              "#f0f921"
             ]
            ],
            "type": "histogram2d"
           }
          ],
          "histogram2dcontour": [
           {
            "colorbar": {
             "outlinewidth": 0,
             "ticks": ""
            },
            "colorscale": [
             [
              0,
              "#0d0887"
             ],
             [
              0.1111111111111111,
              "#46039f"
             ],
             [
              0.2222222222222222,
              "#7201a8"
             ],
             [
              0.3333333333333333,
              "#9c179e"
             ],
             [
              0.4444444444444444,
              "#bd3786"
             ],
             [
              0.5555555555555556,
              "#d8576b"
             ],
             [
              0.6666666666666666,
              "#ed7953"
             ],
             [
              0.7777777777777778,
              "#fb9f3a"
             ],
             [
              0.8888888888888888,
              "#fdca26"
             ],
             [
              1,
              "#f0f921"
             ]
            ],
            "type": "histogram2dcontour"
           }
          ],
          "mesh3d": [
           {
            "colorbar": {
             "outlinewidth": 0,
             "ticks": ""
            },
            "type": "mesh3d"
           }
          ],
          "parcoords": [
           {
            "line": {
             "colorbar": {
              "outlinewidth": 0,
              "ticks": ""
             }
            },
            "type": "parcoords"
           }
          ],
          "pie": [
           {
            "automargin": true,
            "type": "pie"
           }
          ],
          "scatter": [
           {
            "marker": {
             "colorbar": {
              "outlinewidth": 0,
              "ticks": ""
             }
            },
            "type": "scatter"
           }
          ],
          "scatter3d": [
           {
            "line": {
             "colorbar": {
              "outlinewidth": 0,
              "ticks": ""
             }
            },
            "marker": {
             "colorbar": {
              "outlinewidth": 0,
              "ticks": ""
             }
            },
            "type": "scatter3d"
           }
          ],
          "scattercarpet": [
           {
            "marker": {
             "colorbar": {
              "outlinewidth": 0,
              "ticks": ""
             }
            },
            "type": "scattercarpet"
           }
          ],
          "scattergeo": [
           {
            "marker": {
             "colorbar": {
              "outlinewidth": 0,
              "ticks": ""
             }
            },
            "type": "scattergeo"
           }
          ],
          "scattergl": [
           {
            "marker": {
             "colorbar": {
              "outlinewidth": 0,
              "ticks": ""
             }
            },
            "type": "scattergl"
           }
          ],
          "scattermapbox": [
           {
            "marker": {
             "colorbar": {
              "outlinewidth": 0,
              "ticks": ""
             }
            },
            "type": "scattermapbox"
           }
          ],
          "scatterpolar": [
           {
            "marker": {
             "colorbar": {
              "outlinewidth": 0,
              "ticks": ""
             }
            },
            "type": "scatterpolar"
           }
          ],
          "scatterpolargl": [
           {
            "marker": {
             "colorbar": {
              "outlinewidth": 0,
              "ticks": ""
             }
            },
            "type": "scatterpolargl"
           }
          ],
          "scatterternary": [
           {
            "marker": {
             "colorbar": {
              "outlinewidth": 0,
              "ticks": ""
             }
            },
            "type": "scatterternary"
           }
          ],
          "surface": [
           {
            "colorbar": {
             "outlinewidth": 0,
             "ticks": ""
            },
            "colorscale": [
             [
              0,
              "#0d0887"
             ],
             [
              0.1111111111111111,
              "#46039f"
             ],
             [
              0.2222222222222222,
              "#7201a8"
             ],
             [
              0.3333333333333333,
              "#9c179e"
             ],
             [
              0.4444444444444444,
              "#bd3786"
             ],
             [
              0.5555555555555556,
              "#d8576b"
             ],
             [
              0.6666666666666666,
              "#ed7953"
             ],
             [
              0.7777777777777778,
              "#fb9f3a"
             ],
             [
              0.8888888888888888,
              "#fdca26"
             ],
             [
              1,
              "#f0f921"
             ]
            ],
            "type": "surface"
           }
          ],
          "table": [
           {
            "cells": {
             "fill": {
              "color": "#EBF0F8"
             },
             "line": {
              "color": "white"
             }
            },
            "header": {
             "fill": {
              "color": "#C8D4E3"
             },
             "line": {
              "color": "white"
             }
            },
            "type": "table"
           }
          ]
         },
         "layout": {
          "annotationdefaults": {
           "arrowcolor": "#2a3f5f",
           "arrowhead": 0,
           "arrowwidth": 1
          },
          "coloraxis": {
           "colorbar": {
            "outlinewidth": 0,
            "ticks": ""
           }
          },
          "colorscale": {
           "diverging": [
            [
             0,
             "#8e0152"
            ],
            [
             0.1,
             "#c51b7d"
            ],
            [
             0.2,
             "#de77ae"
            ],
            [
             0.3,
             "#f1b6da"
            ],
            [
             0.4,
             "#fde0ef"
            ],
            [
             0.5,
             "#f7f7f7"
            ],
            [
             0.6,
             "#e6f5d0"
            ],
            [
             0.7,
             "#b8e186"
            ],
            [
             0.8,
             "#7fbc41"
            ],
            [
             0.9,
             "#4d9221"
            ],
            [
             1,
             "#276419"
            ]
           ],
           "sequential": [
            [
             0,
             "#0d0887"
            ],
            [
             0.1111111111111111,
             "#46039f"
            ],
            [
             0.2222222222222222,
             "#7201a8"
            ],
            [
             0.3333333333333333,
             "#9c179e"
            ],
            [
             0.4444444444444444,
             "#bd3786"
            ],
            [
             0.5555555555555556,
             "#d8576b"
            ],
            [
             0.6666666666666666,
             "#ed7953"
            ],
            [
             0.7777777777777778,
             "#fb9f3a"
            ],
            [
             0.8888888888888888,
             "#fdca26"
            ],
            [
             1,
             "#f0f921"
            ]
           ],
           "sequentialminus": [
            [
             0,
             "#0d0887"
            ],
            [
             0.1111111111111111,
             "#46039f"
            ],
            [
             0.2222222222222222,
             "#7201a8"
            ],
            [
             0.3333333333333333,
             "#9c179e"
            ],
            [
             0.4444444444444444,
             "#bd3786"
            ],
            [
             0.5555555555555556,
             "#d8576b"
            ],
            [
             0.6666666666666666,
             "#ed7953"
            ],
            [
             0.7777777777777778,
             "#fb9f3a"
            ],
            [
             0.8888888888888888,
             "#fdca26"
            ],
            [
             1,
             "#f0f921"
            ]
           ]
          },
          "colorway": [
           "#636efa",
           "#EF553B",
           "#00cc96",
           "#ab63fa",
           "#FFA15A",
           "#19d3f3",
           "#FF6692",
           "#B6E880",
           "#FF97FF",
           "#FECB52"
          ],
          "font": {
           "color": "#2a3f5f"
          },
          "geo": {
           "bgcolor": "white",
           "lakecolor": "white",
           "landcolor": "#E5ECF6",
           "showlakes": true,
           "showland": true,
           "subunitcolor": "white"
          },
          "hoverlabel": {
           "align": "left"
          },
          "hovermode": "closest",
          "mapbox": {
           "style": "light"
          },
          "paper_bgcolor": "white",
          "plot_bgcolor": "#E5ECF6",
          "polar": {
           "angularaxis": {
            "gridcolor": "white",
            "linecolor": "white",
            "ticks": ""
           },
           "bgcolor": "#E5ECF6",
           "radialaxis": {
            "gridcolor": "white",
            "linecolor": "white",
            "ticks": ""
           }
          },
          "scene": {
           "xaxis": {
            "backgroundcolor": "#E5ECF6",
            "gridcolor": "white",
            "gridwidth": 2,
            "linecolor": "white",
            "showbackground": true,
            "ticks": "",
            "zerolinecolor": "white"
           },
           "yaxis": {
            "backgroundcolor": "#E5ECF6",
            "gridcolor": "white",
            "gridwidth": 2,
            "linecolor": "white",
            "showbackground": true,
            "ticks": "",
            "zerolinecolor": "white"
           },
           "zaxis": {
            "backgroundcolor": "#E5ECF6",
            "gridcolor": "white",
            "gridwidth": 2,
            "linecolor": "white",
            "showbackground": true,
            "ticks": "",
            "zerolinecolor": "white"
           }
          },
          "shapedefaults": {
           "line": {
            "color": "#2a3f5f"
           }
          },
          "ternary": {
           "aaxis": {
            "gridcolor": "white",
            "linecolor": "white",
            "ticks": ""
           },
           "baxis": {
            "gridcolor": "white",
            "linecolor": "white",
            "ticks": ""
           },
           "bgcolor": "#E5ECF6",
           "caxis": {
            "gridcolor": "white",
            "linecolor": "white",
            "ticks": ""
           }
          },
          "title": {
           "x": 0.05
          },
          "xaxis": {
           "automargin": true,
           "gridcolor": "white",
           "linecolor": "white",
           "ticks": "",
           "title": {
            "standoff": 15
           },
           "zerolinecolor": "white",
           "zerolinewidth": 2
          },
          "yaxis": {
           "automargin": true,
           "gridcolor": "white",
           "linecolor": "white",
           "ticks": "",
           "title": {
            "standoff": 15
           },
           "zerolinecolor": "white",
           "zerolinewidth": 2
          }
         }
        },
        "title": {
         "text": "Formula1 winner's times at the Monaco Grand Prix"
        },
        "xaxis": {
         "anchor": "y",
         "domain": [
          0,
          0.31999999999999995
         ],
         "title": {
          "text": "Season"
         }
        },
        "xaxis2": {
         "anchor": "y2",
         "domain": [
          0.33999999999999997,
          0.6599999999999999
         ],
         "matches": "x",
         "title": {
          "text": "Season"
         }
        },
        "xaxis3": {
         "anchor": "y3",
         "domain": [
          0.6799999999999999,
          0.9999999999999999
         ],
         "matches": "x",
         "title": {
          "text": "Season"
         }
        },
        "yaxis": {
         "anchor": "x",
         "domain": [
          0,
          1
         ],
         "title": {
          "text": "Time_mins"
         }
        },
        "yaxis2": {
         "anchor": "x2",
         "domain": [
          0,
          1
         ],
         "matches": "y",
         "showticklabels": false
        },
        "yaxis3": {
         "anchor": "x3",
         "domain": [
          0,
          1
         ],
         "matches": "y",
         "showticklabels": false
        }
       }
      },
      "text/html": [
       "<div>\n",
       "        \n",
       "        \n",
       "            <div id=\"747bdd3c-3073-4944-b058-fd7be17214c1\" class=\"plotly-graph-div\" style=\"height:525px; width:100%;\"></div>\n",
       "            <script type=\"text/javascript\">\n",
       "                require([\"plotly\"], function(Plotly) {\n",
       "                    window.PLOTLYENV=window.PLOTLYENV || {};\n",
       "                    \n",
       "                if (document.getElementById(\"747bdd3c-3073-4944-b058-fd7be17214c1\")) {\n",
       "                    Plotly.newPlot(\n",
       "                        '747bdd3c-3073-4944-b058-fd7be17214c1',\n",
       "                        [{\"hoverlabel\": {\"namelength\": 0}, \"hovertemplate\": \"<b>%{hovertext}</b><br><br>Weather=Clouds<br>Season=%{x}<br>Time_mins=%{y}<br>Laps=%{marker.color}\", \"hovertext\": [\"Clay Regazzoni\", \"Jody Scheckter\", \"Carlos Reutemann\", \"John Watson\", \"Carlos Reutemann\", \"Jacques Laffite\", \"Nelson Piquet\", \"Gilles Villeneuve\", \"Alan Jones\", \"Jacques Laffite\", \"Riccardo Patrese\", \"Keke Rosberg\", \"Nelson Piquet\", \"Alain Prost\", \"Patrick Tambay\", \"Elio de Angelis\", \"Michele Alboreto\", \"Alain Prost\", \"Nigel Mansell\", \"Ayrton Senna\", \"Keke Rosberg\", \"Alain Prost\", \"Ayrton Senna\", \"Michele Alboreto\", \"Nelson Piquet\", \"Alain Prost\", \"Gerhard Berger\", \"Michele Alboreto\", \"Alain Prost\", \"Ayrton Senna\", \"Ayrton Senna\", \"Gerhard Berger\", \"Jean Alesi\", \"Jean Alesi\", \"Nigel Mansell\", \"Ayrton Senna\", \"Nigel Mansell\", \"Riccardo Patrese\", \"Michael Schumacher\", \"Martin Brundle\", \"Ayrton Senna\", \"Jean Alesi\", \"Damon Hill\", \"Ayrton Senna\", \"Gerhard Berger\", \"Martin Brundle\", \"Michael Schumacher\", \"Damon Hill\", \"Gerhard Berger\", \"Michael Schumacher\", \"David Coulthard\", \"Johnny Herbert\", \"Olivier Panis\", \"Mika H\\u00e4kkinen\", \"Mika Salo\", \"Eddie Irvine\", \"Giancarlo Fisichella\", \"Michael Schumacher\", \"Eddie Irvine\", \"Mika H\\u00e4kkinen\", \"Heinz-Harald Frentzen\", \"Giancarlo Fisichella\", \"Rubens Barrichello\", \"Eddie Irvine\", \"Mika Salo\", \"David Coulthard\", \"Michael Schumacher\", \"Rubens Barrichello\", \"Jacques Villeneuve\", \"Eddie Irvine\", \"David Coulthard\", \"Ralf Schumacher\", \"Michael Schumacher\", \"Kimi R\\u00e4ikk\\u00f6nen\", \"Jarno Trulli\", \"David Coulthard\", \"Rubens Barrichello\", \"Juan Pablo Montoya\", \"Fernando Alonso\", \"Ralf Schumacher\", \"Michael Schumacher\", \"Jenson Button\", \"Rubens Barrichello\", \"Jarno Trulli\", \"Rubens Barrichello\", \"Juan Pablo Montoya\", \"Michael Schumacher\", \"Kimi R\\u00e4ikk\\u00f6nen\", \"Nick Heidfeld\", \"Mark Webber\", \"Ralf Schumacher\", \"Fernando Alonso\", \"David Coulthard\", \"Juan Pablo Montoya\", \"Giancarlo Fisichella\", \"Rubens Barrichello\", \"Fernando Alonso\", \"Michael Schumacher\", \"Fernando Alonso\", \"Lewis Hamilton\", \"Felipe Massa\", \"Giancarlo Fisichella\", \"S\\u00e9bastien Bourdais\", \"Nico Rosberg\", \"Mark Webber\", \"Felipe Massa\", \"Kimi R\\u00e4ikk\\u00f6nen\", \"Rubens Barrichello\", \"Jenson Button\", \"Fernando Alonso\", \"Lewis Hamilton\", \"Kamui Kobayashi\", \"Mark Webber\", \"Jenson Button\", \"Fernando Alonso\", \"Sebastian Vettel\", \"Max Chilton\", \"Esteban Guti\\u00e9rrez\", \"Valtteri Bottas\", \"Nico Rosberg\", \"Sebastian Vettel\", \"Nico H\\u00fclkenberg\", \"Kimi R\\u00e4ikk\\u00f6nen\", \"Jean-\\u00c9ric Vergne\", \"Fernando Alonso\", \"Jenson Button\", \"Adrian Sutil\", \"Mark Webber\", \"Lewis Hamilton\", \"Paul di Resta\", \"Giedo van der Garde\", \"Nico Rosberg\", \"Lewis Hamilton\", \"Daniel Ricciardo\", \"Fernando Alonso\", \"Daniel Ricciardo\", \"Daniil Kvyat\", \"Romain Grosjean\", \"Lewis Hamilton\", \"Sebastian Vettel\", \"Nico Rosberg\", \"Valtteri Bottas\", \"Marcus Ericsson\", \"Kimi R\\u00e4ikk\\u00f6nen\", \"Sergio P\\u00e9rez\", \"Jenson Button\", \"Felipe Nasr\", \"Carlos Sainz\", \"Nico H\\u00fclkenberg\", \"Nico Rosberg\", \"Lewis Hamilton\", \"Sebastian Vettel\", \"Sergio P\\u00e9rez\", \"Daniel Ricciardo\", \"Nico H\\u00fclkenberg\", \"Fernando Alonso\", \"Sergio P\\u00e9rez\", \"Esteban Ocon\", \"Jolyon Palmer\", \"Kevin Magnussen\", \"Felipe Massa\", \"Romain Grosjean\", \"Lewis Hamilton\", \"Carlos Sainz\", \"Sebastian Vettel\", \"Daniel Ricciardo\", \"Valtteri Bottas\", \"Max Verstappen\", \"Kimi R\\u00e4ikk\\u00f6nen\", \"Lewis Hamilton\", \"Kevin Magnussen\", \"Sergio P\\u00e9rez\", \"Marcus Ericsson\", \"Kimi R\\u00e4ikk\\u00f6nen\", \"Max Verstappen\", \"Nico H\\u00fclkenberg\", \"Pierre Gasly\", \"Sebastian Vettel\", \"Esteban Ocon\", \"Daniel Ricciardo\", \"Valtteri Bottas\", \"Carlos Sainz\", \"Lando Norris\", \"Romain Grosjean\", \"Daniel Ricciardo\", \"Daniil Kvyat\", \"Carlos Sainz\", \"Pierre Gasly\", \"Max Verstappen\", \"Valtteri Bottas\", \"Lewis Hamilton\", \"Alexander Albon\", \"Sebastian Vettel\"], \"legendgroup\": \"\", \"marker\": {\"color\": [76, 76, 76, 76, 76, 76, 76, 76, 76, 76, 76, 76, 76, 76, 76, 78, 78, 78, 78, 78, 78, 78, 78, 78, 78, 78, 78, 78, 77, 77, 78, 78, 78, 78, 78, 78, 78, 78, 78, 78, 78, 78, 78, 78, 78, 78, 78, 78, 78, 78, 75, 75, 75, 78, 78, 78, 78, 78, 78, 78, 78, 78, 78, 78, 78, 78, 78, 78, 78, 78, 78, 78, 78, 78, 78, 78, 78, 78, 78, 78, 78, 77, 77, 77, 78, 78, 78, 78, 78, 78, 78, 78, 78, 78, 78, 78, 78, 78, 78, 78, 78, 78, 78, 78, 78, 78, 78, 78, 78, 78, 78, 78, 78, 78, 78, 78, 78, 78, 78, 78, 78, 78, 78, 78, 78, 78, 78, 78, 78, 78, 78, 78, 78, 78, 78, 78, 78, 78, 78, 78, 78, 78, 78, 78, 78, 78, 78, 78, 78, 78, 78, 78, 78, 78, 78, 78, 78, 78, 78, 78, 78, 78, 78, 78, 78, 78, 78, 78, 78, 78, 78, 78, 78, 78, 78, 78, 78, 78, 78, 78, 78, 78, 78, 78, 78, 78, 78, 78, 78, 78, 78, 78, 78], \"coloraxis\": \"coloraxis\", \"symbol\": \"circle\"}, \"mode\": \"markers\", \"name\": \"\", \"showlegend\": false, \"type\": \"scatter\", \"x\": [1979, 1979, 1979, 1979, 1980, 1980, 1980, 1981, 1981, 1981, 1982, 1983, 1983, 1983, 1983, 1985, 1985, 1985, 1986, 1986, 1986, 1986, 1987, 1987, 1987, 1988, 1988, 1988, 1989, 1989, 1990, 1990, 1990, 1991, 1991, 1991, 1992, 1992, 1992, 1992, 1992, 1993, 1993, 1993, 1994, 1994, 1994, 1995, 1995, 1995, 1996, 1996, 1996, 1998, 1998, 1998, 1998, 1999, 1999, 1999, 1999, 2000, 2000, 2000, 2000, 2000, 2001, 2001, 2001, 2001, 2002, 2002, 2002, 2003, 2003, 2003, 2003, 2003, 2003, 2003, 2003, 2004, 2004, 2004, 2005, 2005, 2005, 2005, 2005, 2005, 2005, 2005, 2006, 2006, 2006, 2006, 2006, 2006, 2007, 2007, 2007, 2009, 2009, 2009, 2009, 2009, 2009, 2009, 2009, 2009, 2011, 2011, 2011, 2011, 2011, 2011, 2013, 2013, 2013, 2013, 2013, 2013, 2013, 2013, 2013, 2013, 2013, 2013, 2013, 2013, 2013, 2014, 2014, 2014, 2014, 2015, 2015, 2015, 2015, 2015, 2015, 2015, 2015, 2015, 2015, 2015, 2015, 2015, 2015, 2016, 2016, 2016, 2016, 2016, 2016, 2016, 2017, 2017, 2017, 2017, 2017, 2017, 2017, 2017, 2017, 2017, 2017, 2017, 2017, 2018, 2018, 2018, 2018, 2018, 2018, 2018, 2018, 2018, 2018, 2018, 2018, 2018, 2019, 2019, 2019, 2019, 2019, 2019, 2019, 2019, 2019, 2019, 2019], \"xaxis\": \"x\", \"y\": [115.382, 115.37466666666667, 115.5175, 116.06316666666666, 115.57275, 116.7999, 116.86818333333333, 114.38966666666667, 115.05483333333333, 115.877, 114.18765, 116.63535, 116.94326666666667, 117.15811666666667, 117.70696666666667, 113.42008333333334, 112.09291666666667, 111.96723333333334, 116.87436666666666, 116.57843333333334, 116.10136666666666, 115.68433333333333, 117.90141666666666, 119.1154, 118.45495, 117.28461666666666, 117.6255, 117.97176666666667, 114.42966666666666, 113.55418333333333, 112.78303333333334, 112.81758333333333, 112.80115, 113.82981666666667, 113.3447, 113.0389, 110.99311666666667, 111.52025, 111.64443333333334, 112.34531666666666, 110.98953333333333, 113.23848333333333, 113.05108333333334, 112.18245, 111.20206666666667, 110.54296666666667, 109.92166666666667, 113.76791666666666, 114.37841666666667, 113.18763333333334, 120.84095, 121.38553333333333, 120.76048333333334, 111.40666666666667, 112.41271666666667, 112.0963, 111.59791666666666, 109.5302, 110.03813333333333, 110.15491666666667, 110.43035, 109.77891666666666, 109.73503333333333, 110.56895, 110.81646666666667, 109.47021666666667, 107.37601666666667, 107.3832, 107.91691666666667, 107.88765, 105.65091666666666, 106.77508333333333, 105.66841666666667, 102.32686666666666, 102.9997, 103.00395, 103.2046, 102.31683333333334, 102.92101666666667, 102.79213333333334, 102.3455, 105.78496666666666, 107.03945, 105.77668333333334, 105.88543333333334, 105.87005, 105.87965, 105.25926666666666, 105.49055, 105.56733333333334, 105.87788333333333, 105.86738333333334, 104.59023333333333, 103.96138333333333, 104.75313333333334, 104.60755, 103.7186, 104.61576666666667, 100.48881666666666, 100.55706666666667, 101.64071666666666, 101.82203333333334, 101.7904, 101.2978, 101.0002, 100.98986666666667, 100.96206666666667, 100.8658, 100.73803333333333, 101.36868333333334, 130.09305, 130.08815, 130.02456666666666, 129.67918333333333, 129.65851666666666, 129.63955, 138.69901666666667, 138.5878, 138.57911666666666, 137.8676, 137.9324, 138.57713333333334, 138.4773, 138.32131666666666, 138.31316666666666, 138.25265, 138.22555, 137.97283333333334, 138.09916666666666, 138.32773333333333, 138.91076666666666, 109.46101666666667, 109.61451666666666, 109.62125, 110.00188333333334, 109.5338, 109.50641666666667, 109.78058333333334, 109.40788333333333, 109.38176666666666, 109.307, 110.07015, 109.82631666666667, 109.54608333333333, 109.55721666666666, 109.57471666666666, 109.70076666666667, 109.7246, 109.7442, 121.04038333333334, 119.48555, 119.74965, 119.71596666666667, 119.60641666666666, 121.03553333333333, 120.90348333333333, 105.39048333333334, 105.13441666666667, 105.11795, 105.09638333333334, 105.06308333333334, 105.0415, 105.00235, 104.93963333333333, 104.739, 104.80141666666667, 104.83095, 104.84231666666666, 104.79141666666666, 103.197, 104.1605, 104.0878, 104.07785, 103.21556666666666, 103.3354, 103.32743333333333, 103.31896666666667, 103.03571666666667, 103.3079, 102.91345, 103.22715, 104.06366666666666, 104.5873, 104.49118333333334, 104.48885, 104.38351666666667, 104.36485, 103.63971666666667, 103.56623333333333, 103.52665, 103.47395, 104.39395, 103.51731666666667], \"yaxis\": \"y\"}, {\"hoverlabel\": {\"namelength\": 0}, \"hovertemplate\": \"<b>%{hovertext}</b><br><br>Weather=Rain<br>Season=%{x}<br>Time_mins=%{y}<br>Laps=%{marker.color}\", \"hovertext\": [\"Ayrton Senna\", \"Alain Prost\", \"Keke Rosberg\", \"Ren\\u00e9 Arnoux\", \"Elio de Angelis\", \"Olivier Panis\", \"Eddie Irvine\", \"Rubens Barrichello\", \"Michael Schumacher\", \"Heikki Kovalainen\", \"Kimi R\\u00e4ikk\\u00f6nen\", \"Lewis Hamilton\", \"Sebastian Vettel\", \"Felipe Massa\", \"Mark Webber\", \"Rubens Barrichello\", \"Kazuki Nakajima\", \"Robert Kubica\", \"Robert Kubica\", \"S\\u00e9bastien Buemi\", \"Jaime Alguersuari\", \"Mark Webber\", \"Sebastian Vettel\", \"Felipe Massa\", \"Lewis Hamilton\", \"Michael Schumacher\", \"Fernando Alonso\", \"Nico Rosberg\", \"Vitantonio Liuzzi\", \"Adrian Sutil\"], \"legendgroup\": \"\", \"marker\": {\"color\": [31, 31, 31, 31, 31, 62, 62, 62, 62, 76, 76, 76, 76, 76, 76, 76, 76, 76, 78, 78, 78, 78, 78, 78, 78, 78, 78, 78, 78, 78], \"coloraxis\": \"coloraxis\", \"symbol\": \"circle\"}, \"mode\": \"markers\", \"name\": \"\", \"showlegend\": false, \"type\": \"scatter\", \"x\": [1984, 1984, 1984, 1984, 1984, 1997, 1997, 1997, 1997, 2008, 2008, 2008, 2008, 2008, 2008, 2008, 2008, 2008, 2010, 2010, 2010, 2010, 2010, 2010, 2010, 2010, 2010, 2010, 2010, 2010], \"xaxis\": \"x2\", \"y\": [61.2531, 61.129, 61.716433333333335, 61.613616666666665, 61.86965, 121.83426666666666, 121.4627, 120.98266666666666, 120.09423333333334, 121.26555, 121.27556666666666, 120.71236666666667, 121.12331666666667, 120.79255, 121.03395, 121.18583333333333, 121.21536666666667, 120.76343333333334, 110.2505, 110.35923333333334, 110.37483333333333, 110.22258333333333, 110.23005, 110.26701666666666, 110.2953, 110.31778333333334, 110.32826666666666, 110.33343333333333, 110.34433333333334, 110.33875], \"yaxis\": \"y2\"}, {\"hoverlabel\": {\"namelength\": 0}, \"hovertemplate\": \"<b>%{hovertext}</b><br><br>Weather=Thunderstorm<br>Season=%{x}<br>Time_mins=%{y}<br>Laps=%{marker.color}\", \"hovertext\": [\"Fernando Alonso\", \"Mark Webber\", \"Sebastian Vettel\", \"Nico Rosberg\", \"Felipe Massa\", \"Paul di Resta\", \"Nico H\\u00fclkenberg\", \"Kimi R\\u00e4ikk\\u00f6nen\", \"Bruno Senna\", \"Lewis Hamilton\"], \"legendgroup\": \"\", \"marker\": {\"color\": [78, 78, 78, 78, 78, 78, 78, 78, 78, 78], \"coloraxis\": \"coloraxis\", \"symbol\": \"circle\"}, \"mode\": \"markers\", \"name\": \"\", \"showlegend\": false, \"type\": \"scatter\", \"x\": [2012, 2012, 2012, 2012, 2012, 2012, 2012, 2012, 2012, 2012], \"xaxis\": \"x3\", \"y\": [106.12506666666667, 106.10928333333334, 106.13166666666666, 106.12, 106.21253333333334, 106.80156666666667, 106.81865, 106.84321666666666, 106.85121666666667, 106.17763333333333], \"yaxis\": \"y3\"}],\n",
       "                        {\"annotations\": [{\"font\": {}, \"showarrow\": false, \"text\": \"Weather=Clouds\", \"x\": 0.15999999999999998, \"xanchor\": \"center\", \"xref\": \"paper\", \"y\": 1.0, \"yanchor\": \"bottom\", \"yref\": \"paper\"}, {\"font\": {}, \"showarrow\": false, \"text\": \"Weather=Rain\", \"x\": 0.49999999999999994, \"xanchor\": \"center\", \"xref\": \"paper\", \"y\": 1.0, \"yanchor\": \"bottom\", \"yref\": \"paper\"}, {\"font\": {}, \"showarrow\": false, \"text\": \"Weather=Thunderstorm\", \"x\": 0.8399999999999999, \"xanchor\": \"center\", \"xref\": \"paper\", \"y\": 1.0, \"yanchor\": \"bottom\", \"yref\": \"paper\"}], \"coloraxis\": {\"colorbar\": {\"title\": {\"text\": \"Laps\"}}, \"colorscale\": [[0.0, \"#0d0887\"], [0.1111111111111111, \"#46039f\"], [0.2222222222222222, \"#7201a8\"], [0.3333333333333333, \"#9c179e\"], [0.4444444444444444, \"#bd3786\"], [0.5555555555555556, \"#d8576b\"], [0.6666666666666666, \"#ed7953\"], [0.7777777777777778, \"#fb9f3a\"], [0.8888888888888888, \"#fdca26\"], [1.0, \"#f0f921\"]]}, \"legend\": {\"tracegroupgap\": 0}, \"plot_bgcolor\": \"rgb(185,185,185)\", \"template\": {\"data\": {\"bar\": [{\"error_x\": {\"color\": \"#2a3f5f\"}, \"error_y\": {\"color\": \"#2a3f5f\"}, \"marker\": {\"line\": {\"color\": \"#E5ECF6\", \"width\": 0.5}}, \"type\": \"bar\"}], \"barpolar\": [{\"marker\": {\"line\": {\"color\": \"#E5ECF6\", \"width\": 0.5}}, \"type\": \"barpolar\"}], \"carpet\": [{\"aaxis\": {\"endlinecolor\": \"#2a3f5f\", \"gridcolor\": \"white\", \"linecolor\": \"white\", \"minorgridcolor\": \"white\", \"startlinecolor\": \"#2a3f5f\"}, \"baxis\": {\"endlinecolor\": \"#2a3f5f\", \"gridcolor\": \"white\", \"linecolor\": \"white\", \"minorgridcolor\": \"white\", \"startlinecolor\": \"#2a3f5f\"}, \"type\": \"carpet\"}], \"choropleth\": [{\"colorbar\": {\"outlinewidth\": 0, \"ticks\": \"\"}, \"type\": \"choropleth\"}], \"contour\": [{\"colorbar\": {\"outlinewidth\": 0, \"ticks\": \"\"}, \"colorscale\": [[0.0, \"#0d0887\"], [0.1111111111111111, \"#46039f\"], [0.2222222222222222, \"#7201a8\"], [0.3333333333333333, \"#9c179e\"], [0.4444444444444444, \"#bd3786\"], [0.5555555555555556, \"#d8576b\"], [0.6666666666666666, \"#ed7953\"], [0.7777777777777778, \"#fb9f3a\"], [0.8888888888888888, \"#fdca26\"], [1.0, \"#f0f921\"]], \"type\": \"contour\"}], \"contourcarpet\": [{\"colorbar\": {\"outlinewidth\": 0, \"ticks\": \"\"}, \"type\": \"contourcarpet\"}], \"heatmap\": [{\"colorbar\": {\"outlinewidth\": 0, \"ticks\": \"\"}, \"colorscale\": [[0.0, \"#0d0887\"], [0.1111111111111111, \"#46039f\"], [0.2222222222222222, \"#7201a8\"], [0.3333333333333333, \"#9c179e\"], [0.4444444444444444, \"#bd3786\"], [0.5555555555555556, \"#d8576b\"], [0.6666666666666666, \"#ed7953\"], [0.7777777777777778, \"#fb9f3a\"], [0.8888888888888888, \"#fdca26\"], [1.0, \"#f0f921\"]], \"type\": \"heatmap\"}], \"heatmapgl\": [{\"colorbar\": {\"outlinewidth\": 0, \"ticks\": \"\"}, \"colorscale\": [[0.0, \"#0d0887\"], [0.1111111111111111, \"#46039f\"], [0.2222222222222222, \"#7201a8\"], [0.3333333333333333, \"#9c179e\"], [0.4444444444444444, \"#bd3786\"], [0.5555555555555556, \"#d8576b\"], [0.6666666666666666, \"#ed7953\"], [0.7777777777777778, \"#fb9f3a\"], [0.8888888888888888, \"#fdca26\"], [1.0, \"#f0f921\"]], \"type\": \"heatmapgl\"}], \"histogram\": [{\"marker\": {\"colorbar\": {\"outlinewidth\": 0, \"ticks\": \"\"}}, \"type\": \"histogram\"}], \"histogram2d\": [{\"colorbar\": {\"outlinewidth\": 0, \"ticks\": \"\"}, \"colorscale\": [[0.0, \"#0d0887\"], [0.1111111111111111, \"#46039f\"], [0.2222222222222222, \"#7201a8\"], [0.3333333333333333, \"#9c179e\"], [0.4444444444444444, \"#bd3786\"], [0.5555555555555556, \"#d8576b\"], [0.6666666666666666, \"#ed7953\"], [0.7777777777777778, \"#fb9f3a\"], [0.8888888888888888, \"#fdca26\"], [1.0, \"#f0f921\"]], \"type\": \"histogram2d\"}], \"histogram2dcontour\": [{\"colorbar\": {\"outlinewidth\": 0, \"ticks\": \"\"}, \"colorscale\": [[0.0, \"#0d0887\"], [0.1111111111111111, \"#46039f\"], [0.2222222222222222, \"#7201a8\"], [0.3333333333333333, \"#9c179e\"], [0.4444444444444444, \"#bd3786\"], [0.5555555555555556, \"#d8576b\"], [0.6666666666666666, \"#ed7953\"], [0.7777777777777778, \"#fb9f3a\"], [0.8888888888888888, \"#fdca26\"], [1.0, \"#f0f921\"]], \"type\": \"histogram2dcontour\"}], \"mesh3d\": [{\"colorbar\": {\"outlinewidth\": 0, \"ticks\": \"\"}, \"type\": \"mesh3d\"}], \"parcoords\": [{\"line\": {\"colorbar\": {\"outlinewidth\": 0, \"ticks\": \"\"}}, \"type\": \"parcoords\"}], \"pie\": [{\"automargin\": true, \"type\": \"pie\"}], \"scatter\": [{\"marker\": {\"colorbar\": {\"outlinewidth\": 0, \"ticks\": \"\"}}, \"type\": \"scatter\"}], \"scatter3d\": [{\"line\": {\"colorbar\": {\"outlinewidth\": 0, \"ticks\": \"\"}}, \"marker\": {\"colorbar\": {\"outlinewidth\": 0, \"ticks\": \"\"}}, \"type\": \"scatter3d\"}], \"scattercarpet\": [{\"marker\": {\"colorbar\": {\"outlinewidth\": 0, \"ticks\": \"\"}}, \"type\": \"scattercarpet\"}], \"scattergeo\": [{\"marker\": {\"colorbar\": {\"outlinewidth\": 0, \"ticks\": \"\"}}, \"type\": \"scattergeo\"}], \"scattergl\": [{\"marker\": {\"colorbar\": {\"outlinewidth\": 0, \"ticks\": \"\"}}, \"type\": \"scattergl\"}], \"scattermapbox\": [{\"marker\": {\"colorbar\": {\"outlinewidth\": 0, \"ticks\": \"\"}}, \"type\": \"scattermapbox\"}], \"scatterpolar\": [{\"marker\": {\"colorbar\": {\"outlinewidth\": 0, \"ticks\": \"\"}}, \"type\": \"scatterpolar\"}], \"scatterpolargl\": [{\"marker\": {\"colorbar\": {\"outlinewidth\": 0, \"ticks\": \"\"}}, \"type\": \"scatterpolargl\"}], \"scatterternary\": [{\"marker\": {\"colorbar\": {\"outlinewidth\": 0, \"ticks\": \"\"}}, \"type\": \"scatterternary\"}], \"surface\": [{\"colorbar\": {\"outlinewidth\": 0, \"ticks\": \"\"}, \"colorscale\": [[0.0, \"#0d0887\"], [0.1111111111111111, \"#46039f\"], [0.2222222222222222, \"#7201a8\"], [0.3333333333333333, \"#9c179e\"], [0.4444444444444444, \"#bd3786\"], [0.5555555555555556, \"#d8576b\"], [0.6666666666666666, \"#ed7953\"], [0.7777777777777778, \"#fb9f3a\"], [0.8888888888888888, \"#fdca26\"], [1.0, \"#f0f921\"]], \"type\": \"surface\"}], \"table\": [{\"cells\": {\"fill\": {\"color\": \"#EBF0F8\"}, \"line\": {\"color\": \"white\"}}, \"header\": {\"fill\": {\"color\": \"#C8D4E3\"}, \"line\": {\"color\": \"white\"}}, \"type\": \"table\"}]}, \"layout\": {\"annotationdefaults\": {\"arrowcolor\": \"#2a3f5f\", \"arrowhead\": 0, \"arrowwidth\": 1}, \"coloraxis\": {\"colorbar\": {\"outlinewidth\": 0, \"ticks\": \"\"}}, \"colorscale\": {\"diverging\": [[0, \"#8e0152\"], [0.1, \"#c51b7d\"], [0.2, \"#de77ae\"], [0.3, \"#f1b6da\"], [0.4, \"#fde0ef\"], [0.5, \"#f7f7f7\"], [0.6, \"#e6f5d0\"], [0.7, \"#b8e186\"], [0.8, \"#7fbc41\"], [0.9, \"#4d9221\"], [1, \"#276419\"]], \"sequential\": [[0.0, \"#0d0887\"], [0.1111111111111111, \"#46039f\"], [0.2222222222222222, \"#7201a8\"], [0.3333333333333333, \"#9c179e\"], [0.4444444444444444, \"#bd3786\"], [0.5555555555555556, \"#d8576b\"], [0.6666666666666666, \"#ed7953\"], [0.7777777777777778, \"#fb9f3a\"], [0.8888888888888888, \"#fdca26\"], [1.0, \"#f0f921\"]], \"sequentialminus\": [[0.0, \"#0d0887\"], [0.1111111111111111, \"#46039f\"], [0.2222222222222222, \"#7201a8\"], [0.3333333333333333, \"#9c179e\"], [0.4444444444444444, \"#bd3786\"], [0.5555555555555556, \"#d8576b\"], [0.6666666666666666, \"#ed7953\"], [0.7777777777777778, \"#fb9f3a\"], [0.8888888888888888, \"#fdca26\"], [1.0, \"#f0f921\"]]}, \"colorway\": [\"#636efa\", \"#EF553B\", \"#00cc96\", \"#ab63fa\", \"#FFA15A\", \"#19d3f3\", \"#FF6692\", \"#B6E880\", \"#FF97FF\", \"#FECB52\"], \"font\": {\"color\": \"#2a3f5f\"}, \"geo\": {\"bgcolor\": \"white\", \"lakecolor\": \"white\", \"landcolor\": \"#E5ECF6\", \"showlakes\": true, \"showland\": true, \"subunitcolor\": \"white\"}, \"hoverlabel\": {\"align\": \"left\"}, \"hovermode\": \"closest\", \"mapbox\": {\"style\": \"light\"}, \"paper_bgcolor\": \"white\", \"plot_bgcolor\": \"#E5ECF6\", \"polar\": {\"angularaxis\": {\"gridcolor\": \"white\", \"linecolor\": \"white\", \"ticks\": \"\"}, \"bgcolor\": \"#E5ECF6\", \"radialaxis\": {\"gridcolor\": \"white\", \"linecolor\": \"white\", \"ticks\": \"\"}}, \"scene\": {\"xaxis\": {\"backgroundcolor\": \"#E5ECF6\", \"gridcolor\": \"white\", \"gridwidth\": 2, \"linecolor\": \"white\", \"showbackground\": true, \"ticks\": \"\", \"zerolinecolor\": \"white\"}, \"yaxis\": {\"backgroundcolor\": \"#E5ECF6\", \"gridcolor\": \"white\", \"gridwidth\": 2, \"linecolor\": \"white\", \"showbackground\": true, \"ticks\": \"\", \"zerolinecolor\": \"white\"}, \"zaxis\": {\"backgroundcolor\": \"#E5ECF6\", \"gridcolor\": \"white\", \"gridwidth\": 2, \"linecolor\": \"white\", \"showbackground\": true, \"ticks\": \"\", \"zerolinecolor\": \"white\"}}, \"shapedefaults\": {\"line\": {\"color\": \"#2a3f5f\"}}, \"ternary\": {\"aaxis\": {\"gridcolor\": \"white\", \"linecolor\": \"white\", \"ticks\": \"\"}, \"baxis\": {\"gridcolor\": \"white\", \"linecolor\": \"white\", \"ticks\": \"\"}, \"bgcolor\": \"#E5ECF6\", \"caxis\": {\"gridcolor\": \"white\", \"linecolor\": \"white\", \"ticks\": \"\"}}, \"title\": {\"x\": 0.05}, \"xaxis\": {\"automargin\": true, \"gridcolor\": \"white\", \"linecolor\": \"white\", \"ticks\": \"\", \"title\": {\"standoff\": 15}, \"zerolinecolor\": \"white\", \"zerolinewidth\": 2}, \"yaxis\": {\"automargin\": true, \"gridcolor\": \"white\", \"linecolor\": \"white\", \"ticks\": \"\", \"title\": {\"standoff\": 15}, \"zerolinecolor\": \"white\", \"zerolinewidth\": 2}}}, \"title\": {\"text\": \"Formula1 winner's times at the Monaco Grand Prix\"}, \"xaxis\": {\"anchor\": \"y\", \"domain\": [0.0, 0.31999999999999995], \"title\": {\"text\": \"Season\"}}, \"xaxis2\": {\"anchor\": \"y2\", \"domain\": [0.33999999999999997, 0.6599999999999999], \"matches\": \"x\", \"title\": {\"text\": \"Season\"}}, \"xaxis3\": {\"anchor\": \"y3\", \"domain\": [0.6799999999999999, 0.9999999999999999], \"matches\": \"x\", \"title\": {\"text\": \"Season\"}}, \"yaxis\": {\"anchor\": \"x\", \"domain\": [0.0, 1.0], \"title\": {\"text\": \"Time_mins\"}}, \"yaxis2\": {\"anchor\": \"x2\", \"domain\": [0.0, 1.0], \"matches\": \"y\", \"showticklabels\": false}, \"yaxis3\": {\"anchor\": \"x3\", \"domain\": [0.0, 1.0], \"matches\": \"y\", \"showticklabels\": false}},\n",
       "                        {\"responsive\": true}\n",
       "                    ).then(function(){\n",
       "                            \n",
       "var gd = document.getElementById('747bdd3c-3073-4944-b058-fd7be17214c1');\n",
       "var x = new MutationObserver(function (mutations, observer) {{\n",
       "        var display = window.getComputedStyle(gd).display;\n",
       "        if (!display || display === 'none') {{\n",
       "            console.log([gd, 'removed!']);\n",
       "            Plotly.purge(gd);\n",
       "            observer.disconnect();\n",
       "        }}\n",
       "}});\n",
       "\n",
       "// Listen for the removal of the full notebook cells\n",
       "var notebookContainer = gd.closest('#notebook-container');\n",
       "if (notebookContainer) {{\n",
       "    x.observe(notebookContainer, {childList: true});\n",
       "}}\n",
       "\n",
       "// Listen for the clearing of the current output cell\n",
       "var outputEl = gd.closest('.output');\n",
       "if (outputEl) {{\n",
       "    x.observe(outputEl, {childList: true});\n",
       "}}\n",
       "\n",
       "                        })\n",
       "                };\n",
       "                });\n",
       "            </script>\n",
       "        </div>"
      ]
     },
     "metadata": {},
     "output_type": "display_data"
    }
   ],
   "source": [
    "fig4 = px.scatter(result, x = 'Season', y = 'Time_mins',\n",
    "                 title=\"Formula1 winner's times at the Monaco Grand Prix\",\n",
    "                 hover_name='Driver', color=\"Laps\",facet_col=\"Weather\")\n",
    "fig4.update_layout(plot_bgcolor='rgb(185,185,185)')\n",
    "fig4.show()"
   ]
  },
  {
   "cell_type": "code",
   "execution_count": 56,
   "metadata": {},
   "outputs": [
    {
     "data": {
      "text/html": [
       "<div>\n",
       "<style scoped>\n",
       "    .dataframe tbody tr th:only-of-type {\n",
       "        vertical-align: middle;\n",
       "    }\n",
       "\n",
       "    .dataframe tbody tr th {\n",
       "        vertical-align: top;\n",
       "    }\n",
       "\n",
       "    .dataframe thead th {\n",
       "        text-align: right;\n",
       "    }\n",
       "</style>\n",
       "<table border=\"1\" class=\"dataframe\">\n",
       "  <thead>\n",
       "    <tr style=\"text-align: right;\">\n",
       "      <th></th>\n",
       "      <th>Race</th>\n",
       "      <th>Collisions</th>\n",
       "    </tr>\n",
       "  </thead>\n",
       "  <tbody>\n",
       "    <tr>\n",
       "      <td>0</td>\n",
       "      <td>Abu Dhabi Grand Prix</td>\n",
       "      <td>9</td>\n",
       "    </tr>\n",
       "    <tr>\n",
       "      <td>1</td>\n",
       "      <td>Argentine Grand Prix</td>\n",
       "      <td>21</td>\n",
       "    </tr>\n",
       "    <tr>\n",
       "      <td>2</td>\n",
       "      <td>Australian Grand Prix</td>\n",
       "      <td>64</td>\n",
       "    </tr>\n",
       "    <tr>\n",
       "      <td>3</td>\n",
       "      <td>Austrian Grand Prix</td>\n",
       "      <td>27</td>\n",
       "    </tr>\n",
       "    <tr>\n",
       "      <td>4</td>\n",
       "      <td>Azerbaijan Grand Prix</td>\n",
       "      <td>6</td>\n",
       "    </tr>\n",
       "  </tbody>\n",
       "</table>\n",
       "</div>"
      ],
      "text/plain": [
       "                    Race  Collisions\n",
       "0   Abu Dhabi Grand Prix           9\n",
       "1   Argentine Grand Prix          21\n",
       "2  Australian Grand Prix          64\n",
       "3    Austrian Grand Prix          27\n",
       "4  Azerbaijan Grand Prix           6"
      ]
     },
     "execution_count": 56,
     "metadata": {},
     "output_type": "execute_result"
    }
   ],
   "source": [
    "collision_data = get_data_from_api(\n",
    "              api_options='status/4/results.json',\n",
    "              api_limit='?limit=1000')\n",
    "\n",
    "save_raw_data_to_file(collision_data, \"/Users/nick.duggan/workspace/Notebooks/formula1_collision_data.json\")\n",
    "\n",
    "collisions = get_finishers_data(read_json_file(\"/Users/nick.duggan/workspace/Notebooks/formula1_collision_data.json\"))\n",
    "\n",
    "collisions_df = pandas.DataFrame(collisions)\n",
    "\n",
    "race_group_df = collisions_df.groupby(\"Race\").size().reset_index(name='Collisions')\n",
    "\n",
    "race_group_df[0:5]"
   ]
  },
  {
   "cell_type": "code",
   "execution_count": 57,
   "metadata": {},
   "outputs": [
    {
     "data": {
      "application/vnd.plotly.v1+json": {
       "config": {
        "plotlyServerURL": "https://plot.ly"
       },
       "data": [
        {
         "alignmentgroup": "True",
         "hoverlabel": {
          "namelength": 0
         },
         "hovertemplate": "Race=%{x}<br>Collisions=%{y}",
         "legendgroup": "",
         "marker": {
          "color": "#636efa"
         },
         "name": "",
         "offsetgroup": "",
         "orientation": "v",
         "showlegend": false,
         "textposition": "auto",
         "type": "bar",
         "x": [
          "Abu Dhabi Grand Prix",
          "Argentine Grand Prix",
          "Australian Grand Prix",
          "Austrian Grand Prix",
          "Azerbaijan Grand Prix",
          "Bahrain Grand Prix",
          "Belgian Grand Prix",
          "Brazilian Grand Prix",
          "British Grand Prix",
          "Caesars Palace Grand Prix",
          "Canadian Grand Prix",
          "Chinese Grand Prix",
          "Detroit Grand Prix",
          "Dutch Grand Prix",
          "European Grand Prix",
          "French Grand Prix",
          "German Grand Prix",
          "Hungarian Grand Prix",
          "Indian Grand Prix",
          "Italian Grand Prix",
          "Japanese Grand Prix",
          "Korean Grand Prix",
          "Luxembourg Grand Prix",
          "Malaysian Grand Prix",
          "Mexican Grand Prix",
          "Monaco Grand Prix",
          "Pacific Grand Prix",
          "Portuguese Grand Prix",
          "Russian Grand Prix",
          "San Marino Grand Prix",
          "Singapore Grand Prix",
          "South African Grand Prix",
          "Spanish Grand Prix",
          "Turkish Grand Prix",
          "United States Grand Prix",
          "United States Grand Prix West"
         ],
         "xaxis": "x",
         "y": [
          9,
          21,
          64,
          27,
          6,
          7,
          53,
          55,
          46,
          1,
          45,
          10,
          8,
          8,
          26,
          18,
          38,
          28,
          3,
          38,
          31,
          10,
          3,
          11,
          7,
          72,
          5,
          9,
          10,
          17,
          12,
          7,
          47,
          5,
          20,
          14
         ],
         "yaxis": "y"
        }
       ],
       "layout": {
        "barmode": "relative",
        "legend": {
         "tracegroupgap": 0
        },
        "margin": {
         "t": 60
        },
        "template": {
         "data": {
          "bar": [
           {
            "error_x": {
             "color": "#2a3f5f"
            },
            "error_y": {
             "color": "#2a3f5f"
            },
            "marker": {
             "line": {
              "color": "#E5ECF6",
              "width": 0.5
             }
            },
            "type": "bar"
           }
          ],
          "barpolar": [
           {
            "marker": {
             "line": {
              "color": "#E5ECF6",
              "width": 0.5
             }
            },
            "type": "barpolar"
           }
          ],
          "carpet": [
           {
            "aaxis": {
             "endlinecolor": "#2a3f5f",
             "gridcolor": "white",
             "linecolor": "white",
             "minorgridcolor": "white",
             "startlinecolor": "#2a3f5f"
            },
            "baxis": {
             "endlinecolor": "#2a3f5f",
             "gridcolor": "white",
             "linecolor": "white",
             "minorgridcolor": "white",
             "startlinecolor": "#2a3f5f"
            },
            "type": "carpet"
           }
          ],
          "choropleth": [
           {
            "colorbar": {
             "outlinewidth": 0,
             "ticks": ""
            },
            "type": "choropleth"
           }
          ],
          "contour": [
           {
            "colorbar": {
             "outlinewidth": 0,
             "ticks": ""
            },
            "colorscale": [
             [
              0,
              "#0d0887"
             ],
             [
              0.1111111111111111,
              "#46039f"
             ],
             [
              0.2222222222222222,
              "#7201a8"
             ],
             [
              0.3333333333333333,
              "#9c179e"
             ],
             [
              0.4444444444444444,
              "#bd3786"
             ],
             [
              0.5555555555555556,
              "#d8576b"
             ],
             [
              0.6666666666666666,
              "#ed7953"
             ],
             [
              0.7777777777777778,
              "#fb9f3a"
             ],
             [
              0.8888888888888888,
              "#fdca26"
             ],
             [
              1,
              "#f0f921"
             ]
            ],
            "type": "contour"
           }
          ],
          "contourcarpet": [
           {
            "colorbar": {
             "outlinewidth": 0,
             "ticks": ""
            },
            "type": "contourcarpet"
           }
          ],
          "heatmap": [
           {
            "colorbar": {
             "outlinewidth": 0,
             "ticks": ""
            },
            "colorscale": [
             [
              0,
              "#0d0887"
             ],
             [
              0.1111111111111111,
              "#46039f"
             ],
             [
              0.2222222222222222,
              "#7201a8"
             ],
             [
              0.3333333333333333,
              "#9c179e"
             ],
             [
              0.4444444444444444,
              "#bd3786"
             ],
             [
              0.5555555555555556,
              "#d8576b"
             ],
             [
              0.6666666666666666,
              "#ed7953"
             ],
             [
              0.7777777777777778,
              "#fb9f3a"
             ],
             [
              0.8888888888888888,
              "#fdca26"
             ],
             [
              1,
              "#f0f921"
             ]
            ],
            "type": "heatmap"
           }
          ],
          "heatmapgl": [
           {
            "colorbar": {
             "outlinewidth": 0,
             "ticks": ""
            },
            "colorscale": [
             [
              0,
              "#0d0887"
             ],
             [
              0.1111111111111111,
              "#46039f"
             ],
             [
              0.2222222222222222,
              "#7201a8"
             ],
             [
              0.3333333333333333,
              "#9c179e"
             ],
             [
              0.4444444444444444,
              "#bd3786"
             ],
             [
              0.5555555555555556,
              "#d8576b"
             ],
             [
              0.6666666666666666,
              "#ed7953"
             ],
             [
              0.7777777777777778,
              "#fb9f3a"
             ],
             [
              0.8888888888888888,
              "#fdca26"
             ],
             [
              1,
              "#f0f921"
             ]
            ],
            "type": "heatmapgl"
           }
          ],
          "histogram": [
           {
            "marker": {
             "colorbar": {
              "outlinewidth": 0,
              "ticks": ""
             }
            },
            "type": "histogram"
           }
          ],
          "histogram2d": [
           {
            "colorbar": {
             "outlinewidth": 0,
             "ticks": ""
            },
            "colorscale": [
             [
              0,
              "#0d0887"
             ],
             [
              0.1111111111111111,
              "#46039f"
             ],
             [
              0.2222222222222222,
              "#7201a8"
             ],
             [
              0.3333333333333333,
              "#9c179e"
             ],
             [
              0.4444444444444444,
              "#bd3786"
             ],
             [
              0.5555555555555556,
              "#d8576b"
             ],
             [
              0.6666666666666666,
              "#ed7953"
             ],
             [
              0.7777777777777778,
              "#fb9f3a"
             ],
             [
              0.8888888888888888,
              "#fdca26"
             ],
             [
              1,
              "#f0f921"
             ]
            ],
            "type": "histogram2d"
           }
          ],
          "histogram2dcontour": [
           {
            "colorbar": {
             "outlinewidth": 0,
             "ticks": ""
            },
            "colorscale": [
             [
              0,
              "#0d0887"
             ],
             [
              0.1111111111111111,
              "#46039f"
             ],
             [
              0.2222222222222222,
              "#7201a8"
             ],
             [
              0.3333333333333333,
              "#9c179e"
             ],
             [
              0.4444444444444444,
              "#bd3786"
             ],
             [
              0.5555555555555556,
              "#d8576b"
             ],
             [
              0.6666666666666666,
              "#ed7953"
             ],
             [
              0.7777777777777778,
              "#fb9f3a"
             ],
             [
              0.8888888888888888,
              "#fdca26"
             ],
             [
              1,
              "#f0f921"
             ]
            ],
            "type": "histogram2dcontour"
           }
          ],
          "mesh3d": [
           {
            "colorbar": {
             "outlinewidth": 0,
             "ticks": ""
            },
            "type": "mesh3d"
           }
          ],
          "parcoords": [
           {
            "line": {
             "colorbar": {
              "outlinewidth": 0,
              "ticks": ""
             }
            },
            "type": "parcoords"
           }
          ],
          "pie": [
           {
            "automargin": true,
            "type": "pie"
           }
          ],
          "scatter": [
           {
            "marker": {
             "colorbar": {
              "outlinewidth": 0,
              "ticks": ""
             }
            },
            "type": "scatter"
           }
          ],
          "scatter3d": [
           {
            "line": {
             "colorbar": {
              "outlinewidth": 0,
              "ticks": ""
             }
            },
            "marker": {
             "colorbar": {
              "outlinewidth": 0,
              "ticks": ""
             }
            },
            "type": "scatter3d"
           }
          ],
          "scattercarpet": [
           {
            "marker": {
             "colorbar": {
              "outlinewidth": 0,
              "ticks": ""
             }
            },
            "type": "scattercarpet"
           }
          ],
          "scattergeo": [
           {
            "marker": {
             "colorbar": {
              "outlinewidth": 0,
              "ticks": ""
             }
            },
            "type": "scattergeo"
           }
          ],
          "scattergl": [
           {
            "marker": {
             "colorbar": {
              "outlinewidth": 0,
              "ticks": ""
             }
            },
            "type": "scattergl"
           }
          ],
          "scattermapbox": [
           {
            "marker": {
             "colorbar": {
              "outlinewidth": 0,
              "ticks": ""
             }
            },
            "type": "scattermapbox"
           }
          ],
          "scatterpolar": [
           {
            "marker": {
             "colorbar": {
              "outlinewidth": 0,
              "ticks": ""
             }
            },
            "type": "scatterpolar"
           }
          ],
          "scatterpolargl": [
           {
            "marker": {
             "colorbar": {
              "outlinewidth": 0,
              "ticks": ""
             }
            },
            "type": "scatterpolargl"
           }
          ],
          "scatterternary": [
           {
            "marker": {
             "colorbar": {
              "outlinewidth": 0,
              "ticks": ""
             }
            },
            "type": "scatterternary"
           }
          ],
          "surface": [
           {
            "colorbar": {
             "outlinewidth": 0,
             "ticks": ""
            },
            "colorscale": [
             [
              0,
              "#0d0887"
             ],
             [
              0.1111111111111111,
              "#46039f"
             ],
             [
              0.2222222222222222,
              "#7201a8"
             ],
             [
              0.3333333333333333,
              "#9c179e"
             ],
             [
              0.4444444444444444,
              "#bd3786"
             ],
             [
              0.5555555555555556,
              "#d8576b"
             ],
             [
              0.6666666666666666,
              "#ed7953"
             ],
             [
              0.7777777777777778,
              "#fb9f3a"
             ],
             [
              0.8888888888888888,
              "#fdca26"
             ],
             [
              1,
              "#f0f921"
             ]
            ],
            "type": "surface"
           }
          ],
          "table": [
           {
            "cells": {
             "fill": {
              "color": "#EBF0F8"
             },
             "line": {
              "color": "white"
             }
            },
            "header": {
             "fill": {
              "color": "#C8D4E3"
             },
             "line": {
              "color": "white"
             }
            },
            "type": "table"
           }
          ]
         },
         "layout": {
          "annotationdefaults": {
           "arrowcolor": "#2a3f5f",
           "arrowhead": 0,
           "arrowwidth": 1
          },
          "coloraxis": {
           "colorbar": {
            "outlinewidth": 0,
            "ticks": ""
           }
          },
          "colorscale": {
           "diverging": [
            [
             0,
             "#8e0152"
            ],
            [
             0.1,
             "#c51b7d"
            ],
            [
             0.2,
             "#de77ae"
            ],
            [
             0.3,
             "#f1b6da"
            ],
            [
             0.4,
             "#fde0ef"
            ],
            [
             0.5,
             "#f7f7f7"
            ],
            [
             0.6,
             "#e6f5d0"
            ],
            [
             0.7,
             "#b8e186"
            ],
            [
             0.8,
             "#7fbc41"
            ],
            [
             0.9,
             "#4d9221"
            ],
            [
             1,
             "#276419"
            ]
           ],
           "sequential": [
            [
             0,
             "#0d0887"
            ],
            [
             0.1111111111111111,
             "#46039f"
            ],
            [
             0.2222222222222222,
             "#7201a8"
            ],
            [
             0.3333333333333333,
             "#9c179e"
            ],
            [
             0.4444444444444444,
             "#bd3786"
            ],
            [
             0.5555555555555556,
             "#d8576b"
            ],
            [
             0.6666666666666666,
             "#ed7953"
            ],
            [
             0.7777777777777778,
             "#fb9f3a"
            ],
            [
             0.8888888888888888,
             "#fdca26"
            ],
            [
             1,
             "#f0f921"
            ]
           ],
           "sequentialminus": [
            [
             0,
             "#0d0887"
            ],
            [
             0.1111111111111111,
             "#46039f"
            ],
            [
             0.2222222222222222,
             "#7201a8"
            ],
            [
             0.3333333333333333,
             "#9c179e"
            ],
            [
             0.4444444444444444,
             "#bd3786"
            ],
            [
             0.5555555555555556,
             "#d8576b"
            ],
            [
             0.6666666666666666,
             "#ed7953"
            ],
            [
             0.7777777777777778,
             "#fb9f3a"
            ],
            [
             0.8888888888888888,
             "#fdca26"
            ],
            [
             1,
             "#f0f921"
            ]
           ]
          },
          "colorway": [
           "#636efa",
           "#EF553B",
           "#00cc96",
           "#ab63fa",
           "#FFA15A",
           "#19d3f3",
           "#FF6692",
           "#B6E880",
           "#FF97FF",
           "#FECB52"
          ],
          "font": {
           "color": "#2a3f5f"
          },
          "geo": {
           "bgcolor": "white",
           "lakecolor": "white",
           "landcolor": "#E5ECF6",
           "showlakes": true,
           "showland": true,
           "subunitcolor": "white"
          },
          "hoverlabel": {
           "align": "left"
          },
          "hovermode": "closest",
          "mapbox": {
           "style": "light"
          },
          "paper_bgcolor": "white",
          "plot_bgcolor": "#E5ECF6",
          "polar": {
           "angularaxis": {
            "gridcolor": "white",
            "linecolor": "white",
            "ticks": ""
           },
           "bgcolor": "#E5ECF6",
           "radialaxis": {
            "gridcolor": "white",
            "linecolor": "white",
            "ticks": ""
           }
          },
          "scene": {
           "xaxis": {
            "backgroundcolor": "#E5ECF6",
            "gridcolor": "white",
            "gridwidth": 2,
            "linecolor": "white",
            "showbackground": true,
            "ticks": "",
            "zerolinecolor": "white"
           },
           "yaxis": {
            "backgroundcolor": "#E5ECF6",
            "gridcolor": "white",
            "gridwidth": 2,
            "linecolor": "white",
            "showbackground": true,
            "ticks": "",
            "zerolinecolor": "white"
           },
           "zaxis": {
            "backgroundcolor": "#E5ECF6",
            "gridcolor": "white",
            "gridwidth": 2,
            "linecolor": "white",
            "showbackground": true,
            "ticks": "",
            "zerolinecolor": "white"
           }
          },
          "shapedefaults": {
           "line": {
            "color": "#2a3f5f"
           }
          },
          "ternary": {
           "aaxis": {
            "gridcolor": "white",
            "linecolor": "white",
            "ticks": ""
           },
           "baxis": {
            "gridcolor": "white",
            "linecolor": "white",
            "ticks": ""
           },
           "bgcolor": "#E5ECF6",
           "caxis": {
            "gridcolor": "white",
            "linecolor": "white",
            "ticks": ""
           }
          },
          "title": {
           "x": 0.05
          },
          "xaxis": {
           "automargin": true,
           "gridcolor": "white",
           "linecolor": "white",
           "ticks": "",
           "title": {
            "standoff": 15
           },
           "zerolinecolor": "white",
           "zerolinewidth": 2
          },
          "yaxis": {
           "automargin": true,
           "gridcolor": "white",
           "linecolor": "white",
           "ticks": "",
           "title": {
            "standoff": 15
           },
           "zerolinecolor": "white",
           "zerolinewidth": 2
          }
         }
        },
        "xaxis": {
         "anchor": "y",
         "domain": [
          0,
          1
         ],
         "title": {
          "text": "Race"
         }
        },
        "yaxis": {
         "anchor": "x",
         "domain": [
          0,
          1
         ],
         "title": {
          "text": "Collisions"
         }
        }
       }
      },
      "text/html": [
       "<div>\n",
       "        \n",
       "        \n",
       "            <div id=\"cab4e687-d5f6-4411-806f-ac0ed2c57f95\" class=\"plotly-graph-div\" style=\"height:525px; width:100%;\"></div>\n",
       "            <script type=\"text/javascript\">\n",
       "                require([\"plotly\"], function(Plotly) {\n",
       "                    window.PLOTLYENV=window.PLOTLYENV || {};\n",
       "                    \n",
       "                if (document.getElementById(\"cab4e687-d5f6-4411-806f-ac0ed2c57f95\")) {\n",
       "                    Plotly.newPlot(\n",
       "                        'cab4e687-d5f6-4411-806f-ac0ed2c57f95',\n",
       "                        [{\"alignmentgroup\": \"True\", \"hoverlabel\": {\"namelength\": 0}, \"hovertemplate\": \"Race=%{x}<br>Collisions=%{y}\", \"legendgroup\": \"\", \"marker\": {\"color\": \"#636efa\"}, \"name\": \"\", \"offsetgroup\": \"\", \"orientation\": \"v\", \"showlegend\": false, \"textposition\": \"auto\", \"type\": \"bar\", \"x\": [\"Abu Dhabi Grand Prix\", \"Argentine Grand Prix\", \"Australian Grand Prix\", \"Austrian Grand Prix\", \"Azerbaijan Grand Prix\", \"Bahrain Grand Prix\", \"Belgian Grand Prix\", \"Brazilian Grand Prix\", \"British Grand Prix\", \"Caesars Palace Grand Prix\", \"Canadian Grand Prix\", \"Chinese Grand Prix\", \"Detroit Grand Prix\", \"Dutch Grand Prix\", \"European Grand Prix\", \"French Grand Prix\", \"German Grand Prix\", \"Hungarian Grand Prix\", \"Indian Grand Prix\", \"Italian Grand Prix\", \"Japanese Grand Prix\", \"Korean Grand Prix\", \"Luxembourg Grand Prix\", \"Malaysian Grand Prix\", \"Mexican Grand Prix\", \"Monaco Grand Prix\", \"Pacific Grand Prix\", \"Portuguese Grand Prix\", \"Russian Grand Prix\", \"San Marino Grand Prix\", \"Singapore Grand Prix\", \"South African Grand Prix\", \"Spanish Grand Prix\", \"Turkish Grand Prix\", \"United States Grand Prix\", \"United States Grand Prix West\"], \"xaxis\": \"x\", \"y\": [9, 21, 64, 27, 6, 7, 53, 55, 46, 1, 45, 10, 8, 8, 26, 18, 38, 28, 3, 38, 31, 10, 3, 11, 7, 72, 5, 9, 10, 17, 12, 7, 47, 5, 20, 14], \"yaxis\": \"y\"}],\n",
       "                        {\"barmode\": \"relative\", \"legend\": {\"tracegroupgap\": 0}, \"margin\": {\"t\": 60}, \"template\": {\"data\": {\"bar\": [{\"error_x\": {\"color\": \"#2a3f5f\"}, \"error_y\": {\"color\": \"#2a3f5f\"}, \"marker\": {\"line\": {\"color\": \"#E5ECF6\", \"width\": 0.5}}, \"type\": \"bar\"}], \"barpolar\": [{\"marker\": {\"line\": {\"color\": \"#E5ECF6\", \"width\": 0.5}}, \"type\": \"barpolar\"}], \"carpet\": [{\"aaxis\": {\"endlinecolor\": \"#2a3f5f\", \"gridcolor\": \"white\", \"linecolor\": \"white\", \"minorgridcolor\": \"white\", \"startlinecolor\": \"#2a3f5f\"}, \"baxis\": {\"endlinecolor\": \"#2a3f5f\", \"gridcolor\": \"white\", \"linecolor\": \"white\", \"minorgridcolor\": \"white\", \"startlinecolor\": \"#2a3f5f\"}, \"type\": \"carpet\"}], \"choropleth\": [{\"colorbar\": {\"outlinewidth\": 0, \"ticks\": \"\"}, \"type\": \"choropleth\"}], \"contour\": [{\"colorbar\": {\"outlinewidth\": 0, \"ticks\": \"\"}, \"colorscale\": [[0.0, \"#0d0887\"], [0.1111111111111111, \"#46039f\"], [0.2222222222222222, \"#7201a8\"], [0.3333333333333333, \"#9c179e\"], [0.4444444444444444, \"#bd3786\"], [0.5555555555555556, \"#d8576b\"], [0.6666666666666666, \"#ed7953\"], [0.7777777777777778, \"#fb9f3a\"], [0.8888888888888888, \"#fdca26\"], [1.0, \"#f0f921\"]], \"type\": \"contour\"}], \"contourcarpet\": [{\"colorbar\": {\"outlinewidth\": 0, \"ticks\": \"\"}, \"type\": \"contourcarpet\"}], \"heatmap\": [{\"colorbar\": {\"outlinewidth\": 0, \"ticks\": \"\"}, \"colorscale\": [[0.0, \"#0d0887\"], [0.1111111111111111, \"#46039f\"], [0.2222222222222222, \"#7201a8\"], [0.3333333333333333, \"#9c179e\"], [0.4444444444444444, \"#bd3786\"], [0.5555555555555556, \"#d8576b\"], [0.6666666666666666, \"#ed7953\"], [0.7777777777777778, \"#fb9f3a\"], [0.8888888888888888, \"#fdca26\"], [1.0, \"#f0f921\"]], \"type\": \"heatmap\"}], \"heatmapgl\": [{\"colorbar\": {\"outlinewidth\": 0, \"ticks\": \"\"}, \"colorscale\": [[0.0, \"#0d0887\"], [0.1111111111111111, \"#46039f\"], [0.2222222222222222, \"#7201a8\"], [0.3333333333333333, \"#9c179e\"], [0.4444444444444444, \"#bd3786\"], [0.5555555555555556, \"#d8576b\"], [0.6666666666666666, \"#ed7953\"], [0.7777777777777778, \"#fb9f3a\"], [0.8888888888888888, \"#fdca26\"], [1.0, \"#f0f921\"]], \"type\": \"heatmapgl\"}], \"histogram\": [{\"marker\": {\"colorbar\": {\"outlinewidth\": 0, \"ticks\": \"\"}}, \"type\": \"histogram\"}], \"histogram2d\": [{\"colorbar\": {\"outlinewidth\": 0, \"ticks\": \"\"}, \"colorscale\": [[0.0, \"#0d0887\"], [0.1111111111111111, \"#46039f\"], [0.2222222222222222, \"#7201a8\"], [0.3333333333333333, \"#9c179e\"], [0.4444444444444444, \"#bd3786\"], [0.5555555555555556, \"#d8576b\"], [0.6666666666666666, \"#ed7953\"], [0.7777777777777778, \"#fb9f3a\"], [0.8888888888888888, \"#fdca26\"], [1.0, \"#f0f921\"]], \"type\": \"histogram2d\"}], \"histogram2dcontour\": [{\"colorbar\": {\"outlinewidth\": 0, \"ticks\": \"\"}, \"colorscale\": [[0.0, \"#0d0887\"], [0.1111111111111111, \"#46039f\"], [0.2222222222222222, \"#7201a8\"], [0.3333333333333333, \"#9c179e\"], [0.4444444444444444, \"#bd3786\"], [0.5555555555555556, \"#d8576b\"], [0.6666666666666666, \"#ed7953\"], [0.7777777777777778, \"#fb9f3a\"], [0.8888888888888888, \"#fdca26\"], [1.0, \"#f0f921\"]], \"type\": \"histogram2dcontour\"}], \"mesh3d\": [{\"colorbar\": {\"outlinewidth\": 0, \"ticks\": \"\"}, \"type\": \"mesh3d\"}], \"parcoords\": [{\"line\": {\"colorbar\": {\"outlinewidth\": 0, \"ticks\": \"\"}}, \"type\": \"parcoords\"}], \"pie\": [{\"automargin\": true, \"type\": \"pie\"}], \"scatter\": [{\"marker\": {\"colorbar\": {\"outlinewidth\": 0, \"ticks\": \"\"}}, \"type\": \"scatter\"}], \"scatter3d\": [{\"line\": {\"colorbar\": {\"outlinewidth\": 0, \"ticks\": \"\"}}, \"marker\": {\"colorbar\": {\"outlinewidth\": 0, \"ticks\": \"\"}}, \"type\": \"scatter3d\"}], \"scattercarpet\": [{\"marker\": {\"colorbar\": {\"outlinewidth\": 0, \"ticks\": \"\"}}, \"type\": \"scattercarpet\"}], \"scattergeo\": [{\"marker\": {\"colorbar\": {\"outlinewidth\": 0, \"ticks\": \"\"}}, \"type\": \"scattergeo\"}], \"scattergl\": [{\"marker\": {\"colorbar\": {\"outlinewidth\": 0, \"ticks\": \"\"}}, \"type\": \"scattergl\"}], \"scattermapbox\": [{\"marker\": {\"colorbar\": {\"outlinewidth\": 0, \"ticks\": \"\"}}, \"type\": \"scattermapbox\"}], \"scatterpolar\": [{\"marker\": {\"colorbar\": {\"outlinewidth\": 0, \"ticks\": \"\"}}, \"type\": \"scatterpolar\"}], \"scatterpolargl\": [{\"marker\": {\"colorbar\": {\"outlinewidth\": 0, \"ticks\": \"\"}}, \"type\": \"scatterpolargl\"}], \"scatterternary\": [{\"marker\": {\"colorbar\": {\"outlinewidth\": 0, \"ticks\": \"\"}}, \"type\": \"scatterternary\"}], \"surface\": [{\"colorbar\": {\"outlinewidth\": 0, \"ticks\": \"\"}, \"colorscale\": [[0.0, \"#0d0887\"], [0.1111111111111111, \"#46039f\"], [0.2222222222222222, \"#7201a8\"], [0.3333333333333333, \"#9c179e\"], [0.4444444444444444, \"#bd3786\"], [0.5555555555555556, \"#d8576b\"], [0.6666666666666666, \"#ed7953\"], [0.7777777777777778, \"#fb9f3a\"], [0.8888888888888888, \"#fdca26\"], [1.0, \"#f0f921\"]], \"type\": \"surface\"}], \"table\": [{\"cells\": {\"fill\": {\"color\": \"#EBF0F8\"}, \"line\": {\"color\": \"white\"}}, \"header\": {\"fill\": {\"color\": \"#C8D4E3\"}, \"line\": {\"color\": \"white\"}}, \"type\": \"table\"}]}, \"layout\": {\"annotationdefaults\": {\"arrowcolor\": \"#2a3f5f\", \"arrowhead\": 0, \"arrowwidth\": 1}, \"coloraxis\": {\"colorbar\": {\"outlinewidth\": 0, \"ticks\": \"\"}}, \"colorscale\": {\"diverging\": [[0, \"#8e0152\"], [0.1, \"#c51b7d\"], [0.2, \"#de77ae\"], [0.3, \"#f1b6da\"], [0.4, \"#fde0ef\"], [0.5, \"#f7f7f7\"], [0.6, \"#e6f5d0\"], [0.7, \"#b8e186\"], [0.8, \"#7fbc41\"], [0.9, \"#4d9221\"], [1, \"#276419\"]], \"sequential\": [[0.0, \"#0d0887\"], [0.1111111111111111, \"#46039f\"], [0.2222222222222222, \"#7201a8\"], [0.3333333333333333, \"#9c179e\"], [0.4444444444444444, \"#bd3786\"], [0.5555555555555556, \"#d8576b\"], [0.6666666666666666, \"#ed7953\"], [0.7777777777777778, \"#fb9f3a\"], [0.8888888888888888, \"#fdca26\"], [1.0, \"#f0f921\"]], \"sequentialminus\": [[0.0, \"#0d0887\"], [0.1111111111111111, \"#46039f\"], [0.2222222222222222, \"#7201a8\"], [0.3333333333333333, \"#9c179e\"], [0.4444444444444444, \"#bd3786\"], [0.5555555555555556, \"#d8576b\"], [0.6666666666666666, \"#ed7953\"], [0.7777777777777778, \"#fb9f3a\"], [0.8888888888888888, \"#fdca26\"], [1.0, \"#f0f921\"]]}, \"colorway\": [\"#636efa\", \"#EF553B\", \"#00cc96\", \"#ab63fa\", \"#FFA15A\", \"#19d3f3\", \"#FF6692\", \"#B6E880\", \"#FF97FF\", \"#FECB52\"], \"font\": {\"color\": \"#2a3f5f\"}, \"geo\": {\"bgcolor\": \"white\", \"lakecolor\": \"white\", \"landcolor\": \"#E5ECF6\", \"showlakes\": true, \"showland\": true, \"subunitcolor\": \"white\"}, \"hoverlabel\": {\"align\": \"left\"}, \"hovermode\": \"closest\", \"mapbox\": {\"style\": \"light\"}, \"paper_bgcolor\": \"white\", \"plot_bgcolor\": \"#E5ECF6\", \"polar\": {\"angularaxis\": {\"gridcolor\": \"white\", \"linecolor\": \"white\", \"ticks\": \"\"}, \"bgcolor\": \"#E5ECF6\", \"radialaxis\": {\"gridcolor\": \"white\", \"linecolor\": \"white\", \"ticks\": \"\"}}, \"scene\": {\"xaxis\": {\"backgroundcolor\": \"#E5ECF6\", \"gridcolor\": \"white\", \"gridwidth\": 2, \"linecolor\": \"white\", \"showbackground\": true, \"ticks\": \"\", \"zerolinecolor\": \"white\"}, \"yaxis\": {\"backgroundcolor\": \"#E5ECF6\", \"gridcolor\": \"white\", \"gridwidth\": 2, \"linecolor\": \"white\", \"showbackground\": true, \"ticks\": \"\", \"zerolinecolor\": \"white\"}, \"zaxis\": {\"backgroundcolor\": \"#E5ECF6\", \"gridcolor\": \"white\", \"gridwidth\": 2, \"linecolor\": \"white\", \"showbackground\": true, \"ticks\": \"\", \"zerolinecolor\": \"white\"}}, \"shapedefaults\": {\"line\": {\"color\": \"#2a3f5f\"}}, \"ternary\": {\"aaxis\": {\"gridcolor\": \"white\", \"linecolor\": \"white\", \"ticks\": \"\"}, \"baxis\": {\"gridcolor\": \"white\", \"linecolor\": \"white\", \"ticks\": \"\"}, \"bgcolor\": \"#E5ECF6\", \"caxis\": {\"gridcolor\": \"white\", \"linecolor\": \"white\", \"ticks\": \"\"}}, \"title\": {\"x\": 0.05}, \"xaxis\": {\"automargin\": true, \"gridcolor\": \"white\", \"linecolor\": \"white\", \"ticks\": \"\", \"title\": {\"standoff\": 15}, \"zerolinecolor\": \"white\", \"zerolinewidth\": 2}, \"yaxis\": {\"automargin\": true, \"gridcolor\": \"white\", \"linecolor\": \"white\", \"ticks\": \"\", \"title\": {\"standoff\": 15}, \"zerolinecolor\": \"white\", \"zerolinewidth\": 2}}}, \"xaxis\": {\"anchor\": \"y\", \"domain\": [0.0, 1.0], \"title\": {\"text\": \"Race\"}}, \"yaxis\": {\"anchor\": \"x\", \"domain\": [0.0, 1.0], \"title\": {\"text\": \"Collisions\"}}},\n",
       "                        {\"responsive\": true}\n",
       "                    ).then(function(){\n",
       "                            \n",
       "var gd = document.getElementById('cab4e687-d5f6-4411-806f-ac0ed2c57f95');\n",
       "var x = new MutationObserver(function (mutations, observer) {{\n",
       "        var display = window.getComputedStyle(gd).display;\n",
       "        if (!display || display === 'none') {{\n",
       "            console.log([gd, 'removed!']);\n",
       "            Plotly.purge(gd);\n",
       "            observer.disconnect();\n",
       "        }}\n",
       "}});\n",
       "\n",
       "// Listen for the removal of the full notebook cells\n",
       "var notebookContainer = gd.closest('#notebook-container');\n",
       "if (notebookContainer) {{\n",
       "    x.observe(notebookContainer, {childList: true});\n",
       "}}\n",
       "\n",
       "// Listen for the clearing of the current output cell\n",
       "var outputEl = gd.closest('.output');\n",
       "if (outputEl) {{\n",
       "    x.observe(outputEl, {childList: true});\n",
       "}}\n",
       "\n",
       "                        })\n",
       "                };\n",
       "                });\n",
       "            </script>\n",
       "        </div>"
      ]
     },
     "metadata": {},
     "output_type": "display_data"
    }
   ],
   "source": [
    "fig = px.bar(race_group_df, x='Race', y='Collisions')\n",
    "fig.show()"
   ]
  },
  {
   "cell_type": "code",
   "execution_count": 58,
   "metadata": {},
   "outputs": [
    {
     "data": {
      "text/html": [
       "<div>\n",
       "<style scoped>\n",
       "    .dataframe tbody tr th:only-of-type {\n",
       "        vertical-align: middle;\n",
       "    }\n",
       "\n",
       "    .dataframe tbody tr th {\n",
       "        vertical-align: top;\n",
       "    }\n",
       "\n",
       "    .dataframe thead th {\n",
       "        text-align: right;\n",
       "    }\n",
       "</style>\n",
       "<table border=\"1\" class=\"dataframe\">\n",
       "  <thead>\n",
       "    <tr style=\"text-align: right;\">\n",
       "      <th></th>\n",
       "      <th>Date</th>\n",
       "      <th>Season</th>\n",
       "      <th>Race</th>\n",
       "      <th>Driver</th>\n",
       "      <th>Laps</th>\n",
       "      <th>Position</th>\n",
       "      <th>Time_mins</th>\n",
       "      <th>Weather</th>\n",
       "    </tr>\n",
       "  </thead>\n",
       "  <tbody>\n",
       "    <tr>\n",
       "      <td>0</td>\n",
       "      <td>1981-05-31</td>\n",
       "      <td>1981</td>\n",
       "      <td>Monaco Grand Prix</td>\n",
       "      <td>Michele Alboreto</td>\n",
       "      <td>50</td>\n",
       "      <td>10</td>\n",
       "      <td>None</td>\n",
       "      <td>Clouds</td>\n",
       "    </tr>\n",
       "    <tr>\n",
       "      <td>1</td>\n",
       "      <td>1981-05-31</td>\n",
       "      <td>1981</td>\n",
       "      <td>Monaco Grand Prix</td>\n",
       "      <td>Bruno Giacomelli</td>\n",
       "      <td>50</td>\n",
       "      <td>11</td>\n",
       "      <td>None</td>\n",
       "      <td>Clouds</td>\n",
       "    </tr>\n",
       "    <tr>\n",
       "      <td>2</td>\n",
       "      <td>1981-05-31</td>\n",
       "      <td>1981</td>\n",
       "      <td>Monaco Grand Prix</td>\n",
       "      <td>Andrea de Cesaris</td>\n",
       "      <td>0</td>\n",
       "      <td>19</td>\n",
       "      <td>None</td>\n",
       "      <td>Clouds</td>\n",
       "    </tr>\n",
       "    <tr>\n",
       "      <td>3</td>\n",
       "      <td>1981-05-31</td>\n",
       "      <td>1981</td>\n",
       "      <td>Monaco Grand Prix</td>\n",
       "      <td>Mario Andretti</td>\n",
       "      <td>0</td>\n",
       "      <td>20</td>\n",
       "      <td>None</td>\n",
       "      <td>Clouds</td>\n",
       "    </tr>\n",
       "    <tr>\n",
       "      <td>4</td>\n",
       "      <td>1982-05-23</td>\n",
       "      <td>1982</td>\n",
       "      <td>Monaco Grand Prix</td>\n",
       "      <td>Keke Rosberg</td>\n",
       "      <td>64</td>\n",
       "      <td>11</td>\n",
       "      <td>None</td>\n",
       "      <td>Clouds</td>\n",
       "    </tr>\n",
       "  </tbody>\n",
       "</table>\n",
       "</div>"
      ],
      "text/plain": [
       "         Date  Season               Race             Driver  Laps Position  \\\n",
       "0  1981-05-31    1981  Monaco Grand Prix   Michele Alboreto    50       10   \n",
       "1  1981-05-31    1981  Monaco Grand Prix   Bruno Giacomelli    50       11   \n",
       "2  1981-05-31    1981  Monaco Grand Prix  Andrea de Cesaris     0       19   \n",
       "3  1981-05-31    1981  Monaco Grand Prix     Mario Andretti     0       20   \n",
       "4  1982-05-23    1982  Monaco Grand Prix       Keke Rosberg    64       11   \n",
       "\n",
       "  Time_mins Weather  \n",
       "0      None  Clouds  \n",
       "1      None  Clouds  \n",
       "2      None  Clouds  \n",
       "3      None  Clouds  \n",
       "4      None  Clouds  "
      ]
     },
     "execution_count": 58,
     "metadata": {},
     "output_type": "execute_result"
    }
   ],
   "source": [
    "monaco_collisions = collisions_df[[\"Date\",\n",
    "                  \"Season\",\n",
    "                  \"Race\",\n",
    "                  \"Driver\",\n",
    "                  \"Laps\",\n",
    "                  \"Position\",\n",
    "                  \"Time_mins\"]].query(\n",
    "                  \"Race == 'Monaco Grand Prix'\").sort_values(\n",
    "                  by=\"Time_mins\",\n",
    "                  ascending=False)\n",
    "\n",
    "collisions_weather_data = pandas.merge(monaco_collisions,\n",
    "                      weather_data,\n",
    "                      how='inner',\n",
    "                      on=['Date'])\n",
    "\n",
    "collisions_weather_data[0:5]"
   ]
  },
  {
   "cell_type": "code",
   "execution_count": 59,
   "metadata": {},
   "outputs": [],
   "source": [
    "weather_group_df = collisions_weather_data.groupby(\"Weather\").size().reset_index(name='Collisions')"
   ]
  },
  {
   "cell_type": "code",
   "execution_count": 60,
   "metadata": {},
   "outputs": [
    {
     "data": {
      "application/vnd.plotly.v1+json": {
       "config": {
        "plotlyServerURL": "https://plot.ly"
       },
       "data": [
        {
         "alignmentgroup": "True",
         "hoverlabel": {
          "namelength": 0
         },
         "hovertemplate": "Weather=%{x}<br>Collisions=%{y}",
         "legendgroup": "",
         "marker": {
          "color": "#636efa"
         },
         "name": "",
         "offsetgroup": "",
         "orientation": "v",
         "showlegend": false,
         "textposition": "auto",
         "type": "bar",
         "x": [
          "Clouds",
          "Rain",
          "Thunderstorm"
         ],
         "xaxis": "x",
         "y": [
          50,
          8,
          1
         ],
         "yaxis": "y"
        }
       ],
       "layout": {
        "barmode": "relative",
        "legend": {
         "tracegroupgap": 0
        },
        "margin": {
         "t": 60
        },
        "template": {
         "data": {
          "bar": [
           {
            "error_x": {
             "color": "#2a3f5f"
            },
            "error_y": {
             "color": "#2a3f5f"
            },
            "marker": {
             "line": {
              "color": "#E5ECF6",
              "width": 0.5
             }
            },
            "type": "bar"
           }
          ],
          "barpolar": [
           {
            "marker": {
             "line": {
              "color": "#E5ECF6",
              "width": 0.5
             }
            },
            "type": "barpolar"
           }
          ],
          "carpet": [
           {
            "aaxis": {
             "endlinecolor": "#2a3f5f",
             "gridcolor": "white",
             "linecolor": "white",
             "minorgridcolor": "white",
             "startlinecolor": "#2a3f5f"
            },
            "baxis": {
             "endlinecolor": "#2a3f5f",
             "gridcolor": "white",
             "linecolor": "white",
             "minorgridcolor": "white",
             "startlinecolor": "#2a3f5f"
            },
            "type": "carpet"
           }
          ],
          "choropleth": [
           {
            "colorbar": {
             "outlinewidth": 0,
             "ticks": ""
            },
            "type": "choropleth"
           }
          ],
          "contour": [
           {
            "colorbar": {
             "outlinewidth": 0,
             "ticks": ""
            },
            "colorscale": [
             [
              0,
              "#0d0887"
             ],
             [
              0.1111111111111111,
              "#46039f"
             ],
             [
              0.2222222222222222,
              "#7201a8"
             ],
             [
              0.3333333333333333,
              "#9c179e"
             ],
             [
              0.4444444444444444,
              "#bd3786"
             ],
             [
              0.5555555555555556,
              "#d8576b"
             ],
             [
              0.6666666666666666,
              "#ed7953"
             ],
             [
              0.7777777777777778,
              "#fb9f3a"
             ],
             [
              0.8888888888888888,
              "#fdca26"
             ],
             [
              1,
              "#f0f921"
             ]
            ],
            "type": "contour"
           }
          ],
          "contourcarpet": [
           {
            "colorbar": {
             "outlinewidth": 0,
             "ticks": ""
            },
            "type": "contourcarpet"
           }
          ],
          "heatmap": [
           {
            "colorbar": {
             "outlinewidth": 0,
             "ticks": ""
            },
            "colorscale": [
             [
              0,
              "#0d0887"
             ],
             [
              0.1111111111111111,
              "#46039f"
             ],
             [
              0.2222222222222222,
              "#7201a8"
             ],
             [
              0.3333333333333333,
              "#9c179e"
             ],
             [
              0.4444444444444444,
              "#bd3786"
             ],
             [
              0.5555555555555556,
              "#d8576b"
             ],
             [
              0.6666666666666666,
              "#ed7953"
             ],
             [
              0.7777777777777778,
              "#fb9f3a"
             ],
             [
              0.8888888888888888,
              "#fdca26"
             ],
             [
              1,
              "#f0f921"
             ]
            ],
            "type": "heatmap"
           }
          ],
          "heatmapgl": [
           {
            "colorbar": {
             "outlinewidth": 0,
             "ticks": ""
            },
            "colorscale": [
             [
              0,
              "#0d0887"
             ],
             [
              0.1111111111111111,
              "#46039f"
             ],
             [
              0.2222222222222222,
              "#7201a8"
             ],
             [
              0.3333333333333333,
              "#9c179e"
             ],
             [
              0.4444444444444444,
              "#bd3786"
             ],
             [
              0.5555555555555556,
              "#d8576b"
             ],
             [
              0.6666666666666666,
              "#ed7953"
             ],
             [
              0.7777777777777778,
              "#fb9f3a"
             ],
             [
              0.8888888888888888,
              "#fdca26"
             ],
             [
              1,
              "#f0f921"
             ]
            ],
            "type": "heatmapgl"
           }
          ],
          "histogram": [
           {
            "marker": {
             "colorbar": {
              "outlinewidth": 0,
              "ticks": ""
             }
            },
            "type": "histogram"
           }
          ],
          "histogram2d": [
           {
            "colorbar": {
             "outlinewidth": 0,
             "ticks": ""
            },
            "colorscale": [
             [
              0,
              "#0d0887"
             ],
             [
              0.1111111111111111,
              "#46039f"
             ],
             [
              0.2222222222222222,
              "#7201a8"
             ],
             [
              0.3333333333333333,
              "#9c179e"
             ],
             [
              0.4444444444444444,
              "#bd3786"
             ],
             [
              0.5555555555555556,
              "#d8576b"
             ],
             [
              0.6666666666666666,
              "#ed7953"
             ],
             [
              0.7777777777777778,
              "#fb9f3a"
             ],
             [
              0.8888888888888888,
              "#fdca26"
             ],
             [
              1,
              "#f0f921"
             ]
            ],
            "type": "histogram2d"
           }
          ],
          "histogram2dcontour": [
           {
            "colorbar": {
             "outlinewidth": 0,
             "ticks": ""
            },
            "colorscale": [
             [
              0,
              "#0d0887"
             ],
             [
              0.1111111111111111,
              "#46039f"
             ],
             [
              0.2222222222222222,
              "#7201a8"
             ],
             [
              0.3333333333333333,
              "#9c179e"
             ],
             [
              0.4444444444444444,
              "#bd3786"
             ],
             [
              0.5555555555555556,
              "#d8576b"
             ],
             [
              0.6666666666666666,
              "#ed7953"
             ],
             [
              0.7777777777777778,
              "#fb9f3a"
             ],
             [
              0.8888888888888888,
              "#fdca26"
             ],
             [
              1,
              "#f0f921"
             ]
            ],
            "type": "histogram2dcontour"
           }
          ],
          "mesh3d": [
           {
            "colorbar": {
             "outlinewidth": 0,
             "ticks": ""
            },
            "type": "mesh3d"
           }
          ],
          "parcoords": [
           {
            "line": {
             "colorbar": {
              "outlinewidth": 0,
              "ticks": ""
             }
            },
            "type": "parcoords"
           }
          ],
          "pie": [
           {
            "automargin": true,
            "type": "pie"
           }
          ],
          "scatter": [
           {
            "marker": {
             "colorbar": {
              "outlinewidth": 0,
              "ticks": ""
             }
            },
            "type": "scatter"
           }
          ],
          "scatter3d": [
           {
            "line": {
             "colorbar": {
              "outlinewidth": 0,
              "ticks": ""
             }
            },
            "marker": {
             "colorbar": {
              "outlinewidth": 0,
              "ticks": ""
             }
            },
            "type": "scatter3d"
           }
          ],
          "scattercarpet": [
           {
            "marker": {
             "colorbar": {
              "outlinewidth": 0,
              "ticks": ""
             }
            },
            "type": "scattercarpet"
           }
          ],
          "scattergeo": [
           {
            "marker": {
             "colorbar": {
              "outlinewidth": 0,
              "ticks": ""
             }
            },
            "type": "scattergeo"
           }
          ],
          "scattergl": [
           {
            "marker": {
             "colorbar": {
              "outlinewidth": 0,
              "ticks": ""
             }
            },
            "type": "scattergl"
           }
          ],
          "scattermapbox": [
           {
            "marker": {
             "colorbar": {
              "outlinewidth": 0,
              "ticks": ""
             }
            },
            "type": "scattermapbox"
           }
          ],
          "scatterpolar": [
           {
            "marker": {
             "colorbar": {
              "outlinewidth": 0,
              "ticks": ""
             }
            },
            "type": "scatterpolar"
           }
          ],
          "scatterpolargl": [
           {
            "marker": {
             "colorbar": {
              "outlinewidth": 0,
              "ticks": ""
             }
            },
            "type": "scatterpolargl"
           }
          ],
          "scatterternary": [
           {
            "marker": {
             "colorbar": {
              "outlinewidth": 0,
              "ticks": ""
             }
            },
            "type": "scatterternary"
           }
          ],
          "surface": [
           {
            "colorbar": {
             "outlinewidth": 0,
             "ticks": ""
            },
            "colorscale": [
             [
              0,
              "#0d0887"
             ],
             [
              0.1111111111111111,
              "#46039f"
             ],
             [
              0.2222222222222222,
              "#7201a8"
             ],
             [
              0.3333333333333333,
              "#9c179e"
             ],
             [
              0.4444444444444444,
              "#bd3786"
             ],
             [
              0.5555555555555556,
              "#d8576b"
             ],
             [
              0.6666666666666666,
              "#ed7953"
             ],
             [
              0.7777777777777778,
              "#fb9f3a"
             ],
             [
              0.8888888888888888,
              "#fdca26"
             ],
             [
              1,
              "#f0f921"
             ]
            ],
            "type": "surface"
           }
          ],
          "table": [
           {
            "cells": {
             "fill": {
              "color": "#EBF0F8"
             },
             "line": {
              "color": "white"
             }
            },
            "header": {
             "fill": {
              "color": "#C8D4E3"
             },
             "line": {
              "color": "white"
             }
            },
            "type": "table"
           }
          ]
         },
         "layout": {
          "annotationdefaults": {
           "arrowcolor": "#2a3f5f",
           "arrowhead": 0,
           "arrowwidth": 1
          },
          "coloraxis": {
           "colorbar": {
            "outlinewidth": 0,
            "ticks": ""
           }
          },
          "colorscale": {
           "diverging": [
            [
             0,
             "#8e0152"
            ],
            [
             0.1,
             "#c51b7d"
            ],
            [
             0.2,
             "#de77ae"
            ],
            [
             0.3,
             "#f1b6da"
            ],
            [
             0.4,
             "#fde0ef"
            ],
            [
             0.5,
             "#f7f7f7"
            ],
            [
             0.6,
             "#e6f5d0"
            ],
            [
             0.7,
             "#b8e186"
            ],
            [
             0.8,
             "#7fbc41"
            ],
            [
             0.9,
             "#4d9221"
            ],
            [
             1,
             "#276419"
            ]
           ],
           "sequential": [
            [
             0,
             "#0d0887"
            ],
            [
             0.1111111111111111,
             "#46039f"
            ],
            [
             0.2222222222222222,
             "#7201a8"
            ],
            [
             0.3333333333333333,
             "#9c179e"
            ],
            [
             0.4444444444444444,
             "#bd3786"
            ],
            [
             0.5555555555555556,
             "#d8576b"
            ],
            [
             0.6666666666666666,
             "#ed7953"
            ],
            [
             0.7777777777777778,
             "#fb9f3a"
            ],
            [
             0.8888888888888888,
             "#fdca26"
            ],
            [
             1,
             "#f0f921"
            ]
           ],
           "sequentialminus": [
            [
             0,
             "#0d0887"
            ],
            [
             0.1111111111111111,
             "#46039f"
            ],
            [
             0.2222222222222222,
             "#7201a8"
            ],
            [
             0.3333333333333333,
             "#9c179e"
            ],
            [
             0.4444444444444444,
             "#bd3786"
            ],
            [
             0.5555555555555556,
             "#d8576b"
            ],
            [
             0.6666666666666666,
             "#ed7953"
            ],
            [
             0.7777777777777778,
             "#fb9f3a"
            ],
            [
             0.8888888888888888,
             "#fdca26"
            ],
            [
             1,
             "#f0f921"
            ]
           ]
          },
          "colorway": [
           "#636efa",
           "#EF553B",
           "#00cc96",
           "#ab63fa",
           "#FFA15A",
           "#19d3f3",
           "#FF6692",
           "#B6E880",
           "#FF97FF",
           "#FECB52"
          ],
          "font": {
           "color": "#2a3f5f"
          },
          "geo": {
           "bgcolor": "white",
           "lakecolor": "white",
           "landcolor": "#E5ECF6",
           "showlakes": true,
           "showland": true,
           "subunitcolor": "white"
          },
          "hoverlabel": {
           "align": "left"
          },
          "hovermode": "closest",
          "mapbox": {
           "style": "light"
          },
          "paper_bgcolor": "white",
          "plot_bgcolor": "#E5ECF6",
          "polar": {
           "angularaxis": {
            "gridcolor": "white",
            "linecolor": "white",
            "ticks": ""
           },
           "bgcolor": "#E5ECF6",
           "radialaxis": {
            "gridcolor": "white",
            "linecolor": "white",
            "ticks": ""
           }
          },
          "scene": {
           "xaxis": {
            "backgroundcolor": "#E5ECF6",
            "gridcolor": "white",
            "gridwidth": 2,
            "linecolor": "white",
            "showbackground": true,
            "ticks": "",
            "zerolinecolor": "white"
           },
           "yaxis": {
            "backgroundcolor": "#E5ECF6",
            "gridcolor": "white",
            "gridwidth": 2,
            "linecolor": "white",
            "showbackground": true,
            "ticks": "",
            "zerolinecolor": "white"
           },
           "zaxis": {
            "backgroundcolor": "#E5ECF6",
            "gridcolor": "white",
            "gridwidth": 2,
            "linecolor": "white",
            "showbackground": true,
            "ticks": "",
            "zerolinecolor": "white"
           }
          },
          "shapedefaults": {
           "line": {
            "color": "#2a3f5f"
           }
          },
          "ternary": {
           "aaxis": {
            "gridcolor": "white",
            "linecolor": "white",
            "ticks": ""
           },
           "baxis": {
            "gridcolor": "white",
            "linecolor": "white",
            "ticks": ""
           },
           "bgcolor": "#E5ECF6",
           "caxis": {
            "gridcolor": "white",
            "linecolor": "white",
            "ticks": ""
           }
          },
          "title": {
           "x": 0.05
          },
          "xaxis": {
           "automargin": true,
           "gridcolor": "white",
           "linecolor": "white",
           "ticks": "",
           "title": {
            "standoff": 15
           },
           "zerolinecolor": "white",
           "zerolinewidth": 2
          },
          "yaxis": {
           "automargin": true,
           "gridcolor": "white",
           "linecolor": "white",
           "ticks": "",
           "title": {
            "standoff": 15
           },
           "zerolinecolor": "white",
           "zerolinewidth": 2
          }
         }
        },
        "xaxis": {
         "anchor": "y",
         "domain": [
          0,
          1
         ],
         "title": {
          "text": "Weather"
         }
        },
        "yaxis": {
         "anchor": "x",
         "domain": [
          0,
          1
         ],
         "title": {
          "text": "Collisions"
         }
        }
       }
      },
      "text/html": [
       "<div>\n",
       "        \n",
       "        \n",
       "            <div id=\"c9a1c188-d0b1-4fba-877c-32ff2ce8cef4\" class=\"plotly-graph-div\" style=\"height:525px; width:100%;\"></div>\n",
       "            <script type=\"text/javascript\">\n",
       "                require([\"plotly\"], function(Plotly) {\n",
       "                    window.PLOTLYENV=window.PLOTLYENV || {};\n",
       "                    \n",
       "                if (document.getElementById(\"c9a1c188-d0b1-4fba-877c-32ff2ce8cef4\")) {\n",
       "                    Plotly.newPlot(\n",
       "                        'c9a1c188-d0b1-4fba-877c-32ff2ce8cef4',\n",
       "                        [{\"alignmentgroup\": \"True\", \"hoverlabel\": {\"namelength\": 0}, \"hovertemplate\": \"Weather=%{x}<br>Collisions=%{y}\", \"legendgroup\": \"\", \"marker\": {\"color\": \"#636efa\"}, \"name\": \"\", \"offsetgroup\": \"\", \"orientation\": \"v\", \"showlegend\": false, \"textposition\": \"auto\", \"type\": \"bar\", \"x\": [\"Clouds\", \"Rain\", \"Thunderstorm\"], \"xaxis\": \"x\", \"y\": [50, 8, 1], \"yaxis\": \"y\"}],\n",
       "                        {\"barmode\": \"relative\", \"legend\": {\"tracegroupgap\": 0}, \"margin\": {\"t\": 60}, \"template\": {\"data\": {\"bar\": [{\"error_x\": {\"color\": \"#2a3f5f\"}, \"error_y\": {\"color\": \"#2a3f5f\"}, \"marker\": {\"line\": {\"color\": \"#E5ECF6\", \"width\": 0.5}}, \"type\": \"bar\"}], \"barpolar\": [{\"marker\": {\"line\": {\"color\": \"#E5ECF6\", \"width\": 0.5}}, \"type\": \"barpolar\"}], \"carpet\": [{\"aaxis\": {\"endlinecolor\": \"#2a3f5f\", \"gridcolor\": \"white\", \"linecolor\": \"white\", \"minorgridcolor\": \"white\", \"startlinecolor\": \"#2a3f5f\"}, \"baxis\": {\"endlinecolor\": \"#2a3f5f\", \"gridcolor\": \"white\", \"linecolor\": \"white\", \"minorgridcolor\": \"white\", \"startlinecolor\": \"#2a3f5f\"}, \"type\": \"carpet\"}], \"choropleth\": [{\"colorbar\": {\"outlinewidth\": 0, \"ticks\": \"\"}, \"type\": \"choropleth\"}], \"contour\": [{\"colorbar\": {\"outlinewidth\": 0, \"ticks\": \"\"}, \"colorscale\": [[0.0, \"#0d0887\"], [0.1111111111111111, \"#46039f\"], [0.2222222222222222, \"#7201a8\"], [0.3333333333333333, \"#9c179e\"], [0.4444444444444444, \"#bd3786\"], [0.5555555555555556, \"#d8576b\"], [0.6666666666666666, \"#ed7953\"], [0.7777777777777778, \"#fb9f3a\"], [0.8888888888888888, \"#fdca26\"], [1.0, \"#f0f921\"]], \"type\": \"contour\"}], \"contourcarpet\": [{\"colorbar\": {\"outlinewidth\": 0, \"ticks\": \"\"}, \"type\": \"contourcarpet\"}], \"heatmap\": [{\"colorbar\": {\"outlinewidth\": 0, \"ticks\": \"\"}, \"colorscale\": [[0.0, \"#0d0887\"], [0.1111111111111111, \"#46039f\"], [0.2222222222222222, \"#7201a8\"], [0.3333333333333333, \"#9c179e\"], [0.4444444444444444, \"#bd3786\"], [0.5555555555555556, \"#d8576b\"], [0.6666666666666666, \"#ed7953\"], [0.7777777777777778, \"#fb9f3a\"], [0.8888888888888888, \"#fdca26\"], [1.0, \"#f0f921\"]], \"type\": \"heatmap\"}], \"heatmapgl\": [{\"colorbar\": {\"outlinewidth\": 0, \"ticks\": \"\"}, \"colorscale\": [[0.0, \"#0d0887\"], [0.1111111111111111, \"#46039f\"], [0.2222222222222222, \"#7201a8\"], [0.3333333333333333, \"#9c179e\"], [0.4444444444444444, \"#bd3786\"], [0.5555555555555556, \"#d8576b\"], [0.6666666666666666, \"#ed7953\"], [0.7777777777777778, \"#fb9f3a\"], [0.8888888888888888, \"#fdca26\"], [1.0, \"#f0f921\"]], \"type\": \"heatmapgl\"}], \"histogram\": [{\"marker\": {\"colorbar\": {\"outlinewidth\": 0, \"ticks\": \"\"}}, \"type\": \"histogram\"}], \"histogram2d\": [{\"colorbar\": {\"outlinewidth\": 0, \"ticks\": \"\"}, \"colorscale\": [[0.0, \"#0d0887\"], [0.1111111111111111, \"#46039f\"], [0.2222222222222222, \"#7201a8\"], [0.3333333333333333, \"#9c179e\"], [0.4444444444444444, \"#bd3786\"], [0.5555555555555556, \"#d8576b\"], [0.6666666666666666, \"#ed7953\"], [0.7777777777777778, \"#fb9f3a\"], [0.8888888888888888, \"#fdca26\"], [1.0, \"#f0f921\"]], \"type\": \"histogram2d\"}], \"histogram2dcontour\": [{\"colorbar\": {\"outlinewidth\": 0, \"ticks\": \"\"}, \"colorscale\": [[0.0, \"#0d0887\"], [0.1111111111111111, \"#46039f\"], [0.2222222222222222, \"#7201a8\"], [0.3333333333333333, \"#9c179e\"], [0.4444444444444444, \"#bd3786\"], [0.5555555555555556, \"#d8576b\"], [0.6666666666666666, \"#ed7953\"], [0.7777777777777778, \"#fb9f3a\"], [0.8888888888888888, \"#fdca26\"], [1.0, \"#f0f921\"]], \"type\": \"histogram2dcontour\"}], \"mesh3d\": [{\"colorbar\": {\"outlinewidth\": 0, \"ticks\": \"\"}, \"type\": \"mesh3d\"}], \"parcoords\": [{\"line\": {\"colorbar\": {\"outlinewidth\": 0, \"ticks\": \"\"}}, \"type\": \"parcoords\"}], \"pie\": [{\"automargin\": true, \"type\": \"pie\"}], \"scatter\": [{\"marker\": {\"colorbar\": {\"outlinewidth\": 0, \"ticks\": \"\"}}, \"type\": \"scatter\"}], \"scatter3d\": [{\"line\": {\"colorbar\": {\"outlinewidth\": 0, \"ticks\": \"\"}}, \"marker\": {\"colorbar\": {\"outlinewidth\": 0, \"ticks\": \"\"}}, \"type\": \"scatter3d\"}], \"scattercarpet\": [{\"marker\": {\"colorbar\": {\"outlinewidth\": 0, \"ticks\": \"\"}}, \"type\": \"scattercarpet\"}], \"scattergeo\": [{\"marker\": {\"colorbar\": {\"outlinewidth\": 0, \"ticks\": \"\"}}, \"type\": \"scattergeo\"}], \"scattergl\": [{\"marker\": {\"colorbar\": {\"outlinewidth\": 0, \"ticks\": \"\"}}, \"type\": \"scattergl\"}], \"scattermapbox\": [{\"marker\": {\"colorbar\": {\"outlinewidth\": 0, \"ticks\": \"\"}}, \"type\": \"scattermapbox\"}], \"scatterpolar\": [{\"marker\": {\"colorbar\": {\"outlinewidth\": 0, \"ticks\": \"\"}}, \"type\": \"scatterpolar\"}], \"scatterpolargl\": [{\"marker\": {\"colorbar\": {\"outlinewidth\": 0, \"ticks\": \"\"}}, \"type\": \"scatterpolargl\"}], \"scatterternary\": [{\"marker\": {\"colorbar\": {\"outlinewidth\": 0, \"ticks\": \"\"}}, \"type\": \"scatterternary\"}], \"surface\": [{\"colorbar\": {\"outlinewidth\": 0, \"ticks\": \"\"}, \"colorscale\": [[0.0, \"#0d0887\"], [0.1111111111111111, \"#46039f\"], [0.2222222222222222, \"#7201a8\"], [0.3333333333333333, \"#9c179e\"], [0.4444444444444444, \"#bd3786\"], [0.5555555555555556, \"#d8576b\"], [0.6666666666666666, \"#ed7953\"], [0.7777777777777778, \"#fb9f3a\"], [0.8888888888888888, \"#fdca26\"], [1.0, \"#f0f921\"]], \"type\": \"surface\"}], \"table\": [{\"cells\": {\"fill\": {\"color\": \"#EBF0F8\"}, \"line\": {\"color\": \"white\"}}, \"header\": {\"fill\": {\"color\": \"#C8D4E3\"}, \"line\": {\"color\": \"white\"}}, \"type\": \"table\"}]}, \"layout\": {\"annotationdefaults\": {\"arrowcolor\": \"#2a3f5f\", \"arrowhead\": 0, \"arrowwidth\": 1}, \"coloraxis\": {\"colorbar\": {\"outlinewidth\": 0, \"ticks\": \"\"}}, \"colorscale\": {\"diverging\": [[0, \"#8e0152\"], [0.1, \"#c51b7d\"], [0.2, \"#de77ae\"], [0.3, \"#f1b6da\"], [0.4, \"#fde0ef\"], [0.5, \"#f7f7f7\"], [0.6, \"#e6f5d0\"], [0.7, \"#b8e186\"], [0.8, \"#7fbc41\"], [0.9, \"#4d9221\"], [1, \"#276419\"]], \"sequential\": [[0.0, \"#0d0887\"], [0.1111111111111111, \"#46039f\"], [0.2222222222222222, \"#7201a8\"], [0.3333333333333333, \"#9c179e\"], [0.4444444444444444, \"#bd3786\"], [0.5555555555555556, \"#d8576b\"], [0.6666666666666666, \"#ed7953\"], [0.7777777777777778, \"#fb9f3a\"], [0.8888888888888888, \"#fdca26\"], [1.0, \"#f0f921\"]], \"sequentialminus\": [[0.0, \"#0d0887\"], [0.1111111111111111, \"#46039f\"], [0.2222222222222222, \"#7201a8\"], [0.3333333333333333, \"#9c179e\"], [0.4444444444444444, \"#bd3786\"], [0.5555555555555556, \"#d8576b\"], [0.6666666666666666, \"#ed7953\"], [0.7777777777777778, \"#fb9f3a\"], [0.8888888888888888, \"#fdca26\"], [1.0, \"#f0f921\"]]}, \"colorway\": [\"#636efa\", \"#EF553B\", \"#00cc96\", \"#ab63fa\", \"#FFA15A\", \"#19d3f3\", \"#FF6692\", \"#B6E880\", \"#FF97FF\", \"#FECB52\"], \"font\": {\"color\": \"#2a3f5f\"}, \"geo\": {\"bgcolor\": \"white\", \"lakecolor\": \"white\", \"landcolor\": \"#E5ECF6\", \"showlakes\": true, \"showland\": true, \"subunitcolor\": \"white\"}, \"hoverlabel\": {\"align\": \"left\"}, \"hovermode\": \"closest\", \"mapbox\": {\"style\": \"light\"}, \"paper_bgcolor\": \"white\", \"plot_bgcolor\": \"#E5ECF6\", \"polar\": {\"angularaxis\": {\"gridcolor\": \"white\", \"linecolor\": \"white\", \"ticks\": \"\"}, \"bgcolor\": \"#E5ECF6\", \"radialaxis\": {\"gridcolor\": \"white\", \"linecolor\": \"white\", \"ticks\": \"\"}}, \"scene\": {\"xaxis\": {\"backgroundcolor\": \"#E5ECF6\", \"gridcolor\": \"white\", \"gridwidth\": 2, \"linecolor\": \"white\", \"showbackground\": true, \"ticks\": \"\", \"zerolinecolor\": \"white\"}, \"yaxis\": {\"backgroundcolor\": \"#E5ECF6\", \"gridcolor\": \"white\", \"gridwidth\": 2, \"linecolor\": \"white\", \"showbackground\": true, \"ticks\": \"\", \"zerolinecolor\": \"white\"}, \"zaxis\": {\"backgroundcolor\": \"#E5ECF6\", \"gridcolor\": \"white\", \"gridwidth\": 2, \"linecolor\": \"white\", \"showbackground\": true, \"ticks\": \"\", \"zerolinecolor\": \"white\"}}, \"shapedefaults\": {\"line\": {\"color\": \"#2a3f5f\"}}, \"ternary\": {\"aaxis\": {\"gridcolor\": \"white\", \"linecolor\": \"white\", \"ticks\": \"\"}, \"baxis\": {\"gridcolor\": \"white\", \"linecolor\": \"white\", \"ticks\": \"\"}, \"bgcolor\": \"#E5ECF6\", \"caxis\": {\"gridcolor\": \"white\", \"linecolor\": \"white\", \"ticks\": \"\"}}, \"title\": {\"x\": 0.05}, \"xaxis\": {\"automargin\": true, \"gridcolor\": \"white\", \"linecolor\": \"white\", \"ticks\": \"\", \"title\": {\"standoff\": 15}, \"zerolinecolor\": \"white\", \"zerolinewidth\": 2}, \"yaxis\": {\"automargin\": true, \"gridcolor\": \"white\", \"linecolor\": \"white\", \"ticks\": \"\", \"title\": {\"standoff\": 15}, \"zerolinecolor\": \"white\", \"zerolinewidth\": 2}}}, \"xaxis\": {\"anchor\": \"y\", \"domain\": [0.0, 1.0], \"title\": {\"text\": \"Weather\"}}, \"yaxis\": {\"anchor\": \"x\", \"domain\": [0.0, 1.0], \"title\": {\"text\": \"Collisions\"}}},\n",
       "                        {\"responsive\": true}\n",
       "                    ).then(function(){\n",
       "                            \n",
       "var gd = document.getElementById('c9a1c188-d0b1-4fba-877c-32ff2ce8cef4');\n",
       "var x = new MutationObserver(function (mutations, observer) {{\n",
       "        var display = window.getComputedStyle(gd).display;\n",
       "        if (!display || display === 'none') {{\n",
       "            console.log([gd, 'removed!']);\n",
       "            Plotly.purge(gd);\n",
       "            observer.disconnect();\n",
       "        }}\n",
       "}});\n",
       "\n",
       "// Listen for the removal of the full notebook cells\n",
       "var notebookContainer = gd.closest('#notebook-container');\n",
       "if (notebookContainer) {{\n",
       "    x.observe(notebookContainer, {childList: true});\n",
       "}}\n",
       "\n",
       "// Listen for the clearing of the current output cell\n",
       "var outputEl = gd.closest('.output');\n",
       "if (outputEl) {{\n",
       "    x.observe(outputEl, {childList: true});\n",
       "}}\n",
       "\n",
       "                        })\n",
       "                };\n",
       "                });\n",
       "            </script>\n",
       "        </div>"
      ]
     },
     "metadata": {},
     "output_type": "display_data"
    }
   ],
   "source": [
    "fig6 = px.bar(weather_group_df, x='Weather', y='Collisions')\n",
    "fig6.show()"
   ]
  }
 ],
 "metadata": {
  "kernelspec": {
   "display_name": "Python 3",
   "language": "python",
   "name": "python3"
  },
  "language_info": {
   "codemirror_mode": {
    "name": "ipython",
    "version": 3
   },
   "file_extension": ".py",
   "mimetype": "text/x-python",
   "name": "python",
   "nbconvert_exporter": "python",
   "pygments_lexer": "ipython3",
   "version": "3.7.4"
  }
 },
 "nbformat": 4,
 "nbformat_minor": 2
}
